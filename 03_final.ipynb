{
 "cells": [
  {
   "cell_type": "markdown",
   "id": "0e64d2e3-ade5-4094-95c5-074b82e5e25d",
   "metadata": {},
   "source": [
    "# 0. Ligand Poses (Blind Docking)\n",
    "The [Ligand Poses challenge](https://polarishub.io/competitions/asap-discovery/antiviral-ligand-poses-2025) of the [ASAP Discovery competition](https://polarishub.io/competitions/asap-discovery/antiviral-admet-2025) is a little more complex than the other challenges. \n",
    "\n",
    "The goal in ligand pose challenge is to predict the 3D binding pose of the ligand, given the ligand's SMILES (or CXSMILES, to be more precise) and the protein's sequence. This is also known as _blind docking_.\n",
    "\n",
    "Let's take a look!\n",
    "\n",
    "## Load the competition\n",
    "Make sure you're logged in! If you haven't logged in yet, simply run `polaris login` in a terminal of your choice. "
   ]
  },
  {
   "cell_type": "code",
   "execution_count": 3,
   "id": "12392ca1-d954-4c97-ab84-c0e2bb265c19",
   "metadata": {},
   "outputs": [
    {
     "data": {
      "text/html": [
       "<pre style=\"white-space:pre;overflow-x:auto;line-height:normal;font-family:Menlo,'DejaVu Sans Mono',consolas,'Courier New',monospace\"><span style=\"color: #7fbfbf; text-decoration-color: #7fbfbf\">[2025-03-13 22:19:11] </span><span style=\"color: #000080; text-decoration-color: #000080\">INFO    </span> The version of Polaris that was used to create the artifact <span style=\"font-weight: bold\">(</span><span style=\"color: #008080; text-decoration-color: #008080; font-weight: bold\">0.11</span>.<span style=\"color: #008080; text-decoration-color: #008080; font-weight: bold\">0</span><span style=\"font-weight: bold\">)</span> <a href=\"file:///home/xchen/miniconda3/envs/polaris/lib/python3.12/site-packages/polaris/_artifact.py\" target=\"_blank\"><span style=\"color: #7f7f7f; text-decoration-color: #7f7f7f\">_artifact.py</span></a><span style=\"color: #7f7f7f; text-decoration-color: #7f7f7f\">:</span><a href=\"file:///home/xchen/miniconda3/envs/polaris/lib/python3.12/site-packages/polaris/_artifact.py#92\" target=\"_blank\"><span style=\"color: #7f7f7f; text-decoration-color: #7f7f7f\">92</span></a>\n",
       "<span style=\"color: #7fbfbf; text-decoration-color: #7fbfbf\">                      </span>         is different from the currently installed version of Polaris         <span style=\"color: #7f7f7f; text-decoration-color: #7f7f7f\">               </span>\n",
       "<span style=\"color: #7fbfbf; text-decoration-color: #7fbfbf\">                      </span>         <span style=\"font-weight: bold\">(</span><span style=\"color: #008080; text-decoration-color: #008080; font-weight: bold\">0.11</span>.<span style=\"color: #008080; text-decoration-color: #008080; font-weight: bold\">8</span><span style=\"font-weight: bold\">)</span>.                                                            <span style=\"color: #7f7f7f; text-decoration-color: #7f7f7f\">               </span>\n",
       "</pre>\n"
      ],
      "text/plain": [
       "\u001b[2;36m[2025-03-13 22:19:11]\u001b[0m\u001b[2;36m \u001b[0m\u001b[34mINFO    \u001b[0m The version of Polaris that was used to create the artifact \u001b[1m(\u001b[0m\u001b[1;36m0.11\u001b[0m.\u001b[1;36m0\u001b[0m\u001b[1m)\u001b[0m \u001b]8;id=602649;file:///home/xchen/miniconda3/envs/polaris/lib/python3.12/site-packages/polaris/_artifact.py\u001b\\\u001b[2m_artifact.py\u001b[0m\u001b]8;;\u001b\\\u001b[2m:\u001b[0m\u001b]8;id=743232;file:///home/xchen/miniconda3/envs/polaris/lib/python3.12/site-packages/polaris/_artifact.py#92\u001b\\\u001b[2m92\u001b[0m\u001b]8;;\u001b\\\n",
       "\u001b[2;36m                      \u001b[0m         is different from the currently installed version of Polaris         \u001b[2m               \u001b[0m\n",
       "\u001b[2;36m                      \u001b[0m         \u001b[1m(\u001b[0m\u001b[1;36m0.11\u001b[0m.\u001b[1;36m8\u001b[0m\u001b[1m)\u001b[0m.                                                            \u001b[2m               \u001b[0m\n"
      ]
     },
     "metadata": {},
     "output_type": "display_data"
    },
    {
     "data": {
      "text/html": [
       "<pre style=\"white-space:pre;overflow-x:auto;line-height:normal;font-family:Menlo,'DejaVu Sans Mono',consolas,'Courier New',monospace\"><span style=\"color: #7fbfbf; text-decoration-color: #7fbfbf\">                      </span><span style=\"color: #808000; text-decoration-color: #808000\">WARNING </span> You're loading data from a remote location. If the dataset is small     <a href=\"file:///home/xchen/miniconda3/envs/polaris/lib/python3.12/site-packages/polaris/dataset/_base.py\" target=\"_blank\"><span style=\"color: #7f7f7f; text-decoration-color: #7f7f7f\">_base.py</span></a><span style=\"color: #7f7f7f; text-decoration-color: #7f7f7f\">:</span><a href=\"file:///home/xchen/miniconda3/envs/polaris/lib/python3.12/site-packages/polaris/dataset/_base.py#181\" target=\"_blank\"><span style=\"color: #7f7f7f; text-decoration-color: #7f7f7f\">181</span></a>\n",
       "<span style=\"color: #7fbfbf; text-decoration-color: #7fbfbf\">                      </span>         enough, consider caching the dataset first using                        <span style=\"color: #7f7f7f; text-decoration-color: #7f7f7f\">            </span>\n",
       "<span style=\"color: #7fbfbf; text-decoration-color: #7fbfbf\">                      </span>         <span style=\"color: #800080; text-decoration-color: #800080; font-weight: bold\">CompetitionSpecification.cache</span><span style=\"font-weight: bold\">()</span> for more performant data access.       <span style=\"color: #7f7f7f; text-decoration-color: #7f7f7f\">            </span>\n",
       "</pre>\n"
      ],
      "text/plain": [
       "\u001b[2;36m                     \u001b[0m\u001b[2;36m \u001b[0m\u001b[33mWARNING \u001b[0m You're loading data from a remote location. If the dataset is small     \u001b]8;id=380974;file:///home/xchen/miniconda3/envs/polaris/lib/python3.12/site-packages/polaris/dataset/_base.py\u001b\\\u001b[2m_base.py\u001b[0m\u001b]8;;\u001b\\\u001b[2m:\u001b[0m\u001b]8;id=999553;file:///home/xchen/miniconda3/envs/polaris/lib/python3.12/site-packages/polaris/dataset/_base.py#181\u001b\\\u001b[2m181\u001b[0m\u001b]8;;\u001b\\\n",
       "\u001b[2;36m                      \u001b[0m         enough, consider caching the dataset first using                        \u001b[2m            \u001b[0m\n",
       "\u001b[2;36m                      \u001b[0m         \u001b[1;35mCompetitionSpecification.cache\u001b[0m\u001b[1m(\u001b[0m\u001b[1m)\u001b[0m for more performant data access.       \u001b[2m            \u001b[0m\n"
      ]
     },
     "metadata": {},
     "output_type": "display_data"
    }
   ],
   "source": [
    "import polaris as po\n",
    "\n",
    "competition = po.load_competition(\"asap-discovery/antiviral-ligand-poses-2025\")"
   ]
  },
  {
   "cell_type": "markdown",
   "id": "ecdd0f20-4fbd-455c-8d25-c9331d47bf4d",
   "metadata": {},
   "source": [
    "Let's again cache it as suggested!"
   ]
  },
  {
   "cell_type": "code",
   "execution_count": 4,
   "id": "48fdb335-01a1-4210-81df-025187aeaf8d",
   "metadata": {},
   "outputs": [
    {
     "data": {
      "text/html": [
       "<pre style=\"white-space:pre;overflow-x:auto;line-height:normal;font-family:Menlo,'DejaVu Sans Mono',consolas,'Courier New',monospace\"><span style=\"color: #7fbfbf; text-decoration-color: #7fbfbf\">[22:19:18] </span><span style=\"color: #008000; text-decoration-color: #008000\">Copying to destination </span>                                                                     <a href=\"file:///home/xchen/miniconda3/envs/polaris/lib/python3.12/site-packages/polaris/dataset/_base.py\" target=\"_blank\"><span style=\"color: #7f7f7f; text-decoration-color: #7f7f7f\">_base.py</span></a><span style=\"color: #7f7f7f; text-decoration-color: #7f7f7f\">:</span><a href=\"file:///home/xchen/miniconda3/envs/polaris/lib/python3.12/site-packages/polaris/dataset/_base.py#380\" target=\"_blank\"><span style=\"color: #7f7f7f; text-decoration-color: #7f7f7f\">380</span></a>\n",
       "<span style=\"color: #7fbfbf; text-decoration-color: #7fbfbf\">           </span><span style=\"color: #008000; text-decoration-color: #008000\">/home/xchen/.cache/polaris/datasets/2172e171-98df-49cc-ade8-0df87e33b6a0/data.zarr</span>          <span style=\"color: #7f7f7f; text-decoration-color: #7f7f7f\">            </span>\n",
       "</pre>\n"
      ],
      "text/plain": [
       "\u001b[2;36m[22:19:18]\u001b[0m\u001b[2;36m \u001b[0m\u001b[32mCopying to destination \u001b[0m                                                                     \u001b]8;id=375290;file:///home/xchen/miniconda3/envs/polaris/lib/python3.12/site-packages/polaris/dataset/_base.py\u001b\\\u001b[2m_base.py\u001b[0m\u001b]8;;\u001b\\\u001b[2m:\u001b[0m\u001b]8;id=809846;file:///home/xchen/miniconda3/envs/polaris/lib/python3.12/site-packages/polaris/dataset/_base.py#380\u001b\\\u001b[2m380\u001b[0m\u001b]8;;\u001b\\\n",
       "\u001b[2;36m           \u001b[0m\u001b[32m/home/xchen/.cache/polaris/datasets/2172e171-98df-49cc-ade8-0df87e33b6a0/\u001b[0m\u001b[32mdata.zarr\u001b[0m          \u001b[2m            \u001b[0m\n"
      ]
     },
     "metadata": {},
     "output_type": "display_data"
    },
    {
     "data": {
      "text/html": [
       "<pre style=\"white-space:pre;overflow-x:auto;line-height:normal;font-family:Menlo,'DejaVu Sans Mono',consolas,'Courier New',monospace\"><span style=\"color: #7fbfbf; text-decoration-color: #7fbfbf\">           </span><span style=\"color: #808000; text-decoration-color: #808000\">For large Zarr archives, this may take a while.</span>                                             <a href=\"file:///home/xchen/miniconda3/envs/polaris/lib/python3.12/site-packages/polaris/dataset/_base.py\" target=\"_blank\"><span style=\"color: #7f7f7f; text-decoration-color: #7f7f7f\">_base.py</span></a><span style=\"color: #7f7f7f; text-decoration-color: #7f7f7f\">:</span><a href=\"file:///home/xchen/miniconda3/envs/polaris/lib/python3.12/site-packages/polaris/dataset/_base.py#381\" target=\"_blank\"><span style=\"color: #7f7f7f; text-decoration-color: #7f7f7f\">381</span></a>\n",
       "</pre>\n"
      ],
      "text/plain": [
       "\u001b[2;36m          \u001b[0m\u001b[2;36m \u001b[0m\u001b[33mFor large Zarr archives, this may take a while.\u001b[0m                                             \u001b]8;id=593884;file:///home/xchen/miniconda3/envs/polaris/lib/python3.12/site-packages/polaris/dataset/_base.py\u001b\\\u001b[2m_base.py\u001b[0m\u001b]8;;\u001b\\\u001b[2m:\u001b[0m\u001b]8;id=39731;file:///home/xchen/miniconda3/envs/polaris/lib/python3.12/site-packages/polaris/dataset/_base.py#381\u001b\\\u001b[2m381\u001b[0m\u001b]8;;\u001b\\\n"
      ]
     },
     "metadata": {},
     "output_type": "display_data"
    },
    {
     "data": {
      "text/html": [
       "<pre style=\"white-space:pre;overflow-x:auto;line-height:normal;font-family:Menlo,'DejaVu Sans Mono',consolas,'Courier New',monospace\"><span style=\"color: #7fbfbf; text-decoration-color: #7fbfbf\">[22:21:36] </span><span style=\"color: #008000; text-decoration-color: #008000\"> Success: Copying Zarr keys</span>                                                                <a href=\"file:///home/xchen/miniconda3/envs/polaris/lib/python3.12/site-packages/polaris/utils/context.py\" target=\"_blank\"><span style=\"color: #7f7f7f; text-decoration-color: #7f7f7f\">context.py</span></a><span style=\"color: #7f7f7f; text-decoration-color: #7f7f7f\">:</span><a href=\"file:///home/xchen/miniconda3/envs/polaris/lib/python3.12/site-packages/polaris/utils/context.py#53\" target=\"_blank\"><span style=\"color: #7f7f7f; text-decoration-color: #7f7f7f\">53</span></a>\n",
       "</pre>\n"
      ],
      "text/plain": [
       "\u001b[2;36m[22:21:36]\u001b[0m\u001b[2;36m \u001b[0m\u001b[32m Success: Copying Zarr keys\u001b[0m                                                                \u001b]8;id=789852;file:///home/xchen/miniconda3/envs/polaris/lib/python3.12/site-packages/polaris/utils/context.py\u001b\\\u001b[2mcontext.py\u001b[0m\u001b]8;;\u001b\\\u001b[2m:\u001b[0m\u001b]8;id=564108;file:///home/xchen/miniconda3/envs/polaris/lib/python3.12/site-packages/polaris/utils/context.py#53\u001b\\\u001b[2m53\u001b[0m\u001b]8;;\u001b\\\n"
      ]
     },
     "metadata": {},
     "output_type": "display_data"
    },
    {
     "data": {
      "text/html": [
       "<pre style=\"white-space:pre;overflow-x:auto;line-height:normal;font-family:Menlo,'DejaVu Sans Mono',consolas,'Courier New',monospace\"><span style=\"color: #7fbfbf; text-decoration-color: #7fbfbf\">           </span><span style=\"color: #008000; text-decoration-color: #008000\"> Success: Copying Zarr archive</span>                                                             <a href=\"file:///home/xchen/miniconda3/envs/polaris/lib/python3.12/site-packages/polaris/utils/context.py\" target=\"_blank\"><span style=\"color: #7f7f7f; text-decoration-color: #7f7f7f\">context.py</span></a><span style=\"color: #7f7f7f; text-decoration-color: #7f7f7f\">:</span><a href=\"file:///home/xchen/miniconda3/envs/polaris/lib/python3.12/site-packages/polaris/utils/context.py#53\" target=\"_blank\"><span style=\"color: #7f7f7f; text-decoration-color: #7f7f7f\">53</span></a>\n",
       "</pre>\n"
      ],
      "text/plain": [
       "\u001b[2;36m          \u001b[0m\u001b[2;36m \u001b[0m\u001b[32m Success: Copying Zarr archive\u001b[0m                                                             \u001b]8;id=960134;file:///home/xchen/miniconda3/envs/polaris/lib/python3.12/site-packages/polaris/utils/context.py\u001b\\\u001b[2mcontext.py\u001b[0m\u001b]8;;\u001b\\\u001b[2m:\u001b[0m\u001b]8;id=496718;file:///home/xchen/miniconda3/envs/polaris/lib/python3.12/site-packages/polaris/utils/context.py#53\u001b\\\u001b[2m53\u001b[0m\u001b]8;;\u001b\\\n"
      ]
     },
     "metadata": {},
     "output_type": "display_data"
    },
    {
     "data": {
      "text/html": [
       "<pre style=\"white-space:pre;overflow-x:auto;line-height:normal;font-family:Menlo,'DejaVu Sans Mono',consolas,'Courier New',monospace\"></pre>\n"
      ],
      "text/plain": []
     },
     "metadata": {},
     "output_type": "display_data"
    },
    {
     "data": {
      "text/plain": [
       "'/home/xchen/.cache/polaris/datasets/2172e171-98df-49cc-ade8-0df87e33b6a0'"
      ]
     },
     "execution_count": 4,
     "metadata": {},
     "output_type": "execute_result"
    }
   ],
   "source": [
    "competition.cache()"
   ]
  },
  {
   "cell_type": "code",
   "execution_count": 5,
   "id": "8fc40a53-1f4d-4365-8c2a-23ba023533ca",
   "metadata": {},
   "outputs": [],
   "source": [
    "train, test = competition.get_train_test_split()"
   ]
  },
  {
   "cell_type": "code",
   "execution_count": 6,
   "id": "7f48af30-de0a-48c2-aa5e-44c6be13f9ea",
   "metadata": {},
   "outputs": [
    {
     "data": {
      "text/plain": [
       "(770, 195)"
      ]
     },
     "execution_count": 6,
     "metadata": {},
     "output_type": "execute_result"
    }
   ],
   "source": [
    "len(train),len(test)"
   ]
  },
  {
   "cell_type": "code",
   "execution_count": 7,
   "id": "84ce3442-517a-4acb-9427-515e3ef24d01",
   "metadata": {
    "scrolled": true
   },
   "outputs": [
    {
     "name": "stdout",
     "output_type": "stream",
     "text": [
      "MERS-CoV Mpro\n",
      "MERS-CoV Mpro\n",
      "SARS-CoV-2 Mpro\n",
      "MERS-CoV Mpro\n",
      "MERS-CoV Mpro\n",
      "SARS-CoV-2 Mpro\n",
      "SARS-CoV-2 Mpro\n",
      "SARS-CoV-2 Mpro\n",
      "SARS-CoV-2 Mpro\n",
      "MERS-CoV Mpro\n",
      "MERS-CoV Mpro\n",
      "MERS-CoV Mpro\n",
      "SARS-CoV-2 Mpro\n",
      "MERS-CoV Mpro\n",
      "SARS-CoV-2 Mpro\n",
      "SARS-CoV-2 Mpro\n",
      "SARS-CoV-2 Mpro\n",
      "MERS-CoV Mpro\n",
      "SARS-CoV-2 Mpro\n",
      "SARS-CoV-2 Mpro\n",
      "MERS-CoV Mpro\n",
      "SARS-CoV-2 Mpro\n",
      "SARS-CoV-2 Mpro\n",
      "SARS-CoV-2 Mpro\n",
      "MERS-CoV Mpro\n",
      "SARS-CoV-2 Mpro\n",
      "MERS-CoV Mpro\n",
      "SARS-CoV-2 Mpro\n",
      "SARS-CoV-2 Mpro\n",
      "MERS-CoV Mpro\n",
      "MERS-CoV Mpro\n",
      "SARS-CoV-2 Mpro\n",
      "MERS-CoV Mpro\n",
      "MERS-CoV Mpro\n",
      "SARS-CoV-2 Mpro\n",
      "MERS-CoV Mpro\n",
      "SARS-CoV-2 Mpro\n",
      "MERS-CoV Mpro\n",
      "SARS-CoV-2 Mpro\n",
      "MERS-CoV Mpro\n",
      "MERS-CoV Mpro\n",
      "MERS-CoV Mpro\n",
      "MERS-CoV Mpro\n",
      "MERS-CoV Mpro\n",
      "MERS-CoV Mpro\n",
      "SARS-CoV-2 Mpro\n",
      "SARS-CoV-2 Mpro\n",
      "MERS-CoV Mpro\n",
      "SARS-CoV-2 Mpro\n",
      "SARS-CoV-2 Mpro\n",
      "SARS-CoV-2 Mpro\n",
      "SARS-CoV-2 Mpro\n",
      "SARS-CoV-2 Mpro\n",
      "MERS-CoV Mpro\n",
      "MERS-CoV Mpro\n",
      "SARS-CoV-2 Mpro\n",
      "MERS-CoV Mpro\n",
      "MERS-CoV Mpro\n",
      "MERS-CoV Mpro\n",
      "MERS-CoV Mpro\n",
      "MERS-CoV Mpro\n",
      "MERS-CoV Mpro\n",
      "SARS-CoV-2 Mpro\n",
      "MERS-CoV Mpro\n",
      "SARS-CoV-2 Mpro\n",
      "SARS-CoV-2 Mpro\n",
      "SARS-CoV-2 Mpro\n",
      "MERS-CoV Mpro\n",
      "MERS-CoV Mpro\n",
      "SARS-CoV-2 Mpro\n",
      "SARS-CoV-2 Mpro\n",
      "SARS-CoV-2 Mpro\n",
      "SARS-CoV-2 Mpro\n",
      "MERS-CoV Mpro\n",
      "MERS-CoV Mpro\n",
      "MERS-CoV Mpro\n",
      "SARS-CoV-2 Mpro\n",
      "SARS-CoV-2 Mpro\n",
      "SARS-CoV-2 Mpro\n",
      "SARS-CoV-2 Mpro\n",
      "SARS-CoV-2 Mpro\n",
      "SARS-CoV-2 Mpro\n",
      "MERS-CoV Mpro\n",
      "SARS-CoV-2 Mpro\n",
      "MERS-CoV Mpro\n",
      "SARS-CoV-2 Mpro\n",
      "MERS-CoV Mpro\n",
      "SARS-CoV-2 Mpro\n",
      "SARS-CoV-2 Mpro\n",
      "SARS-CoV-2 Mpro\n",
      "SARS-CoV-2 Mpro\n",
      "SARS-CoV-2 Mpro\n",
      "MERS-CoV Mpro\n",
      "SARS-CoV-2 Mpro\n",
      "MERS-CoV Mpro\n",
      "SARS-CoV-2 Mpro\n",
      "MERS-CoV Mpro\n",
      "SARS-CoV-2 Mpro\n",
      "MERS-CoV Mpro\n",
      "MERS-CoV Mpro\n",
      "MERS-CoV Mpro\n",
      "MERS-CoV Mpro\n",
      "MERS-CoV Mpro\n",
      "MERS-CoV Mpro\n",
      "MERS-CoV Mpro\n",
      "SARS-CoV-2 Mpro\n",
      "MERS-CoV Mpro\n",
      "MERS-CoV Mpro\n",
      "SARS-CoV-2 Mpro\n",
      "MERS-CoV Mpro\n",
      "MERS-CoV Mpro\n",
      "SARS-CoV-2 Mpro\n",
      "SARS-CoV-2 Mpro\n",
      "SARS-CoV-2 Mpro\n",
      "SARS-CoV-2 Mpro\n",
      "SARS-CoV-2 Mpro\n",
      "MERS-CoV Mpro\n",
      "MERS-CoV Mpro\n",
      "SARS-CoV-2 Mpro\n",
      "MERS-CoV Mpro\n",
      "SARS-CoV-2 Mpro\n",
      "SARS-CoV-2 Mpro\n",
      "SARS-CoV-2 Mpro\n",
      "MERS-CoV Mpro\n",
      "MERS-CoV Mpro\n",
      "SARS-CoV-2 Mpro\n",
      "MERS-CoV Mpro\n",
      "SARS-CoV-2 Mpro\n",
      "MERS-CoV Mpro\n",
      "SARS-CoV-2 Mpro\n",
      "MERS-CoV Mpro\n",
      "MERS-CoV Mpro\n",
      "MERS-CoV Mpro\n",
      "SARS-CoV-2 Mpro\n",
      "MERS-CoV Mpro\n",
      "MERS-CoV Mpro\n",
      "SARS-CoV-2 Mpro\n",
      "MERS-CoV Mpro\n",
      "SARS-CoV-2 Mpro\n",
      "SARS-CoV-2 Mpro\n",
      "MERS-CoV Mpro\n",
      "MERS-CoV Mpro\n",
      "SARS-CoV-2 Mpro\n",
      "MERS-CoV Mpro\n",
      "MERS-CoV Mpro\n",
      "SARS-CoV-2 Mpro\n",
      "SARS-CoV-2 Mpro\n",
      "MERS-CoV Mpro\n",
      "MERS-CoV Mpro\n",
      "MERS-CoV Mpro\n",
      "SARS-CoV-2 Mpro\n",
      "MERS-CoV Mpro\n",
      "MERS-CoV Mpro\n",
      "SARS-CoV-2 Mpro\n",
      "MERS-CoV Mpro\n",
      "SARS-CoV-2 Mpro\n",
      "SARS-CoV-2 Mpro\n",
      "MERS-CoV Mpro\n",
      "MERS-CoV Mpro\n",
      "MERS-CoV Mpro\n",
      "SARS-CoV-2 Mpro\n",
      "SARS-CoV-2 Mpro\n",
      "MERS-CoV Mpro\n",
      "MERS-CoV Mpro\n",
      "MERS-CoV Mpro\n",
      "SARS-CoV-2 Mpro\n",
      "MERS-CoV Mpro\n",
      "MERS-CoV Mpro\n",
      "MERS-CoV Mpro\n",
      "MERS-CoV Mpro\n",
      "SARS-CoV-2 Mpro\n",
      "SARS-CoV-2 Mpro\n",
      "SARS-CoV-2 Mpro\n",
      "SARS-CoV-2 Mpro\n",
      "SARS-CoV-2 Mpro\n",
      "SARS-CoV-2 Mpro\n",
      "SARS-CoV-2 Mpro\n",
      "SARS-CoV-2 Mpro\n",
      "MERS-CoV Mpro\n",
      "MERS-CoV Mpro\n",
      "SARS-CoV-2 Mpro\n",
      "SARS-CoV-2 Mpro\n",
      "SARS-CoV-2 Mpro\n",
      "MERS-CoV Mpro\n",
      "SARS-CoV-2 Mpro\n",
      "MERS-CoV Mpro\n",
      "MERS-CoV Mpro\n",
      "SARS-CoV-2 Mpro\n",
      "MERS-CoV Mpro\n",
      "MERS-CoV Mpro\n",
      "SARS-CoV-2 Mpro\n",
      "SARS-CoV-2 Mpro\n",
      "MERS-CoV Mpro\n",
      "SARS-CoV-2 Mpro\n",
      "SARS-CoV-2 Mpro\n"
     ]
    }
   ],
   "source": [
    "for itest in test: # Train data structure\n",
    "    print(itest['Protein Label'])"
   ]
  },
  {
   "cell_type": "markdown",
   "id": "20781649-dd92-400a-9441-b2d2eff63b62",
   "metadata": {},
   "source": [
    "# 1. regularize the train and test sets\n",
    "\n",
    "The raw data is already downloaded in raw_data_package"
   ]
  },
  {
   "cell_type": "markdown",
   "id": "fed64b3f-7ca3-454a-bb16-1902b32429c1",
   "metadata": {},
   "source": [
    "## Load data"
   ]
  },
  {
   "cell_type": "code",
   "execution_count": 8,
   "id": "5a38b18f-0c6d-437a-be6f-ecf5142a4389",
   "metadata": {},
   "outputs": [
    {
     "name": "stdout",
     "output_type": "stream",
     "text": [
      "raw_data_package/ligand-posing/SARS-CoV-2_Mpro-P0765_0A_CONFIDENTIAL/complex.pdb\n"
     ]
    }
   ],
   "source": [
    "# Train data\n",
    "from pathlib import Path\n",
    "path = Path(\"./raw_data_package\") / \"ligand-posing\"\n",
    "subdir = list(path.iterdir())\n",
    "#Files are subdir\n",
    "complexPDB = str(subdir[0])+\"/complex.pdb\"\n",
    "print(complexPDB)"
   ]
  },
  {
   "cell_type": "code",
   "execution_count": 9,
   "id": "9eac282b-48b5-4374-99f1-63f555a51f0c",
   "metadata": {},
   "outputs": [
    {
     "data": {
      "text/plain": [
       "772"
      ]
     },
     "execution_count": 9,
     "metadata": {},
     "output_type": "execute_result"
    }
   ],
   "source": [
    "len(subdir)"
   ]
  },
  {
   "cell_type": "code",
   "execution_count": 10,
   "id": "9aa4721f-7edf-4cff-81ac-936387d856a0",
   "metadata": {},
   "outputs": [
    {
     "name": "stdout",
     "output_type": "stream",
     "text": [
      "reference_structures/MERS-CoV-Mpro/protein.pdb reference_structures/SARS-CoV-2-Mpro/protein.pdb\n"
     ]
    }
   ],
   "source": [
    "# Ref_data\n",
    "ref_MERS_PDB = str(Path(\"./reference_structures\"))+'/MERS-CoV-Mpro/protein.pdb'\n",
    "ref_SARS_PDB = str(Path(\"./reference_structures\"))+'/SARS-CoV-2-Mpro/protein.pdb'\n",
    "print(ref_MERS_PDB,ref_SARS_PDB)"
   ]
  },
  {
   "cell_type": "markdown",
   "id": "035a3b76-1b0f-4803-8114-adf2982d1666",
   "metadata": {
    "jp-MarkdownHeadingCollapsed": true
   },
   "source": [
    "## Rotate the traindataset with ref and create new files"
   ]
  },
  {
   "cell_type": "code",
   "execution_count": 84,
   "id": "f30bb2b4-9ed2-49df-a605-4e703be21648",
   "metadata": {},
   "outputs": [],
   "source": [
    "import pymol\n",
    "\n",
    "def rotate(ref_file, move_dir):\n",
    "    pymol.cmd.delete(\"all\")\n",
    "    \n",
    "    pymol.cmd.load(move_dir+'/complex.pdb', \"mobile\")\n",
    "    pymol.cmd.load(ref_path, \"reference\")\n",
    "\n",
    "    # Compute the RMSD\n",
    "    pymol.cmd.rms_cur(\"mobile\", \"reference\")\n",
    "    \n",
    "    \n",
    "    # Now let's align our proteins again using PyMol\n",
    "    pymol.cmd.align(\n",
    "        \"polymer and name CA and mobile\",\n",
    "        \"polymer and name CA and reference\",\n",
    "        quiet=0,\n",
    "    );\n",
    "    pymol.cmd.rms_cur(\"mobile\", \"reference\")\n",
    "    pymol.cmd.save(move_dir+\"/rotated.pdb\", \"mobile\")\n",
    "\n"
   ]
  },
  {
   "cell_type": "code",
   "execution_count": 85,
   "id": "c58404fb-0c05-43c2-9616-4ac104335f7e",
   "metadata": {},
   "outputs": [
    {
     "name": "stdout",
     "output_type": "stream",
     "text": [
      " Match: read scoring matrix.\n",
      " Match: assigning 556 x 552 pairwise scores.\n",
      " MatchAlign: aligning residues (556 vs 552)...\n",
      " MatchAlign: score 1314.500\n",
      " ExecutiveAlign: 540 atoms aligned.\n",
      " ExecutiveRMS: 29 atoms rejected during cycle 1 (RMSD=2.30).\n",
      " ExecutiveRMS: 31 atoms rejected during cycle 2 (RMSD=1.46).\n",
      " ExecutiveRMS: 17 atoms rejected during cycle 3 (RMSD=1.19).\n",
      " ExecutiveRMS: 18 atoms rejected during cycle 4 (RMSD=1.10).\n",
      " ExecutiveRMS: 10 atoms rejected during cycle 5 (RMSD=1.02).\n",
      " Executive: RMSD =    0.981 (435 to 435 atoms)\n"
     ]
    }
   ],
   "source": [
    "path = './raw_data_package/ligand-posing/SARS-CoV-2_Mpro-x11294_0A_CONFIDENTIAL/'\n",
    "rotate(ref_SARS_PDB, path)"
   ]
  },
  {
   "cell_type": "code",
   "execution_count": null,
   "id": "b38972b3-12cf-40ed-8bdf-3eecf683d93c",
   "metadata": {},
   "outputs": [],
   "source": [
    "for i in range(len(subdir)):\n",
    "    path = str(subdir[i])\n",
    "    if('SARS' in path):\n",
    "        rotate(ref_SARS_PDB, path)"
   ]
  },
  {
   "cell_type": "markdown",
   "id": "04401bc9-6ccf-4a6d-ae74-427135d9bd5f",
   "metadata": {},
   "source": [
    "## Prepare the test-set\n",
    "\n",
    "Hypothesis: Conservative Mutations "
   ]
  },
  {
   "cell_type": "code",
   "execution_count": 11,
   "id": "5770abc9-9ffb-4d91-b986-c4b1da4c1fb6",
   "metadata": {},
   "outputs": [],
   "source": [
    "import os\n",
    "import shutil\n",
    "\n",
    "def process_protein_labels(test, reference_file_MERS, reference_file_SARS, output_dir):\n",
    "\n",
    "    os.makedirs(output_dir, exist_ok=True)  \n",
    "    i = 0\n",
    "    for itest in test:\n",
    "        protein_label = itest['Protein Label']\n",
    "        folder_path = os.path.join(output_dir, str(i))\n",
    "        os.makedirs(folder_path, exist_ok=True)\n",
    "        i=i+1\n",
    "        # If MERS, just copy the reference file \n",
    "        if protein_label == 'MERS-CoV Mpro':\n",
    "            #print(itest['CXSMILES'])\n",
    "            shutil.copy(reference_file_MERS, folder_path)\n",
    "\n",
    "        # If SARS, just copy the reference file \n",
    "        elif protein_label == 'SARS-CoV-2 Mpro':\n",
    "            #print(itest['CXSMILES'])\n",
    "            shutil.copy(reference_file_SARS, folder_path)\n",
    "\n",
    "\n",
    "reference_file_path = \"reference\"  \n",
    "output_directory = \"output_folders\"  \n",
    "\n",
    "\n",
    "process_protein_labels(test, ref_MERS_PDB, ref_SARS_PDB, './test_data')\n"
   ]
  },
  {
   "cell_type": "code",
   "execution_count": 12,
   "id": "49b98abd-f46f-4331-bd93-672809b0b3b3",
   "metadata": {
    "scrolled": true
   },
   "outputs": [
    {
     "name": "stdout",
     "output_type": "stream",
     "text": [
      "O=C1c2ccc(Cl)cc2[C@@]2(CN1Cc1nnco1)C(=O)N(c1cncc3ccccc13)C[C@@H]2CNc1ncncn1\n",
      "COc1ccc(N(Cc2cccc(Cl)c2)C(=O)Cc2cncc3ccccc23)cc1\n",
      "CNC(=O)CN1C[C@@]2(C(=O)N(c3cncc4ccccc34)C[C@@H]2CNc2ccncn2)c2cc(Cl)ccc2C1=O\n",
      "CNC(=O)CN1C[C@@]2(C(=O)N(c3cncc4ccccc34)C[C@@H]2[NH3+])c2cc(Cl)ccc2C1=O\n",
      "O=C1c2ccc(Cl)cc2[C@@]2(CN1Cc1ccnnc1)C(=O)N(c1cncc3ccccc13)C[C@@H]2CNc1ccncn1\n",
      "CNC(=O)CN1C[C@@]2(C(=O)N(c3cncc4ccccc34)C[C@@H]2CNc2cnn(C)c2)c2cc(Cl)ccc2C1=O\n",
      "Cc1cnc(CN2C[C@@]3(C(=O)N(c4cncc5ccccc45)C[C@@H]3C)c3cc(F)ccc3C2=O)cn1\n",
      "CNC(=O)CN1C[C@@]2(C(=O)N(c3cncc4ccccc34)C[C@@H]2COC(C)C)c2cc(Cl)ccc2C1=O\n",
      "C[C@H]1CN(c2cncc3ccccc23)C(=O)[C@@]12CN(Cc1nccn1C)C(=O)c1ccc(F)cc12\n",
      "C[C@H]1c2ccsc2CCN1C(=O)Cc1cncc2ccccc12\n",
      "C[C@H]1CN(c2cncc3ccccc23)C(=O)[C@@]12CN(CC#N)C(=O)c1ccc(F)cc12\n",
      "CCC(=O)[N@H+]1CCCc2c(N(Cc3cccc(Cl)c3)C(=O)Cc3cncc4ccccc34)cccc21\n",
      "C=C(CN(C(=O)[C@@H]1CN(CC(=O)NC)C(=O)c2ccc(Cl)cc21)c1cncc2ccccc12)C(=O)[O-]\n",
      "O=C(Cc1cncc2ccccc12)N1CCCCC1\n",
      "CCC1CCN(C(=O)Cc2cncc3ccccc23)CC1\n",
      "CCS(=O)(=O)N1CC2(C1)C(=O)N(c1cncc3ccccc13)C(=O)N2C\n",
      "CNC(=O)CN1C[C@@]2(C(=O)N(c3cncc4ccccc34)C[C@@H]2COC)c2cc(Cl)ccc2C1=O\n",
      "C[C@H]1CN(c2cncc3ccccc23)C(=O)[C@@]12CN(CC(=O)NCc1ccnn1C)C(=O)c1ccccc12\n",
      "C[C@H]1C=CCN(C(=O)Cc2cncc3ccccc23)CC1\n",
      "C[C@H]1CN(c2cncc3ccccc23)C(=O)[C@@]12CN(Cc1c[nH+]c[nH]1)C(=O)c1ccc(F)cc12\n",
      "Cc1cc(CN2C[C@@]3(C(=O)N(c4cncc5ccccc45)C[C@@H]3C)c3cc(F)ccc3C2=O)on1\n",
      "CN1C(=O)N(c2cncc3ccccc23)C(=O)C12CN(S(=O)(=O)c1ccccc1)C2\n",
      "O=C1c2ccc(Cl)cc2[C@@]2(CN1CC[NH+]1CCOCC1)C(=O)N(c1cncc3ccccc13)C[C@@H]2CNc1ncccn1\n",
      "CNC(=O)CN1C[C@@]2(C(=O)N(c3cncc4ccccc34)C[C@@H]2CNc2ccnc(C)n2)c2cc(Cl)ccc2C1=O\n",
      "C[C@H]1C[NH+](CCN2C[C@@]3(C(=O)N(c4cncc5ccccc45)C[C@@H]3C)c3cc(Cl)ccc3C2=O)C[C@H](C)O1\n",
      "C[C@H]1CN(c2cncc3ccccc23)C(=O)[C@@]12CN(CC[NH+]1CCN(S(C)(=O)=O)CC1)C(=O)c1ccc(Cl)cc12\n",
      "COc1ccccc1[C@@H]1C[C@H](C)CCN1C(=O)Cc1cncc2ccccc12\n",
      "CNC(=O)CN1C[C@@]2(C(=O)N(c3cncc4ccccc34)C[C@@H]2Cn2cccn2)c2cc(Cl)ccc2C1=O\n",
      "CNC(=O)CN1C[C@@]2(C(=O)N(c3cncc4ccccc34)C[C@@H]2Cn2ncnn2)c2cc(Cl)ccc2C1=O\n",
      "O=C(Cc1cncc2ccccc12)N1C[C@H](CF)C2(CCCC2)C1\n",
      "CNC(=O)CN1C[C@@]2(C(=O)N(c3cncc4ccccc34)C[C@@H]2COCC2CC2)c2cc(Cl)ccc2C1=O\n",
      "C[C@@H]1CCc2c([O-])n(-c3cncc4ccccc34)c(=O)n2C1\n",
      "C[C@H]1CN(c2cncc3ccccc23)C(=O)[C@@]12CN(CC[N@@H+]1C[C@@H]3C[C@H]1CO3)C(=O)c1ccc(Cl)cc12\n",
      "C[C@H]1C[N@H+](CCN2C[C@@]3(C(=O)N(c4cncc5ccccc45)C[C@@H]3C)c3cc(Cl)ccc3C2=O)[C@@H](C)CO1\n",
      "C[C@H]1CN(c2cncc3ccccc23)C(=O)[C@@]12CN(Cc1cc[nH]n1)C(=O)c1ccc(F)cc12\n",
      "C[C@H]1C[C@H](c2ccccc2)N(C(=O)Cc2cncc3ccccc23)C1\n",
      "O=C1[C@@H](c2ccc(Cl)c(Cl)c2)C[C@H](O)CN1c1cncc2ccccc12\n",
      "C[C@H]1CN(c2cncc3ccccc23)C(=O)[C@@]12CN(Cc1nncn1C)C(=O)c1ccc(F)cc12\n",
      "CNC(=O)CN1C[C@@]2(C(=O)N(c3cncc4ccccc34)C[C@@H]2Cc2ccccc2)c2cc(Cl)ccc2C1=O\n",
      "C[C@H]1CC[C@@]2(CCN(C(=O)Cc3cncc4ccccc34)C2)CC1\n",
      "O=C(C[N@H+]1Cc2ccc(Cl)cc2[C@H](C(=O)Nc2cncc3ccccc23)C1)NCCc1ccc(C(F)F)cc1\n",
      "CCC(=O)N1CCCc2ccc(N(C(=O)Cc3cncc4ccccc34)N(C)c3cccc(Cl)c3)cc21\n",
      "C[C@H]1CN(c2cncc3ccccc23)C(=O)[C@@]12CN(Cc1cnn(C)c1)C(=O)c1ccc(F)cc12\n",
      "O=C(Cc1cncc2ccccc12)N1CCc2c(Cl)cccc2C1\n",
      "C[C@H]1C[N@@H+](CCN2C[C@@]3(C(=O)N(c4cncc5ccccc45)C[C@@H]3C)c3cc(Cl)ccc3C2=O)CCO1\n",
      "C[C@H]1CN(c2cncc3ccccc23)C(=O)[C@@]12CN(CC(=O)NCC1CC1)C(=O)c1ccc(F)cc12\n",
      "O=C1N[C@@]2(CCOc3ccncc32)C(=O)N1c1cncc2ccccc12\n",
      "C[NH2+]CCN1C[C@@]2(C(=O)N(c3cncc4ccccc34)C[C@@H]2COCC2COC2)c2cc(Cl)ccc2C1=O\n",
      "CNC(=O)CN1C[C@@]2(C(=O)N(c3cncc4ccccc34)C[C@@H]2CNc2ccccc2)c2cc(Cl)ccc2C1=O\n",
      "O=C(C[N@H+]1Cc2ccc(Cl)cc2[C@@]2(CCN(c3cncc4ccccc34)C2=O)C1)NC[C@H]1C[C@@H](F)C1\n",
      "O=C(C[N@H+]1Cc2ccc(Cl)cc2[C@H](C(=O)Nc2cncc3ccccc23)C1)Nc1ccc(N2CCOCC2=O)cc1\n",
      "C[C@H]1CN(c2cncc3ccccc23)C(=O)[C@@]12CN(Cc1cn[nH]n1)C(=O)c1ccc(F)cc12\n",
      "C[NH2+]CCN1C[C@@]2(C(=O)N(c3cncc4ccccc34)C[C@@H]2C)c2cc(F)ccc2C1=O\n",
      "CNC(=O)CN1C[C@@]2(C(=O)N(c3cncc4ccccc34)C[C@@H]2CNc2cnn(C)c2)c2cc(Cl)ccc2C1=O\n",
      "O=C1N[C@]2(C[C@H](c3ccccc3Cl)C2)C(=O)N1c1cncc2ccccc12\n",
      "CNC(=O)CN1C[C@@]2(C(=O)N(c3cncc4ccccc34)C[C@@H]2CS(=O)(=O)NC)c2cc(Cl)ccc2C1=O\n",
      "CC[C@H]1C[C@@H](C(F)(F)F)CCN1C(=O)Cc1cncc2ccccc12\n",
      "C[NH2+]CCN1C[C@@]2(C(=O)N(c3cncc4ccccc34)C[C@@H]2COCC2(F)COC2)c2cc(Cl)ccc2C1=O\n",
      "C[NH2+]CCN1C[C@@]2(C(=O)N(c3cncc4ccccc34)C[C@@H]2CNc2ncncn2)c2cc(Cl)ccc2C1=O\n",
      "CNC(=O)CN1C[C@@]2(C(=O)N(c3cncc4ccccc34)C[C@@H]2Cc2ccccc2)c2cc(Cl)ccc2C1=O\n",
      "O=C1c2ccc(Cl)cc2[C@@]2(CN1Cc1nnco1)C(=O)N(c1cncc3ccccc13)C[C@@H]2CNc1ccncn1\n",
      "C[C@H]1CN(c2cncc3ccccc23)C(=O)[C@@]12CN(CC[N@H+]1CCOC(C)(C)C1)C(=O)c1ccc(Cl)cc12\n",
      "C[C@H]1CN(c2cncc3ccccc23)C(=O)[C@@]12CN(Cc1cn[nH]n1)C(=O)c1ccc(F)cc12\n",
      "O=C(Cc1cncc2ccccc12)N1CCC[C@@H]1c1cccc(F)c1\n",
      "C[C@H]1CN(c2cncc3ccccc23)C(=O)[C@@]12CN(Cc1cc(=O)[nH]cn1)C(=O)c1ccc(F)cc12\n",
      "CNC(=O)CN1C[C@@]2(C(=O)N(c3cncc4ccccc34)C[C@@H]2CNc2ccncn2)c2cc(Cl)ccc2C1=O\n",
      "C[C@H]1CN(c2cncc3ccccc23)C(=O)[C@@]12CN(Cc1nnnn1C)C(=O)c1ccc(F)cc12\n",
      "C[C@H]1CN(c2cncc3ccccc23)C(=O)[C@@]12CN(Cc1cnn(C)n1)C(=O)c1ccc(F)cc12\n",
      "N#CCc1ccc(N(Cc2cccc(Cl)c2)C(=O)Cc2cncc3ccccc23)cc1\n",
      "C[C@H](NC(=O)COS(N)(=O)=O)c1cc(Cl)cc(-c2ccc(S(N)(=O)=O)cc2)c1\n",
      "CNC(=O)CN1C[C@@]2(C(=O)N(c3cncc4ccccc34)C[C@@H]2COC(C)C)c2cc(Cl)ccc2C1=O\n",
      "O=C(Cc1cncc2ccccc12)N1CCC(C(F)(F)F)CC1\n",
      "O=C(Cc1cncc2ccccc12)N1CCCC[C@H]1c1ccccc1\n",
      "C[C@H]1CN(c2cncc3ccccc23)C(=O)[C@@]12CN(Cc1ccn(C)n1)C(=O)c1ccc(F)cc12\n",
      "N#Cc1ccc(N(Cc2cccc(Cl)c2)C(=O)Cc2cncc3ccccc23)cc1\n",
      "C[NH2+]CCN1C[C@@]2(C(=O)N(c3cncc4ccccc34)C[C@@H]2COCC2CS(=O)(=O)C2)c2cc(Cl)ccc2C1=O\n",
      "CNC(=O)CN1C[C@@]2(C(=O)N(c3cncc4ccccc34)C[C@@H]2C)c2ccccc2C1=O\n",
      "C[C@H]1C[C@@H](C)N(C(=O)Cc2cncc3ccccc23)[C@@H](C)C1\n",
      "CC(=O)N1C[C@@H]2C[C@H]1c1c([O-])n(-c3cncc4ccccc34)c(=O)n12\n",
      "CC1CCN(C(=O)Cc2cncc3ccccc23)CC1\n",
      "CNC(=O)CN1C[C@@]2(C(=O)N(c3cncc4ccccc34)C[C@@H]2CS(=O)(=O)N(C)C)c2cc(F)ccc2C1=O\n",
      "Cn1ncc2cncc(NC(=O)[C@@H]3CNS(=O)(=O)c4ccc(Cl)cc43)c21\n",
      "CCO[C@H]1CN(c2cncc3ccccc23)C(=O)[C@@]12CN(CC(=O)NC)C(=O)c1ccc(Cl)cc12\n",
      "CNC(=O)CN1C[C@@]2(C(=O)N(c3cncc4ccccc34)C[C@@H]2CNc2scnc2C)c2cc(Cl)ccc2C1=O\n",
      "CNC(=O)CN1C[C@@]2(C(=O)N(c3cncc4ccccc34)C[C@@H]2CC#N)c2cc(Cl)ccc2C1=O\n",
      "CNC(=O)CN1C[C@@]2(C(=O)N(c3cncc4ccccc34)C[C@@H]2COC)c2cc(Cl)ccc2C1=O\n",
      "C[C@H]1CN(c2cncc3ccccc23)C(=O)[C@@]12CN(CCN1CCS(=O)(=O)CC1)C(=O)c1ccc(Cl)cc12\n",
      "CNC(=O)CN1C[C@@]2(C(=O)N(c3cncc4ccccc34)C[C@@H]2Cc2ccccc2)c2cc(Cl)ccc2C1=O\n",
      "C[C@H]1CN(c2cncc3ccccc23)C(=O)[C@@]12CN(CC#N)C(=O)c1ccc(F)cc12\n",
      "O=C(Cc1cncc2ccccc12)N(Cc1cccc(Cl)c1)[C@]12C[N@@H+](C3CC3)[C@H](C1)C2\n",
      "CC(C)C1CCN(C(=O)Cc2cncc3ccccc23)CC1\n",
      "CNC(=O)CN1C[C@@]2(C(=O)N(c3cncc4ccccc34)C[C@@H]2CNc2cnc(C)s2)c2cc(Cl)ccc2C1=O\n",
      "CNC(=O)CN1C[C@@]2(C(=O)N(c3cncc4ccccc34)C[C@@H]2Cc2nn[n-]n2)c2cc(Cl)ccc2C1=O\n",
      "CNC(=O)CN1C[C@@]2(C(=O)N(c3cncc4ccccc34)C[C@@H]2COC(C)C)c2cc(F)ccc2C1=O\n",
      "CCn1nccc1CN1C[C@@]2(C(=O)N(c3cncc4ccccc34)C[C@@H]2C)c2cc(F)ccc2C1=O\n",
      "C=C(CN(C(=O)Nc1cncc2ccccc12)c1cccc(Cl)c1)C(=O)NCC\n",
      "CNC(=O)CN1C[C@@]2(C(=O)N(c3cncc4ccccc34)C[C@@H]2CCl)c2cc(Cl)ccc2C1=O\n",
      "CCC(=O)Nc1cccc(N(Cc2ccccc2)C(=O)Cc2cncc3ccccc23)c1\n",
      "CNC(=O)CN1C[C@@]2(C(=O)N(c3cncc4ccccc34)C[C@@H]2COC)c2cc(Cl)ccc2C1=O\n",
      "CCS(=O)(=O)N[C@H]1CN(c2cncc3ccccc23)C(=O)[C@@]12CN(CC(=O)NC)C(=O)c1ccc(Cl)cc12\n",
      "CNC(=O)CN1C[C@@]2(C(=O)N(c3cncc4ccccc34)C[C@@H]2C)c2cc(F)ccc2C1=O\n",
      "C[C@H]1CCN(C(=O)Cc2cncc3ccccc23)CCO1\n",
      "CN1C[C@@H](C(=O)Nc2cncc3ccccc23)c2cc(Cl)ccc2C1=O\n",
      "O=C(Cc1cncc2ccccc12)N1CCc2sccc2C1\n",
      "Cc1nnc(CN2C[C@@]3(C(=O)N(c4cncc5ccccc45)C[C@@H]3CNc3ccncn3)c3cc(Cl)ccc3C2=O)o1\n",
      "CCNC(=O)CN1C[C@@]2(C(=O)N(c3cncc4ccccc34)C[C@@H]2C)c2cc(Cl)ccc2C1=O\n",
      "CNC(=O)CN1C[C@@]2(C(=O)N(c3cncc4ccccc34)C[C@@H]2CNc2ccncn2)c2cc(Cl)ccc2C1=O\n",
      "O=C1c2ccc(Cl)cc2[C@@]2(CN1CC[NH+]1CC3(COC3)C1)C(=O)N(c1cncc3ccccc13)C[C@@H]2CNc1ncccn1\n",
      "Cn1c(Cc2ccccc2)nn(-c2cncc3ccccc23)c1=O\n",
      "CNC(=O)CN1C[C@@]2(C(=O)N(c3cncc4ccccc34)C[C@@H]2CNc2cnccn2)c2cc(Cl)ccc2C1=O\n",
      "Cn1ccc(CN2C[C@]3(CCN(c4cncc5ccccc45)C3=O)c3cc(Cl)ccc3C2=O)n1\n",
      "COC[C@H]1CN(c2cncc3ccccc23)C(=O)[C@@]12CN(Cc1c[nH+]c[nH]1)C(=O)c1ccc(Cl)cc12\n",
      "C[C@H]1CN(c2cncc3ccccc23)C(=O)[C@@]12CN(Cc1ncccn1)C(=O)c1ccc(F)cc12\n",
      "CNC(=O)CN1C[C@@]2(C(=O)N(c3cncc4ccccc34)CC2(C)C)c2cc(Cl)ccc2C1=O\n",
      "CN1C[C@@H](C(=O)Nc2cncc3ccccc23)c2cc(Cl)ccc2C1=O\n",
      "CNC(=O)CN1C[C@@]2(C(=O)N(c3cncc4ccccc34)C[C@@H]2Cc2nn[n-]n2)c2cc(Cl)ccc2C1=O\n",
      "O=C(Cc1cncc2ccccc12)N1CCCSC[C@H]1C(F)(F)F\n",
      "CNC(=O)CN1C[C@@]2(C(=O)N(c3cncc4ccccc34)C[C@@H]2CNc2cnc(C)s2)c2cc(Cl)ccc2C1=O\n",
      "CCn1nccc1CN1C[C@@]2(C(=O)N(c3cncc4ccccc34)C[C@@H]2C)c2cc(F)ccc2C1=O\n",
      "C[C@H]1CN(c2cncc3ccccc23)C(=O)[C@@]12CN(Cc1ccncn1)C(=O)c1ccc(F)cc12\n",
      "O=C(Cc1cncc2ccccc12)N1CCC2(CCC2)CC1\n",
      "O=C(Cc1cncc2ccccc12)N1CCC(C2CC2)CC1\n",
      "CNC(=O)CN1C[C@@]2(C(=O)N(c3cncc4ccccc34)C[C@@H]2CO)c2cc(Cl)ccc2C1=O\n",
      "COC[C@H]1CN(c2cncc3ccccc23)C(=O)[C@@]12CN(Cc1ncc[nH]1)C(=O)c1ccc(Cl)cc12\n",
      "O=C(Cc1cncc2ccccc12)N1CCc2sccc2C1\n",
      "C[C@H]1CN(c2cncc3ccccc23)C(=O)[C@@]12CN(Cc1nc[nH]n1)C(=O)c1ccc(F)cc12\n",
      "O=C1c2ccc(Cl)cc2[C@@]2(CN1Cc1ccnnc1)C(=O)N(c1cncc3ccccc13)C[C@@H]2CNc1nncs1\n",
      "C[C@H]1CN(c2cncc3ccccc23)C(=O)[C@@]12CN(Cc1cocn1)C(=O)c1ccc(F)cc12\n",
      "C[C@H]1CN(c2cncc3ccccc23)C(=O)[C@@]12CN(CC[N@@H+]1CCC3(COC3)C1)C(=O)c1ccc(Cl)cc12\n",
      "CC[C@H]1c2ccsc2CCN1C(=O)Cc1cncc2ccccc12\n",
      "Cn1ccc(CN2C[C@]3(CCN(c4cncc5ccccc45)C3=O)c3cc(Cl)ccc3C2=O)n1\n",
      "C[C@H]1CN(c2cncc3ccccc23)C(=O)[C@@]12CN(CC[NH+]1CCOCC1)C(=O)c1ccc(Cl)cc12\n",
      "CNC(=O)CN1C(=O)C2=CC=C(Cl)C[C@@]23[C@@H]1[C@]31C(=O)N(c2cncc3ccccc23)C/C1=C\\F\n",
      "Cc1cc(CN2C[C@@]3(C(=O)N(c4cncc5ccccc45)C[C@@H]3C)c3cc(F)ccc3C2=O)on1\n",
      "O=C(Cc1cncc2ccccc12)N1CC[C@H]2CCC(F)(F)C[C@H]2C1\n",
      "C[NH2+]CCN1C[C@@]2(C(=O)N(c3cncc4ccccc34)C[C@@H]2COCC2(F)CC2)c2cc(Cl)ccc2C1=O\n",
      "O=C(Cc1cncc2ccccc12)N(Cc1cccc(Cl)c1)[C@]12CC[C@H](C1)[N@H+](CC1COC1)C2\n",
      "Cc1nc(CN2C[C@@]3(C(=O)N(c4cncc5ccccc45)C[C@@H]3C)c3cc(F)ccc3C2=O)no1\n",
      "C=CC(=O)N1CCCc2c1cccc2[N@@H+](Cc1cccc(Cl)c1)C(=O)Cc1cncc2ccccc12\n",
      "CC(C)CC1(C)CCN(C(=O)Cc2cncc3ccccc23)CC1\n",
      "CCC(=O)N1CCCc2ccc(N(Cc3cccc(Cl)c3)C(=O)Cc3cncc4c(F)cccc34)cc21\n",
      "C[C@H]1CN(c2cncc3ccccc23)C(=O)[C@@]12CN(Cc1nnn(C)n1)C(=O)c1ccc(F)cc12\n",
      "C[C@H]1CN(c2cncc3ccccc23)C(=O)[C@@]12CN(CC#N)C(=O)c1ccc(F)cc12\n",
      "C[C@H]1CN(c2cncc3ccccc23)C(=O)[C@@]12CN(Cc1nccn1C)C(=O)c1ccc(F)cc12\n",
      "CNC(=O)CN1C[C@@]2(C(=O)N(c3cncc4ccccc34)C[C@@H]2NC(C)=O)c2cc(Cl)ccc2C1=O\n",
      "O=C(Cc1cncc2ccccc12)N1CCCc2sccc2C1\n",
      "O=C(Cc1cncc2ccccc12)N1CCCC[C@H]1Cc1ccccc1\n",
      "C[C@H]1CN(c2cncc3ccccc23)C(=O)[C@@]12CN(C1C[NH2+]C1)C(=O)c1ccc(Cl)cc12\n",
      "C[C@H]1CN(c2cncc3ccccc23)C(=O)[C@@]12CN(Cc1ccon1)C(=O)c1ccc(F)cc12\n",
      "COc1cccc(CNC(=O)CN2C[C@@]3(C(=O)N(c4cncc5ccccc45)C[C@@H]3C)c3cc(Cl)ccc3C2=O)c1\n",
      "O=C1N[C@]2(C[C@H](c3ccccc3Cl)C2)C(=O)N1c1cncc2ccccc12\n",
      "C[C@H]1CN(c2cncc3ccccc23)C(=O)[C@@]12CN(CC[NH+](C)C)C(=O)c1ccc(Cl)cc12\n",
      "CC(C)(C#N)c1ccc(N(Cc2cccc(Cl)c2)C(=O)Cc2cncc3ccccc23)cc1\n",
      "CNC(=O)CN1C[C@@]2(C(=O)N(c3cncc4ccccc34)C[C@@H]2CNc2cnccn2)c2cc(Cl)ccc2C1=O\n",
      "COC(=O)N[C@H](C(=O)N1C[C@H](C(F)(F)F)C[C@H]1C(=O)N[C@H](C[NH3+])C[C@@H]1CCNC1=O)C(C)(C)C\n",
      "C[C@H]1CN(c2cncc3ccccc23)C(=O)[C@@]12CN(CC[NH+]1CCOCC1)C(=O)c1ccc(Cl)cc12\n",
      "C[C@H]1CN(c2cncc3ccccc23)C(=O)[C@@]12CN(Cc1cocn1)C(=O)c1ccc(F)cc12\n",
      "CC1CCN(C(=O)Cc2cncc3ccccc23)CC1\n",
      "C[C@H]1CN(c2cncc3ccccc23)C(=O)[C@@]12CN(Cc1ccnn1C)C(=O)c1ccc(F)cc12\n",
      "Cc1nc(CN2C[C@@]3(C(=O)N(c4cncc5ccccc45)C[C@@H]3C)c3cc(F)ccc3C2=O)co1\n",
      "CNC(=O)CN1C[C@@]2(C(=O)N(c3cncc4ccccc34)C[C@@H]2C)c2cc(Cl)ccc2C1=O\n",
      "CN1C(=O)N(c2cncc3ccccc23)C(=O)C12CN(S(=O)(=O)C1CC1)C2\n",
      "C[C@H]1CN(c2cncc3ccccc23)C(=O)[C@@]12CN(Cc1ncco1)C(=O)c1ccc(F)cc12\n",
      "C[C@@H]1COC[C@@H](C)[NH+]1CCN1C[C@@]2(C(=O)N(c3cncc4ccccc34)C[C@@H]2C)c2cc(Cl)ccc2C1=O\n",
      "CNC(=O)C1(N2C[C@@]3(C(=O)N(c4cncc5ccccc45)C[C@@H]3C)c3cc(Cl)ccc3C2=O)CC1\n",
      "CNC(=O)C1(N2C[C@@]3(C(=O)N(c4cncc5ccccc45)C[C@@H]3C)c3cc(Cl)ccc3C2=O)CC1\n",
      "C[C@H]1CN(c2cncc3ccccc23)C(=O)[C@@]12CN(Cc1cocn1)C(=O)c1ccc(F)cc12\n",
      "CNC(=O)CN1C[C@@]2(C(=O)N(c3cncc4ccccc34)C[C@@H]2CNc2ncncn2)c2cc(Cl)ccc2C1=O\n",
      "CNC(=O)CN1C[C@@]2(C(=O)N(c3cncc4ccccc34)C[C@@H]2Cn2cccn2)c2cc(Cl)ccc2C1=O\n",
      "CCC(=O)N1CCCc2ccc(N(Cc3cccc(Br)c3)C(=O)Cc3cncc4ccccc34)cc21\n",
      "O=C(Cc1cncc2ccccc12)N1CC=CC=CC1\n",
      "COc1ccccc1[C@H]1C[C@@H](C)CCN1C(=O)Cc1cncc2ccccc12\n",
      "NS(=O)(=O)c1ccc2c(c1)[C@@]1(CCO2)NC(=O)N(c2cncc3ccccc23)C1=O\n",
      "C[C@H]1CN(c2cncc3ccccc23)C(=O)[C@@]12CN(CC(=O)NCC1(F)CC1)C(=O)c1ccc(F)cc12\n",
      "CNC(=O)CN1C[C@@]2(C(=O)N(c3cncc4ccccc34)CC23CC3)c2cc(Cl)ccc2C1=O\n",
      "C[C@H]1CCN(C(=O)Cc2cncc3ccccc23)[C@@H](C)C1\n",
      "C[C@H]1CN(c2cncc3ccccc23)C(=O)[C@@]12CN(Cc1ccnn1C)C(=O)c1ccc(F)cc12\n",
      "O=C(Cc1cncc2ccccc12)N1CCC(C(F)F)CC1\n",
      "O=C(Cc1cncc2ccccc12)N1CC=CCCC1\n",
      "C[C@H]1CN(c2cncc3ccccc23)C(=O)[C@@]12CN(CC[NH+]1CCC1)C(=O)c1ccc(Cl)cc12\n",
      "CC1(C)CCN(C(=O)Cc2cncc3ccccc23)CC1\n",
      "CNC(=O)CN1C[C@@]2(C(=O)N(c3cncc4ccccc34)C[C@@H]2CS(=O)(=O)NC)c2cc(F)ccc2C1=O\n",
      "CNC(=O)CN1C[C@@]2(C(=O)N(c3cncc4ccccc34)C[C@@H]2CNc2cnccn2)c2cc(Cl)ccc2C1=O\n",
      "C[C@H]1CN(c2cncc3ccccc23)C(=O)[C@@]12CN(Cc1cn[nH]c1)C(=O)c1ccc(F)cc12\n",
      "COC[C@H]1CN(c2cncc3ccccc23)C(=O)[C@@]12CN(Cc1cn[nH]c1)C(=O)c1ccc(Cl)cc12\n",
      "O=C(Cc1cncc2ccccc12)N1C=CC=CC=C[C@H]1c1ccccc1\n",
      "C[NH2+]CCN1C[C@@]2(C(=O)N(c3cncc4ccccc34)C[C@@H]2C)c2cc(F)ccc2C1=O\n",
      "CCn1nccc1CN1C[C@@]2(C(=O)N(c3cncc4ccccc34)C[C@@H]2C)c2cc(F)ccc2C1=O\n",
      "CCC(=O)[N@@H+]1CCCc2c(N(Cc3cccc(Cl)c3)C(=O)Cc3cncc4ccccc34)cccc21\n",
      "CNC(=O)CN1C[C@@]2(C(=O)N(c3cncc4ccccc34)C[C@@H]2CS(=O)(=O)N(C)C)c2cc(F)ccc2C1=O\n",
      "CNS(=O)(=O)OCC(=O)N[C@@H](C)c1cc(Cl)cc(-c2ccc(S(N)(=O)=O)cc2)c1\n",
      "CNC(=O)CN1C[C@@]2(C(=O)N(c3cncc4ccccc34)C[C@@H]2CNc2ccncn2)c2cc(Cl)ccc2C1=O\n",
      "O=C(Cc1cncc2ccccc12)NCc1cccc(Cl)c1\n",
      "CNC(=O)CN1C[C@@]2(C(=O)N(c3cncc4ccccc34)C[C@@H]2COC(C)C)c2cc(Cl)ccc2C1=O\n",
      "C[C@@H]1COC[C@@]2(C1)NC(=O)N(c1cncc3ccccc13)C2=O\n"
     ]
    }
   ],
   "source": [
    "# Print all smiles\n",
    "for itest in test:\n",
    "    print(itest['CXSMILES'])\n"
   ]
  },
  {
   "cell_type": "markdown",
   "id": "a5e65f1d-3472-48fe-8ef1-32255187bd5e",
   "metadata": {},
   "source": [
    "# 2. Analyze the training set"
   ]
  },
  {
   "cell_type": "code",
   "execution_count": 13,
   "id": "0ca1bba2-a847-4bab-b09e-5e38b56838db",
   "metadata": {},
   "outputs": [],
   "source": [
    "from Bio import PDB\n",
    "import numpy as np\n",
    "import matplotlib.pyplot as plt\n",
    "def calculate_centroid(atom_coords):\n",
    "    \"\"\"Calculate the centroid of a given set of atom coordinates.\"\"\"\n",
    "    return np.mean(atom_coords, axis=0)\n",
    "\n",
    "def get_ligand_and_binding_site(pdb_file, ligand_resname=\"UNK\", cutoff=4.0):\n",
    "    \"\"\"Extract ligand centroid and nearby binding site residues from a PDB file.\"\"\"\n",
    "    parser = PDB.PDBParser(QUIET=True)\n",
    "    structure = parser.get_structure(\"complex\", pdb_file)\n",
    "\n",
    "    ligand_atoms = []\n",
    "    protein_residues = []\n",
    "\n",
    "    for model in structure:\n",
    "        for chain in model:\n",
    "            for residue in chain:\n",
    "                if residue.id[0] == \" \":\n",
    "                    protein_residues.append(residue)\n",
    "                elif residue.resname == ligand_resname:\n",
    "                    for atom in residue:\n",
    "                        ligand_atoms.append(atom.coord)\n",
    "\n",
    "    if not ligand_atoms:\n",
    "        raise ValueError(f\"Ligand {ligand_resname} not found in the PDB file.\")\n",
    "\n",
    "    centroid = calculate_centroid(np.array(ligand_atoms))\n",
    "    \n",
    "    binding_residues = set()\n",
    "    for residue in protein_residues:\n",
    "        for atom in residue:\n",
    "            if np.linalg.norm(atom.coord - centroid) < cutoff:\n",
    "                binding_residues.add((residue.resname, residue.id[1], residue.parent.id))\n",
    "\n",
    "    return centroid, sorted(binding_residues, key=lambda x: x[1])\n",
    "    \n",
    "def plot_centroids(centroids):\n",
    "    \"\"\"Plot ligand centroids in 3D space.\"\"\"\n",
    "    \n",
    "    fig = plt.figure()\n",
    "    ax = fig.add_subplot(111, projection='3d')\n",
    "\n",
    "    x, y, z = zip(*[(c[0], c[1], c[2]) for c in centroids])\n",
    "    ax.scatter(x, y, z, c='r', marker='o', label=\"Ligand Centroids\")\n",
    "\n",
    "    ax.set_xlabel(\"X Coordinate\")\n",
    "    ax.set_ylabel(\"Y Coordinate\")\n",
    "    ax.set_zlabel(\"Z Coordinate\")\n",
    "    ax.set_title(\"Ligand Centroid Positions\")\n",
    "\n",
    "    plt.legend()\n",
    "    plt.show()"
   ]
  },
  {
   "cell_type": "code",
   "execution_count": 14,
   "id": "279d0cde-b9ea-403c-8584-e15e634a166a",
   "metadata": {},
   "outputs": [],
   "source": [
    "\n",
    "# Example usage\n",
    "\n",
    "centroids = []\n",
    "SARS_docking_residues = []\n",
    "MERS_docking_residues = []\n",
    "for i in range(len(subdir)):\n",
    "    path = str(subdir[i])\n",
    "    if(\"SARS\" in path): \n",
    "        pdb_file = path+\"/rotated.pdb\"  # Replace with your actual PDB file\n",
    "        centroid, binding_site = get_ligand_and_binding_site(pdb_file)\n",
    "        centroids.append(centroid)\n",
    "        SARS_docking_residues = SARS_docking_residues + binding_site\n",
    "    elif(\"MERS\" in path):\n",
    "        pdb_file = path+\"/rotated.pdb\"  # Replace with your actual PDB file\n",
    "        centroid, binding_site = get_ligand_and_binding_site(pdb_file)\n",
    "        centroids.append(centroid)\n",
    "        MERS_docking_residues = MERS_docking_residues + binding_site\n",
    "    else:\n",
    "        continue\n"
   ]
  },
  {
   "cell_type": "code",
   "execution_count": 15,
   "id": "b951b688-15c0-4e71-97b9-47a39fd81739",
   "metadata": {},
   "outputs": [
    {
     "data": {
      "image/png": "[encoded data removed]",
      "text/plain": [
       "<Figure size 1000x600 with 1 Axes>"
      ]
     },
     "metadata": {},
     "output_type": "display_data"
    }
   ],
   "source": [
    "from collections import Counter\n",
    "\n",
    "# \n",
    "formatted_residues = [f\"{res[0]}{res[1]}\" for res in SARS_docking_residues]\n",
    "\n",
    "# \n",
    "formatted_counts = Counter(formatted_residues)\n",
    "\n",
    "filtered_counts = {k: v for k, v in sorted(formatted_counts.items(), key=lambda item: item[1], reverse=True) if v > 5}\n",
    "\n",
    "# \n",
    "plt.figure(figsize=(10, 6))\n",
    "plt.bar(filtered_counts.keys(), filtered_counts.values(), color='skyblue')\n",
    "plt.xlabel('Residue ID')\n",
    "plt.ylabel('Frequency')\n",
    "plt.title('Residue Frequency Distribution (Count > 25)')\n",
    "plt.xticks(rotation=45, ha='right')\n",
    "plt.grid(axis='y', linestyle='--', alpha=0.7)\n",
    "plt.show()"
   ]
  },
  {
   "cell_type": "code",
   "execution_count": 16,
   "id": "5bf98b57-bf1e-4f9a-a762-6d3f16bab313",
   "metadata": {},
   "outputs": [
    {
     "name": "stdout",
     "output_type": "stream",
     "text": [
      "2002\n"
     ]
    }
   ],
   "source": [
    "print(len(SARS_docking_residues))"
   ]
  },
  {
   "cell_type": "code",
   "execution_count": 17,
   "id": "98721bae-3b47-49e6-b78e-d8e5b82868c8",
   "metadata": {},
   "outputs": [
    {
     "name": "stdout",
     "output_type": "stream",
     "text": [
      "0\n"
     ]
    }
   ],
   "source": [
    "print(len(MERS_docking_residues))"
   ]
  },
  {
   "cell_type": "markdown",
   "id": "5777f44d-b797-4812-bdaf-8e0eb59a2e5e",
   "metadata": {},
   "source": [
    "# 3. Docking"
   ]
  },
  {
   "cell_type": "code",
   "execution_count": 21,
   "id": "5e3bb35e-683b-4198-8057-0810b5c586fb",
   "metadata": {},
   "outputs": [],
   "source": [
    "import os\n",
    "import subprocess\n",
    "import glob\n",
    "import re\n",
    "from vina import Vina\n",
    "\n",
    "def run_vina_docking(drug_file: str, protein_file: str, obabel: str, charge_model: str, position: list):\n",
    "    try:\n",
    "\n",
    "        target_ext = \"pdb\"\n",
    "        ligand_ext = \"xyz\"\n",
    "        \n",
    "        #subprocess.run(f\"{obabel} {protein_file} -O target.pdbqt -xr --partialcharge {charge_model}\", check=True, shell=True)\n",
    "        #subprocess.run(f\"{obabel} {drug_file} -O ligand.pdbqt -xr --partialcharge {charge_model} -h\", check=True, shell=True)\n",
    "        subprocess.run(f\"{obabel} {drug_file} -O ligand.pdbqt --partialcharge {charge_model} -h\", check=True, shell=True)\n",
    "        \n",
    "        v = Vina(sf_name='vina')\n",
    "        v.set_receptor(protein_file)\n",
    "        v.set_ligand_from_file('ligand.pdbqt')\n",
    "\n",
    "        '''\n",
    "        if ('all' in position):\n",
    "            dcenter, search_range = getcenter_pdb_files(protein_file, position, None)\n",
    "        else:\n",
    "            dcenter = getcenter_pdb_files(protein_file, position[1], position[0])\n",
    "        '''\n",
    "        search_range = 25\n",
    "        v.compute_vina_maps(center=position, box_size=[search_range] * 3)\n",
    "        v.dock(exhaustiveness=32, n_poses=20)\n",
    "        v.write_poses('ligand_vina_out.pdbqt', n_poses=1, overwrite=True)\n",
    "        \n",
    "        subprocess.run(f\"{obabel} ligand_vina_out.pdbqt -O ligand_result.pdb\", check=True, shell=True)\n",
    "        subprocess.run(f\"{obabel} ligand_result.pdb -O ligand_result_H.pdb -h\", check=True, shell=True)\n",
    "        \n",
    "        with open('ligand_result_H.pdb') as f:\n",
    "            docking_results = f.read()\n",
    "        \n",
    "        with open(protein_file) as f:\n",
    "            target_result = f.read()\n",
    "        \n",
    "        energy_results = []\n",
    "        previous_energy = None\n",
    "        with open('ligand_result.pdb') as f:\n",
    "            for line in f:\n",
    "                if \"REMARK VINA RESULT:\" in line:\n",
    "                    energy_match = re.search(r\"REMARK VINA RESULT:\\s+([-+]?\\d*\\.\\d+)\", line)\n",
    "                    if energy_match:\n",
    "                        current_energy = energy_match.group(1)\n",
    "                        if current_energy == previous_energy:\n",
    "                            energy_results[-1] += \"1\"\n",
    "                        else:\n",
    "                            energy_results.append(current_energy)\n",
    "                        previous_energy = current_energy\n",
    "        \n",
    "        os.makedirs('sub_results', exist_ok=True)\n",
    "        for command in [\n",
    "            f\"{obabel} ligand_result_H.pdb -O ./sub_results/ligand_result_H_sub.pdb -m\",\n",
    "            f\"{obabel} ligand_vina_out.pdbqt -O ./sub_results/ligand_result_H_sub.pdbqt -m\"\n",
    "        ]:\n",
    "            subprocess.run(command, check=True, shell=True)\n",
    "        \n",
    "        \n",
    "    except Exception as e:\n",
    "        print(f\"Error: {e}\")\n"
   ]
  },
  {
   "cell_type": "code",
   "execution_count": 51,
   "id": "b93e97a1-71d4-4d80-bbdd-80ff261f18f7",
   "metadata": {},
   "outputs": [],
   "source": [
    "os.chdir('/home/xchen/Work/asap-polaris-blind-challenge-examples')"
   ]
  },
  {
   "cell_type": "code",
   "execution_count": 64,
   "id": "3485201b-2c9d-4969-ae4e-301ffde3da1e",
   "metadata": {},
   "outputs": [
    {
     "name": "stdout",
     "output_type": "stream",
     "text": [
      "here\n",
      "C[C@H]1CN(c2cncc3ccccc23)C(=O)[C@@]12CN(CC[NH+](C)C)C(=O)c1ccc(Cl)cc12 MERS-CoV Mpro\n",
      "Processing /home/xchen/Work/asap-polaris-blind-challenge-examples/SMILESopt/xtbopt_00152.xyz in docking/152\n"
     ]
    },
    {
     "name": "stderr",
     "output_type": "stream",
     "text": [
      "1 molecule converted\n"
     ]
    },
    {
     "name": "stdout",
     "output_type": "stream",
     "text": [
      "\n",
      "mode |   affinity | dist from best mode\n",
      "     | (kcal/mol) | rmsd l.b.| rmsd u.b.\n",
      "-----+------------+----------+----------\n",
      "   1       -8.672          0          0\n",
      "   2       -8.629     0.9923      1.797\n",
      "   3       -8.557      1.342       2.34\n",
      "   4       -8.364      1.284      1.969\n",
      "   5       -8.211      1.859      2.484\n",
      "   6       -8.208      5.047       9.99\n",
      "   7       -8.047      3.869      6.325\n",
      "   8       -7.968      3.106      7.447\n",
      "   9       -7.946       2.76      7.109\n",
      "  10        -7.85      8.894      13.19\n",
      "  11        -7.81      5.672       10.8\n",
      "  12       -7.768      2.963      7.784\n",
      "  13        -7.74      3.722      5.704\n",
      "  14       -7.662      3.958      5.915\n",
      "  15       -7.655       8.03      11.75\n",
      "  16       -7.584      7.163      11.31\n",
      "  17       -7.581      3.921      8.563\n",
      "  18       -7.531      2.874      4.324\n",
      "  19       -7.526      6.752      11.96\n",
      "  20       -7.478       3.88      6.037\n",
      "Computing Vina grid ... done.\n",
      "Performing docking (random seed: 623602541) ... \n",
      "0%   10   20   30   40   50   60   70   80   90   100%\n",
      "|----|----|----|----|----|----|----|----|----|----|\n",
      "***************************************************\n"
     ]
    },
    {
     "name": "stderr",
     "output_type": "stream",
     "text": [
      "WARNING: At low exhaustiveness, it may be impossible to utilize all CPUs.\n",
      "1 molecule converted\n",
      "1 molecule converted\n",
      "1 molecule converted\n",
      "1 molecule converted\n"
     ]
    }
   ],
   "source": [
    "import os\n",
    "import glob\n",
    "import re\n",
    "\n",
    "# Get all xtbopt_xxxxx.xyz files\n",
    "xyz_files = glob.glob('/home/xchen/Work/asap-polaris-blind-challenge-examples/SMILESopt/xtbopt_*.xyz')\n",
    "# Sort files by numeric order\n",
    "xyz_files_sorted = sorted(xyz_files, key=lambda x: int(re.search(r'xtbopt_(\\d+).xyz', x).group(1)))\n",
    "obabel ='obabel'\n",
    "charge_model = 'mmff94'\n",
    "#charge_model = 'eem'\n",
    "\n",
    "#position = [7,-3, 10]\n",
    "# Store the original working directory\n",
    "original_dir = os.getcwd()\n",
    "\n",
    "# Create the docking directory\n",
    "docking_dir = 'docking'\n",
    "os.makedirs(docking_dir, exist_ok=True)\n",
    "\n",
    "# Iterate through test data and sorted xyz files\n",
    "\n",
    "for itest, drug_file in zip(test, xyz_files_sorted):\n",
    "    # Extract the numeric ID from the filename\n",
    "    \n",
    "    drug_number = int(re.search(r'xtbopt_(\\d+).xyz', drug_file).group(1))\n",
    "    \n",
    "    if(drug_number == 152):\n",
    "        print('here')\n",
    "        print(itest['CXSMILES'],itest['Protein Label'])\n",
    "        if ('MERS' in itest['Protein Label']):\n",
    "            position = [6,0,20]\n",
    "            protein_file = '/home/xchen/Work/asap-polaris-blind-challenge-examples/reference_structures/SARS-CoV-2-Mpro/protein.pdbqt'\n",
    "        else:\n",
    "            position = [-7,0,-20]\n",
    "            protein_file = '/home/xchen/Work/asap-polaris-blind-challenge-examples/reference_structures/MERS-CoV-Mpro/protein.pdbqt'\n",
    "        \n",
    "        # Create a subdirectory docking/{number}\n",
    "        sub_dir = os.path.join(docking_dir, str(drug_number))\n",
    "        os.makedirs(sub_dir, exist_ok=True)\n",
    "        print(f\"Processing {drug_file} in {sub_dir}\")\n",
    "        # Change to the subdirectory\n",
    "        os.chdir(sub_dir)\n",
    "        # Run docking process\n",
    "        run_vina_docking(drug_file, protein_file, obabel, charge_model, position)\n",
    "        # Return to the original directory\n",
    "        os.chdir(original_dir)\n",
    "    else:\n",
    "        continue\n",
    "\n",
    "\n"
   ]
  },
  {
   "cell_type": "code",
   "execution_count": 23,
   "id": "a94f6dce-d298-4a7c-961e-124588f5f1fd",
   "metadata": {
    "scrolled": true
   },
   "outputs": [
    {
     "name": "stdout",
     "output_type": "stream",
     "text": [
      "herehereherehere\n",
      "herehereherehere\n",
      "\n",
      "O=C1c2ccc(Cl)cc2[C@@]2(CN1Cc1nnco1)C(=O)N(c1cncc3ccccc13)C[C@@H]2CNc1ncncn1\n",
      "\n",
      "\n",
      "\n",
      "\n",
      "CNC(=O)CN1C[C@@]2(C(=O)N(c3cncc4ccccc34)C[C@@H]2COC(C)C)c2cc(Cl)ccc2C1=OCCC1CCN(C(=O)Cc2cncc3ccccc23)CC1 CN1C(=O)N(c2cncc3ccccc23)C(=O)C12CN(S(=O)(=O)c1ccccc1)C2CNC(=O)CN1C[C@@]2(C(=O)N(c3cncc4ccccc34)C[C@@H]2Cn2ncnn2)c2cc(Cl)ccc2C1=OC[C@H]1C[C@H](c2ccccc2)N(C(=O)Cc2cncc3ccccc23)C1C[C@H]1CN(c2cncc3ccccc23)C(=O)[C@@]12CN(Cc1cnn(C)c1)C(=O)c1ccc(F)cc12O=C(C[N@H+]1Cc2ccc(Cl)cc2[C@@]2(CCN(c3cncc4ccccc34)C2=O)C1)NC[C@H]1C[C@@H](F)C1  MERS-CoV Mpro     SARS-CoV-2 MproSARS-CoV-2 Mpro\n",
      "SARS-CoV-2 MproMERS-CoV MproSARS-CoV-2 MproMERS-CoV Mpro\n",
      "SARS-CoV-2 Mpro\n",
      "Processing /home/xchen/Work/asap-polaris-blind-challenge-examples/SMILESopt/xtbopt_00001.xyz in docking/1\n",
      "\n",
      "\n",
      "\n",
      "\n",
      "\n",
      "Processing /home/xchen/Work/asap-polaris-blind-challenge-examples/SMILESopt/xtbopt_00008.xyz in docking/8Processing /home/xchen/Work/asap-polaris-blind-challenge-examples/SMILESopt/xtbopt_00022.xyz in docking/22Processing /home/xchen/Work/asap-polaris-blind-challenge-examples/SMILESopt/xtbopt_00015.xyz in docking/15Processing /home/xchen/Work/asap-polaris-blind-challenge-examples/SMILESopt/xtbopt_00036.xyz in docking/36Processing /home/xchen/Work/asap-polaris-blind-challenge-examples/SMILESopt/xtbopt_00043.xyz in docking/43Processing /home/xchen/Work/asap-polaris-blind-challenge-examples/SMILESopt/xtbopt_00050.xyz in docking/50Processing /home/xchen/Work/asap-polaris-blind-challenge-examples/SMILESopt/xtbopt_00029.xyz in docking/29\n",
      "\n",
      "\n",
      "\n",
      "\n",
      "\n",
      "\n"
     ]
    },
    {
     "name": "stderr",
     "output_type": "stream",
     "text": [
      "1 molecule converted\n",
      "1 molecule converted\n",
      "1 molecule converted\n",
      "1 molecule converted\n",
      "1 molecule converted\n",
      "1 molecule converted\n",
      "1 molecule converted\n",
      "1 molecule converted\n"
     ]
    },
    {
     "name": "stdout",
     "output_type": "stream",
     "text": [
      "Computing Vina grid ... Computing Vina grid ... Computing Vina grid ... Computing Vina grid ... Computing Vina grid ... Computing Vina grid ... Computing Vina grid ... Computing Vina grid ... done.\n",
      "done.\n"
     ]
    },
    {
     "name": "stderr",
     "output_type": "stream",
     "text": [
      "WARNING: At low exhaustiveness, it may be impossible to utilize all CPUs.\n",
      "WARNING: At low exhaustiveness, it may be impossible to utilize all CPUs.\n"
     ]
    },
    {
     "name": "stdout",
     "output_type": "stream",
     "text": [
      "Performing docking (random seed: -1847478677) ... Performing docking (random seed: 311504857) ... \n",
      "0%   10   20   30   40   50   60   70   80   90   100%\n",
      "|----|----|----|----|----|----|----|----|----|----|\n",
      "*\n",
      "0%   10   20   30   40   50   60   70   80   90   100%\n",
      "|----|----|----|----|----|----|----|----|----|----|\n",
      "***done.\n",
      "**done.\n",
      "Performing docking (random seed: 642089302) ... *"
     ]
    },
    {
     "name": "stderr",
     "output_type": "stream",
     "text": [
      "WARNING: At low exhaustiveness, it may be impossible to utilize all CPUs.\n",
      "WARNING: At low exhaustiveness, it may be impossible to utilize all CPUs.\n"
     ]
    },
    {
     "name": "stdout",
     "output_type": "stream",
     "text": [
      "\n",
      "0%   10   20   30   40   50   60   70   80   90   100%\n",
      "|----|----|----|----|----|----|----|----|----|----|\n",
      "**Performing docking (random seed: -1110164781) ... *\n",
      "0%   10   20   30   40   50   60   70   80   90   100%\n",
      "|----|----|----|----|----|----|----|----|----|----|\n",
      "done.\n",
      "**done.\n",
      "*done.\n",
      "Performing docking (random seed: -9496068) ... "
     ]
    },
    {
     "name": "stderr",
     "output_type": "stream",
     "text": [
      "WARNING: At low exhaustiveness, it may be impossible to utilize all CPUs.\n"
     ]
    },
    {
     "name": "stdout",
     "output_type": "stream",
     "text": [
      "*\n",
      "0%   10   20   30   40   50   60   70   80   90   100%\n",
      "|----|----|----|----|----|----|----|----|----|----|\n",
      "*Performing docking (random seed: -2086922070) ... done.\n",
      "*"
     ]
    },
    {
     "name": "stderr",
     "output_type": "stream",
     "text": [
      "WARNING: At low exhaustiveness, it may be impossible to utilize all CPUs.\n",
      "WARNING: At low exhaustiveness, it may be impossible to utilize all CPUs.\n"
     ]
    },
    {
     "name": "stdout",
     "output_type": "stream",
     "text": [
      "Performing docking (random seed: -1650550397) ... \n",
      "0%   10   20   30   40   50   60   70   80   90   100%\n",
      "|----|----|----|----|----|----|----|----|----|----|\n",
      "Performing docking (random seed: -5985000) ... \n",
      "0%   10   20   30   40   50   60   70   80   90   100%\n",
      "|----|----|----|----|----|----|----|----|----|----|\n",
      "****"
     ]
    },
    {
     "name": "stderr",
     "output_type": "stream",
     "text": [
      "WARNING: At low exhaustiveness, it may be impossible to utilize all CPUs.\n"
     ]
    },
    {
     "name": "stdout",
     "output_type": "stream",
     "text": [
      "\n",
      "0%   10   20   30   40   50   60   70   80   90   100%\n",
      "|----|----|----|----|----|----|----|----|----|----|\n",
      "*********************************************************************************************************************************************************************\n",
      "****"
     ]
    },
    {
     "name": "stderr",
     "output_type": "stream",
     "text": [
      "1 molecule converted\n"
     ]
    },
    {
     "name": "stdout",
     "output_type": "stream",
     "text": [
      "*"
     ]
    },
    {
     "name": "stderr",
     "output_type": "stream",
     "text": [
      "1 molecule converted\n",
      "1 molecule converted\n"
     ]
    },
    {
     "name": "stdout",
     "output_type": "stream",
     "text": [
      "*here\n",
      "CCS(=O)(=O)N1CC2(C1)C(=O)N(c1cncc3ccccc13)C(=O)N2C "
     ]
    },
    {
     "name": "stderr",
     "output_type": "stream",
     "text": [
      "1 molecule converted\n"
     ]
    },
    {
     "name": "stdout",
     "output_type": "stream",
     "text": [
      "SARS-CoV-2 Mpro\n",
      "Processing /home/xchen/Work/asap-polaris-blind-challenge-examples/SMILESopt/xtbopt_00016.xyz in docking/16\n",
      "***"
     ]
    },
    {
     "name": "stderr",
     "output_type": "stream",
     "text": [
      "1 molecule converted\n"
     ]
    },
    {
     "name": "stdout",
     "output_type": "stream",
     "text": [
      "****\n",
      "***"
     ]
    },
    {
     "name": "stderr",
     "output_type": "stream",
     "text": [
      "1 molecule converted\n",
      "1 molecule converted\n"
     ]
    },
    {
     "name": "stdout",
     "output_type": "stream",
     "text": [
      "**"
     ]
    },
    {
     "name": "stderr",
     "output_type": "stream",
     "text": [
      "1 molecule converted\n",
      "1 molecule converted\n"
     ]
    },
    {
     "name": "stdout",
     "output_type": "stream",
     "text": [
      "here\n",
      "O=C1[C@@H](c2ccc(Cl)c(Cl)c2)C[C@H](O)CN1c1cncc2ccccc12 SARS-CoV-2 Mpro\n",
      "Processing /home/xchen/Work/asap-polaris-blind-challenge-examples/SMILESopt/xtbopt_00037.xyz in docking/37\n",
      "**"
     ]
    },
    {
     "name": "stderr",
     "output_type": "stream",
     "text": [
      "1 molecule converted\n"
     ]
    },
    {
     "name": "stdout",
     "output_type": "stream",
     "text": [
      "***************\n",
      "mode |   affinity | dist from best mode\n",
      "     | (kcal/mol) | rmsd l.b.| rmsd u.b.\n",
      "-----+------------+----------+----------\n",
      "   1       -7.018          0          0\n",
      "   2       -6.733      1.424      1.929\n",
      "   3        -6.62       4.44      6.301\n",
      "   4       -6.591      5.064      8.344\n",
      "   5       -6.491      3.676       7.66\n",
      "   6       -6.378       3.59      5.028\n",
      "   7       -6.342      3.126      4.216\n",
      "   8       -6.323      4.559      6.156\n",
      "   9        -6.26      1.775      2.888\n",
      "  10       -6.243      3.764      6.965\n",
      "  11        -6.23       5.68      6.757\n",
      "  12       -6.221      6.026      7.789\n",
      "  13       -6.171      4.696      7.837\n",
      "  14       -6.138      1.968      7.661\n",
      "  15       -6.135      2.309      7.332\n",
      "  16       -6.131      1.828       2.19\n",
      "  17       -6.105      5.698      6.676\n",
      "  18       -6.067       1.74      7.602\n",
      "  19       -6.043      3.788       8.03\n",
      "  20       -6.013      6.433       8.49\n",
      "***puting Vina grid ... \n",
      "mode |   affinity | dist from best mode\n",
      "     | (kcal/mol) | rmsd l.b.| rmsd u.b.\n",
      "-----+------------+----------+----------\n",
      "   1       -8.131          0          0\n",
      "   2        -7.89      3.184      5.712\n",
      "   3       -7.725      1.147      2.245\n",
      "   4        -7.48      3.357      7.069\n",
      "   5       -7.452       3.86      7.379\n",
      "   6       -7.425      2.612      6.694\n",
      "   7       -7.405      2.738      5.317\n",
      "   8        -7.37      1.985       4.76\n",
      "   9       -7.358      3.103      7.599\n",
      "  10       -7.337      3.303      5.646\n",
      "  11       -7.335      3.777      8.041\n",
      "  12       -7.316      1.829      2.772\n",
      "  13       -7.298       2.85      5.843\n",
      "  14        -7.29      2.073      4.304\n",
      "  15       -7.282      2.719      6.833\n",
      "  16       -7.197      2.932      5.329\n",
      "  17       -7.169      2.841      5.199\n",
      "  18       -7.131      3.624      6.866\n",
      "  19       -7.022       3.26      6.244\n",
      "  20        -6.96      1.554      6.795\n",
      "**********************done.\n",
      "*Performing docking (random seed: 308636802) ... "
     ]
    },
    {
     "name": "stderr",
     "output_type": "stream",
     "text": [
      "WARNING: At low exhaustiveness, it may be impossible to utilize all CPUs.\n"
     ]
    },
    {
     "name": "stdout",
     "output_type": "stream",
     "text": [
      "\n",
      "0%   10   20   30   40   50   60   70   80   90   100%\n",
      "|----|----|----|----|----|----|----|----|----|----|\n",
      "****done.\n"
     ]
    },
    {
     "name": "stderr",
     "output_type": "stream",
     "text": [
      "WARNING: At low exhaustiveness, it may be impossible to utilize all CPUs.\n"
     ]
    },
    {
     "name": "stdout",
     "output_type": "stream",
     "text": [
      "Performing docking (random seed: -1704998775) ... \n",
      "0%   10   20   30   40   50   60   70   80   90   100%\n",
      "|----|----|----|----|----|----|----|----|----|----|\n",
      "************************************************\n",
      "****"
     ]
    },
    {
     "name": "stderr",
     "output_type": "stream",
     "text": [
      "1 molecule converted\n"
     ]
    },
    {
     "name": "stdout",
     "output_type": "stream",
     "text": [
      "***"
     ]
    },
    {
     "name": "stderr",
     "output_type": "stream",
     "text": [
      "1 molecule converted\n",
      "1 molecule converted\n"
     ]
    },
    {
     "name": "stdout",
     "output_type": "stream",
     "text": [
      "here\n",
      "O=C1c2ccc(Cl)cc2[C@@]2(CN1CC[NH+]1CCOCC1)C(=O)N(c1cncc3ccccc13)C[C@@H]2CNc1ncccn1 "
     ]
    },
    {
     "name": "stderr",
     "output_type": "stream",
     "text": [
      "1 molecule converted\n"
     ]
    },
    {
     "name": "stdout",
     "output_type": "stream",
     "text": [
      "SARS-CoV-2 Mpro\n",
      "Processing /home/xchen/Work/asap-polaris-blind-challenge-examples/SMILESopt/xtbopt_00023.xyz in docking/23\n",
      "****"
     ]
    },
    {
     "name": "stderr",
     "output_type": "stream",
     "text": [
      "1 molecule converted\n"
     ]
    },
    {
     "name": "stdout",
     "output_type": "stream",
     "text": [
      "*******************************************************************************\n",
      "mode |   affinity | dist from best mode\n",
      "     | (kcal/mol) | rmsd l.b.| rmsd u.b.\n",
      "-----+------------+----------+----------\n",
      "   1       -8.741          0          0\n",
      "   2       -8.679      1.524      1.939\n",
      "   3       -8.433      1.301      2.194\n",
      "   4       -7.813      4.133       8.26\n",
      "   5       -7.585      3.312      5.425\n",
      "   6       -7.583      3.519      5.595\n",
      "   7       -7.565      2.685      5.473\n",
      "   8       -7.523      6.087      11.05\n",
      "   9       -7.446      2.974       5.47\n",
      "  10       -7.435      2.278      8.256\n",
      "  11       -7.433      4.362      8.271\n",
      "  12        -7.41      1.555      2.505\n",
      "  13       -7.386      3.695      8.285\n",
      "  14       -7.366      4.404      8.552\n",
      "  15       -7.299      2.918      8.265\n",
      "  16       -7.258      3.497      5.437\n",
      "  17       -7.202      2.196      8.436\n",
      "  18       -7.162      5.004      8.555\n",
      "  19       -7.102      5.001      8.663\n",
      "  20       -7.011      5.557      9.095\n",
      "**************************\n",
      "**\n",
      "*"
     ]
    },
    {
     "name": "stderr",
     "output_type": "stream",
     "text": [
      "1 molecule converted\n",
      "1 molecule converted\n",
      "1 molecule converted\n",
      "1 molecule converted\n"
     ]
    },
    {
     "name": "stdout",
     "output_type": "stream",
     "text": [
      "here*\n"
     ]
    },
    {
     "name": "stderr",
     "output_type": "stream",
     "text": [
      "1 molecule converted\n",
      "1 molecule converted\n",
      "1 molecule converted\n",
      "1 molecule converted\n"
     ]
    },
    {
     "name": "stdout",
     "output_type": "stream",
     "text": [
      "hereO=C(Cc1cncc2ccccc12)N1CCc2c(Cl)cccc2C1\n",
      "C[C@H]1CN(c2cncc3ccccc23)C(=O)[C@@]12CN(Cc1nncn1C)C(=O)c1ccc(F)cc12  MERS-CoV MproMERS-CoV Mpro\n",
      "\n",
      "Processing /home/xchen/Work/asap-polaris-blind-challenge-examples/SMILESopt/xtbopt_00038.xyz in docking/38\n",
      "Processing /home/xchen/Work/asap-polaris-blind-challenge-examples/SMILESopt/xtbopt_00044.xyz in docking/44\n",
      "*"
     ]
    },
    {
     "name": "stderr",
     "output_type": "stream",
     "text": [
      "1 molecule converted\n",
      "1 molecule converted\n"
     ]
    },
    {
     "name": "stdout",
     "output_type": "stream",
     "text": [
      "*****done.\n"
     ]
    },
    {
     "name": "stderr",
     "output_type": "stream",
     "text": [
      "WARNING: At low exhaustiveness, it may be impossible to utilize all CPUs.\n"
     ]
    },
    {
     "name": "stdout",
     "output_type": "stream",
     "text": [
      "Performing docking (random seed: 1601948647) ... *\n",
      "0%   10   20   30   40   50   60   70   80   90   100%\n",
      "|----|----|----|----|----|----|----|----|----|----|\n",
      "**\n",
      "mode |   affinity | dist from best mode\n",
      "     | (kcal/mol) | rmsd l.b.| rmsd u.b.\n",
      "-----+------------+----------+----------\n",
      "   1       -9.011          0          0\n",
      "   2       -8.576      2.993      4.923\n",
      "   3       -8.547      2.629      5.078\n",
      "   4        -8.49      2.625       5.29\n",
      "   5       -8.459      3.117      6.388\n",
      "   6       -8.312      2.838      7.004\n",
      "   7       -8.233      2.645      5.074\n",
      "   8       -8.224      2.616      7.278\n",
      "   9       -8.208      3.147       6.12\n",
      "  10         -8.2      2.797      5.174\n",
      "  11        -8.07      3.114       7.29\n",
      "  12       -8.025      3.617      5.792\n",
      "  13       -7.874      2.042      2.869\n",
      "  14       -7.747      3.178      8.352\n",
      "  15       -7.719      3.305      6.284\n",
      "  16       -7.671      3.188      5.379\n",
      "  17       -7.661      1.969      6.923\n",
      "  18        -7.63      2.022      2.599\n",
      "  19       -7.559       2.82      7.199\n",
      "  20       -7.529      3.134      7.646\n",
      "****uting Vina grid ... \n",
      "*"
     ]
    },
    {
     "name": "stderr",
     "output_type": "stream",
     "text": [
      "1 molecule converted\n",
      "1 molecule converted\n"
     ]
    },
    {
     "name": "stdout",
     "output_type": "stream",
     "text": [
      "**\n",
      "mode |   affinity | dist from best mode\n",
      "     | (kcal/mol) | rmsd l.b.| rmsd u.b.\n",
      "-----+------------+----------+----------\n",
      "   1       -7.728          0          0\n",
      "   2       -7.473      2.229      2.982\n",
      "   3       -7.166      4.149      5.636\n",
      "   4        -7.08      4.246      5.844\n",
      "   5       -7.045      2.338      3.634\n",
      "   6       -7.009      3.424      6.855\n",
      "   7       -6.913      3.972      6.972\n",
      "   8       -6.739      3.941      5.663\n",
      "   9       -6.674      6.176      8.945\n",
      "  10       -6.615       4.46        7.5\n",
      "  11       -6.578      1.305      2.254\n",
      "  12       -6.567      3.361      6.892\n",
      "  13       -6.526       3.78      7.167\n",
      "  14       -6.453      3.518      7.135\n",
      "  15       -6.433      3.901       5.71\n",
      "  16       -6.399      4.039      6.689\n",
      "  17       -6.393      3.893      5.792\n",
      "  18       -6.366      6.692      9.712\n",
      "  19       -6.332      4.411       7.06\n",
      "  20       -6.328      4.205      7.286\n",
      "Computing Vina grid ... "
     ]
    },
    {
     "name": "stderr",
     "output_type": "stream",
     "text": [
      "1 molecule converted\n",
      "1 molecule converted\n"
     ]
    },
    {
     "name": "stdout",
     "output_type": "stream",
     "text": [
      "here\n",
      "CNC(=O)CN1C[C@@]2(C(=O)N(c3cncc4ccccc34)C[C@@H]2COC)c2cc(Cl)ccc2C1=O SARS-CoV-2 Mpro\n",
      "Processing /home/xchen/Work/asap-polaris-blind-challenge-examples/SMILESopt/xtbopt_00017.xyz in docking/17\n",
      "**"
     ]
    },
    {
     "name": "stderr",
     "output_type": "stream",
     "text": [
      "1 molecule converted\n"
     ]
    },
    {
     "name": "stdout",
     "output_type": "stream",
     "text": [
      "********done.\n",
      "Performing docking (random seed: -1887784321) ... "
     ]
    },
    {
     "name": "stderr",
     "output_type": "stream",
     "text": [
      "WARNING: At low exhaustiveness, it may be impossible to utilize all CPUs.\n"
     ]
    },
    {
     "name": "stdout",
     "output_type": "stream",
     "text": [
      "\n",
      "0%   10   20   30   40   50   60   70   80   90   100%\n",
      "|----|----|----|----|----|----|----|----|----|----|\n",
      "********done.\n",
      "Performing docking (random seed: -1477194356) ... \n",
      "0%   10   20   30   40   50   60   70   80   90   100%\n",
      "|----|----|----|----|----|----|----|----|----|----|\n",
      "**"
     ]
    },
    {
     "name": "stderr",
     "output_type": "stream",
     "text": [
      "WARNING: At low exhaustiveness, it may be impossible to utilize all CPUs.\n"
     ]
    },
    {
     "name": "stdout",
     "output_type": "stream",
     "text": [
      "**********\n",
      "mode |   affinity | dist from best mode\n",
      "     | (kcal/mol) | rmsd l.b.| rmsd u.b.\n",
      "-----+------------+----------+----------\n",
      "   1       -8.141          0          0\n",
      "   2       -7.726      1.392      2.297\n",
      "   3       -7.394      1.687      1.916\n",
      "   4       -6.796       3.38      7.548\n",
      "   5       -6.789      2.799      7.862\n",
      "   6       -6.636       3.51      7.585\n",
      "   7       -6.583      4.262      5.865\n",
      "   8       -6.516      2.656      7.638\n",
      "   9       -6.478      3.429      7.744\n",
      "  10       -6.444      3.442       5.36\n",
      "  11       -6.407       3.96      5.807\n",
      "  12       -6.382      5.273      7.576\n",
      "  13       -6.363      3.576       5.65\n",
      "  14       -6.276      2.619      3.898\n",
      "  15       -6.224       4.81      8.246\n",
      "  16       -6.219      2.513      3.615\n",
      "  17       -6.165      4.476      7.733\n",
      "  18       -6.136      4.138      6.629\n",
      "  19       -6.097      1.914       2.66\n",
      "  20       -6.059      2.331      3.094\n",
      "**************************************done.\n",
      "Performing docking (random seed: 1487860670) ... *\n",
      "0%   10   20   30   40   50   60   70   80   90   100%\n",
      "|----|----|----|----|----|----|----|----|----|----|\n",
      "**"
     ]
    },
    {
     "name": "stderr",
     "output_type": "stream",
     "text": [
      "WARNING: At low exhaustiveness, it may be impossible to utilize all CPUs.\n"
     ]
    },
    {
     "name": "stdout",
     "output_type": "stream",
     "text": [
      "******************************************************\n",
      "***"
     ]
    },
    {
     "name": "stderr",
     "output_type": "stream",
     "text": [
      "1 molecule converted\n",
      "1 molecule converted\n",
      "1 molecule converted\n",
      "1 molecule converted\n"
     ]
    },
    {
     "name": "stdout",
     "output_type": "stream",
     "text": [
      "here\n",
      "O=C(Cc1cncc2ccccc12)N1C[C@H](CF)C2(CCCC2)C1 MERS-CoV Mpro\n",
      "Processing /home/xchen/Work/asap-polaris-blind-challenge-examples/SMILESopt/xtbopt_00030.xyz in docking/30**\n",
      "*\n",
      "**"
     ]
    },
    {
     "name": "stderr",
     "output_type": "stream",
     "text": [
      "1 molecule converted\n"
     ]
    },
    {
     "name": "stdout",
     "output_type": "stream",
     "text": [
      "**"
     ]
    },
    {
     "name": "stderr",
     "output_type": "stream",
     "text": [
      "1 molecule converted\n",
      "1 molecule converted\n",
      "1 molecule converted\n",
      "1 molecule converted\n"
     ]
    },
    {
     "name": "stdout",
     "output_type": "stream",
     "text": [
      "here\n",
      "O=C(C[N@H+]1Cc2ccc(Cl)cc2[C@H](C(=O)Nc2cncc3ccccc23)C1)Nc1ccc(N2CCOCC2=O)cc1** SARS-CoV-2 Mpro\n",
      "Processing /home/xchen/Work/asap-polaris-blind-challenge-examples/SMILESopt/xtbopt_00051.xyz in docking/51\n",
      "*\n",
      "*"
     ]
    },
    {
     "name": "stderr",
     "output_type": "stream",
     "text": [
      "1 molecule converted\n"
     ]
    },
    {
     "name": "stdout",
     "output_type": "stream",
     "text": [
      "*"
     ]
    },
    {
     "name": "stderr",
     "output_type": "stream",
     "text": [
      "1 molecule converted\n",
      "1 molecule converted\n"
     ]
    },
    {
     "name": "stdout",
     "output_type": "stream",
     "text": [
      "**here"
     ]
    },
    {
     "name": "stderr",
     "output_type": "stream",
     "text": [
      "1 molecule converted\n",
      "1 molecule converted\n"
     ]
    },
    {
     "name": "stdout",
     "output_type": "stream",
     "text": [
      "\n",
      "C[C@H]1CN(c2cncc3ccccc23)C(=O)[C@@]12CN(Cc1nccn1C)C(=O)c1ccc(F)cc12 SARS-CoV-2 Mpro\n",
      "Processing /home/xchen/Work/asap-polaris-blind-challenge-examples/SMILESopt/xtbopt_00009.xyz in docking/9\n"
     ]
    },
    {
     "name": "stderr",
     "output_type": "stream",
     "text": [
      "1 molecule converted\n"
     ]
    },
    {
     "name": "stdout",
     "output_type": "stream",
     "text": [
      "*****\n",
      "*"
     ]
    },
    {
     "name": "stderr",
     "output_type": "stream",
     "text": [
      "1 molecule converted\n",
      "1 molecule converted\n"
     ]
    },
    {
     "name": "stdout",
     "output_type": "stream",
     "text": [
      "\n",
      "mode |   affinity | dist from best mode\n",
      "     | (kcal/mol) | rmsd l.b.| rmsd u.b.\n",
      "-----+------------+----------+----------\n",
      "   1       -9.061          0          0\n",
      "   2       -8.766      1.502      2.314\n",
      "   3       -8.655      3.247      7.072\n",
      "   4       -8.604      3.529      5.022\n",
      "   5       -8.545      3.134      7.429\n",
      "   6        -8.41      3.257      5.811\n",
      "   7       -8.347      3.281      6.412\n",
      "   8       -8.196      3.139      5.215\n",
      "   9       -8.104      2.987      6.477\n",
      "  10       -8.041      1.399      1.575\n",
      "  11       -7.978       3.01      5.227\n",
      "  12       -7.849      2.977      5.106\n",
      "  13       -7.836      2.995      7.136\n",
      "  14       -7.815      3.957      6.582\n",
      "  15       -7.772      2.879      7.584\n",
      "  16       -7.762      3.631      5.971\n",
      "  17       -7.752      2.872      4.893\n",
      "  18       -7.751      2.825        7.4\n",
      "  19        -7.69      3.332      6.132\n",
      "  20       -7.549      3.408      7.069\n",
      "Computing Vina grid ... *"
     ]
    },
    {
     "name": "stderr",
     "output_type": "stream",
     "text": [
      "1 molecule converted\n",
      "1 molecule converted\n"
     ]
    },
    {
     "name": "stdout",
     "output_type": "stream",
     "text": [
      "here\n",
      "C[C@H]1C[N@@H+](CCN2C[C@@]3(C(=O)N(c4cncc5ccccc45)C[C@@H]3C)c3cc(Cl)ccc3C2=O)CCO1 MERS-CoV Mpro\n",
      "Processing /home/xchen/Work/asap-polaris-blind-challenge-examples/SMILESopt/xtbopt_00045.xyz in docking/45\n",
      "*"
     ]
    },
    {
     "name": "stderr",
     "output_type": "stream",
     "text": [
      "1 molecule converted\n"
     ]
    },
    {
     "name": "stdout",
     "output_type": "stream",
     "text": [
      "********\n",
      "mode |   affinity | dist from best mode\n",
      "     | (kcal/mol) | rmsd l.b.| rmsd u.b.\n",
      "-----+------------+----------+----------\n",
      "   1        -9.25          0          0\n",
      "   2       -9.098      1.078      1.346\n",
      "   3       -7.938      2.725      5.611\n",
      "   4       -7.824      3.082      7.346\n",
      "   5       -7.818      2.997      7.062\n",
      "   6        -7.79      2.801      6.204\n",
      "   7       -7.756      2.134      3.069\n",
      "   8       -7.561      3.022      6.017\n",
      "   9       -7.559      3.068      6.501\n",
      "  10       -7.511      3.207      7.052\n",
      "  11       -7.215      2.849      5.719\n",
      "  12       -7.081       2.96      6.977\n",
      "  13       -7.074      2.786      6.856\n",
      "  14       -6.995      2.678      6.656\n",
      "  15       -6.936      3.191      7.009\n",
      "  16       -6.889      3.168      4.607\n",
      "  17       -6.859      3.498      6.895\n",
      "  18       -6.826       3.39      6.231\n",
      "  19       -6.816      2.987      6.822\n",
      "  20       -6.621      2.845      6.716\n",
      "***done.g Vina grid ... \n",
      "Performing docking (random seed: -1377465235) ... \n",
      "0%   10   20   30   40   50   60   70   80   90   100%\n",
      "|----|----|----|----|----|----|----|----|----|----|\n",
      "**"
     ]
    },
    {
     "name": "stderr",
     "output_type": "stream",
     "text": [
      "WARNING: At low exhaustiveness, it may be impossible to utilize all CPUs.\n"
     ]
    },
    {
     "name": "stdout",
     "output_type": "stream",
     "text": [
      "*******\n",
      "mode |   affinity | dist from best mode\n",
      "     | (kcal/mol) | rmsd l.b.| rmsd u.b.\n",
      "-----+------------+----------+----------\n",
      "   1       -8.666          0          0\n",
      "   2       -8.391      1.658      2.337\n",
      "   3       -8.295      2.025      3.085\n",
      "   4       -8.271      3.026      8.043\n",
      "   5       -7.966      2.982       8.27\n",
      "   6       -7.759      2.799      8.046\n",
      "   7       -7.757       3.43      7.878\n",
      "   8       -7.666      1.368      2.198\n",
      "   9       -7.639      2.841      8.234\n",
      "  10       -7.632      3.215       7.95\n",
      "  11       -7.567      3.376       7.38\n",
      "  12       -7.137       4.32       7.49\n",
      "  13       -7.135      5.431      8.196\n",
      "  14       -7.131      3.569      8.197\n",
      "  15       -7.099      1.892      2.994\n",
      "  16       -7.099       1.82      2.634\n",
      "  17       -7.065      3.102       8.17\n",
      "  18       -7.046      4.303      7.357\n",
      "  19       -6.849      2.663      4.066\n",
      "  20       -6.695      5.185      6.327\n",
      "Computing Vina grid ... **\n",
      "mode |   affinity | dist from best mode\n",
      "     | (kcal/mol) | rmsd l.b.| rmsd u.b.\n",
      "-----+------------+----------+----------\n",
      "   1       -7.735          0          0\n",
      "   2       -7.665      3.028      3.948\n",
      "   3       -7.543      4.644      6.341\n",
      "   4       -7.477      3.741      6.995\n",
      "   5       -7.354      2.955      3.768\n",
      "   6       -7.244      4.543      7.985\n",
      "   7       -7.231      3.121      3.928\n",
      "   8       -7.129      4.133      5.519\n",
      "   9       -7.117      4.777      6.456\n",
      "  10       -7.071      4.048      8.379\n",
      "  11       -7.045      4.376      8.704\n",
      "  12       -7.016      2.705       3.82\n",
      "  13       -6.939      4.921      8.723\n",
      "  14        -6.92      3.081      8.028\n",
      "  15        -6.89      4.887      7.101\n",
      "  16        -6.87      5.078      7.795\n",
      "  17       -6.818      3.019      3.985\n",
      "  18       -6.798      3.087      7.813\n",
      "  19       -6.732      4.473      7.698\n",
      "  20       -6.726        4.5       6.34\n",
      "************done.id ... **\n"
     ]
    },
    {
     "name": "stderr",
     "output_type": "stream",
     "text": [
      "WARNING: At low exhaustiveness, it may be impossible to utilize all CPUs.\n"
     ]
    },
    {
     "name": "stdout",
     "output_type": "stream",
     "text": [
      "Performing docking (random seed: 2115373305) ... \n",
      "0%   10   20   30   40   50   60   70   80   90   100%\n",
      "|----|----|----|----|----|----|----|----|----|----|\n",
      "*********done.\n",
      "Performing docking (random seed: -2032228312) ... *\n",
      "0%   10   20   30   40   50   60   70   80   90   100%\n",
      "|----|----|----|----|----|----|----|----|----|----|\n",
      "*"
     ]
    },
    {
     "name": "stderr",
     "output_type": "stream",
     "text": [
      "WARNING: At low exhaustiveness, it may be impossible to utilize all CPUs.\n"
     ]
    },
    {
     "name": "stdout",
     "output_type": "stream",
     "text": [
      "*****************done.\n",
      "*Performing docking (random seed: -1908807901) ... *\n",
      "0%   10   20   30   40   50   60   70   80   90   100%\n",
      "|----|----|----|----|----|----|----|----|----|----|\n",
      "*"
     ]
    },
    {
     "name": "stderr",
     "output_type": "stream",
     "text": [
      "WARNING: At low exhaustiveness, it may be impossible to utilize all CPUs.\n"
     ]
    },
    {
     "name": "stdout",
     "output_type": "stream",
     "text": [
      "***************************************************************************\n",
      "*"
     ]
    },
    {
     "name": "stderr",
     "output_type": "stream",
     "text": [
      "1 molecule converted\n",
      "1 molecule converted\n"
     ]
    },
    {
     "name": "stdout",
     "output_type": "stream",
     "text": [
      "**"
     ]
    },
    {
     "name": "stderr",
     "output_type": "stream",
     "text": [
      "1 molecule converted\n",
      "1 molecule converted\n"
     ]
    },
    {
     "name": "stdout",
     "output_type": "stream",
     "text": [
      "here**\n",
      "\n",
      "CNC(=O)CN1C[C@@]2(C(=O)N(c3cncc4ccccc34)C[C@@H]2Cc2ccccc2)c2cc(Cl)ccc2C1=O SARS-CoV-2 Mpro\n",
      "Processing /home/xchen/Work/asap-polaris-blind-challenge-examples/SMILESopt/xtbopt_00039.xyz in docking/39\n",
      "****"
     ]
    },
    {
     "name": "stderr",
     "output_type": "stream",
     "text": [
      "1 molecule converted\n",
      "1 molecule converted\n",
      "1 molecule converted\n"
     ]
    },
    {
     "name": "stdout",
     "output_type": "stream",
     "text": [
      "**"
     ]
    },
    {
     "name": "stderr",
     "output_type": "stream",
     "text": [
      "1 molecule converted\n",
      "1 molecule converted\n"
     ]
    },
    {
     "name": "stdout",
     "output_type": "stream",
     "text": [
      "here*\n",
      "COc1ccc(N(Cc2cccc(Cl)c2)C(=O)Cc2cncc3ccccc23)cc1 MERS-CoV Mpro\n",
      "Processing /home/xchen/Work/asap-polaris-blind-challenge-examples/SMILESopt/xtbopt_00002.xyz in docking/2\n",
      "*"
     ]
    },
    {
     "name": "stderr",
     "output_type": "stream",
     "text": [
      "1 molecule converted\n"
     ]
    },
    {
     "name": "stdout",
     "output_type": "stream",
     "text": [
      "*****************\n",
      "mode |   affinity | dist from best mode\n",
      "     | (kcal/mol) | rmsd l.b.| rmsd u.b.\n",
      "-----+------------+----------+----------\n",
      "   1       -9.933          0          0\n",
      "   2       -9.884      2.677      7.907\n",
      "   3       -9.599     0.8672      1.074\n",
      "   4       -8.933      2.341      6.865\n",
      "   5       -8.829      3.001      8.091\n",
      "   6       -8.806      2.596      7.606\n",
      "   7       -8.676      1.789      2.721\n",
      "   8       -8.661      2.747      6.768\n",
      "   9       -8.438      1.592      2.432\n",
      "  10       -8.428      3.242      8.312\n",
      "  11       -8.393      2.424      7.196\n",
      "  12       -8.391      2.784      7.624\n",
      "  13       -8.287      4.031      7.681\n",
      "  14       -8.271      2.684       7.82\n",
      "  15       -8.253      3.139      6.672\n",
      "  16       -8.025      3.165      5.632\n",
      "  17       -8.002      2.075      2.895\n",
      "  18       -7.961      3.434      8.015\n",
      "  19       -7.815      3.177      5.567\n",
      "  20       -7.605       2.95      4.146\n",
      "****uting Vina grid ... \n",
      "*\n",
      "mode |   affinity | dist from best mode\n",
      "     | (kcal/mol) | rmsd l.b.| rmsd u.b.\n",
      "-----+------------+----------+----------\n",
      "   1       -8.983          0          0\n",
      "   2        -8.51      1.692        7.3\n",
      "   3       -8.434      1.996      7.223\n",
      "   4       -8.426      3.138      7.222\n",
      "   5       -8.299       2.61      4.861\n",
      "   6       -8.223      3.655      6.781\n",
      "   7       -8.198       2.72      4.803\n",
      "   8       -8.117      2.919      7.986\n",
      "   9       -7.971      3.495       6.97\n",
      "  10       -7.953      3.482      8.769\n",
      "  11       -7.936      3.007      7.371\n",
      "  12       -7.798      3.056      7.246\n",
      "  13       -7.782      2.801      5.112\n",
      "  14       -7.734      2.615      4.637\n",
      "  15       -7.714       3.18      5.018\n",
      "  16       -7.664      2.351      3.074\n",
      "  17       -7.635       1.56      2.529\n",
      "  18       -7.566       2.86      4.812\n",
      "  19         -7.5      3.105      7.919\n",
      "  20       -7.399      2.261      7.366\n",
      "Computing Vina grid ... *"
     ]
    },
    {
     "name": "stderr",
     "output_type": "stream",
     "text": [
      "1 molecule converted\n",
      "1 molecule converted\n"
     ]
    },
    {
     "name": "stdout",
     "output_type": "stream",
     "text": [
      "**here\n"
     ]
    },
    {
     "name": "stderr",
     "output_type": "stream",
     "text": [
      "1 molecule converted\n",
      "1 molecule converted\n"
     ]
    },
    {
     "name": "stdout",
     "output_type": "stream",
     "text": [
      "CNC(=O)CN1C[C@@]2(C(=O)N(c3cncc4ccccc34)C[C@@H]2COCC2CC2)c2cc(Cl)ccc2C1=O MERS-CoV Mpro\n",
      "Processing /home/xchen/Work/asap-polaris-blind-challenge-examples/SMILESopt/xtbopt_00031.xyz in docking/31\n",
      "*"
     ]
    },
    {
     "name": "stderr",
     "output_type": "stream",
     "text": [
      "1 molecule converted\n"
     ]
    },
    {
     "name": "stdout",
     "output_type": "stream",
     "text": [
      "***********done.\n"
     ]
    },
    {
     "name": "stderr",
     "output_type": "stream",
     "text": [
      "WARNING: At low exhaustiveness, it may be impossible to utilize all CPUs.\n"
     ]
    },
    {
     "name": "stdout",
     "output_type": "stream",
     "text": [
      "Performing docking (random seed: -235178315) ... \n",
      "0%   10   20   30   40   50   60   70   80   90   100%\n",
      "|----|----|----|----|----|----|----|----|----|----|\n",
      "****done.\n",
      "Performing docking (random seed: -1866797258) ... "
     ]
    },
    {
     "name": "stderr",
     "output_type": "stream",
     "text": [
      "WARNING: At low exhaustiveness, it may be impossible to utilize all CPUs.\n"
     ]
    },
    {
     "name": "stdout",
     "output_type": "stream",
     "text": [
      "\n",
      "0%   10   20   30   40   50   60   70   80   90   100%\n",
      "|----|----|----|----|----|----|----|----|----|----|\n",
      "**\n",
      "mode |   affinity | dist from best mode\n",
      "     | (kcal/mol) | rmsd l.b.| rmsd u.b.\n",
      "-----+------------+----------+----------\n",
      "   1       -7.983          0          0\n",
      "   2         -7.9      2.566      7.876\n",
      "   3       -7.873      1.764       2.41\n",
      "   4       -7.863      3.707      5.401\n",
      "   5        -7.84      2.224      3.366\n",
      "   6       -7.768        2.6       8.02\n",
      "   7       -7.754      2.746      7.712\n",
      "   8       -7.701      2.945      7.927\n",
      "   9       -7.595      2.641      8.106\n",
      "  10       -7.461      3.239      7.923\n",
      "  11       -7.356      2.463      7.743\n",
      "  12       -7.229      5.476      6.839\n",
      "  13       -7.187      2.383      7.841\n",
      "  14       -7.108      2.316      3.284\n",
      "  15       -7.099      5.869      8.458\n",
      "  16       -6.934      3.089      4.367\n",
      "  17       -6.913      1.869      2.791\n",
      "  18       -6.891      3.893      4.801\n",
      "  19       -6.767      5.906      8.882\n",
      "  20        -6.75      1.414      2.269\n",
      "***********ina grid ... *\n",
      "***"
     ]
    },
    {
     "name": "stderr",
     "output_type": "stream",
     "text": [
      "1 molecule converted\n",
      "1 molecule converted\n",
      "1 molecule converted\n",
      "1 molecule converted\n"
     ]
    },
    {
     "name": "stdout",
     "output_type": "stream",
     "text": [
      "here\n",
      "C[C@H]1CN(c2cncc3ccccc23)C(=O)[C@@]12CN(CC(=O)NCc1ccnn1C)C(=O)c1ccccc12** MERS-CoV Mpro\n",
      "Processing /home/xchen/Work/asap-polaris-blind-challenge-examples/SMILESopt/xtbopt_00018.xyz in docking/18\n"
     ]
    },
    {
     "name": "stderr",
     "output_type": "stream",
     "text": [
      "1 molecule converted\n"
     ]
    },
    {
     "name": "stdout",
     "output_type": "stream",
     "text": [
      "*********done.\n",
      "*Performing docking (random seed: -687394343) ... \n",
      "0%   10   20   30   40   50   60   70   80   90   100%\n",
      "|----|----|----|----|----|----|----|----|----|----|\n",
      "*"
     ]
    },
    {
     "name": "stderr",
     "output_type": "stream",
     "text": [
      "WARNING: At low exhaustiveness, it may be impossible to utilize all CPUs.\n"
     ]
    },
    {
     "name": "stdout",
     "output_type": "stream",
     "text": [
      "********************\n",
      "mode |   affinity | dist from best mode\n",
      "     | (kcal/mol) | rmsd l.b.| rmsd u.b.\n",
      "-----+------------+----------+----------\n",
      "   1       -9.163          0          0\n",
      "   2       -8.772      1.134      1.584\n",
      "   3         -7.6      1.769      2.511\n",
      "   4       -7.403      2.918      7.324\n",
      "   5       -7.152      3.029      6.924\n",
      "   6       -7.149      2.977      7.138\n",
      "   7       -7.084      2.843      6.199\n",
      "   8       -6.934      2.956      5.259\n",
      "   9       -6.841       2.97      6.561\n",
      "  10       -6.775      3.118      6.529\n",
      "  11        -6.73      2.841      5.439\n",
      "  12        -6.69      3.137      6.506\n",
      "  13        -6.67      3.128      6.916\n",
      "  14       -6.622      2.779       6.99\n",
      "  15       -6.621      2.549      6.234\n",
      "  16       -6.607      3.031      6.705\n",
      "  17       -6.574      2.814      5.158\n",
      "  18       -6.537      2.783      6.363\n",
      "  19       -6.492      3.335      6.468\n",
      "  20       -6.335      3.116      6.385\n",
      "************************done.\n",
      "*Performing docking (random seed: 1739378556) ... "
     ]
    },
    {
     "name": "stderr",
     "output_type": "stream",
     "text": [
      "WARNING: At low exhaustiveness, it may be impossible to utilize all CPUs.\n"
     ]
    },
    {
     "name": "stdout",
     "output_type": "stream",
     "text": [
      "\n",
      "0%   10   20   30   40   50   60   70   80   90   100%\n",
      "|----|----|----|----|----|----|----|----|----|----|\n",
      "***************************************************\n",
      "***"
     ]
    },
    {
     "name": "stderr",
     "output_type": "stream",
     "text": [
      "1 molecule converted\n",
      "1 molecule converted\n"
     ]
    },
    {
     "name": "stdout",
     "output_type": "stream",
     "text": [
      "*"
     ]
    },
    {
     "name": "stderr",
     "output_type": "stream",
     "text": [
      "1 molecule converted\n",
      "1 molecule converted\n"
     ]
    },
    {
     "name": "stdout",
     "output_type": "stream",
     "text": [
      "here\n",
      "C[C@H]1c2ccsc2CCN1C(=O)Cc1cncc2ccccc12 MERS-CoV Mpro\n",
      "Processing /home/xchen/Work/asap-polaris-blind-challenge-examples/SMILESopt/xtbopt_00010.xyz in docking/10\n",
      "*"
     ]
    },
    {
     "name": "stderr",
     "output_type": "stream",
     "text": [
      "1 molecule converted\n"
     ]
    },
    {
     "name": "stdout",
     "output_type": "stream",
     "text": [
      "****************\n",
      "mode |   affinity | dist from best mode\n",
      "     | (kcal/mol) | rmsd l.b.| rmsd u.b.\n",
      "-----+------------+----------+----------\n",
      "   1        -9.53          0          0\n",
      "   2       -8.804      2.785       7.19\n",
      "   3       -8.766      1.374      2.131\n",
      "   4       -8.637      3.078      7.099\n",
      "   5       -8.418      3.036      7.186\n",
      "   6       -8.042      2.291       3.17\n",
      "   7       -7.765      3.064       7.03\n",
      "   8       -7.548      3.067      5.837\n",
      "   9       -7.544      2.297      3.332\n",
      "  10       -7.507      3.015      6.564\n",
      "  11       -7.425      3.017      7.103\n",
      "  12        -7.16      3.192      6.714\n",
      "  13       -7.152       3.16      6.456\n",
      "  14       -7.141      5.764      7.434\n",
      "  15       -7.063      3.153       6.91\n",
      "  16        -6.96      2.965      5.631\n",
      "  17       -6.918      2.199      6.202\n",
      "  18       -6.916      3.175      6.082\n",
      "  19       -6.849      2.931      6.313\n",
      "  20       -6.752      2.989      6.315\n",
      "***********ina grid ... \n",
      "****"
     ]
    },
    {
     "name": "stderr",
     "output_type": "stream",
     "text": [
      "1 molecule converted\n",
      "1 molecule converted\n",
      "1 molecule converted\n"
     ]
    },
    {
     "name": "stdout",
     "output_type": "stream",
     "text": [
      "*here"
     ]
    },
    {
     "name": "stderr",
     "output_type": "stream",
     "text": [
      "1 molecule converted\n"
     ]
    },
    {
     "name": "stdout",
     "output_type": "stream",
     "text": [
      "\n",
      "C[C@H]1CN(c2cncc3ccccc23)C(=O)[C@@]12CN(CC(=O)NCC1CC1)C(=O)c1ccc(F)cc12 SARS-CoV-2 Mpro\n",
      "Processing /home/xchen/Work/asap-polaris-blind-challenge-examples/SMILESopt/xtbopt_00046.xyz in docking/46\n",
      "*"
     ]
    },
    {
     "name": "stderr",
     "output_type": "stream",
     "text": [
      "1 molecule converted\n"
     ]
    },
    {
     "name": "stdout",
     "output_type": "stream",
     "text": [
      "***done.\n"
     ]
    },
    {
     "name": "stderr",
     "output_type": "stream",
     "text": [
      "WARNING: At low exhaustiveness, it may be impossible to utilize all CPUs.\n"
     ]
    },
    {
     "name": "stdout",
     "output_type": "stream",
     "text": [
      "Performing docking (random seed: -673523036) ... \n",
      "0%   10   20   30   40   50   60   70   80   90   100%\n",
      "|----|----|----|----|----|----|----|----|----|----|\n",
      "******************\n",
      "mode |   affinity | dist from best mode\n",
      "     | (kcal/mol) | rmsd l.b.| rmsd u.b.\n",
      "-----+------------+----------+----------\n",
      "   1       -8.832          0          0\n",
      "   2       -8.802       3.62      9.285\n",
      "   3       -8.675      4.532      8.026\n",
      "   4       -8.661      3.316      9.426\n",
      "   5       -8.443      3.154      8.557\n",
      "   6       -8.301      3.517      9.403\n",
      "   7       -8.276      1.678      2.409\n",
      "   8       -8.261      3.912      7.209\n",
      "   9       -8.237      3.485       6.34\n",
      "  10       -8.169      3.775      6.702\n",
      "  11        -8.07      4.086       5.57\n",
      "  12        -8.02      1.745      2.615\n",
      "  13       -8.014      3.212      8.663\n",
      "  14       -7.931      3.061      8.237\n",
      "  15        -7.91       3.13      8.293\n",
      "  16       -7.863      3.134      5.974\n",
      "  17       -7.833      2.776      7.684\n",
      "  18        -7.82      3.981      7.137\n",
      "  19       -7.659      4.542       9.46\n",
      "  20       -7.601      2.357      3.158\n",
      "****************************done.\n",
      "Performing docking (random seed: 482862877) ... *\n",
      "0%   10   20   30   40   50   60   70   80   90   100%\n",
      "|----|----|----|----|----|----|----|----|----|----|\n",
      "*"
     ]
    },
    {
     "name": "stderr",
     "output_type": "stream",
     "text": [
      "WARNING: At low exhaustiveness, it may be impossible to utilize all CPUs.\n"
     ]
    },
    {
     "name": "stdout",
     "output_type": "stream",
     "text": [
      "**********************************************************************************\n",
      "**"
     ]
    },
    {
     "name": "stderr",
     "output_type": "stream",
     "text": [
      "1 molecule converted\n",
      "1 molecule converted\n"
     ]
    },
    {
     "name": "stdout",
     "output_type": "stream",
     "text": [
      "**here"
     ]
    },
    {
     "name": "stderr",
     "output_type": "stream",
     "text": [
      "1 molecule converted\n",
      "1 molecule converted\n"
     ]
    },
    {
     "name": "stdout",
     "output_type": "stream",
     "text": [
      "\n",
      "CNC(=O)CN1C[C@@]2(C(=O)N(c3cncc4ccccc34)C[C@@H]2CNc2ccnc(C)n2)c2cc(Cl)ccc2C1=O SARS-CoV-2 Mpro\n",
      "Processing /home/xchen/Work/asap-polaris-blind-challenge-examples/SMILESopt/xtbopt_00024.xyz in docking/24\n",
      "*"
     ]
    },
    {
     "name": "stderr",
     "output_type": "stream",
     "text": [
      "1 molecule converted\n"
     ]
    },
    {
     "name": "stdout",
     "output_type": "stream",
     "text": [
      "*\n",
      "**"
     ]
    },
    {
     "name": "stderr",
     "output_type": "stream",
     "text": [
      "1 molecule converted\n",
      "1 molecule converted\n"
     ]
    },
    {
     "name": "stdout",
     "output_type": "stream",
     "text": [
      "here\n",
      "C[C@H]1CN(c2cncc3ccccc23)C(=O)[C@@]12CN(CC#N)C(=O)c1ccc(F)cc12 MERS-CoV Mpro\n",
      "Processing /home/xchen/Work/asap-polaris-blind-challenge-examples/SMILESopt/xtbopt_00011.xyz in docking/11\n"
     ]
    },
    {
     "name": "stderr",
     "output_type": "stream",
     "text": [
      "1 molecule converted\n",
      "1 molecule converted\n"
     ]
    },
    {
     "name": "stdout",
     "output_type": "stream",
     "text": [
      "**"
     ]
    },
    {
     "name": "stderr",
     "output_type": "stream",
     "text": [
      "1 molecule converted\n"
     ]
    },
    {
     "name": "stdout",
     "output_type": "stream",
     "text": [
      "*************\n",
      "mode |   affinity | dist from best mode\n",
      "     | (kcal/mol) | rmsd l.b.| rmsd u.b.\n",
      "-----+------------+----------+----------\n",
      "   1       -9.506          0          0\n",
      "   2       -9.478      1.292      1.599\n",
      "   3       -9.305      0.862      2.009\n",
      "   4       -8.575      3.093      6.018\n",
      "   5       -8.564      3.295      7.024\n",
      "   6       -8.554     0.8715       1.15\n",
      "   7       -8.393      3.179      5.869\n",
      "   8       -8.332      2.015       2.51\n",
      "   9       -8.286      3.447      7.466\n",
      "  10       -8.141      2.972       8.01\n",
      "  11       -8.138      3.417      6.332\n",
      "  12       -8.131      3.063       5.39\n",
      "  13       -8.118      3.075      8.303\n",
      "  14       -8.031      2.649      4.123\n",
      "  15       -8.031      3.374      7.047\n",
      "  16       -7.977      1.372      2.474\n",
      "  17       -7.962      3.323      7.762\n",
      "  18       -7.936      2.883      5.816\n",
      "  19       -7.768      1.615      2.209\n",
      "  20       -7.767      3.204      7.803\n",
      "*omputing Vina grid ... \n",
      "mode |   affinity | dist from best mode\n",
      "     | (kcal/mol) | rmsd l.b.| rmsd u.b.\n",
      "-----+------------+----------+----------\n",
      "   1       -8.122          0          0\n",
      "   2       -7.757      3.952      7.363\n",
      "   3       -7.664      2.944      4.004\n",
      "   4       -7.553      2.797      4.253\n",
      "   5        -7.48      3.869      6.884\n",
      "   6       -7.475      3.057      4.612\n",
      "   7       -7.433      2.343      3.951\n",
      "   8       -7.389       2.79      3.808\n",
      "   9       -7.371      4.833      7.958\n",
      "  10       -7.351      3.258      4.824\n",
      "  11       -7.222      3.315      7.094\n",
      "  12       -7.211      2.992      4.527\n",
      "  13       -7.143      3.432      6.899\n",
      "  14       -7.056      3.532      6.965\n",
      "  15       -6.988      4.409      6.927\n",
      "  16       -6.976      4.564      7.511\n",
      "  17       -6.968      4.614      7.531\n",
      "  18       -6.928      1.858      2.428\n",
      "  19       -6.863      3.604      5.779\n",
      "  20       -6.818      4.104      7.339\n",
      "***puting Vina grid ... \n",
      "**"
     ]
    },
    {
     "name": "stderr",
     "output_type": "stream",
     "text": [
      "1 molecule converted\n",
      "1 molecule converted\n"
     ]
    },
    {
     "name": "stdout",
     "output_type": "stream",
     "text": [
      "*"
     ]
    },
    {
     "name": "stderr",
     "output_type": "stream",
     "text": [
      "1 molecule converted\n",
      "1 molecule converted\n"
     ]
    },
    {
     "name": "stdout",
     "output_type": "stream",
     "text": [
      "here\n",
      "*CNC(=O)CN1C[C@@]2(C(=O)N(c3cncc4ccccc34)C[C@@H]2CNc2ccncn2)c2cc(Cl)ccc2C1=O SARS-CoV-2 Mpro\n",
      "Processing /home/xchen/Work/asap-polaris-blind-challenge-examples/SMILESopt/xtbopt_00003.xyz in docking/3\n",
      "*"
     ]
    },
    {
     "name": "stderr",
     "output_type": "stream",
     "text": [
      "1 molecule converted\n"
     ]
    },
    {
     "name": "stdout",
     "output_type": "stream",
     "text": [
      "********done.\n",
      "Performing docking (random seed: -1591900027) ... done.\n",
      "\n",
      "0%   10   20   30   40   50   60   70   80   90   100%\n",
      "|----|----|----|----|----|----|----|----|----|----|\n",
      "*"
     ]
    },
    {
     "name": "stderr",
     "output_type": "stream",
     "text": [
      "WARNING: At low exhaustiveness, it may be impossible to utilize all CPUs.\n"
     ]
    },
    {
     "name": "stdout",
     "output_type": "stream",
     "text": [
      "Performing docking (random seed: -870560426) ... *\n",
      "0%   10   20   30   40   50   60   70   80   90   100%\n",
      "|----|----|----|----|----|----|----|----|----|----|\n",
      "*"
     ]
    },
    {
     "name": "stderr",
     "output_type": "stream",
     "text": [
      "WARNING: At low exhaustiveness, it may be impossible to utilize all CPUs.\n"
     ]
    },
    {
     "name": "stdout",
     "output_type": "stream",
     "text": [
      "**\n",
      "***"
     ]
    },
    {
     "name": "stderr",
     "output_type": "stream",
     "text": [
      "1 molecule converted\n",
      "1 molecule converted\n",
      "1 molecule converted\n",
      "1 molecule converted\n"
     ]
    },
    {
     "name": "stdout",
     "output_type": "stream",
     "text": [
      "*here\n",
      "C[C@H]1CC[C@@]2(CCN(C(=O)Cc3cncc4ccccc34)C2)CC1 MERS-CoV Mpro\n",
      "Processing /home/xchen/Work/asap-polaris-blind-challenge-examples/SMILESopt/xtbopt_00040.xyz in docking/40\n"
     ]
    },
    {
     "name": "stderr",
     "output_type": "stream",
     "text": [
      "1 molecule converted\n"
     ]
    },
    {
     "name": "stdout",
     "output_type": "stream",
     "text": [
      "********\n",
      "mode |   affinity | dist from best mode\n",
      "     | (kcal/mol) | rmsd l.b.| rmsd u.b.\n",
      "-----+------------+----------+----------\n",
      "   1       -8.573          0          0\n",
      "   2       -8.409      2.761      7.132\n",
      "   3       -8.338      2.219      4.728\n",
      "   4       -8.124      1.551      2.033\n",
      "   5       -8.123       2.67      7.146\n",
      "   6       -8.107      3.478      4.917\n",
      "   7       -8.041      3.434      7.375\n",
      "   8       -7.946      3.024      8.488\n",
      "   9        -7.91      2.982      5.855\n",
      "  10       -7.881      3.311      8.475\n",
      "  11       -7.612      2.976      8.314\n",
      "  12         -7.6       3.54      6.952\n",
      "  13       -7.535      3.234      8.265\n",
      "  14       -7.522      3.686      6.387\n",
      "  15       -7.511      1.773      2.584\n",
      "  16       -7.449      3.779      6.484\n",
      "  17       -7.444      2.804      4.898\n",
      "  18       -7.443      2.766       5.22\n",
      "  19       -7.393      3.844      6.313\n",
      "  20       -7.386       2.63      4.861\n",
      "********g Vina grid ... \n",
      "mode |   affinity | dist from best mode\n",
      "     | (kcal/mol) | rmsd l.b.| rmsd u.b.\n",
      "-----+------------+----------+----------\n",
      "   1       -9.739          0          0\n",
      "   2       -9.706      1.059      1.425\n",
      "   3       -9.136      2.852      6.043\n",
      "   4       -9.127      1.938      3.031\n",
      "   5       -8.889      3.126      6.273\n",
      "   6       -8.745      2.926       6.55\n",
      "   7         -8.5      2.768      6.239\n",
      "   8       -8.436       2.93      6.572\n",
      "   9       -8.396      3.059      7.485\n",
      "  10       -8.391      3.028      6.991\n",
      "  11        -8.33      2.619      6.593\n",
      "  12       -8.219      3.216      7.261\n",
      "  13       -8.113       2.78      6.583\n",
      "  14       -7.992      3.008      6.439\n",
      "  15       -7.987      2.329      6.209\n",
      "  16       -7.867      3.094      6.402\n",
      "  17       -7.752      2.996      6.548\n",
      "  18         -7.7      3.088      6.362\n",
      "  19       -7.694        2.9      7.031\n",
      "  20       -7.643      3.204      7.558\n",
      "*********************done.\n"
     ]
    },
    {
     "name": "stderr",
     "output_type": "stream",
     "text": [
      "WARNING: At low exhaustiveness, it may be impossible to utilize all CPUs.\n"
     ]
    },
    {
     "name": "stdout",
     "output_type": "stream",
     "text": [
      "Performing docking (random seed: -1890531245) ... \n",
      "0%   10   20   30   40   50   60   70   80   90   100%\n",
      "|----|----|----|----|----|----|----|----|----|----|\n",
      "****done.\n",
      "Performing docking (random seed: -1372866439) ... \n",
      "0%   10   20   30   40   50   60   70   80   90   100%\n",
      "|----|----|----|----|----|----|----|----|----|----|\n",
      "**"
     ]
    },
    {
     "name": "stderr",
     "output_type": "stream",
     "text": [
      "WARNING: At low exhaustiveness, it may be impossible to utilize all CPUs.\n"
     ]
    },
    {
     "name": "stdout",
     "output_type": "stream",
     "text": [
      "***********************************************************************************************************\n",
      "***"
     ]
    },
    {
     "name": "stderr",
     "output_type": "stream",
     "text": [
      "1 molecule converted\n",
      "1 molecule converted\n"
     ]
    },
    {
     "name": "stdout",
     "output_type": "stream",
     "text": [
      "**"
     ]
    },
    {
     "name": "stderr",
     "output_type": "stream",
     "text": [
      "1 molecule converted\n",
      "1 molecule converted\n"
     ]
    },
    {
     "name": "stdout",
     "output_type": "stream",
     "text": [
      "**here\n",
      "C[C@@H]1CCc2c([O-])n(-c3cncc4ccccc34)c(=O)n2C1 SARS-CoV-2 Mpro\n",
      "Processing /home/xchen/Work/asap-polaris-blind-challenge-examples/SMILESopt/xtbopt_00032.xyz in docking/32\n",
      "**"
     ]
    },
    {
     "name": "stderr",
     "output_type": "stream",
     "text": [
      "1 molecule converted\n"
     ]
    },
    {
     "name": "stdout",
     "output_type": "stream",
     "text": [
      "*****************\n",
      "\n",
      "mode |   affinity | dist from best mode\n",
      "     | (kcal/mol) | rmsd l.b.| rmsd u.b.\n",
      "-----+------------+----------+----------\n",
      "   1       -8.154          0          0\n",
      "   2       -8.121      1.545      2.054\n",
      "   3       -7.984      3.134      6.249\n",
      "   4       -7.959      3.311      5.841\n",
      "   5       -7.883      3.652       6.08\n",
      "   6       -7.821       2.87      7.601\n",
      "   7       -7.812      2.951      5.628\n",
      "   8       -7.749      3.073      5.382\n",
      "   9       -7.501      3.296      7.558\n",
      "  10         -7.5      1.853      2.293\n",
      "  11       -7.461      2.404      3.879\n",
      "  12        -7.34      3.625       5.22\n",
      "  13         -7.3      3.479      5.304\n",
      "  14       -7.266        2.2       4.03\n",
      "  15       -7.253      4.111      7.745\n",
      "  16       -7.198      3.576      7.037\n",
      "  17       -7.192      2.512      4.403\n",
      "  18       -7.162      3.243      7.689\n",
      "  19       -7.101      2.711      8.153\n",
      "  20       -6.936      3.234      5.911\n",
      "**mputing Vina grid ... "
     ]
    },
    {
     "name": "stderr",
     "output_type": "stream",
     "text": [
      "1 molecule converted\n",
      "1 molecule converted\n",
      "1 molecule converted\n",
      "1 molecule converted\n"
     ]
    },
    {
     "name": "stdout",
     "output_type": "stream",
     "text": [
      "here\n",
      "***C[C@H]1C=CCN(C(=O)Cc2cncc3ccccc23)CC1 SARS-CoV-2 Mpro\n",
      "Processing /home/xchen/Work/asap-polaris-blind-challenge-examples/SMILESopt/xtbopt_00019.xyz in docking/19\n"
     ]
    },
    {
     "name": "stderr",
     "output_type": "stream",
     "text": [
      "1 molecule converted\n"
     ]
    },
    {
     "name": "stdout",
     "output_type": "stream",
     "text": [
      "*\n",
      "*"
     ]
    },
    {
     "name": "stderr",
     "output_type": "stream",
     "text": [
      "1 molecule converted\n",
      "1 molecule converted\n",
      "1 molecule converted\n"
     ]
    },
    {
     "name": "stdout",
     "output_type": "stream",
     "text": [
      "here\n",
      "O=C1N[C@@]2(CCOc3ccncc32)C(=O)N1c1cncc2ccccc12 SARS-CoV-2 Mpro\n",
      "Processing /home/xchen/Work/asap-polaris-blind-challenge-examples/SMILESopt/xtbopt_00047.xyz in docking/47\n",
      "*\n"
     ]
    },
    {
     "name": "stderr",
     "output_type": "stream",
     "text": [
      "1 molecule converted\n",
      "1 molecule converted\n",
      "1 molecule converted\n",
      "1 molecule converted\n",
      "1 molecule converted\n"
     ]
    },
    {
     "name": "stdout",
     "output_type": "stream",
     "text": [
      "here\n",
      "O=C(C[N@H+]1Cc2ccc(Cl)cc2[C@H](C(=O)Nc2cncc3ccccc23)C1)NCCc1ccc(C(F)F)cc1 MERS-CoV Mpro\n",
      "Processing /home/xchen/Work/asap-polaris-blind-challenge-examples/SMILESopt/xtbopt_00041.xyz in docking/41\n",
      "**"
     ]
    },
    {
     "name": "stderr",
     "output_type": "stream",
     "text": [
      "1 molecule converted\n",
      "1 molecule converted\n"
     ]
    },
    {
     "name": "stdout",
     "output_type": "stream",
     "text": [
      "done.\n",
      "Performing docking (random seed: 366291471) ... \n",
      "0%   10   20   30   40   50   60   70   80   90   100%\n",
      "|----|----|----|----|----|----|----|----|----|----|\n",
      "*"
     ]
    },
    {
     "name": "stderr",
     "output_type": "stream",
     "text": [
      "WARNING: At low exhaustiveness, it may be impossible to utilize all CPUs.\n"
     ]
    },
    {
     "name": "stdout",
     "output_type": "stream",
     "text": [
      "*\n",
      "***\n",
      "mode |   affinity | dist from best mode\n",
      "     | (kcal/mol) | rmsd l.b.| rmsd u.b.\n",
      "-----+------------+----------+----------\n",
      "   1        -9.01          0          0\n",
      "   2        -8.72       1.29      2.102\n",
      "   3       -8.636      2.446      3.264\n",
      "   4       -8.556      2.349      7.673\n",
      "   5        -8.49      1.921      7.393\n",
      "   6       -8.453      2.217      7.068\n",
      "   7       -8.335      1.466      1.821\n",
      "   8        -8.28      2.189      6.324\n",
      "   9       -8.247      4.396       7.44\n",
      "  10       -8.195      1.956       2.55\n",
      "  11       -8.166      4.125      7.618\n",
      "  12       -8.161      3.975      7.704\n",
      "  13       -8.085      3.419      6.778\n",
      "  14       -8.032      2.966       5.99\n",
      "  15       -7.954      4.447      9.706\n",
      "  16       -7.943      5.197      10.37\n",
      "  17       -7.934      2.404      5.659\n",
      "  18       -7.926      4.544      10.44\n",
      "  19       -7.923      2.096      3.089\n",
      "  20       -7.812      4.468      9.827\n",
      "Computing Vina grid ... \n",
      "mode |   affinity | dist from best mode\n",
      "     | (kcal/mol) | rmsd l.b.| rmsd u.b.\n",
      "-----+------------+----------+----------\n",
      "   1       -9.241          0          0\n",
      "   2       -8.545      1.479      2.398\n",
      "   3       -8.387     0.9281      1.079\n",
      "   4       -8.366      1.907      2.683\n",
      "   5       -8.262      3.217      7.593\n",
      "   6       -7.879      1.856      3.214\n",
      "   7        -7.77      3.116       7.94\n",
      "   8       -7.683      3.011      7.752\n",
      "   9       -7.606       2.89      5.819\n",
      "  10       -7.534       1.69      2.561\n",
      "  11       -7.185      2.775      5.774\n",
      "  12       -7.179       3.16      7.969\n",
      "  13       -7.177      1.962      2.823\n",
      "  14       -7.169      3.509      7.335\n",
      "  15       -7.126      2.992      7.443\n",
      "  16       -7.017      2.696      4.384\n",
      "  17       -6.979      3.379      7.777\n",
      "  18       -6.917      5.531      8.725\n",
      "  19       -6.889      2.753      3.997\n",
      "  20       -6.822      3.075      6.034\n",
      "Computing Vina grid ... *"
     ]
    },
    {
     "name": "stderr",
     "output_type": "stream",
     "text": [
      "1 molecule converted\n",
      "1 molecule converted\n"
     ]
    },
    {
     "name": "stdout",
     "output_type": "stream",
     "text": [
      "**here\n",
      "CCC(=O)[N@H+]1CCCc2c(N(Cc3cccc(Cl)c3)C(=O)Cc3cncc4ccccc34)cccc21"
     ]
    },
    {
     "name": "stderr",
     "output_type": "stream",
     "text": [
      "1 molecule converted\n",
      "1 molecule converted\n"
     ]
    },
    {
     "name": "stdout",
     "output_type": "stream",
     "text": [
      " MERS-CoV Mpro\n",
      "Processing /home/xchen/Work/asap-polaris-blind-challenge-examples/SMILESopt/xtbopt_00012.xyz in docking/12\n",
      "*"
     ]
    },
    {
     "name": "stderr",
     "output_type": "stream",
     "text": [
      "1 molecule converted\n"
     ]
    },
    {
     "name": "stdout",
     "output_type": "stream",
     "text": [
      "******\n",
      "mode |   affinity | dist from best mode\n",
      "     | (kcal/mol) | rmsd l.b.| rmsd u.b.\n",
      "-----+------------+----------+----------\n",
      "   1       -9.025          0          0\n",
      "   2       -8.288      2.229      8.534\n",
      "   3       -8.281       1.37      1.991\n",
      "   4       -8.231      1.307      2.175\n",
      "   5       -8.078      1.488      8.586\n",
      "   6       -8.025      1.554      2.425\n",
      "   7       -8.001      1.613      8.468\n",
      "   8       -7.958     0.8685      1.165\n",
      "   9       -7.901      2.085       8.39\n",
      "  10       -7.732       3.27      8.374\n",
      "  11       -7.651      2.146      8.372\n",
      "  12       -7.644      1.758      2.774\n",
      "  13       -7.478       1.96      2.671\n",
      "  14       -7.366      5.526       8.87\n",
      "  15       -7.305       2.85      8.329\n",
      "  16       -7.291      2.012      2.914\n",
      "  17       -7.139       1.91       8.65\n",
      "  18       -7.089      1.898      8.687\n",
      "  19       -7.001      5.793      9.355\n",
      "  20       -6.996      4.887      8.882\n",
      "********done.a grid ... \n",
      "Performing docking (random seed: -2013158552) ... "
     ]
    },
    {
     "name": "stderr",
     "output_type": "stream",
     "text": [
      "WARNING: At low exhaustiveness, it may be impossible to utilize all CPUs.\n"
     ]
    },
    {
     "name": "stdout",
     "output_type": "stream",
     "text": [
      "\n",
      "0%   10   20   30   40   50   60   70   80   90   100%\n",
      "|----|----|----|----|----|----|----|----|----|----|\n",
      "*******done.\n",
      "Performing docking (random seed: 687957436) ... *\n",
      "0%   10   20   30   40   50   60   70   80   90   100%\n",
      "|----|----|----|----|----|----|----|----|----|----|\n",
      "*"
     ]
    },
    {
     "name": "stderr",
     "output_type": "stream",
     "text": [
      "WARNING: At low exhaustiveness, it may be impossible to utilize all CPUs.\n"
     ]
    },
    {
     "name": "stdout",
     "output_type": "stream",
     "text": [
      "***************\n",
      "mode |   affinity | dist from best mode\n",
      "     | (kcal/mol) | rmsd l.b.| rmsd u.b.\n",
      "-----+------------+----------+----------\n",
      "   1       -8.361          0          0\n",
      "   2       -8.221      3.507      5.826\n",
      "   3       -7.841      4.982      8.731\n",
      "   4       -7.829      2.522      3.719\n",
      "   5       -7.669        3.2      6.327\n",
      "   6       -7.635      3.666       6.84\n",
      "   7       -7.517      3.692      6.163\n",
      "   8       -7.418      4.131      5.606\n",
      "   9        -7.41       4.92      8.767\n",
      "  10       -7.348      4.142      6.363\n",
      "  11       -7.221      2.877      6.907\n",
      "  12       -7.126      3.155        7.1\n",
      "  13       -7.086      2.955       4.79\n",
      "  14       -7.066      3.222       5.36\n",
      "  15        -6.99      2.935      4.756\n",
      "  16       -6.968      2.676      4.533\n",
      "  17       -6.961      3.589      6.788\n",
      "  18       -6.949      3.568      6.574\n",
      "  19       -6.883      3.862      6.442\n",
      "  20       -6.816      3.029      6.467\n",
      "***************************done.\n",
      "**"
     ]
    },
    {
     "name": "stderr",
     "output_type": "stream",
     "text": [
      "WARNING: At low exhaustiveness, it may be impossible to utilize all CPUs.\n"
     ]
    },
    {
     "name": "stdout",
     "output_type": "stream",
     "text": [
      "Performing docking (random seed: -1258720116) ... \n",
      "0%   10   20   30   40   50   60   70   80   90   100%\n",
      "|----|----|----|----|----|----|----|----|----|----|\n",
      "***********************************done.\n",
      "***"
     ]
    },
    {
     "name": "stderr",
     "output_type": "stream",
     "text": [
      "WARNING: At low exhaustiveness, it may be impossible to utilize all CPUs.\n"
     ]
    },
    {
     "name": "stdout",
     "output_type": "stream",
     "text": [
      "Performing docking (random seed: -1404786263) ... \n",
      "0%   10   20   30   40   50   60   70   80   90   100%\n",
      "|----|----|----|----|----|----|----|----|----|----|\n",
      "******************\n",
      "******"
     ]
    },
    {
     "name": "stderr",
     "output_type": "stream",
     "text": [
      "1 molecule converted\n",
      "1 molecule converted\n",
      "1 molecule converted\n",
      "1 molecule converted\n"
     ]
    },
    {
     "name": "stdout",
     "output_type": "stream",
     "text": [
      "here\n",
      "C[C@H]1CN(c2cncc3ccccc23)C(=O)[C@@]12CN(CC[N@@H+]1C[C@@H]3C[C@H]1CO3)C(=O)c1ccc(Cl)cc12 MERS-CoV Mpro\n",
      "Processing /home/xchen/Work/asap-polaris-blind-challenge-examples/SMILESopt/xtbopt_00033.xyz in docking/33\n",
      "**"
     ]
    },
    {
     "name": "stderr",
     "output_type": "stream",
     "text": [
      "1 molecule converted\n"
     ]
    },
    {
     "name": "stdout",
     "output_type": "stream",
     "text": [
      "******************************************\n",
      "mode |   affinity | dist from best mode\n",
      "     | (kcal/mol) | rmsd l.b.| rmsd u.b.\n",
      "-----+------------+----------+----------\n",
      "   1       -7.627          0          0\n",
      "   2       -7.616     0.6478      2.065\n",
      "   3       -6.973      2.603      4.313\n",
      "   4       -6.842      2.503      6.679\n",
      "   5       -6.823      4.089      5.734\n",
      "   6        -6.59      4.687      7.401\n",
      "   7       -6.501      1.614      6.533\n",
      "   8       -6.499      2.965      6.585\n",
      "   9        -6.44       4.27      6.539\n",
      "  10       -6.439        1.7      6.777\n",
      "  11       -6.394       4.33      5.358\n",
      "  12       -6.365      3.116      6.973\n",
      "  13       -6.144      3.889       6.02\n",
      "  14        -6.12      5.736      7.795\n",
      "  15       -6.076      4.233      6.819\n",
      "  16       -6.074       3.79      5.896\n",
      "  17       -6.067      6.186      8.382\n",
      "  18       -6.041      5.546      7.607\n",
      "  19       -5.976      4.868       6.99\n",
      "  20       -5.866      4.282      6.619\n",
      "*omputing Vina grid ... \n",
      "****"
     ]
    },
    {
     "name": "stderr",
     "output_type": "stream",
     "text": [
      "1 molecule converted\n",
      "1 molecule converted\n",
      "1 molecule converted\n",
      "1 molecule converted\n"
     ]
    },
    {
     "name": "stdout",
     "output_type": "stream",
     "text": [
      "here\n",
      "C[C@H]1CN(c2cncc3ccccc23)C(=O)[C@@]12CN(Cc1c[nH+]c[nH]1)C(=O)c1ccc(F)cc12*\n",
      " SARS-CoV-2 Mpro\n",
      "Processing /home/xchen/Work/asap-polaris-blind-challenge-examples/SMILESopt/xtbopt_00020.xyz in docking/20\n"
     ]
    },
    {
     "name": "stderr",
     "output_type": "stream",
     "text": [
      "==============================\n",
      "*** Open Babel Warning  in PerceiveBondOrders\n",
      "  Failed to kekulize aromatic bonds in OBMol::PerceiveBondOrders (title is energy: -94.902097923597 gnorm: 0.002012662581 xtb: 6.6.1 (8d0f1dd))\n",
      "\n",
      "1 molecule converted\n",
      "1 molecule converted\n",
      "1 molecule converted\n"
     ]
    },
    {
     "name": "stdout",
     "output_type": "stream",
     "text": [
      "here\n",
      "C[NH2+]CCN1C[C@@]2(C(=O)N(c3cncc4ccccc34)C[C@@H]2COCC2COC2)c2cc(Cl)ccc2C1=O"
     ]
    },
    {
     "name": "stderr",
     "output_type": "stream",
     "text": [
      "1 molecule converted\n",
      "1 molecule converted\n"
     ]
    },
    {
     "name": "stdout",
     "output_type": "stream",
     "text": [
      " MERS-CoV Mpro\n",
      "Processing /home/xchen/Work/asap-polaris-blind-challenge-examples/SMILESopt/xtbopt_00048.xyz in docking/48*\n",
      "**"
     ]
    },
    {
     "name": "stderr",
     "output_type": "stream",
     "text": [
      "1 molecule converted\n"
     ]
    },
    {
     "name": "stdout",
     "output_type": "stream",
     "text": [
      "****done.\n",
      "*Performing docking (random seed: 1566181031) ... \n",
      "0%   10   20   30   40   50   60   70   80   90   100%\n",
      "|----|----|----|----|----|----|----|----|----|----|\n",
      "*"
     ]
    },
    {
     "name": "stderr",
     "output_type": "stream",
     "text": [
      "WARNING: At low exhaustiveness, it may be impossible to utilize all CPUs.\n"
     ]
    },
    {
     "name": "stdout",
     "output_type": "stream",
     "text": [
      "****\n",
      "*\n",
      "mode |   affinity | dist from best mode\n",
      "     | (kcal/mol) | rmsd l.b.| rmsd u.b.\n",
      "-----+------------+----------+----------\n",
      "   1       -6.959          0          0\n",
      "   2       -6.897      1.519      1.769\n",
      "   3       -6.734      4.111      5.796\n",
      "   4        -6.69      2.658      4.359\n",
      "   5       -6.678      3.931       7.31\n",
      "   6       -6.665      4.566      5.863\n",
      "   7       -6.639      3.204      6.432\n",
      "   8         -6.6      3.747      7.202\n",
      "   9       -6.549      1.691      2.174\n",
      "  10       -6.492      3.085      4.413\n",
      "  11       -6.487      1.865       7.47\n",
      "  12       -6.405       1.51      2.423\n",
      "  13       -6.389      2.942      6.751\n",
      "  14       -6.364      4.371      5.968\n",
      "  15       -6.258      4.542      7.527\n",
      "  16       -6.247      3.669      5.136\n",
      "  17        -6.23      2.023       7.12\n",
      "  18       -6.213      5.737       6.95\n",
      "  19       -6.199      5.742      7.134\n",
      "  20       -6.175       5.63      7.628\n",
      "Computing Vina grid ... *"
     ]
    },
    {
     "name": "stderr",
     "output_type": "stream",
     "text": [
      "1 molecule converted\n",
      "1 molecule converted\n"
     ]
    },
    {
     "name": "stdout",
     "output_type": "stream",
     "text": [
      "**"
     ]
    },
    {
     "name": "stderr",
     "output_type": "stream",
     "text": [
      "1 molecule converted\n",
      "1 molecule converted\n"
     ]
    },
    {
     "name": "stdout",
     "output_type": "stream",
     "text": [
      "*\n",
      "mode |   affinity | dist from best mode\n",
      "     | (kcal/mol) | rmsd l.b.| rmsd u.b.\n",
      "-----+------------+----------+----------\n",
      "   1       -8.113          0          0\n",
      "   2       -7.778      1.964      2.962\n",
      "   3       -7.728      1.689      6.632\n",
      "   4       -7.376      2.977      5.982\n",
      "   5       -7.323      1.535       2.39\n",
      "   6       -7.219      2.486      7.065\n",
      "   7       -7.192       2.73      3.823\n",
      "   8       -7.156      4.404      7.399\n",
      "   9       -7.134      4.028      5.586\n",
      "  10       -7.013      4.165      6.402\n",
      "  11       -6.933      2.338      3.999\n",
      "  12       -6.929      3.502      5.064\n",
      "  13       -6.902      2.695      6.699\n",
      "  14       -6.877      4.318      5.368\n",
      "  15       -6.875      2.066      6.992\n",
      "  16       -6.867      2.015       6.32\n",
      "  17       -6.814      3.296      5.457\n",
      "  18       -6.806      2.539      6.969\n",
      "  19       -6.693      2.594       3.77\n",
      "  20       -6.687      4.268      6.912\n",
      "hereuting Vina grid ... \n",
      "C[C@H]1CN(c2cncc3ccccc23)C(=O)[C@@]12CN(Cc1cn[nH]n1)C(=O)c1ccc(F)cc12 SARS-CoV-2 Mpro\n",
      "Processing /home/xchen/Work/asap-polaris-blind-challenge-examples/SMILESopt/xtbopt_00052.xyz in docking/52\n"
     ]
    },
    {
     "name": "stderr",
     "output_type": "stream",
     "text": [
      "1 molecule converted\n"
     ]
    },
    {
     "name": "stdout",
     "output_type": "stream",
     "text": [
      "**************\n",
      "mode |   affinity | dist from best mode\n",
      "     | (kcal/mol) | rmsd l.b.| rmsd u.b.\n",
      "-----+------------+----------+----------\n",
      "   1       -9.041          0          0\n",
      "   2       -8.827      2.848      8.195\n",
      "   3       -8.709      3.535      9.362\n",
      "   4       -8.686       4.32      7.648\n",
      "   5       -8.588      4.257      10.04\n",
      "   6       -8.534      2.764      4.106\n",
      "   7       -8.497      5.297      8.998\n",
      "   8       -8.439      3.086      7.549\n",
      "   9       -8.436      2.837      8.056\n",
      "  10       -8.408      4.206      10.55\n",
      "  11       -8.403      3.855      7.784\n",
      "  12       -8.383      2.729      4.182\n",
      "  13       -8.381      3.271      4.878\n",
      "  14       -8.372      2.988      8.589\n",
      "  15       -8.312        1.2       1.93\n",
      "  16       -8.304      4.323       7.82\n",
      "  17       -8.268      2.456      3.499\n",
      "  18       -8.263      3.109      6.907\n",
      "  19       -8.053      3.663      8.494\n",
      "  20       -7.991      2.176      2.928\n",
      "Computing Vina grid ... **done.\n"
     ]
    },
    {
     "name": "stderr",
     "output_type": "stream",
     "text": [
      "WARNING: At low exhaustiveness, it may be impossible to utilize all CPUs.\n"
     ]
    },
    {
     "name": "stdout",
     "output_type": "stream",
     "text": [
      "Performing docking (random seed: 553048794) ... \n",
      "0%   10   20   30   40   50   60   70   80   90   100%\n",
      "|----|----|----|----|----|----|----|----|----|----|\n",
      "*done.\n"
     ]
    },
    {
     "name": "stderr",
     "output_type": "stream",
     "text": [
      "WARNING: At low exhaustiveness, it may be impossible to utilize all CPUs.\n"
     ]
    },
    {
     "name": "stdout",
     "output_type": "stream",
     "text": [
      "Performing docking (random seed: -291536676) ... \n",
      "0%   10   20   30   40   50   60   70   80   90   100%\n",
      "|----|----|----|----|----|----|----|----|----|----|\n",
      "********************done.\n",
      "Performing docking (random seed: 934972088) ... "
     ]
    },
    {
     "name": "stderr",
     "output_type": "stream",
     "text": [
      "WARNING: At low exhaustiveness, it may be impossible to utilize all CPUs.\n"
     ]
    },
    {
     "name": "stdout",
     "output_type": "stream",
     "text": [
      "\n",
      "0%   10   20   30   40   50   60   70   80   90   100%\n",
      "|----|----|----|----|----|----|----|----|----|----|\n",
      "*************************************************************************************\n",
      "**"
     ]
    },
    {
     "name": "stderr",
     "output_type": "stream",
     "text": [
      "1 molecule converted\n"
     ]
    },
    {
     "name": "stdout",
     "output_type": "stream",
     "text": [
      "*"
     ]
    },
    {
     "name": "stderr",
     "output_type": "stream",
     "text": [
      "1 molecule converted\n",
      "1 molecule converted\n",
      "1 molecule converted\n"
     ]
    },
    {
     "name": "stdout",
     "output_type": "stream",
     "text": [
      "***here\n",
      "CNC(=O)CN1C[C@@]2(C(=O)N(c3cncc4ccccc34)C[C@@H]2[NH3+])c2cc(Cl)ccc2C1=O MERS-CoV Mpro\n",
      "Processing /home/xchen/Work/asap-polaris-blind-challenge-examples/SMILESopt/xtbopt_00004.xyz in docking/4\n",
      "*"
     ]
    },
    {
     "name": "stderr",
     "output_type": "stream",
     "text": [
      "1 molecule converted\n"
     ]
    },
    {
     "name": "stdout",
     "output_type": "stream",
     "text": [
      "************************\n",
      "mode |   affinity | dist from best mode\n",
      "     | (kcal/mol) | rmsd l.b.| rmsd u.b.\n",
      "-----+------------+----------+----------\n",
      "   1       -8.637          0          0\n",
      "   2       -8.561      3.313      5.895\n",
      "   3       -8.507      3.115      6.308\n",
      "   4       -8.409      2.951      6.351\n",
      "   5       -8.165      3.489      7.033\n",
      "   6       -7.987      2.906      6.715\n",
      "   7       -7.918      2.986      6.894\n",
      "   8       -7.778      2.197       3.29\n",
      "   9       -7.772      2.764      7.181\n",
      "  10       -7.736      2.802      6.295\n",
      "  11        -7.72      3.229       7.29\n",
      "  12        -7.66      2.745      4.957\n",
      "  13       -7.613       2.92       6.78\n",
      "  14       -7.585      3.486      6.756\n",
      "  15       -7.554      3.316      6.335\n",
      "  16       -7.484      2.896      6.305\n",
      "  17        -7.47      3.739      7.433\n",
      "  18       -7.463      2.542      6.863\n",
      "  19       -7.423       3.15      7.439\n",
      "  20       -7.414      3.608      6.794\n",
      "********************************done.\n",
      "*\n",
      "Performing docking (random seed: -321914846) ... \n",
      "0%   10   20   30   40   50   60   70   80   90   100%\n",
      "|----|----|----|----|----|----|----|----|----|----|\n",
      "*"
     ]
    },
    {
     "name": "stderr",
     "output_type": "stream",
     "text": [
      "WARNING: At low exhaustiveness, it may be impossible to utilize all CPUs.\n"
     ]
    },
    {
     "name": "stdout",
     "output_type": "stream",
     "text": [
      "***"
     ]
    },
    {
     "name": "stderr",
     "output_type": "stream",
     "text": [
      "1 molecule converted\n"
     ]
    },
    {
     "name": "stdout",
     "output_type": "stream",
     "text": [
      "*"
     ]
    },
    {
     "name": "stderr",
     "output_type": "stream",
     "text": [
      "1 molecule converted\n",
      "1 molecule converted\n"
     ]
    },
    {
     "name": "stdout",
     "output_type": "stream",
     "text": [
      "**"
     ]
    },
    {
     "name": "stderr",
     "output_type": "stream",
     "text": [
      "1 molecule converted\n"
     ]
    },
    {
     "name": "stdout",
     "output_type": "stream",
     "text": [
      "here\n",
      "C[C@H]1C[NH+](CCN2C[C@@]3(C(=O)N(c4cncc5ccccc45)C[C@@H]3C)c3cc(Cl)ccc3C2=O)C[C@H](C)O1 MERS-CoV Mpro\n",
      "Processing /home/xchen/Work/asap-polaris-blind-challenge-examples/SMILESopt/xtbopt_00025.xyz in docking/25*\n",
      "*"
     ]
    },
    {
     "name": "stderr",
     "output_type": "stream",
     "text": [
      "1 molecule converted\n"
     ]
    },
    {
     "name": "stdout",
     "output_type": "stream",
     "text": [
      "**********************************\n",
      "mode |   affinity | dist from best mode\n",
      "     | (kcal/mol) | rmsd l.b.| rmsd u.b.\n",
      "-----+------------+----------+----------\n",
      "   1       -9.224          0          0\n",
      "   2       -9.213      1.449      2.712\n",
      "   3        -9.08       2.84      8.331\n",
      "   4       -8.922     0.8363      1.988\n",
      "   5       -8.606      2.998      8.178\n",
      "   6       -8.589      3.137      6.255\n",
      "   7        -8.53      1.971      3.023\n",
      "   8       -8.465      3.339      6.475\n",
      "   9       -8.265      2.816      7.135\n",
      "  10       -8.117      5.468       9.81\n",
      "  11       -8.066      2.017      2.823\n",
      "  12       -8.044      2.053       2.83\n",
      "  13       -8.032      5.399      9.746\n",
      "  14       -8.015      2.743      6.994\n",
      "  15       -7.967      1.855      2.708\n",
      "  16       -7.902      2.921      6.111\n",
      "  17       -7.849      3.203      6.546\n",
      "  18       -7.816      3.193      5.385\n",
      "  19       -7.794      2.952      6.614\n",
      "************************done.\n",
      "*Performing docking (random seed: -1695878828) ... "
     ]
    },
    {
     "name": "stderr",
     "output_type": "stream",
     "text": [
      "WARNING: At low exhaustiveness, it may be impossible to utilize all CPUs.\n"
     ]
    },
    {
     "name": "stdout",
     "output_type": "stream",
     "text": [
      "\n",
      "0%   10   20   30   40   50   60   70   80   90   100%\n",
      "|----|----|----|----|----|----|----|----|----|----|\n",
      "****\n",
      "**"
     ]
    },
    {
     "name": "stderr",
     "output_type": "stream",
     "text": [
      "==============================\n",
      "*** Open Babel Warning  in PerceiveBondOrders\n",
      "  Failed to kekulize aromatic bonds in OBMol::PerceiveBondOrders (title is energy:)\n",
      "\n",
      "1 molecule converted\n",
      "1 molecule converted\n",
      "1 molecule converted\n",
      "==============================\n",
      "*** Open Babel Warning  in PerceiveBondOrders\n",
      "  Failed to kekulize aromatic bonds in OBMol::PerceiveBondOrders (title is energy:)\n",
      "\n",
      "1 molecule converted\n"
     ]
    },
    {
     "name": "stdout",
     "output_type": "stream",
     "text": [
      "**here\n",
      "Cc1cc(CN2C[C@@]3(C(=O)N(c4cncc5ccccc45)C[C@@H]3C)c3cc(F)ccc3C2=O)on1 MERS-CoV Mpro\n",
      "*Processing /home/xchen/Work/asap-polaris-blind-challenge-examples/SMILESopt/xtbopt_00021.xyz in docking/21\n"
     ]
    },
    {
     "name": "stderr",
     "output_type": "stream",
     "text": [
      "1 molecule converted\n"
     ]
    },
    {
     "name": "stdout",
     "output_type": "stream",
     "text": [
      "*********\n",
      "**"
     ]
    },
    {
     "name": "stderr",
     "output_type": "stream",
     "text": [
      "1 molecule converted\n"
     ]
    },
    {
     "name": "stdout",
     "output_type": "stream",
     "text": [
      "*"
     ]
    },
    {
     "name": "stderr",
     "output_type": "stream",
     "text": [
      "1 molecule converted\n",
      "1"
     ]
    },
    {
     "name": "stdout",
     "output_type": "stream",
     "text": [
      "*"
     ]
    },
    {
     "name": "stderr",
     "output_type": "stream",
     "text": [
      " molecule converted\n"
     ]
    },
    {
     "name": "stdout",
     "output_type": "stream",
     "text": [
      "here\n",
      "C[NH2+]CCN1C[C@@]2(C(=O)N(c3cncc4ccccc34)C[C@@H]2C)c2cc(F)ccc2C1=O SARS-CoV-2 Mpro\n",
      "Processing /home/xchen/Work/asap-polaris-blind-challenge-examples/SMILESopt/xtbopt_00053.xyz in docking/53\n"
     ]
    },
    {
     "name": "stderr",
     "output_type": "stream",
     "text": [
      "1 molecule converted\n"
     ]
    },
    {
     "name": "stdout",
     "output_type": "stream",
     "text": [
      "***"
     ]
    },
    {
     "name": "stderr",
     "output_type": "stream",
     "text": [
      "1 molecule converted\n"
     ]
    },
    {
     "name": "stdout",
     "output_type": "stream",
     "text": [
      "*******\n",
      "mode |   affinity | dist from best mode\n",
      "     | (kcal/mol) | rmsd l.b.| rmsd u.b.\n",
      "-----+------------+----------+----------\n",
      "   1       -8.937          0          0\n",
      "   2       -8.575      1.299      2.068\n",
      "   3       -8.348      3.063      7.748\n",
      "   4        -8.18      4.344       6.36\n",
      "   5       -7.982      3.671      4.746\n",
      "   6       -7.826      2.614      4.359\n",
      "   7       -7.822      2.839      3.988\n",
      "   8        -7.79      3.581      6.838\n",
      "   9        -7.75      4.214      5.565\n",
      "  10       -7.729      4.383      8.338\n",
      "  11       -7.646       3.03      8.124\n",
      "  12       -7.644      2.558      6.907\n",
      "  13       -7.634      3.095      5.576\n",
      "  14        -7.62      3.209      6.207\n",
      "  15       -7.593      4.396      6.202\n",
      "  16        -7.52      5.332      8.799\n",
      "  17       -7.505      3.264      4.303\n",
      "  18       -7.431       2.22      7.442\n",
      "  19       -7.421      1.836      7.509\n",
      "  20        -7.35      4.156      6.649\n",
      "**********Vina grid ... *\n",
      "mode |   affinity | dist from best mode\n",
      "     | (kcal/mol) | rmsd l.b.| rmsd u.b.\n",
      "-----+------------+----------+----------\n",
      "   1       -9.775          0          0\n",
      "   2       -9.501      1.358      1.911\n",
      "   3       -8.697      2.266       3.25\n",
      "   4       -8.689      2.992      7.366\n",
      "   5       -8.572      3.179      7.179\n",
      "   6       -8.571      3.226      7.234\n",
      "   7       -8.383      2.587      6.186\n",
      "   8       -8.201      3.324      6.663\n",
      "   9       -8.189       1.92      2.806\n",
      "  10       -7.784      3.321      7.118\n",
      "  11       -7.693      3.293      6.046\n",
      "  12       -7.672      3.307      6.892\n",
      "  13       -7.602      5.169      9.057\n",
      "  14       -7.571      3.265      6.122\n",
      "  15       -7.437      2.034      2.531\n",
      "  16       -7.391      2.585      6.178\n",
      "  17       -7.363      2.755      6.834\n",
      "  18       -7.342      3.065      7.322\n",
      "  19       -7.309      4.924      6.898\n",
      "  20       -7.249      2.766      5.912\n",
      "*******done.na grid ... **\n",
      "*Performing docking (random seed: 1321955132) ... *"
     ]
    },
    {
     "name": "stderr",
     "output_type": "stream",
     "text": [
      "WARNING: At low exhaustiveness, it may be impossible to utilize all CPUs.\n"
     ]
    },
    {
     "name": "stdout",
     "output_type": "stream",
     "text": [
      "\n",
      "0%   10   20   30   40   50   60   70   80   90   100%\n",
      "|----|----|----|----|----|----|----|----|----|----|\n",
      "***************\n",
      "done.\n",
      "*"
     ]
    },
    {
     "name": "stderr",
     "output_type": "stream",
     "text": [
      "WARNING: At low exhaustiveness, it may be impossible to utilize all CPUs.\n"
     ]
    },
    {
     "name": "stdout",
     "output_type": "stream",
     "text": [
      "Performing docking (random seed: 1041878247) ... \n",
      "0%   10   20   30   40   50   60   70   80   90   100%\n",
      "|----|----|----|----|----|----|----|----|----|----|\n",
      "**"
     ]
    },
    {
     "name": "stderr",
     "output_type": "stream",
     "text": [
      "1 molecule converted\n"
     ]
    },
    {
     "name": "stdout",
     "output_type": "stream",
     "text": [
      "**"
     ]
    },
    {
     "name": "stderr",
     "output_type": "stream",
     "text": [
      "1 molecule converted\n",
      "1 molecule converted\n"
     ]
    },
    {
     "name": "stdout",
     "output_type": "stream",
     "text": [
      "**"
     ]
    },
    {
     "name": "stderr",
     "output_type": "stream",
     "text": [
      "1 molecule converted\n"
     ]
    },
    {
     "name": "stdout",
     "output_type": "stream",
     "text": [
      "here\n",
      "C[C@H]1C[N@H+](CCN2C[C@@]3(C(=O)N(c4cncc5ccccc45)C[C@@H]3C)c3cc(Cl)ccc3C2=O)[C@@H](C)CO1 MERS-CoV Mpro\n",
      "*Processing /home/xchen/Work/asap-polaris-blind-challenge-examples/SMILESopt/xtbopt_00034.xyz in docking/34\n",
      "*"
     ]
    },
    {
     "name": "stderr",
     "output_type": "stream",
     "text": [
      "1 molecule converted\n"
     ]
    },
    {
     "name": "stdout",
     "output_type": "stream",
     "text": [
      "*******************************\n",
      "mode |   affinity | dist from best mode\n",
      "     | (kcal/mol) | rmsd l.b.| rmsd u.b.\n",
      "-----+------------+----------+----------\n",
      "   1       -8.869          0          0\n",
      "   2       -8.607      2.537      5.869\n",
      "   3       -8.539      4.093      9.303\n",
      "   4       -8.533      1.527      1.997\n",
      "   5       -8.369       2.82      6.923\n",
      "   6       -8.327      3.587      6.729\n",
      "   7       -8.155      2.956      6.126\n",
      "   8       -8.142      4.711      9.735\n",
      "   9       -8.131      2.659       7.01\n",
      "  10       -8.103      3.189      6.645\n",
      "  11       -8.006      2.691      5.828\n",
      "  12       -7.994      3.264      6.314\n",
      "  13       -7.883      2.785      7.059\n",
      "  14       -7.835      3.474      6.367\n",
      "  15       -7.742      4.582      8.882\n",
      "  16       -7.624       2.77      7.105\n",
      "  17       -7.457      3.648      6.668\n",
      "  18       -7.386      2.729      6.926\n",
      "  19       -7.377      2.937      5.943\n",
      "******************************done.\n"
     ]
    },
    {
     "name": "stderr",
     "output_type": "stream",
     "text": [
      "WARNING: At low exhaustiveness, it may be impossible to utilize all CPUs.\n"
     ]
    },
    {
     "name": "stdout",
     "output_type": "stream",
     "text": [
      "Performing docking (random seed: 1606647239) ... *\n",
      "0%   10   20   30   40   50   60   70   80   90   100%\n",
      "|----|----|----|----|----|----|----|----|----|----|\n",
      "********************************************\n",
      "****"
     ]
    },
    {
     "name": "stderr",
     "output_type": "stream",
     "text": [
      "1 molecule converted\n",
      "1 molecule converted\n"
     ]
    },
    {
     "name": "stdout",
     "output_type": "stream",
     "text": [
      "*"
     ]
    },
    {
     "name": "stderr",
     "output_type": "stream",
     "text": [
      "1 molecule converted\n",
      "1 molecule converted\n"
     ]
    },
    {
     "name": "stdout",
     "output_type": "stream",
     "text": [
      "here\n",
      "C=C(CN(C(=O)[C@@H]1CN(CC(=O)NC)C(=O)c2ccc(Cl)cc21)c1cncc2ccccc12)C(=O)[O-] SARS-CoV-2 Mpro\n",
      "Processing /home/xchen/Work/asap-polaris-blind-challenge-examples/SMILESopt/xtbopt_00013.xyz in docking/13\n",
      "****\n"
     ]
    },
    {
     "name": "stderr",
     "output_type": "stream",
     "text": [
      "1 molecule converted\n"
     ]
    },
    {
     "name": "stdout",
     "output_type": "stream",
     "text": [
      "**"
     ]
    },
    {
     "name": "stderr",
     "output_type": "stream",
     "text": [
      "1 molecule converted\n",
      "1 molecule converted\n"
     ]
    },
    {
     "name": "stdout",
     "output_type": "stream",
     "text": [
      "*here\n"
     ]
    },
    {
     "name": "stderr",
     "output_type": "stream",
     "text": [
      "1 molecule converted\n",
      "1 molecule converted\n"
     ]
    },
    {
     "name": "stdout",
     "output_type": "stream",
     "text": [
      "O=C1c2ccc(Cl)cc2[C@@]2(CN1Cc1ccnnc1)C(=O)N(c1cncc3ccccc13)C[C@@H]2CNc1ccncn1** MERS-CoV Mpro\n",
      "Processing /home/xchen/Work/asap-polaris-blind-challenge-examples/SMILESopt/xtbopt_00005.xyz in docking/5\n",
      "*\n",
      "**"
     ]
    },
    {
     "name": "stderr",
     "output_type": "stream",
     "text": [
      "1 molecule converted\n"
     ]
    },
    {
     "name": "stdout",
     "output_type": "stream",
     "text": [
      "**"
     ]
    },
    {
     "name": "stderr",
     "output_type": "stream",
     "text": [
      "1 molecule converted\n",
      "1 molecule converted\n"
     ]
    },
    {
     "name": "stdout",
     "output_type": "stream",
     "text": [
      "*"
     ]
    },
    {
     "name": "stderr",
     "output_type": "stream",
     "text": [
      "1 molecule converted\n",
      "1 molecule converted\n"
     ]
    },
    {
     "name": "stdout",
     "output_type": "stream",
     "text": [
      "**here\n",
      "CNC(=O)CN1C[C@@]2(C(=O)N(c3cncc4ccccc34)C[C@@H]2CNc2ccccc2)c2cc(Cl)ccc2C1=O SARS-CoV-2 Mpro\n",
      "Processing /home/xchen/Work/asap-polaris-blind-challenge-examples/SMILESopt/xtbopt_00049.xyz in docking/49\n",
      "*"
     ]
    },
    {
     "name": "stderr",
     "output_type": "stream",
     "text": [
      "1 molecule converted\n"
     ]
    },
    {
     "name": "stdout",
     "output_type": "stream",
     "text": [
      "*************\n",
      "mode |   affinity | dist from best mode\n",
      "     | (kcal/mol) | rmsd l.b.| rmsd u.b.\n",
      "-----+------------+----------+----------\n",
      "   1        -8.08          0          0\n",
      "   2        -7.98      2.935      8.241\n",
      "   3       -7.866      2.914      4.625\n",
      "   4       -7.682      3.108      5.001\n",
      "   5       -7.642      2.554      7.788\n",
      "   6       -7.634      2.666      4.395\n",
      "   7       -7.536      3.229      7.326\n",
      "   8       -7.533      1.468       2.16\n",
      "   9       -7.505      2.512       4.21\n",
      "  10       -7.428      2.716      7.285\n",
      "  11       -7.426      2.896      6.525\n",
      "  12       -7.425      2.666       4.57\n",
      "  13       -7.398      2.898      4.581\n",
      "  14       -7.391      3.047      7.297\n",
      "  15       -7.364      2.469      4.315\n",
      "  16       -7.317      2.875      7.336\n",
      "  17       -7.301      3.967      6.518\n",
      "  18       -7.295      2.732      8.425\n",
      "  19       -7.245      2.717      7.316\n",
      "  20       -7.166      3.189       5.16\n",
      "********g Vina grid ... \n",
      "mode |   affinity | dist from best mode\n",
      "     | (kcal/mol) | rmsd l.b.| rmsd u.b.\n",
      "-----+------------+----------+----------\n",
      "   1       -8.232          0          0\n",
      "   2       -8.177      2.219      7.466\n",
      "   3       -7.942      3.851      6.104\n",
      "   4       -7.762      2.836      4.701\n",
      "   5       -7.688       2.89      8.032\n",
      "   6       -7.682      2.724      4.786\n",
      "   7       -7.643      2.286      7.306\n",
      "   8       -7.632      3.622      5.593\n",
      "   9       -7.616      2.628      4.373\n",
      "  10       -7.408      2.714      7.395\n",
      "  11       -7.245      3.466      5.952\n",
      "  12       -7.192      3.637       6.01\n",
      "  13       -7.144      1.696      2.614\n",
      "  14        -7.14      2.166      2.795\n",
      "  15       -7.088      3.281      4.969\n",
      "  16       -6.987      1.839       2.26\n",
      "  17       -6.968      3.125      7.195\n",
      "  18       -6.889      3.293      6.529\n",
      "  19       -6.878      2.482      6.935\n",
      "********* Vina grid ... \n",
      "mode |   affinity | dist from best mode\n",
      "     | (kcal/mol) | rmsd l.b.| rmsd u.b.\n",
      "-----+------------+----------+----------\n",
      "   1       -8.237          0          0\n",
      "   2        -8.05      1.228      1.657\n",
      "   3       -7.645      2.871      6.888\n",
      "   4       -7.513      2.902      7.494\n",
      "   5        -7.51      3.422      7.468\n",
      "   6       -7.472      2.182      3.567\n",
      "   7       -7.467      2.376      6.574\n",
      "   8       -7.449      2.924      7.595\n",
      "   9       -7.423      2.222      6.574\n",
      "  10       -7.273      1.746      2.649\n",
      "  11       -7.266       2.94       6.92\n",
      "  12       -7.193        3.5      7.398\n",
      "  13       -7.183      2.582      6.244\n",
      "  14       -7.176      2.446      6.945\n",
      "  15        -7.16      2.746      7.439\n",
      "  16        -7.08      3.139       6.39\n",
      "  17       -6.979      2.301      5.893\n",
      "  18       -6.979      2.666      5.788\n",
      "  19       -6.978      2.925      6.291\n",
      "  20       -6.945      2.693      6.795\n",
      "********done.a grid ... \n"
     ]
    },
    {
     "name": "stderr",
     "output_type": "stream",
     "text": [
      "WARNING: At low exhaustiveness, it may be impossible to utilize all CPUs.\n"
     ]
    },
    {
     "name": "stdout",
     "output_type": "stream",
     "text": [
      "Performing docking (random seed: 1693003106) ... \n",
      "0%   10   20   30   40   50   60   70   80   90   100%\n",
      "|----|----|----|----|----|----|----|----|----|----|\n",
      "*********done.\n",
      "**"
     ]
    },
    {
     "name": "stderr",
     "output_type": "stream",
     "text": [
      "WARNING: At low exhaustiveness, it may be impossible to utilize all CPUs.\n"
     ]
    },
    {
     "name": "stdout",
     "output_type": "stream",
     "text": [
      "Performing docking (random seed: 145233473) ... \n",
      "0%   10   20   30   40   50   60   70   80   90   100%\n",
      "|----|----|----|----|----|----|----|----|----|----|\n",
      "done.\n",
      "Performing docking (random seed: 76527986) ... \n",
      "0%   10   20   30   40   50   60   70   80   90   100%\n",
      "|----|----|----|----|----|----|----|----|----|----|\n",
      "*"
     ]
    },
    {
     "name": "stderr",
     "output_type": "stream",
     "text": [
      "WARNING: At low exhaustiveness, it may be impossible to utilize all CPUs.\n"
     ]
    },
    {
     "name": "stdout",
     "output_type": "stream",
     "text": [
      "*********************\n",
      "**\n",
      "**"
     ]
    },
    {
     "name": "stderr",
     "output_type": "stream",
     "text": [
      "1 molecule converted\n",
      "1 molecule converted\n"
     ]
    },
    {
     "name": "stdout",
     "output_type": "stream",
     "text": [
      "*"
     ]
    },
    {
     "name": "stderr",
     "output_type": "stream",
     "text": [
      "1 molecule converted\n",
      "1 molecule converted\n",
      "1 molecule converted\n"
     ]
    },
    {
     "name": "stdout",
     "output_type": "stream",
     "text": [
      "*here\n",
      "CNC(=O)CN1C[C@@]2(C(=O)N(c3cncc4ccccc34)C[C@@H]2CNc2cnn(C)c2)c2cc(Cl)ccc2C1=O "
     ]
    },
    {
     "name": "stderr",
     "output_type": "stream",
     "text": [
      "1 molecule converted\n",
      "1 molecule converted\n",
      "1 molecule converted\n"
     ]
    },
    {
     "name": "stdout",
     "output_type": "stream",
     "text": [
      "MERS-CoV Mpro\n",
      "Processing /home/xchen/Work/asap-polaris-blind-challenge-examples/SMILESopt/xtbopt_00054.xyz in docking/54\n",
      "here\n",
      "CC[C@H]1C[C@@H](C(F)(F)F)CCN1C(=O)Cc1cncc2ccccc12 MERS-CoV Mpro\n",
      "*Processing /home/xchen/Work/asap-polaris-blind-challenge-examples/SMILESopt/xtbopt_00057.xyz in docking/57\n"
     ]
    },
    {
     "name": "stderr",
     "output_type": "stream",
     "text": [
      "1 molecule converted\n",
      "1 molecule converted\n"
     ]
    },
    {
     "name": "stdout",
     "output_type": "stream",
     "text": [
      "****************\n",
      "mode |   affinity | dist from best mode\n",
      "     | (kcal/mol) | rmsd l.b.| rmsd u.b.\n",
      "-----+------------+----------+----------\n",
      "   1       -9.288          0          0\n",
      "   2       -8.959      3.489      5.126\n",
      "   3       -8.892      3.914      7.887\n",
      "   4       -8.751       2.98      4.933\n",
      "   5       -8.746      3.566       8.01\n",
      "   6       -8.724      1.824      2.665\n",
      "   7       -8.521      2.749      3.626\n",
      "   8       -8.441      3.416      8.919\n",
      "   9       -8.383      3.542       5.01\n",
      "  10       -8.177      3.468      5.395\n",
      "  11       -8.168      3.825      8.545\n",
      "  12       -8.124      3.176      7.255\n",
      "  13       -8.063      3.109       7.78\n",
      "  14       -8.043      2.845      4.668\n",
      "  15       -7.998      3.018      4.786\n",
      "  16       -7.891      3.213      7.345\n",
      "  17       -7.849      3.785      5.984\n",
      "  18       -7.828      3.611      5.235\n",
      "  19       -7.821      4.029      6.136\n",
      "  20       -7.783      3.313      7.612\n",
      "***puting Vina grid ... *\n",
      "mode |   affinity | dist from best mode\n",
      "     | (kcal/mol) | rmsd l.b.| rmsd u.b.\n",
      "-----+------------+----------+----------\n",
      "   1       -8.585          0          0\n",
      "   2       -8.186      3.531      6.865\n",
      "   3       -7.856      1.509      1.934\n",
      "   4       -7.631      1.101      2.027\n",
      "   5       -7.516      4.077      6.305\n",
      "   6       -7.222      2.237      4.183\n",
      "   7        -7.22      3.051      4.794\n",
      "   8       -7.149      2.886      7.303\n",
      "   9       -7.114      3.181      4.441\n",
      "  10       -7.102      2.414      4.274\n",
      "  11       -7.074      3.386      7.507\n",
      "  12       -7.069      4.282      7.127\n",
      "  13       -7.037       2.79      5.343\n",
      "  14       -7.014      2.997      5.401\n",
      "  15       -6.984      3.421      5.782\n",
      "  16       -6.974      3.636      5.365\n",
      "  17       -6.887      3.738      6.815\n",
      "  18       -6.837      3.139      7.071\n",
      "  19        -6.83      2.745      5.034\n",
      "********* Vina grid ... *\n",
      "done.\n",
      "Performing docking (random seed: 314275067) ... \n",
      "0%   10   20   30   40   50   60   70   80   90   100%\n",
      "|----|----|----|----|----|----|----|----|----|----|\n",
      "**"
     ]
    },
    {
     "name": "stderr",
     "output_type": "stream",
     "text": [
      "WARNING: At low exhaustiveness, it may be impossible to utilize all CPUs.\n"
     ]
    },
    {
     "name": "stdout",
     "output_type": "stream",
     "text": [
      "*"
     ]
    },
    {
     "name": "stderr",
     "output_type": "stream",
     "text": [
      "1 molecule converted\n",
      " molecule converted\n",
      "1 molecule converted\n"
     ]
    },
    {
     "name": "stdout",
     "output_type": "stream",
     "text": [
      "**here"
     ]
    },
    {
     "name": "stderr",
     "output_type": "stream",
     "text": [
      "1 molecule converted\n"
     ]
    },
    {
     "name": "stdout",
     "output_type": "stream",
     "text": [
      "\n",
      "CCC(=O)N1CCCc2ccc(N(C(=O)Cc3cncc4ccccc34)N(C)c3cccc(Cl)c3)cc21 MERS-CoV Mpro\n",
      "*Processing /home/xchen/Work/asap-polaris-blind-challenge-examples/SMILESopt/xtbopt_00042.xyz in docking/42\n",
      "**\n",
      "**"
     ]
    },
    {
     "name": "stderr",
     "output_type": "stream",
     "text": [
      "1 molecule converted\n"
     ]
    },
    {
     "name": "stdout",
     "output_type": "stream",
     "text": [
      "**"
     ]
    },
    {
     "name": "stderr",
     "output_type": "stream",
     "text": [
      "1 molecule converted\n",
      "1 molecule converted\n"
     ]
    },
    {
     "name": "stdout",
     "output_type": "stream",
     "text": [
      "done.\n",
      "Performing docking (random seed: 2006468484) ... "
     ]
    },
    {
     "name": "stderr",
     "output_type": "stream",
     "text": [
      "1 molecule converted\n",
      "WARNING: At low exhaustiveness, it may be impossible to utilize all CPUs.\n",
      "1 molecule converted\n"
     ]
    },
    {
     "name": "stdout",
     "output_type": "stream",
     "text": [
      "\n",
      "0%   10   20   30   40   50   60   70   80   90   100%\n",
      "|----|----|----|----|----|----|----|----|----|----|\n",
      "here\n",
      "C[C@H]1CN(c2cncc3ccccc23)C(=O)[C@@]12CN(CC[NH+]1CCN(S(C)(=O)=O)CC1)C(=O)c1ccc(Cl)cc12 SARS-CoV-2 Mpro\n",
      "Processing /home/xchen/Work/asap-polaris-blind-challenge-examples/SMILESopt/xtbopt_00026.xyz in docking/26\n",
      "***"
     ]
    },
    {
     "name": "stderr",
     "output_type": "stream",
     "text": [
      "1 molecule converted\n"
     ]
    },
    {
     "name": "stdout",
     "output_type": "stream",
     "text": [
      "**************\n",
      "mode |   affinity | dist from best mode\n",
      "     | (kcal/mol) | rmsd l.b.| rmsd u.b.\n",
      "-----+------------+----------+----------\n",
      "   1       -8.885          0          0\n",
      "   2       -8.437      2.832      8.422\n",
      "   3       -8.413      2.486      8.318\n",
      "   4       -8.227      2.757       4.61\n",
      "   5       -8.189      3.545      6.477\n",
      "   6       -8.184      3.795      5.623\n",
      "   7       -8.112      3.345      7.209\n",
      "   8       -8.064      3.113      5.896\n",
      "   9       -8.005        3.8      9.667\n",
      "  10       -7.976      1.974      2.685\n",
      "  11       -7.917      2.739       8.43\n",
      "  12       -7.831      3.049      4.195\n",
      "  13       -7.802       3.51      5.345\n",
      "  14       -7.798      2.585       8.47\n",
      "  15       -7.791      4.044      8.772\n",
      "  16        -7.75      4.495      8.535\n",
      "  17       -7.705      3.284      4.675\n",
      "  18       -7.682      4.256       6.93\n",
      "  19       -7.666      3.612      5.419\n",
      "  20       -7.586      3.937      7.567\n",
      "**********Vina grid ... **\n",
      "mode |   affinity | dist from best mode\n",
      "     | (kcal/mol) | rmsd l.b.| rmsd u.b.\n",
      "-----+------------+----------+----------\n",
      "   1       -9.158          0          0\n",
      "   2       -9.155       2.44       5.79\n",
      "   3       -8.797      3.188      6.568\n",
      "   4        -8.67      3.861      8.907\n",
      "   5       -8.467      3.357      6.305\n",
      "   6       -8.426      2.794      6.986\n",
      "   7       -8.414      3.424      8.494\n",
      "   8       -8.394      3.475      6.506\n",
      "   9       -8.241      3.047      7.639\n",
      "  10       -8.139      1.562       2.18\n",
      "  11       -8.128      3.282      7.748\n",
      "  12       -8.068      4.155       8.17\n",
      "  13       -7.957      3.669      8.423\n",
      "  14        -7.93      2.154      3.263\n",
      "  15       -7.867      2.681      4.126\n",
      "  16       -7.848      3.315      7.691\n",
      "  17       -7.828      3.248      6.083\n",
      "  18        -7.79      4.769      8.641\n",
      "  19        -7.75      2.625      6.451\n",
      "  20       -7.717      2.555      7.098\n",
      "*********done. grid ... *\n",
      "**"
     ]
    },
    {
     "name": "stderr",
     "output_type": "stream",
     "text": [
      "WARNING: At low exhaustiveness, it may be impossible to utilize all CPUs.\n"
     ]
    },
    {
     "name": "stdout",
     "output_type": "stream",
     "text": [
      "Performing docking (random seed: 1020466197) ... \n",
      "0%   10   20   30   40   50   60   70   80   90   100%\n",
      "|----|----|----|----|----|----|----|----|----|----|\n",
      "*************************done.\n",
      "**Performing docking (random seed: 2094461690) ... *"
     ]
    },
    {
     "name": "stderr",
     "output_type": "stream",
     "text": [
      "WARNING: At low exhaustiveness, it may be impossible to utilize all CPUs.\n"
     ]
    },
    {
     "name": "stdout",
     "output_type": "stream",
     "text": [
      "\n",
      "0%   10   20   30   40   50   60   70   80   90   100%\n",
      "|----|----|----|----|----|----|----|----|----|----|\n",
      "**********************************************************\n",
      "****"
     ]
    },
    {
     "name": "stderr",
     "output_type": "stream",
     "text": [
      "1 molecule converted\n",
      "1 molecule converted\n",
      "1 molecule converted\n"
     ]
    },
    {
     "name": "stdout",
     "output_type": "stream",
     "text": [
      "*"
     ]
    },
    {
     "name": "stderr",
     "output_type": "stream",
     "text": [
      "1 molecule converted\n"
     ]
    },
    {
     "name": "stdout",
     "output_type": "stream",
     "text": [
      "here\n",
      "C[C@H]1CN(c2cncc3ccccc23)C(=O)[C@@]12CN(Cc1cc[nH]n1)C(=O)c1ccc(F)cc12 *SARS-CoV-2 Mpro\n",
      "Processing /home/xchen/Work/asap-polaris-blind-challenge-examples/SMILESopt/xtbopt_00035.xyz in docking/35\n"
     ]
    },
    {
     "name": "stderr",
     "output_type": "stream",
     "text": [
      "1 molecule converted\n"
     ]
    },
    {
     "name": "stdout",
     "output_type": "stream",
     "text": [
      "*****************\n"
     ]
    },
    {
     "name": "stderr",
     "output_type": "stream",
     "text": [
      "1 molecule converted\n",
      "1 molecule converted\n"
     ]
    },
    {
     "name": "stdout",
     "output_type": "stream",
     "text": [
      "**"
     ]
    },
    {
     "name": "stderr",
     "output_type": "stream",
     "text": [
      "1 molecule converted\n",
      "1 molecule converted\n"
     ]
    },
    {
     "name": "stdout",
     "output_type": "stream",
     "text": [
      "here\n",
      "C[NH2+]CCN1C[C@@]2(C(=O)N(c3cncc4ccccc34)C[C@@H]2COCC2(F)COC2)c2cc(Cl)ccc2C1=O MERS-CoV Mpro\n",
      "Processing /home/xchen/Work/asap-polaris-blind-challenge-examples/SMILESopt/xtbopt_00058.xyz in docking/58\n",
      "*\n",
      "mode |   affinity | dist from best mode\n",
      "     | (kcal/mol) | rmsd l.b.| rmsd u.b.\n",
      "-----+------------+----------+----------\n",
      "   1       -8.549          0          0\n",
      "   2       -8.279      3.679      6.204\n",
      "   3       -7.874      4.184      8.201\n",
      "   4       -7.842      3.529      6.139\n",
      "   5       -7.792      3.423      7.257\n",
      "   6       -7.767      4.084      8.868\n",
      "   7        -7.76       3.36      7.692\n",
      "   8       -7.744      2.858      6.071\n",
      "   9       -7.708      2.793      7.728\n",
      "  10       -7.658      4.535      6.886\n",
      "  11       -7.643      3.134      6.307\n",
      "  12       -7.625      3.616      4.892\n",
      "  13       -7.582      3.365      6.123\n",
      "  14        -7.56      4.771        6.6\n",
      "  15       -7.543      4.319      6.065\n",
      "  16       -7.462      2.552       8.52\n",
      "  17       -7.459      3.493      7.843\n",
      "  18       -7.413      2.074      7.201\n",
      "  19       -7.341      3.799      5.852\n",
      "  20         -7.3      3.794      7.891\n",
      "Computing Vina grid ... "
     ]
    },
    {
     "name": "stderr",
     "output_type": "stream",
     "text": [
      "1 molecule converted\n"
     ]
    },
    {
     "name": "stdout",
     "output_type": "stream",
     "text": [
      "********************done.\n",
      "*\n",
      "mode |   affinity | dist from best mode\n",
      "     | (kcal/mol) | rmsd l.b.| rmsd u.b.\n",
      "-----+------------+----------+----------\n",
      "   1       -7.055          0          0\n",
      "   2       -6.933      2.716       5.22\n",
      "   3       -6.811      2.965      5.907\n",
      "   4       -6.795      3.042      4.646\n",
      "   5        -6.76        2.3      5.218\n",
      "   6       -6.711      2.085      5.466\n",
      "   7       -6.706      3.039      5.057\n",
      "   8       -6.678      2.719      5.104\n",
      "   9       -6.666      2.539      5.063\n",
      "  10        -6.54      2.255      5.746\n",
      "  11       -6.522      2.926      4.989\n",
      "  12       -6.437      2.288      5.119\n",
      "  13       -6.338      2.484      5.227\n",
      "  14       -6.276      2.441      5.575\n",
      "  15        -6.27      2.504      4.991\n",
      "  16       -6.248      2.308      5.745\n",
      "  17       -6.223       2.33      6.156\n",
      "  18       -6.219      1.227      2.326\n",
      "  19        -6.18      2.581      5.732\n",
      "  20       -6.179      2.889      5.863\n",
      "Computing Vina grid ... Performing docking (random seed: 1681324719) ... \n",
      "0%   10   20   30   40   50   60   70   80   90   100%\n",
      "|----|----|----|----|----|----|----|----|----|----|\n",
      "*"
     ]
    },
    {
     "name": "stderr",
     "output_type": "stream",
     "text": [
      "WARNING: At low exhaustiveness, it may be impossible to utilize all CPUs.\n"
     ]
    },
    {
     "name": "stdout",
     "output_type": "stream",
     "text": [
      "*****************************************done.\n"
     ]
    },
    {
     "name": "stderr",
     "output_type": "stream",
     "text": [
      "WARNING: At low exhaustiveness, it may be impossible to utilize all CPUs.\n"
     ]
    },
    {
     "name": "stdout",
     "output_type": "stream",
     "text": [
      "Performing docking (random seed: -802456006) ... ***\n",
      "0%   10   20   30   40   50   60   70   80   90   100%\n",
      "|----|----|----|----|----|----|----|----|----|----|\n",
      "****************************************************************************************\n",
      "***"
     ]
    },
    {
     "name": "stderr",
     "output_type": "stream",
     "text": [
      "1 molecule converted\n",
      "1 molecule converted\n"
     ]
    },
    {
     "name": "stdout",
     "output_type": "stream",
     "text": [
      "**"
     ]
    },
    {
     "name": "stderr",
     "output_type": "stream",
     "text": [
      "1 molecule converted\n"
     ]
    },
    {
     "name": "stdout",
     "output_type": "stream",
     "text": [
      "here\n",
      "O=C(Cc1cncc2ccccc12)N1CCCCC1"
     ]
    },
    {
     "name": "stderr",
     "output_type": "stream",
     "text": [
      "1 molecule converted\n"
     ]
    },
    {
     "name": "stdout",
     "output_type": "stream",
     "text": [
      " MERS-CoV Mpro\n",
      "Processing /home/xchen/Work/asap-polaris-blind-challenge-examples/SMILESopt/xtbopt_00014.xyz in docking/14\n",
      "*"
     ]
    },
    {
     "name": "stderr",
     "output_type": "stream",
     "text": [
      "1 molecule converted\n"
     ]
    },
    {
     "name": "stdout",
     "output_type": "stream",
     "text": [
      "*******\n",
      "**"
     ]
    },
    {
     "name": "stderr",
     "output_type": "stream",
     "text": [
      "1 molecule converted\n",
      "1 molecule converted\n",
      "1 molecule converted\n"
     ]
    },
    {
     "name": "stdout",
     "output_type": "stream",
     "text": [
      "*here\n",
      "O=C(Cc1cncc2ccccc12)N1CCC[C@@H]1c1cccc(F)c1 MERS-CoV Mpro\n"
     ]
    },
    {
     "name": "stderr",
     "output_type": "stream",
     "text": [
      "1 molecule converted\n"
     ]
    },
    {
     "name": "stdout",
     "output_type": "stream",
     "text": [
      "Processing /home/xchen/Work/asap-polaris-blind-challenge-examples/SMILESopt/xtbopt_00064.xyz in docking/64\n",
      "\n",
      "mode |   affinity | dist from best mode\n",
      "     | (kcal/mol) | rmsd l.b.| rmsd u.b.\n",
      "-----+------------+----------+----------\n",
      "   1        -7.69          0          0\n",
      "   2       -7.662      1.574      2.039\n",
      "   3       -7.561      3.224      7.891\n",
      "   4       -7.541       2.75      7.977\n",
      "   5       -7.383      2.721      4.403\n",
      "   6       -7.374      1.857      2.618\n",
      "   7       -7.289      2.766      7.916\n",
      "   8       -7.267      2.866      5.074\n",
      "   9       -7.123      1.926      2.429\n",
      "  10       -7.104      1.825      2.816\n",
      "  11       -7.033      3.012      6.281\n",
      "  12       -7.018      3.149       5.21\n",
      "  13       -6.823      2.667      6.953\n",
      "  14       -6.818      3.716      6.633\n",
      "  15       -6.767      3.023      7.605\n",
      "  16       -6.744      2.645      7.212\n",
      "  17       -6.736      2.952      7.612\n",
      "  18       -6.713      2.802      4.508\n",
      "  19       -6.668      3.184      4.868\n",
      "  20       -6.623      1.664      2.466\n",
      "Computing Vina grid ... "
     ]
    },
    {
     "name": "stderr",
     "output_type": "stream",
     "text": [
      "1 molecule converted\n"
     ]
    },
    {
     "name": "stdout",
     "output_type": "stream",
     "text": [
      "**************\n",
      "mode |   affinity | dist from best mode\n",
      "     | (kcal/mol) | rmsd l.b.| rmsd u.b.\n",
      "-----+------------+----------+----------\n",
      "   1       -8.766          0          0\n",
      "   2       -8.656       3.08      6.254\n",
      "   3       -8.639      3.006      6.531\n",
      "   4       -8.631      1.554      2.892\n",
      "   5       -8.396      1.067      1.429\n",
      "   6       -8.352      1.068      2.183\n",
      "   7       -8.315      3.388      6.312\n",
      "   8       -8.211      2.819      8.391\n",
      "   9       -8.178      2.001      3.147\n",
      "  10       -7.884      2.964      6.026\n",
      "  11       -7.882      3.181      6.592\n",
      "  12       -7.837      1.541      2.414\n",
      "  13       -7.821      2.248      2.874\n",
      "  14       -7.754       3.03      5.961\n",
      "  15       -7.752      3.241      8.197\n",
      "  16       -7.648      2.665        5.3\n",
      "  17       -7.526      3.061      6.018\n",
      "  18       -7.504      2.987      7.165\n",
      "  19       -7.444      2.079      2.933\n",
      "  20       -7.424      3.095       6.45\n",
      "****done. Vina grid ... *\n",
      "Performing docking (random seed: 1998315418) ... \n",
      "0%   10   20   30   40   50   60   70   80   90   100%\n",
      "|----|----|----|----|----|----|----|----|----|----|\n",
      "*"
     ]
    },
    {
     "name": "stderr",
     "output_type": "stream",
     "text": [
      "WARNING: At low exhaustiveness, it may be impossible to utilize all CPUs.\n"
     ]
    },
    {
     "name": "stdout",
     "output_type": "stream",
     "text": [
      "************************done.\n",
      "Performing docking (random seed: -1655019737) ... *"
     ]
    },
    {
     "name": "stderr",
     "output_type": "stream",
     "text": [
      "WARNING: At low exhaustiveness, it may be impossible to utilize all CPUs.\n"
     ]
    },
    {
     "name": "stdout",
     "output_type": "stream",
     "text": [
      "\n",
      "0%   10   20   30   40   50   60   70   80   90   100%\n",
      "|----|----|----|----|----|----|----|----|----|----|\n",
      "********************************************************************************************\n",
      "*"
     ]
    },
    {
     "name": "stderr",
     "output_type": "stream",
     "text": [
      "1 molecule converted\n",
      "1 molecule converted\n"
     ]
    },
    {
     "name": "stdout",
     "output_type": "stream",
     "text": [
      "***\n"
     ]
    },
    {
     "name": "stderr",
     "output_type": "stream",
     "text": [
      "1 molecule converted\n",
      "1 molecule converted\n"
     ]
    },
    {
     "name": "stdout",
     "output_type": "stream",
     "text": [
      "here\n",
      "CNC(=O)CN1C[C@@]2(C(=O)N(c3cncc4ccccc34)C[C@@H]2COC(C)C)c2cc(Cl)ccc2C1=O SARS-CoV-2 Mpro\n",
      "Processing /home/xchen/Work/asap-polaris-blind-challenge-examples/SMILESopt/xtbopt_00071.xyz in docking/71\n"
     ]
    },
    {
     "name": "stderr",
     "output_type": "stream",
     "text": [
      "1 molecule converted\n",
      "1 molecule converted\n"
     ]
    },
    {
     "name": "stdout",
     "output_type": "stream",
     "text": [
      "*here\n",
      "C[C@H]1C[C@@H](C)N(C(=O)Cc2cncc3ccccc23)[C@@H](C)C1 SARS-CoV-2 Mpro\n"
     ]
    },
    {
     "name": "stderr",
     "output_type": "stream",
     "text": [
      "1 molecule converted\n",
      "1 molecule converted\n",
      "1 molecule converted\n"
     ]
    },
    {
     "name": "stdout",
     "output_type": "stream",
     "text": [
      "Processing /home/xchen/Work/asap-polaris-blind-challenge-examples/SMILESopt/xtbopt_00078.xyz in docking/78\n",
      "***"
     ]
    },
    {
     "name": "stderr",
     "output_type": "stream",
     "text": [
      "1 molecule converted\n"
     ]
    },
    {
     "name": "stdout",
     "output_type": "stream",
     "text": [
      "********\n",
      "mode |   affinity | dist from best mode\n",
      "     | (kcal/mol) | rmsd l.b.| rmsd u.b.\n",
      "-----+------------+----------+----------\n",
      "   1       -7.044          0          0\n",
      "   2       -6.924      1.844      2.448\n",
      "   3       -6.873      2.942       4.72\n",
      "   4       -6.789      1.711      2.768\n",
      "   5       -6.742      1.586      2.575\n",
      "   6       -6.673      1.711      2.762\n",
      "   7       -6.661      1.309      1.691\n",
      "   8       -6.576      14.89      16.55\n",
      "   9        -6.55      1.385      2.291\n",
      "  10       -6.547       1.34      1.939\n",
      "  11       -6.497      2.506      7.753\n",
      "  12       -6.366      2.158      3.271\n",
      "  13       -6.334      1.688      6.791\n",
      "  14       -6.314      2.285      7.622\n",
      "  15        -6.31      2.451      4.117\n",
      "  16       -6.309      2.543      4.315\n",
      "  17       -6.265      1.993          7\n",
      "  18       -6.188      1.895      2.671\n",
      "  19       -6.167      3.549      4.774\n",
      "  20       -6.141      2.165      3.528\n",
      "***puting Vina grid ... \n",
      "mode |   affinity | dist from best mode\n",
      "     | (kcal/mol) | rmsd l.b.| rmsd u.b.\n",
      "-----+------------+----------+----------\n",
      "   1       -9.582          0          0\n",
      "   2           -9      1.333      1.891\n",
      "   3       -8.766       3.06        7.4\n",
      "   4       -8.692      3.224        7.3\n",
      "   5       -8.643      2.842      7.206\n",
      "   6       -8.425      3.144      6.651\n",
      "   7       -8.395      2.007      2.729\n",
      "   8       -8.283      2.344      3.352\n",
      "   9       -8.171      2.624      6.057\n",
      "  10        -8.04      3.248      7.001\n",
      "  11       -7.965      3.279      6.374\n",
      "  12       -7.653      2.817      5.935\n",
      "  13       -7.639      3.072       5.73\n",
      "  14       -7.505      3.248      6.477\n",
      "  15       -7.444      3.272      7.029\n",
      "  16       -7.386      2.201      2.568\n",
      "  17       -7.349      3.274      6.793\n",
      "  18       -7.348      3.318      7.437\n",
      "  19       -7.312      3.204      5.923\n",
      "  20       -7.299      3.127      6.257\n",
      "******done.ina grid ... **\n",
      "Performing docking (random seed: 1045480932) ... \n",
      "0%   10   20   30   40   50   60   70   80   90   100%\n",
      "|----|----|----|----|----|----|----|----|----|----|\n",
      "*"
     ]
    },
    {
     "name": "stderr",
     "output_type": "stream",
     "text": [
      "WARNING: At low exhaustiveness, it may be impossible to utilize all CPUs.\n"
     ]
    },
    {
     "name": "stdout",
     "output_type": "stream",
     "text": [
      "**********done.\n",
      "Performing docking (random seed: -1418857142) ... \n",
      "0%   10   20   30   40   50   60   70   80   90   100%\n",
      "|----|----|----|----|----|----|----|----|----|----|\n",
      "**"
     ]
    },
    {
     "name": "stderr",
     "output_type": "stream",
     "text": [
      "WARNING: At low exhaustiveness, it may be impossible to utilize all CPUs.\n"
     ]
    },
    {
     "name": "stdout",
     "output_type": "stream",
     "text": [
      "***********\n",
      "*\n",
      "**"
     ]
    },
    {
     "name": "stderr",
     "output_type": "stream",
     "text": [
      "1 molecule converted\n",
      "1 molecule converted\n",
      "1 molecule converted\n"
     ]
    },
    {
     "name": "stdout",
     "output_type": "stream",
     "text": [
      "*"
     ]
    },
    {
     "name": "stderr",
     "output_type": "stream",
     "text": [
      "1 molecule converted\n",
      "1 molecule converted\n",
      "1 molecule converted\n",
      "1 molecule converted\n"
     ]
    },
    {
     "name": "stdout",
     "output_type": "stream",
     "text": [
      "here\n",
      "COc1ccccc1[C@@H]1C[C@H](C)CCN1C(=O)Cc1cncc2ccccc12 MERS-CoV Mpro\n",
      "Processing /home/xchen/Work/asap-polaris-blind-challenge-examples/SMILESopt/xtbopt_00027.xyz in docking/27\n",
      "here\n",
      "CNC(=O)CN1C[C@@]2(C(=O)N(c3cncc4ccccc34)C[C@@H]2CNc2cnn(C)c2)c2cc(Cl)ccc2C1=O SARS-CoV-2 Mpro\n",
      "***Processing /home/xchen/Work/asap-polaris-blind-challenge-examples/SMILESopt/xtbopt_00006.xyz in docking/6\n"
     ]
    },
    {
     "name": "stderr",
     "output_type": "stream",
     "text": [
      "1 molecule converted\n"
     ]
    },
    {
     "name": "stdout",
     "output_type": "stream",
     "text": [
      "*"
     ]
    },
    {
     "name": "stderr",
     "output_type": "stream",
     "text": [
      "1 molecule converted\n",
      "1 molecule converted\n"
     ]
    },
    {
     "name": "stdout",
     "output_type": "stream",
     "text": [
      "******\n",
      "*\n",
      "**\n",
      "***"
     ]
    },
    {
     "name": "stderr",
     "output_type": "stream",
     "text": [
      "11 molecule converted\n",
      " molecule converted\n",
      "1 molecule converted\n",
      "1 molecule converted\n",
      "1 molecule converted\n",
      "1 molecule converted\n"
     ]
    },
    {
     "name": "stdout",
     "output_type": "stream",
     "text": [
      "**here\n",
      "C[C@H]1CN(c2cncc3ccccc23)C(=O)[C@@]12CN(Cc1cc(=O)[nH]cn1)C(=O)c1ccc(F)cc12 SARS-CoV-2 Mpro\n",
      "Processing /home/xchen/Work/asap-polaris-blind-challenge-examples/SMILESopt/xtbopt_00065.xyz in docking/65here\n"
     ]
    },
    {
     "name": "stderr",
     "output_type": "stream",
     "text": [
      "1 molecule converted\n",
      "1 molecule converted\n",
      "1 molecule converted\n",
      "1 molecule converted\n",
      "1 molecule converted\n",
      "1 molecule converted\n"
     ]
    },
    {
     "name": "stdout",
     "output_type": "stream",
     "text": [
      "\n",
      "O=C1N[C@]2(C[C@H](c3ccccc3Cl)C2)C(=O)N1c1cncc2ccccc12 MERS-CoV Mpro\n",
      "Processing /home/xchen/Work/asap-polaris-blind-challenge-examples/SMILESopt/xtbopt_00055.xyz in docking/55\n",
      "here\n",
      "CNC(=O)CN1C[C@@]2(C(=O)N(c3cncc4ccccc34)C[C@@H]2CC#N)c2cc(Cl)ccc2C1=O MERS-CoV Mpro\n",
      "Processing /home/xchen/Work/asap-polaris-blind-challenge-examples/SMILESopt/xtbopt_00085.xyz in docking/85\n"
     ]
    },
    {
     "name": "stderr",
     "output_type": "stream",
     "text": [
      "1 molecule converted\n",
      "1 molecule converted\n",
      "1 molecule converted\n"
     ]
    },
    {
     "name": "stdout",
     "output_type": "stream",
     "text": [
      "*****\n",
      "mode |   affinity | dist from best mode\n",
      "     | (kcal/mol) | rmsd l.b.| rmsd u.b.\n",
      "-----+------------+----------+----------\n",
      "   1       -8.476          0          0\n",
      "   2       -8.414      3.229      4.876\n",
      "   3       -8.274      4.738      8.841\n",
      "   4        -8.25      4.124      5.621\n",
      "   5       -8.231      3.668      5.118\n",
      "   6       -8.144      3.741       5.37\n",
      "   7        -8.13      5.066      8.731\n",
      "   8       -8.093      4.063      5.611\n",
      "   9       -8.057      5.124      7.029\n",
      "  10       -8.056       2.72      3.911\n",
      "  11       -7.898      3.209      4.354\n",
      "  12       -7.888      3.367      4.782\n",
      "  13       -7.783      3.812      5.169\n",
      "  14       -7.661      6.304      9.507\n",
      "  15       -7.647      4.542      8.498\n",
      "  16       -7.577      5.453      9.917\n",
      "  17       -7.549      3.806      5.733\n",
      "  18       -7.525      5.364      8.116\n",
      "  19       -7.515      6.008      9.284\n",
      "  20       -7.434      3.275      5.335\n",
      "*****ting Vina grid ... *\n",
      "mode |   affinity | dist from best mode\n",
      "     | (kcal/mol) | rmsd l.b.| rmsd u.b.\n",
      "-----+------------+----------+----------\n",
      "   1       -10.04          0          0\n",
      "   2        -9.78      2.302        3.5\n",
      "   3       -9.276      2.876      6.189\n",
      "   4       -9.142      3.697      7.937\n",
      "   5        -9.01      2.209        6.6\n",
      "   6        -8.96      2.747      6.737\n",
      "   7       -8.931      2.104      6.574\n",
      "   8       -8.914      2.245      3.357\n",
      "   9       -8.914       2.87      7.277\n",
      "  10       -8.901      2.961      7.878\n",
      "  11       -8.894      1.358      2.105\n",
      "  12       -8.843      2.712      6.696\n",
      "  13       -8.807      3.748      7.257\n",
      "  14       -8.795      3.608      6.703\n",
      "  15        -8.77      2.438      6.536\n",
      "  16        -8.75      3.357       7.25\n",
      "  17       -8.737      3.119       7.59\n",
      "  18       -8.592      2.491       7.28\n",
      "  19       -8.423      2.774      7.814\n",
      "  20       -8.334      3.334       7.56\n",
      "****uting Vina grid ... \n",
      "mode |   affinity | dist from best mode\n",
      "     | (kcal/mol) | rmsd l.b.| rmsd u.b.\n",
      "-----+------------+----------+----------\n",
      "   1        -9.38          0          0\n",
      "   2       -9.206      2.068      2.669\n",
      "   3       -8.692      2.643      7.711\n",
      "   4       -8.581      2.266      3.322\n",
      "   5       -8.497      2.778      7.753\n",
      "   6       -8.378      3.305      7.168\n",
      "   7       -8.329      3.612      7.537\n",
      "   8       -8.214      2.807       6.73\n",
      "   9       -8.169      2.291      6.917\n",
      "  10       -8.102      2.876      5.889\n",
      "  11        -8.07      2.937      7.128\n",
      "  12       -8.054      1.873      2.818\n",
      "  13       -8.025      2.091      3.231\n",
      "  14       -7.951      2.464      3.764\n",
      "  15        -7.95      2.133      6.563\n",
      "  16       -7.931      3.809      7.287\n",
      "  17       -7.929      2.238      3.229\n",
      "  18       -7.884      3.714      7.686\n",
      "  19       -7.879      2.883      6.568\n",
      "  20       -7.805      3.117      7.681\n",
      "******ing Vina grid ... \n",
      "mode |   affinity | dist from best mode\n",
      "     | (kcal/mol) | rmsd l.b.| rmsd u.b.\n",
      "-----+------------+----------+----------\n",
      "   1       -7.886          0          0\n",
      "   2        -7.78      1.503      2.093\n",
      "   3       -7.753      2.423       3.91\n",
      "   4       -7.708      2.587       3.49\n",
      "   5       -7.675      2.554      4.528\n",
      "   6       -7.304       3.13      7.433\n",
      "   7       -7.224       2.59      4.253\n",
      "   8       -7.203      3.429      4.889\n",
      "   9       -7.193      2.762      5.811\n",
      "  10       -7.189      2.328      6.856\n",
      "  11       -7.167      2.039      6.636\n",
      "  12       -7.158      1.997      6.497\n",
      "  13         -7.1      2.326      6.561\n",
      "  14       -7.085      2.625      4.119\n",
      "  15       -7.024       2.51      4.498\n",
      "  16       -6.979      3.293      5.117\n",
      "  17       -6.921      2.797      6.726\n",
      "  18       -6.894      2.705       5.78\n",
      "  19       -6.789      2.065      5.641\n",
      "  20       -6.788      2.723      5.602\n",
      "Computing Vina grid ... *done.\n",
      "Performing docking (random seed: 743521455) ... \n",
      "0%   10   20   30   40   50   60   70   80   90   100%\n",
      "|----|----|----|----|----|----|----|----|----|----|\n",
      "*"
     ]
    },
    {
     "name": "stderr",
     "output_type": "stream",
     "text": [
      "WARNING: At low exhaustiveness, it may be impossible to utilize all CPUs.\n"
     ]
    },
    {
     "name": "stdout",
     "output_type": "stream",
     "text": [
      "**\n",
      "mode |   affinity | dist from best mode\n",
      "     | (kcal/mol) | rmsd l.b.| rmsd u.b.\n",
      "-----+------------+----------+----------\n",
      "   1       -9.243          0          0\n",
      "   2       -8.859      3.158      8.602\n",
      "   3       -8.582      3.298      8.741\n",
      "   4       -8.528       2.62      8.911\n",
      "   5       -8.432      3.107      5.144\n",
      "   6       -8.252      3.551      8.174\n",
      "   7       -8.216       2.42      3.978\n",
      "   8       -8.157      2.723      8.136\n",
      "   9       -8.094      1.574      2.259\n",
      "  10       -8.073      2.663      7.423\n",
      "  11       -7.969      3.024      4.912\n",
      "  12       -7.968      1.893      8.198\n",
      "  13       -7.914      3.433      7.303\n",
      "  14       -7.913      2.806      4.911\n",
      "  15       -7.895      2.857      8.492\n",
      "  16       -7.884      2.859      4.654\n",
      "  17       -7.842      4.181      6.332\n",
      "  18       -7.816      3.137      5.421\n",
      "  19       -7.803      3.137      8.368\n",
      "  20       -7.726      3.562      8.014\n",
      "***done.g Vina grid ... \n",
      "*Performing docking (random seed: -6043622) ... \n",
      "0%   10   20   30   40   50   60   70   80   90   100%\n",
      "|----|----|----|----|----|----|----|----|----|----|\n",
      "*"
     ]
    },
    {
     "name": "stderr",
     "output_type": "stream",
     "text": [
      "WARNING: At low exhaustiveness, it may be impossible to utilize all CPUs.\n"
     ]
    },
    {
     "name": "stdout",
     "output_type": "stream",
     "text": [
      "**************done.\n",
      "*Performing docking (random seed: 564331441) ... \n",
      "0%   10   20   30   40   50   60   70   80   90   100%\n",
      "|----|----|----|----|----|----|----|----|----|----|\n",
      "*"
     ]
    },
    {
     "name": "stderr",
     "output_type": "stream",
     "text": [
      "WARNING: At low exhaustiveness, it may be impossible to utilize all CPUs.\n"
     ]
    },
    {
     "name": "stdout",
     "output_type": "stream",
     "text": [
      "*done.\n",
      "*Performing docking (random seed: -1718371297) ... \n",
      "0%   10   20   30   40   50   60   70   80   90   100%\n",
      "|----|----|----|----|----|----|----|----|----|----|\n",
      "**"
     ]
    },
    {
     "name": "stderr",
     "output_type": "stream",
     "text": [
      "WARNING: At low exhaustiveness, it may be impossible to utilize all CPUs.\n"
     ]
    },
    {
     "name": "stdout",
     "output_type": "stream",
     "text": [
      "done.\n",
      "Performing docking (random seed: 2142476578) ... \n",
      "0%   10   20   30   40   50   60   70   80   90   100%\n",
      "|----|----|----|----|----|----|----|----|----|----|\n",
      "*"
     ]
    },
    {
     "name": "stderr",
     "output_type": "stream",
     "text": [
      "WARNING: At low exhaustiveness, it may be impossible to utilize all CPUs.\n"
     ]
    },
    {
     "name": "stdout",
     "output_type": "stream",
     "text": [
      "*********\n",
      "***"
     ]
    },
    {
     "name": "stderr",
     "output_type": "stream",
     "text": [
      "1 molecule converted\n",
      "1 molecule converted\n"
     ]
    },
    {
     "name": "stdout",
     "output_type": "stream",
     "text": [
      "*"
     ]
    },
    {
     "name": "stderr",
     "output_type": "stream",
     "text": [
      "1 molecule converted\n"
     ]
    },
    {
     "name": "stdout",
     "output_type": "stream",
     "text": [
      "here\n",
      "CC(=O)N1C[C@@H]2C[C@H]1c1c([O-])n(-c3cncc4ccccc34)c(=O)n12 SARS-CoV-2 Mpro\n",
      "Processing /home/xchen/Work/asap-polaris-blind-challenge-examples/SMILESopt/xtbopt_00079.xyz in docking/79\n",
      "**"
     ]
    },
    {
     "name": "stderr",
     "output_type": "stream",
     "text": [
      "1 molecule converted\n"
     ]
    },
    {
     "name": "stdout",
     "output_type": "stream",
     "text": [
      "**"
     ]
    },
    {
     "name": "stderr",
     "output_type": "stream",
     "text": [
      "1 molecule converted\n"
     ]
    },
    {
     "name": "stdout",
     "output_type": "stream",
     "text": [
      "************************\n",
      "mode |   affinity | dist from best mode\n",
      "     | (kcal/mol) | rmsd l.b.| rmsd u.b.\n",
      "-----+------------+----------+----------\n",
      "   1       -7.506          0          0\n",
      "   2       -7.307      1.497       6.71\n",
      "   3       -7.042      1.376      2.311\n",
      "   4       -7.017       1.76      3.072\n",
      "   5       -7.017      1.666      6.666\n",
      "   6       -6.757       1.66      6.621\n",
      "   7       -6.708      2.581      6.615\n",
      "   8       -6.696      2.602      4.677\n",
      "   9       -6.568       2.92      6.086\n",
      "  10       -6.551      2.591      4.463\n",
      "  11        -6.55       1.91      6.541\n",
      "  12       -6.481      2.039      6.615\n",
      "  13         -6.4      2.583      6.282\n",
      "  14       -6.142      3.559      5.388\n",
      "  15       -6.141      2.977       4.46\n",
      "  16        -6.07      5.177      8.428\n",
      "  17       -6.041      2.095      6.345\n",
      "  18       -6.024      3.268      5.833\n",
      "  19       -5.848      1.995      5.958\n",
      "*******************************done.\n"
     ]
    },
    {
     "name": "stderr",
     "output_type": "stream",
     "text": [
      "WARNING: At low exhaustiveness, it may be impossible to utilize all CPUs.\n"
     ]
    },
    {
     "name": "stdout",
     "output_type": "stream",
     "text": [
      "Performing docking (random seed: 840507508) ... \n",
      "0%   10   20   30   40   50   60   70   80   90   100%\n",
      "|----|----|----|----|----|----|----|----|----|----|\n",
      "******************************************************************************************************************************************************************\n",
      "**"
     ]
    },
    {
     "name": "stderr",
     "output_type": "stream",
     "text": [
      "1 molecule converted\n",
      "1 molecule converted\n"
     ]
    },
    {
     "name": "stdout",
     "output_type": "stream",
     "text": [
      "*"
     ]
    },
    {
     "name": "stderr",
     "output_type": "stream",
     "text": [
      "1 molecule converted\n",
      "1 molecule converted\n"
     ]
    },
    {
     "name": "stdout",
     "output_type": "stream",
     "text": [
      "here\n",
      "CNC(=O)CN1C[C@@]2(C(=O)N(c3cncc4ccccc34)C[C@@H]2CS(=O)(=O)NC)c2cc(Cl)ccc2C1=O SARS-CoV-2 Mpro\n",
      "Processing /home/xchen/Work/asap-polaris-blind-challenge-examples/SMILESopt/xtbopt_00056.xyz in docking/56\n",
      "**"
     ]
    },
    {
     "name": "stderr",
     "output_type": "stream",
     "text": [
      "1 molecule converted\n"
     ]
    },
    {
     "name": "stdout",
     "output_type": "stream",
     "text": [
      "*********\n",
      "**"
     ]
    },
    {
     "name": "stderr",
     "output_type": "stream",
     "text": [
      "1 molecule converted\n",
      "1 molecule converted\n"
     ]
    },
    {
     "name": "stdout",
     "output_type": "stream",
     "text": [
      "*here\n"
     ]
    },
    {
     "name": "stderr",
     "output_type": "stream",
     "text": [
      "1 molecule converted\n",
      "1 molecule converted\n"
     ]
    },
    {
     "name": "stdout",
     "output_type": "stream",
     "text": [
      "CC1CCN(C(=O)Cc2cncc3ccccc23)CC1 SARS-CoV-2 Mpro\n",
      "Processing /home/xchen/Work/asap-polaris-blind-challenge-examples/SMILESopt/xtbopt_00080.xyz in docking/80\n",
      "**"
     ]
    },
    {
     "name": "stderr",
     "output_type": "stream",
     "text": [
      "1 molecule converted\n"
     ]
    },
    {
     "name": "stdout",
     "output_type": "stream",
     "text": [
      "**********\n",
      "mode |   affinity | dist from best mode\n",
      "     | (kcal/mol) | rmsd l.b.| rmsd u.b.\n",
      "-----+------------+----------+----------\n",
      "   1       -8.893          0          0\n",
      "   2       -8.546      2.041      3.325\n",
      "   3        -8.17       2.79      8.333\n",
      "   4       -8.128      1.194      2.121\n",
      "   5       -8.101      2.283      3.042\n",
      "   6       -7.829      1.458      1.565\n",
      "   7       -7.589      3.355      8.386\n",
      "   8       -7.551      2.048      2.966\n",
      "   9       -7.463        1.8      2.474\n",
      "  10        -7.36      3.534      8.116\n",
      "  11       -7.287      3.943      8.252\n",
      "  12       -7.179      5.185      10.14\n",
      "  13       -7.121      4.434      5.929\n",
      "  14       -7.046      4.299      7.988\n",
      "  15       -6.965       4.41      6.537\n",
      "  16        -6.94      4.715      8.016\n",
      "  17       -6.857      3.145      4.817\n",
      "  18       -6.844      6.115      9.323\n",
      "  19       -6.821      3.239      8.334\n",
      "  20       -6.818      5.987         11\n",
      "****uting Vina grid ... \n",
      "mode |   affinity | dist from best mode\n",
      "     | (kcal/mol) | rmsd l.b.| rmsd u.b.\n",
      "-----+------------+----------+----------\n",
      "   1       -7.839          0          0\n",
      "   2       -7.339      4.284      5.958\n",
      "   3       -6.976      5.058      6.282\n",
      "   4       -6.914      1.525       2.67\n",
      "   5       -6.835      2.799      3.553\n",
      "   6       -6.804      2.309      7.028\n",
      "   7       -6.734      4.259      5.325\n",
      "   8       -6.714      2.198      6.894\n",
      "   9       -6.669      3.337      6.515\n",
      "  10       -6.654      2.701      3.963\n",
      "  11        -6.59       3.85      5.438\n",
      "  12       -6.467      2.919      4.562\n",
      "  13       -6.464      5.855      7.658\n",
      "  14       -6.411       3.17      6.672\n",
      "  15       -6.383      3.717       7.17\n",
      "  16       -6.353      3.771      7.484\n",
      "  17       -6.325      5.539      9.545\n",
      "  18        -6.27      6.366          9\n",
      "  19        -6.27      6.237       7.97\n",
      "  20       -6.249      2.742      3.601\n",
      "*************done.d ... \n",
      "Performing docking (random seed: -1123834231) ... *\n",
      "0%   10   20   30   40   50   60   70   80   90   100%\n",
      "|----|----|----|----|----|----|----|----|----|----|\n",
      "*"
     ]
    },
    {
     "name": "stderr",
     "output_type": "stream",
     "text": [
      "WARNING: At low exhaustiveness, it may be impossible to utilize all CPUs.\n"
     ]
    },
    {
     "name": "stdout",
     "output_type": "stream",
     "text": [
      "****************done.\n",
      "**Performing docking (random seed: -1400748707) ... "
     ]
    },
    {
     "name": "stderr",
     "output_type": "stream",
     "text": [
      "WARNING: At low exhaustiveness, it may be impossible to utilize all CPUs.\n"
     ]
    },
    {
     "name": "stdout",
     "output_type": "stream",
     "text": [
      "\n",
      "0%   10   20   30   40   50   60   70   80   90   100%\n",
      "|----|----|----|----|----|----|----|----|----|----|\n",
      "************\n",
      "*\n",
      "****"
     ]
    },
    {
     "name": "stderr",
     "output_type": "stream",
     "text": [
      "1 molecule converted\n",
      "1 molecule converted\n",
      "1 molecule converted\n"
     ]
    },
    {
     "name": "stdout",
     "output_type": "stream",
     "text": [
      "**"
     ]
    },
    {
     "name": "stderr",
     "output_type": "stream",
     "text": [
      "1 molecule converted\n",
      "1 molecule converted\n",
      "1 molecule converted\n"
     ]
    },
    {
     "name": "stdout",
     "output_type": "stream",
     "text": [
      "here\n",
      "CNC(=O)CN1C[C@@]2(C(=O)N(c3cncc4ccccc34)C[C@@H]2Cn2cccn2)c2cc(Cl)ccc2C1=O SARS-CoV-2 Mpro\n",
      "Processing /home/xchen/Work/asap-polaris-blind-challenge-examples/SMILESopt/xtbopt_00028.xyz in docking/28\n",
      "here\n",
      "*C[NH2+]CCN1C[C@@]2(C(=O)N(c3cncc4ccccc34)C[C@@H]2CNc2ncncn2)c2cc(Cl)ccc2C1=O"
     ]
    },
    {
     "name": "stderr",
     "output_type": "stream",
     "text": [
      "1 molecule converted\n",
      "1 molecule converted\n"
     ]
    },
    {
     "name": "stdout",
     "output_type": "stream",
     "text": [
      " MERS-CoV Mpro\n",
      "Processing /home/xchen/Work/asap-polaris-blind-challenge-examples/SMILESopt/xtbopt_00059.xyz in docking/59\n",
      "**"
     ]
    },
    {
     "name": "stderr",
     "output_type": "stream",
     "text": [
      "1 molecule converted\n",
      "1 molecule converted\n"
     ]
    },
    {
     "name": "stdout",
     "output_type": "stream",
     "text": [
      "**********************************\n",
      "mode |   affinity | dist from best mode\n",
      "     | (kcal/mol) | rmsd l.b.| rmsd u.b.\n",
      "-----+------------+----------+----------\n",
      "   1       -8.419          0          0\n",
      "   2       -8.342      3.358      7.056\n",
      "   3       -8.318      3.276      7.562\n",
      "   4       -8.195      3.182      7.468\n",
      "   5       -8.041      1.099      1.494\n",
      "   6       -7.751       3.25      7.489\n",
      "   7       -7.585      2.587      5.387\n",
      "   8       -7.502      3.341      7.041\n",
      "   9       -7.466      3.286      7.566\n",
      "  10       -7.463      4.028      7.209\n",
      "  11        -7.45       3.17      5.849\n",
      "  12       -7.388      2.544      5.927\n",
      "  13       -7.362      3.092      5.648\n",
      "  14       -7.331      2.352      3.179\n",
      "  15        -7.33      3.622      6.418\n",
      "  16        -7.29      3.297      6.913\n",
      "  17       -7.187      3.286      5.119\n",
      "  18       -7.172      3.241      6.263\n",
      "  19       -7.091      3.675      6.646\n",
      "Computing Vina grid ... *\n",
      "mode |   affinity | dist from best mode\n",
      "     | (kcal/mol) | rmsd l.b.| rmsd u.b.\n",
      "-----+------------+----------+----------\n",
      "   1        -7.45          0          0\n",
      "   2         -7.4      2.568      5.183\n",
      "   3       -7.339      1.724       4.32\n",
      "   4       -7.241      1.933      4.525\n",
      "   5       -7.238      3.198      6.816\n",
      "   6       -7.203      1.823      2.958\n",
      "   7       -7.196      2.344      5.664\n",
      "   8       -7.191       3.22      7.409\n",
      "   9       -7.176      1.989      4.785\n",
      "  10       -7.079      1.478      2.151\n",
      "  11       -7.035      1.998      4.643\n",
      "  12       -6.985      2.505      5.862\n",
      "  13       -6.886      2.352      5.818\n",
      "  14       -6.883      2.157      6.216\n",
      "  15       -6.794      1.857      2.528\n",
      "  16       -6.731      1.809      6.006\n",
      "  17       -6.712      2.058      6.214\n",
      "  18       -6.708      2.846      5.493\n",
      "  19        -6.66        2.6       5.96\n",
      "  20       -6.583      2.779      4.543\n",
      "******************done. \n",
      "*Performing docking (random seed: -1588482498) ... \n",
      "0%   10   20   30   40   50   60   70   80   90   100%\n",
      "|----|----|----|----|----|----|----|----|----|----|\n",
      "*"
     ]
    },
    {
     "name": "stderr",
     "output_type": "stream",
     "text": [
      "WARNING: At low exhaustiveness, it may be impossible to utilize all CPUs.\n"
     ]
    },
    {
     "name": "stdout",
     "output_type": "stream",
     "text": [
      "*\n",
      "**done.\n"
     ]
    },
    {
     "name": "stderr",
     "output_type": "stream",
     "text": [
      "1 molecule converted\n",
      "1 molecule converted\n",
      "WARNING: At low exhaustiveness, it may be impossible to utilize all CPUs.\n"
     ]
    },
    {
     "name": "stdout",
     "output_type": "stream",
     "text": [
      "Performing docking (random seed: -1848988757) ... \n",
      "0%   10   20   30   40   50   60   70   80   90   100%\n",
      "|----|----|----|----|----|----|----|----|----|----|\n",
      "here\n"
     ]
    },
    {
     "name": "stderr",
     "output_type": "stream",
     "text": [
      "1 molecule converted\n",
      "1 molecule converted\n"
     ]
    },
    {
     "name": "stdout",
     "output_type": "stream",
     "text": [
      "CNC(=O)CN1C[C@@]2(C(=O)N(c3cncc4ccccc34)C[C@@H]2CS(=O)(=O)N(C)C)c2cc(F)ccc2C1=O SARS-CoV-2 Mpro\n",
      "Processing /home/xchen/Work/asap-polaris-blind-challenge-examples/SMILESopt/xtbopt_00081.xyz in docking/81\n"
     ]
    },
    {
     "name": "stderr",
     "output_type": "stream",
     "text": [
      "1 molecule converted\n"
     ]
    },
    {
     "name": "stdout",
     "output_type": "stream",
     "text": [
      "****\n",
      "*\n",
      "here\n"
     ]
    },
    {
     "name": "stderr",
     "output_type": "stream",
     "text": [
      "1 molecule converted\n",
      "1 molecule converted\n",
      "1 molecule converted\n",
      "1 molecule converted\n"
     ]
    },
    {
     "name": "stdout",
     "output_type": "stream",
     "text": [
      "CNC(=O)CN1C[C@@]2(C(=O)N(c3cncc4ccccc34)C[C@@H]2COC)c2cc(Cl)ccc2C1=O SARS-CoV-2 Mpro\n",
      "**Processing /home/xchen/Work/asap-polaris-blind-challenge-examples/SMILESopt/xtbopt_00086.xyz in docking/86\n"
     ]
    },
    {
     "name": "stderr",
     "output_type": "stream",
     "text": [
      "1 molecule converted\n",
      "1 molecule converted\n",
      "1 molecule converted\n",
      "1 molecule converted\n",
      "1 molecule converted\n"
     ]
    },
    {
     "name": "stdout",
     "output_type": "stream",
     "text": [
      "here\n",
      "CNC(=O)CN1C[C@@]2(C(=O)N(c3cncc4ccccc34)C[C@@H]2CNc2ccncn2)c2cc(Cl)ccc2C1=O SARS-CoV-2 Mpro\n",
      "Processing /home/xchen/Work/asap-polaris-blind-challenge-examples/SMILESopt/xtbopt_00066.xyz in docking/66\n",
      "**"
     ]
    },
    {
     "name": "stderr",
     "output_type": "stream",
     "text": [
      "1 molecule converted\n"
     ]
    },
    {
     "name": "stdout",
     "output_type": "stream",
     "text": [
      "********\n",
      "mode |   affinity | dist from best mode\n",
      "     | (kcal/mol) | rmsd l.b.| rmsd u.b.\n",
      "-----+------------+----------+----------\n",
      "   1       -6.947          0          0\n",
      "   2       -6.402      2.065      2.512\n",
      "   3       -6.401      1.187      1.675\n",
      "   4       -6.351      2.981      6.897\n",
      "   5       -6.332      1.498      1.905\n",
      "   6       -6.278      2.096      3.229\n",
      "   7       -6.256      2.201      2.907\n",
      "   8       -6.101      1.609      6.975\n",
      "   9       -6.072      4.511      7.063\n",
      "  10       -6.049      5.212      7.045\n",
      "  11       -6.042      4.862      6.678\n",
      "  12       -6.032      4.918      7.373\n",
      "  13       -6.031      3.098      6.728\n",
      "  14       -6.018       2.36      7.047\n",
      "  15       -6.012      4.857      6.806\n",
      "  16       -6.007      4.186      5.916\n",
      "  17       -6.004      5.049       6.33\n",
      "  18       -5.976      2.305      6.684\n",
      "  19       -5.954      13.21      15.18\n",
      "  20       -5.913      1.795      7.306\n",
      "*omputing Vina grid ... **\n",
      "*\n",
      "mode |   affinity | dist from best mode\n",
      "     | (kcal/mol) | rmsd l.b.| rmsd u.b.\n",
      "-----+------------+----------+----------\n",
      "   1       -8.168          0          0\n",
      "   2       -8.094       3.57      6.697\n",
      "   3       -8.054      1.532      1.595\n",
      "   4       -8.038      2.962       6.77\n",
      "   5       -8.035      3.658       7.19\n",
      "   6       -7.934      1.044      1.528\n",
      "   7       -7.879      2.527      6.416\n",
      "   8       -7.857      1.406      1.907\n",
      "   9       -7.851      2.996      7.032\n",
      "  10       -7.819       2.97       6.96\n",
      "  11       -7.785      3.085       6.92\n",
      "  12       -7.757      3.563      6.019\n",
      "  13       -7.548      2.643      4.753\n",
      "  14       -7.423       2.87      5.509\n",
      "  15       -7.377      3.113      6.192\n",
      "  16       -7.372      2.563      4.793\n",
      "  17       -7.345      2.247      3.261\n",
      "  18       -7.284      2.548      5.844\n",
      "  19       -7.223      1.648      2.434\n",
      "  20       -7.186      3.045      6.028\n",
      "Computing Vina grid ... "
     ]
    },
    {
     "name": "stderr",
     "output_type": "stream",
     "text": [
      "1 molecule converted\n",
      "1 molecule converted\n"
     ]
    },
    {
     "name": "stdout",
     "output_type": "stream",
     "text": [
      "*"
     ]
    },
    {
     "name": "stderr",
     "output_type": "stream",
     "text": [
      "1 molecule converted\n",
      "1 molecule converted\n"
     ]
    },
    {
     "name": "stdout",
     "output_type": "stream",
     "text": [
      "*here\n",
      "O=C(Cc1cncc2ccccc12)N1CCC(C(F)(F)F)CC1 SARS-CoV-2 Mpro\n",
      "Processing /home/xchen/Work/asap-polaris-blind-challenge-examples/SMILESopt/xtbopt_00072.xyz in docking/72\n",
      "**\n",
      "mode |   affinity | dist from best mode\n",
      "     | (kcal/mol) | rmsd l.b.| rmsd u.b.\n",
      "-----+------------+----------+----------\n",
      "   1        -9.28          0          0\n",
      "   2       -9.241      4.458      7.128\n",
      "   3       -9.088      4.143      6.813\n",
      "   4       -8.829      4.106      6.515\n",
      "   5       -8.503        4.7      7.482\n",
      "   6       -8.502      3.752      7.811\n",
      "   7       -8.377      3.534      7.975\n",
      "   8       -8.362      3.154      6.081\n",
      "   9       -8.294      2.053      7.732\n",
      "  10       -8.282      3.141      6.329\n",
      "  11       -8.105       1.35      2.108\n",
      "  12       -8.007       3.42      7.515\n",
      "  13       -8.002      3.374      6.091\n",
      "  14       -7.882      3.345      7.753\n",
      "  15       -7.737      4.327      8.535\n",
      "  16       -7.737      2.952       5.83\n",
      "  17       -7.668      4.118      6.922\n",
      "  18       -7.597      2.754      3.928\n",
      "  19       -7.584      3.089      5.693\n",
      "  20       -7.546      3.324      7.349\n",
      "Computing Vina grid ... "
     ]
    },
    {
     "name": "stderr",
     "output_type": "stream",
     "text": [
      "1 molecule converted\n"
     ]
    },
    {
     "name": "stdout",
     "output_type": "stream",
     "text": [
      "********\n",
      "mode |   affinity | dist from best mode\n",
      "     | (kcal/mol) | rmsd l.b.| rmsd u.b.\n",
      "-----+------------+----------+----------\n",
      "   1       -7.842          0          0\n",
      "   2       -7.818      3.097      6.123\n",
      "   3       -7.704      3.278      6.479\n",
      "   4       -7.639      3.285      6.789\n",
      "   5       -7.462      3.388      6.719\n",
      "   6       -7.442      3.369      6.785\n",
      "   7       -7.335      3.051      6.359\n",
      "   8        -7.22      1.007      1.633\n",
      "   9       -7.078      2.745      6.125\n",
      "  10       -7.042      1.646      2.599\n",
      "  11       -7.007      2.586      5.572\n",
      "  12        -6.96          3      7.159\n",
      "  13       -6.958      3.432      6.501\n",
      "  14       -6.877      1.814      2.723\n",
      "  15       -6.858      2.696      6.502\n",
      "  16       -6.845       2.78      6.421\n",
      "  17        -6.83      2.114      5.953\n",
      "  18       -6.772       2.95      6.833\n",
      "  19       -6.624      1.899      2.986\n",
      "  20       -6.599      3.434      6.327\n",
      "**done.ng Vina grid ... \n",
      "done.\n"
     ]
    },
    {
     "name": "stderr",
     "output_type": "stream",
     "text": [
      "WARNING: At low exhaustiveness, it may be impossible to utilize all CPUs.\n",
      "WARNING: At low exhaustiveness, it may be impossible to utilize all CPUs.\n"
     ]
    },
    {
     "name": "stdout",
     "output_type": "stream",
     "text": [
      "Performing docking (random seed: 870250246) ... Performing docking (random seed: 977275609) ... *\n",
      "0%   10   20   30   40   50   60   70   80   90   100%\n",
      "|----|----|----|----|----|----|----|----|----|----|\n",
      "*\n",
      "0%   10   20   30   40   50   60   70   80   90   100%\n",
      "|----|----|----|----|----|----|----|----|----|----|\n",
      "******done.\n",
      "Performing docking (random seed: 1071571934) ... "
     ]
    },
    {
     "name": "stderr",
     "output_type": "stream",
     "text": [
      "WARNING: At low exhaustiveness, it may be impossible to utilize all CPUs.\n"
     ]
    },
    {
     "name": "stdout",
     "output_type": "stream",
     "text": [
      "\n",
      "0%   10   20   30   40   50   60   70   80   90   100%\n",
      "|----|----|----|----|----|----|----|----|----|----|\n",
      "************done.\n",
      "Performing docking (random seed: 1235448243) ... \n",
      "0%   10   20   30   40   50   60   70   80   90   100%\n",
      "|----|----|----|----|----|----|----|----|----|----|\n",
      "***"
     ]
    },
    {
     "name": "stderr",
     "output_type": "stream",
     "text": [
      "WARNING: At low exhaustiveness, it may be impossible to utilize all CPUs.\n"
     ]
    },
    {
     "name": "stdout",
     "output_type": "stream",
     "text": [
      "******************************************************************************************************************************************************************\n",
      "***"
     ]
    },
    {
     "name": "stderr",
     "output_type": "stream",
     "text": [
      "1 molecule converted\n",
      "1 molecule converted\n"
     ]
    },
    {
     "name": "stdout",
     "output_type": "stream",
     "text": [
      "*"
     ]
    },
    {
     "name": "stderr",
     "output_type": "stream",
     "text": [
      "1 molecule converted\n",
      "1 molecule converted\n"
     ]
    },
    {
     "name": "stdout",
     "output_type": "stream",
     "text": [
      "here\n",
      "*\n",
      "Cc1cnc(CN2C[C@@]3(C(=O)N(c4cncc5ccccc45)C[C@@H]3C)c3cc(F)ccc3C2=O)cn1 SARS-CoV-2 Mpro\n",
      "Processing /home/xchen/Work/asap-polaris-blind-challenge-examples/SMILESopt/xtbopt_00007.xyz in docking/7\n",
      "**"
     ]
    },
    {
     "name": "stderr",
     "output_type": "stream",
     "text": [
      "1 molecule converted\n",
      "1 molecule converted\n",
      "1 molecule converted\n"
     ]
    },
    {
     "name": "stdout",
     "output_type": "stream",
     "text": [
      "**"
     ]
    },
    {
     "name": "stderr",
     "output_type": "stream",
     "text": [
      "1 molecule converted\n",
      "1"
     ]
    },
    {
     "name": "stdout",
     "output_type": "stream",
     "text": [
      "here\n",
      "O=C(Cc1cncc2ccccc12)N1CCCC[C@H]1c1ccccc1 SARS-CoV-2 Mpro\n"
     ]
    },
    {
     "name": "stderr",
     "output_type": "stream",
     "text": [
      " molecule converted\n"
     ]
    },
    {
     "name": "stdout",
     "output_type": "stream",
     "text": [
      "Processing /home/xchen/Work/asap-polaris-blind-challenge-examples/SMILESopt/xtbopt_00073.xyz in docking/73\n",
      "**"
     ]
    },
    {
     "name": "stderr",
     "output_type": "stream",
     "text": [
      "1 molecule converted\n"
     ]
    },
    {
     "name": "stdout",
     "output_type": "stream",
     "text": [
      "***************\n",
      "mode |   affinity | dist from best mode\n",
      "     | (kcal/mol) | rmsd l.b.| rmsd u.b.\n",
      "-----+------------+----------+----------\n",
      "   1       -6.923          0          0\n",
      "   2       -6.835      4.574      7.475\n",
      "   3       -6.743      2.035      3.098\n",
      "   4       -6.726      3.998      7.034\n",
      "   5       -6.659      4.964      7.348\n",
      "   6       -6.576      4.072      5.704\n",
      "   7       -6.563      3.985      7.453\n",
      "   8       -6.556      2.827      3.939\n",
      "   9       -6.551      4.199      7.856\n",
      "  10       -6.518      4.901      6.278\n",
      "  11       -6.477      4.751      6.362\n",
      "  12       -6.471      5.402       7.26\n",
      "  13       -6.411      3.387      5.176\n",
      "  14       -6.395      4.695      6.921\n",
      "  15        -6.35      4.357      7.179\n",
      "  16       -6.343      6.296      7.847\n",
      "  17       -6.321      2.094      2.637\n",
      "  18       -6.298      4.927      7.953\n",
      "  19       -6.293      1.412      2.435\n",
      "  20       -6.161      4.721      7.191\n",
      "Computing Vina grid ... \n",
      "mode |   affinity | dist from best mode\n",
      "     | (kcal/mol) | rmsd l.b.| rmsd u.b.\n",
      "-----+------------+----------+----------\n",
      "   1       -8.831          0          0\n",
      "   2       -8.676      3.405      6.367\n",
      "   3       -8.374      3.094      6.284\n",
      "   4       -8.314      2.782      6.761\n",
      "   5        -8.18      3.156      5.942\n",
      "   6       -8.003       3.22      6.989\n",
      "   7       -7.951      3.138      6.255\n",
      "   8       -7.881       3.37      7.916\n",
      "   9       -7.709      3.287       6.01\n",
      "  10       -7.666      3.057      6.835\n",
      "  11       -7.645      3.252      7.159\n",
      "  12       -7.591      2.965       6.88\n",
      "  13        -7.59      1.583      2.306\n",
      "  14        -7.44      3.034      6.438\n",
      "  15       -7.429      3.595      7.591\n",
      "  16       -7.378      3.525      6.288\n",
      "  17        -7.36      4.077      7.455\n",
      "  18       -7.328      4.545      7.941\n",
      "  19       -7.316      5.404      8.758\n",
      "  20       -7.276      3.678      7.313\n",
      "*******************done.\n",
      "Performing docking (random seed: -323628277) ... "
     ]
    },
    {
     "name": "stderr",
     "output_type": "stream",
     "text": [
      "WARNING: At low exhaustiveness, it may be impossible to utilize all CPUs.\n"
     ]
    },
    {
     "name": "stdout",
     "output_type": "stream",
     "text": [
      "\n",
      "0%   10   20   30   40   50   60   70   80   90   100%\n",
      "|----|----|----|----|----|----|----|----|----|----|\n",
      "*****done.\n"
     ]
    },
    {
     "name": "stderr",
     "output_type": "stream",
     "text": [
      "WARNING: At low exhaustiveness, it may be impossible to utilize all CPUs.\n"
     ]
    },
    {
     "name": "stdout",
     "output_type": "stream",
     "text": [
      "Performing docking (random seed: -24065012) ... *\n",
      "0%   10   20   30   40   50   60   70   80   90   100%\n",
      "|----|----|----|----|----|----|----|----|----|----|\n",
      "********************************************************************\n",
      "***"
     ]
    },
    {
     "name": "stderr",
     "output_type": "stream",
     "text": [
      "1 molecule converted\n",
      "1 molecule converted\n"
     ]
    },
    {
     "name": "stdout",
     "output_type": "stream",
     "text": [
      "*"
     ]
    },
    {
     "name": "stderr",
     "output_type": "stream",
     "text": [
      "1 molecule converted\n",
      "1 molecule converted\n"
     ]
    },
    {
     "name": "stdout",
     "output_type": "stream",
     "text": [
      "here\n",
      "C[C@H]1CN(c2cncc3ccccc23)C(=O)[C@@]12CN(CCN1CCS(=O)(=O)CC1)C(=O)c1ccc(Cl)cc12 MERS-CoV Mpro*\n",
      "Processing /home/xchen/Work/asap-polaris-blind-challenge-examples/SMILESopt/xtbopt_00087.xyz in docking/87\n",
      "**"
     ]
    },
    {
     "name": "stderr",
     "output_type": "stream",
     "text": [
      "1 molecule converted\n"
     ]
    },
    {
     "name": "stdout",
     "output_type": "stream",
     "text": [
      "****\n",
      "**"
     ]
    },
    {
     "name": "stderr",
     "output_type": "stream",
     "text": [
      "1 molecule converted\n",
      "1 molecule converted\n"
     ]
    },
    {
     "name": "stdout",
     "output_type": "stream",
     "text": [
      "***"
     ]
    },
    {
     "name": "stderr",
     "output_type": "stream",
     "text": [
      "1 molecule converted\n",
      "1 molecule converted\n"
     ]
    },
    {
     "name": "stdout",
     "output_type": "stream",
     "text": [
      "*here\n",
      "CNC(=O)CN1C[C@@]2(C(=O)N(c3cncc4ccccc34)C[C@@H]2CNc2cnc(C)s2)c2cc(Cl)ccc2C1=O SARS-CoV-2 Mpro\n",
      "Processing /home/xchen/Work/asap-polaris-blind-challenge-examples/SMILESopt/xtbopt_00092.xyz in docking/92\n",
      "**"
     ]
    },
    {
     "name": "stderr",
     "output_type": "stream",
     "text": [
      "1 molecule converted\n"
     ]
    },
    {
     "name": "stdout",
     "output_type": "stream",
     "text": [
      "***************\n",
      "mode |   affinity | dist from best mode\n",
      "     | (kcal/mol) | rmsd l.b.| rmsd u.b.\n",
      "-----+------------+----------+----------\n",
      "   1       -7.972          0          0\n",
      "   2       -7.471      3.211      5.032\n",
      "   3       -7.347       2.89       4.75\n",
      "   4       -7.314      3.476      6.896\n",
      "   5       -7.206      3.881       8.02\n",
      "   6       -7.194      3.737      5.735\n",
      "   7       -7.077      5.641      7.573\n",
      "   8       -6.998      3.031      6.512\n",
      "   9       -6.961      3.547      5.903\n",
      "  10        -6.92      3.867      6.446\n",
      "  11       -6.859      2.521      4.431\n",
      "  12       -6.677      3.583      5.451\n",
      "  13       -6.646      2.486      7.806\n",
      "  14       -6.614      2.738      7.748\n",
      "  15       -6.564      2.756      4.581\n",
      "  16       -6.482      3.189      5.051\n",
      "  17        -6.47      4.035       6.23\n",
      "  18       -6.429      3.225      6.861\n",
      "  19       -6.348      5.763      8.402\n",
      "  20       -6.341      4.127      7.321\n",
      "****************rid ... **\n",
      "mode |   affinity | dist from best mode\n",
      "     | (kcal/mol) | rmsd l.b.| rmsd u.b.\n",
      "-----+------------+----------+----------\n",
      "   1       -8.527          0          0\n",
      "   2       -8.187       3.53      5.375\n",
      "   3       -7.999      2.892      4.869\n",
      "   4       -7.891      4.277      6.625\n",
      "   5       -7.572      4.021      5.911\n",
      "   6        -7.52      3.325        5.1\n",
      "   7       -7.466      1.375      2.079\n",
      "   8       -7.436      3.652      5.468\n",
      "   9       -7.363      3.758      6.108\n",
      "  10       -7.304      3.653      5.863\n",
      "  11       -7.253      3.205      6.473\n",
      "  12        -7.25       4.36       6.94\n",
      "  13       -7.132      3.977      5.891\n",
      "  14       -7.041       3.97       7.87\n",
      "  15       -6.978      2.939      5.656\n",
      "  16       -6.931       3.54      5.293\n",
      "  17       -6.916       3.18      6.651\n",
      "  18       -6.735      3.242      8.042\n",
      "  19       -6.728      3.458      7.284\n",
      "  20       -6.565      4.826      6.447\n",
      "********done.a grid ... \n",
      "*Performing docking (random seed: -1673121350) ... \n",
      "0%   10   20   30   40   50   60   70   80   90   100%\n",
      "|----|----|----|----|----|----|----|----|----|----|\n",
      "*"
     ]
    },
    {
     "name": "stderr",
     "output_type": "stream",
     "text": [
      "WARNING: At low exhaustiveness, it may be impossible to utilize all CPUs.\n"
     ]
    },
    {
     "name": "stdout",
     "output_type": "stream",
     "text": [
      "*******************done.\n",
      "Performing docking (random seed: -306078863) ... \n",
      "0%   10   20   30   40   50   60   70   80   90   100%\n",
      "|----|----|----|----|----|----|----|----|----|----|\n",
      "**"
     ]
    },
    {
     "name": "stderr",
     "output_type": "stream",
     "text": [
      "WARNING: At low exhaustiveness, it may be impossible to utilize all CPUs.\n"
     ]
    },
    {
     "name": "stdout",
     "output_type": "stream",
     "text": [
      "********\n",
      "**\n",
      "**"
     ]
    },
    {
     "name": "stderr",
     "output_type": "stream",
     "text": [
      "1 molecule converted\n",
      "1 molecule converted\n",
      "1 molecule converted\n",
      "1 molecule converted\n",
      "1 molecule converted\n",
      "1 molecule converted\n",
      "1 molecule converted\n"
     ]
    },
    {
     "name": "stdout",
     "output_type": "stream",
     "text": [
      "here\n",
      "C[C@H]1CN(c2cncc3ccccc23)C(=O)[C@@]12CN(Cc1ccn(C)n1)C(=O)c1ccc(F)cc12 MERS-CoV Mpro\n",
      "Processing /home/xchen/Work/asap-polaris-blind-challenge-examples/SMILESopt/xtbopt_00074.xyz in docking/74\n",
      "here\n",
      "CNC(=O)CN1C[C@@]2(C(=O)N(c3cncc4ccccc34)C[C@@H]2COC)c2cc(Cl)ccc2C1=O MERS-CoV Mpro"
     ]
    },
    {
     "name": "stderr",
     "output_type": "stream",
     "text": [
      "1 molecule converted\n"
     ]
    },
    {
     "name": "stdout",
     "output_type": "stream",
     "text": [
      "\n",
      "*Processing /home/xchen/Work/asap-polaris-blind-challenge-examples/SMILESopt/xtbopt_00099.xyz in docking/99\n"
     ]
    },
    {
     "name": "stderr",
     "output_type": "stream",
     "text": [
      "1 molecule converted\n",
      "1 molecule converted\n"
     ]
    },
    {
     "name": "stdout",
     "output_type": "stream",
     "text": [
      "*******************\n",
      "*\n",
      "mode |   affinity | dist from best mode\n",
      "     | (kcal/mol) | rmsd l.b.| rmsd u.b.\n",
      "-----+------------+----------+----------\n",
      "   1       -8.693          0          0\n",
      "   2       -8.675      3.093      5.896\n",
      "   3       -8.558      3.122      6.191\n",
      "   4       -8.553        3.3      6.383\n",
      "   5       -8.478      2.752      6.581\n",
      "   6       -8.367      2.285      6.433\n",
      "   7       -8.013        2.8      6.547\n",
      "   8        -7.98      1.957      2.684\n",
      "   9        -7.89      3.053      5.903\n",
      "  10       -7.889      3.214      7.104\n",
      "  11       -7.782      3.054        6.8\n",
      "  12       -7.732      2.878      6.178\n",
      "  13       -7.672      2.745      6.589\n",
      "  14        -7.64       2.66      6.055\n",
      "  15       -7.611       2.82      6.329\n",
      "  16        -7.55      2.958      6.402\n",
      "  17       -7.539      3.278      6.668\n",
      "  18       -7.511      2.667      6.107\n",
      "  19       -7.487      2.183      2.867\n",
      "  20       -7.473       2.94      6.332\n",
      "Computing Vina grid ... "
     ]
    },
    {
     "name": "stderr",
     "output_type": "stream",
     "text": [
      "1 molecule converted\n",
      "1 molecule converted\n"
     ]
    },
    {
     "name": "stdout",
     "output_type": "stream",
     "text": [
      "\n",
      "mode |   affinity | dist from best mode\n",
      "     | (kcal/mol) | rmsd l.b.| rmsd u.b.\n",
      "-----+------------+----------+----------\n",
      "   1       -7.329          0          0\n",
      "   2       -7.255      2.548      5.762\n",
      "   3       -7.174      1.714      4.008\n",
      "   4       -7.145      2.148      6.164\n",
      "   5       -7.144      2.738      5.952\n",
      "   6       -6.904      2.635      6.013\n",
      "   7       -6.852      2.323      5.867\n",
      "   8       -6.848      2.694      6.182\n",
      "   9       -6.813      2.111      6.252\n",
      "  10       -6.795      1.862      4.216\n",
      "  11       -6.789      4.379      6.785\n",
      "  12        -6.65      1.847      6.359\n",
      "  13       -6.625      4.744      8.189\n",
      "  14       -6.572      3.964      6.812\n",
      "  15       -6.514      4.725      8.209\n",
      "  16       -6.488      3.765      5.721\n",
      "  17       -6.468      4.403      6.917\n",
      "  18        -6.46       2.25      6.453\n",
      "  19        -6.44      1.549      2.571\n",
      "  20       -6.348      3.654      7.113\n",
      "**hereing Vina grid ... *"
     ]
    },
    {
     "name": "stderr",
     "output_type": "stream",
     "text": [
      "1 molecule converted\n",
      "1 molecule converted\n"
     ]
    },
    {
     "name": "stdout",
     "output_type": "stream",
     "text": [
      "\n",
      "CNC(=O)CN1C[C@@]2(C(=O)N(c3cncc4ccccc34)C[C@@H]2Cc2ccccc2)c2cc(Cl)ccc2C1=O MERS-CoV Mpro\n",
      "Processing /home/xchen/Work/asap-polaris-blind-challenge-examples/SMILESopt/xtbopt_00060.xyz in docking/60\n",
      "**"
     ]
    },
    {
     "name": "stderr",
     "output_type": "stream",
     "text": [
      "1 molecule converted\n"
     ]
    },
    {
     "name": "stdout",
     "output_type": "stream",
     "text": [
      "***********done.\n",
      "*Performing docking (random seed: -1443802649) ... \n",
      "0%   10   20   30   40   50   60   70   80   90   100%\n",
      "|----|----|----|----|----|----|----|----|----|----|\n"
     ]
    },
    {
     "name": "stderr",
     "output_type": "stream",
     "text": [
      "WARNING: At low exhaustiveness, it may be impossible to utilize all CPUs.\n"
     ]
    },
    {
     "name": "stdout",
     "output_type": "stream",
     "text": [
      "****done.\n",
      "Performing docking (random seed: 2082059694) ... *"
     ]
    },
    {
     "name": "stderr",
     "output_type": "stream",
     "text": [
      "WARNING: At low exhaustiveness, it may be impossible to utilize all CPUs.\n"
     ]
    },
    {
     "name": "stdout",
     "output_type": "stream",
     "text": [
      "\n",
      "0%   10   20   30   40   50   60   70   80   90   100%\n",
      "|----|----|----|----|----|----|----|----|----|----|\n",
      "*\n",
      "mode |   affinity | dist from best mode\n",
      "     | (kcal/mol) | rmsd l.b.| rmsd u.b.\n",
      "-----+------------+----------+----------\n",
      "   1       -9.354          0          0\n",
      "   2       -8.737        1.3      1.916\n",
      "   3       -8.563      3.523       7.36\n",
      "   4       -8.537       2.81      5.021\n",
      "   5       -8.298      3.441      6.956\n",
      "   6       -8.232      2.999       7.06\n",
      "   7       -8.186      3.181      5.561\n",
      "   8       -8.171      1.576      2.251\n",
      "   9       -8.063      3.477      7.755\n",
      "  10       -7.895      4.481      8.149\n",
      "  11       -7.851      2.987      7.486\n",
      "  12       -7.834      3.277      8.357\n",
      "  13       -7.834      3.154      8.002\n",
      "  14       -7.821      2.971      7.858\n",
      "  15       -7.757      1.933      2.618\n",
      "  16       -7.741      2.935      7.063\n",
      "  17       -7.709      3.397      7.522\n",
      "  18       -7.658      2.743      3.804\n",
      "  19       -7.648      3.414      6.762\n",
      "  20       -7.602      2.419      5.469\n",
      "**********************done.\n",
      "*\n",
      "*Performing docking (random seed: -917868964) ... \n",
      "0%   10   20   30   40   50   60   70   80   90   100%\n",
      "|----|----|----|----|----|----|----|----|----|----|\n",
      "*"
     ]
    },
    {
     "name": "stderr",
     "output_type": "stream",
     "text": [
      "WARNING: At low exhaustiveness, it may be impossible to utilize all CPUs.\n"
     ]
    },
    {
     "name": "stdout",
     "output_type": "stream",
     "text": [
      "****"
     ]
    },
    {
     "name": "stderr",
     "output_type": "stream",
     "text": [
      "1 molecule converted\n",
      "1 molecule converted\n",
      "1 molecule converted\n",
      "1 molecule converted\n"
     ]
    },
    {
     "name": "stdout",
     "output_type": "stream",
     "text": [
      "here\n",
      "Cn1ncc2cncc(NC(=O)[C@@H]3CNS(=O)(=O)c4ccc(Cl)cc43)c21 SARS-CoV-2 Mpro\n",
      "*\n",
      "Processing /home/xchen/Work/asap-polaris-blind-challenge-examples/SMILESopt/xtbopt_00082.xyz in docking/82\n",
      "**"
     ]
    },
    {
     "name": "stderr",
     "output_type": "stream",
     "text": [
      "1 molecule converted\n",
      "1 molecule converted\n"
     ]
    },
    {
     "name": "stdout",
     "output_type": "stream",
     "text": [
      "*"
     ]
    },
    {
     "name": "stderr",
     "output_type": "stream",
     "text": [
      "1 molecule converted\n",
      "1 molecule converted\n"
     ]
    },
    {
     "name": "stdout",
     "output_type": "stream",
     "text": [
      "here\n",
      "CCNC(=O)CN1C[C@@]2(C(=O)N(c3cncc4ccccc34)C[C@@H]2C)c2cc(Cl)ccc2C1=O SARS-CoV-2 Mpro\n",
      "Processing /home/xchen/Work/asap-polaris-blind-challenge-examples/SMILESopt/xtbopt_00106.xyz in docking/106\n"
     ]
    },
    {
     "name": "stderr",
     "output_type": "stream",
     "text": [
      "1 molecule converted\n"
     ]
    },
    {
     "name": "stdout",
     "output_type": "stream",
     "text": [
      "****"
     ]
    },
    {
     "name": "stderr",
     "output_type": "stream",
     "text": [
      "1 molecule converted\n"
     ]
    },
    {
     "name": "stdout",
     "output_type": "stream",
     "text": [
      "*************\n",
      "mode |   affinity | dist from best mode\n",
      "     | (kcal/mol) | rmsd l.b.| rmsd u.b.\n",
      "-----+------------+----------+----------\n",
      "   1       -8.597          0          0\n",
      "   2       -8.502      1.151       1.43\n",
      "   3       -8.472      2.287      4.178\n",
      "   4       -8.399      2.943      6.845\n",
      "   5       -8.337      2.609      3.942\n",
      "   6       -8.303      2.961      5.761\n",
      "   7       -8.298      2.668      6.767\n",
      "   8       -8.294      3.228      7.357\n",
      "   9       -8.091      1.054       2.07\n",
      "  10        -7.98      3.191      5.973\n",
      "  11       -7.901      3.154      6.918\n",
      "  12       -7.786      2.156      3.008\n",
      "  13       -7.589      2.203      2.986\n",
      "  14       -7.531      3.032      7.442\n",
      "  15       -7.486      3.134      7.233\n",
      "  16        -7.25      3.263      6.214\n",
      "  17       -7.227      3.232      5.651\n",
      "  18       -7.227      3.288      6.116\n",
      "  19       -7.163      3.254      5.021\n",
      "  20       -7.071      3.445      6.037\n",
      "****uting Vina grid ... *\n",
      "**\n",
      "mode |   affinity | dist from best mode\n",
      "     | (kcal/mol) | rmsd l.b.| rmsd u.b.\n",
      "-----+------------+----------+----------\n",
      "   1       -8.059          0          0\n",
      "   2        -7.99     0.9769      2.126\n",
      "   3       -7.867      7.252      10.99\n",
      "   4       -7.856       3.76      6.326\n",
      "   5       -7.775      4.708      9.745\n",
      "   6        -7.73      5.939      8.439\n",
      "   7       -7.683      4.389      7.316\n",
      "   8       -7.652      2.911      7.562\n",
      "   9       -7.599        4.7      7.616\n",
      "  10       -7.547      4.794      8.668\n",
      "  11       -7.544       6.27      10.77\n",
      "  12        -7.49      4.196      7.341\n",
      "  13       -7.453      4.448      7.876\n",
      "  14        -7.44      5.552       8.02\n",
      "  15       -7.435      4.401      7.784\n",
      "  16       -7.408      7.103      10.69\n",
      "  17       -7.398      4.493      9.144\n",
      "  18       -7.301      4.574      7.568\n",
      "  19       -7.266      4.555      7.755\n",
      "  20       -7.223      4.031      6.264\n",
      "Computing Vina grid ... *"
     ]
    },
    {
     "name": "stderr",
     "output_type": "stream",
     "text": [
      "1 molecule converted\n",
      "1 molecule converted\n",
      "1 molecule converted\n"
     ]
    },
    {
     "name": "stdout",
     "output_type": "stream",
     "text": [
      "here\n",
      "C[C@H]1CN(c2cncc3ccccc23)C(=O)[C@@]12CN(Cc1nnnn1C)C(=O)c1ccc(F)cc12 "
     ]
    },
    {
     "name": "stderr",
     "output_type": "stream",
     "text": [
      "1 molecule converted\n"
     ]
    },
    {
     "name": "stdout",
     "output_type": "stream",
     "text": [
      "SARS-CoV-2 Mpro\n",
      "Processing /home/xchen/Work/asap-polaris-blind-challenge-examples/SMILESopt/xtbopt_00067.xyz in docking/67\n",
      "***"
     ]
    },
    {
     "name": "stderr",
     "output_type": "stream",
     "text": [
      "1 molecule converted\n"
     ]
    },
    {
     "name": "stdout",
     "output_type": "stream",
     "text": [
      "*******************\n",
      "mode |   affinity | dist from best mode\n",
      "     | (kcal/mol) | rmsd l.b.| rmsd u.b.\n",
      "-----+------------+----------+----------\n",
      "   1       -10.34          0          0\n",
      "   2       -10.28      1.109      1.654\n",
      "   3       -9.583      1.612      2.323\n",
      "   4        -8.98      2.928      6.972\n",
      "   5       -8.973      3.132      6.821\n",
      "   6       -8.849      3.265      6.985\n",
      "   7       -8.787      2.835      6.711\n",
      "   8       -8.768      2.627      6.766\n",
      "   9       -8.603      2.549      3.155\n",
      "  10       -8.571       1.98      2.955\n",
      "  11       -8.511      3.429      6.988\n",
      "  12       -8.436       2.98       6.86\n",
      "  13       -8.431      3.368      7.808\n",
      "  14       -8.409      3.318      7.238\n",
      "  15       -8.274      3.134      7.668\n",
      "  16       -8.249      3.406      7.526\n",
      "  17       -8.236      3.566      7.205\n",
      "  18       -8.232      3.191      7.179\n",
      "  19       -8.184      3.157      7.622\n",
      "  20       -8.111      3.047       6.73\n",
      "*done.ing Vina grid ... \n",
      "*done.\n",
      "**Performing docking (random seed: -1895586945) ... "
     ]
    },
    {
     "name": "stderr",
     "output_type": "stream",
     "text": [
      "WARNING: At low exhaustiveness, it may be impossible to utilize all CPUs.\n",
      "WARNING: At low exhaustiveness, it may be impossible to utilize all CPUs.\n"
     ]
    },
    {
     "name": "stdout",
     "output_type": "stream",
     "text": [
      "*\n",
      "0%   10   20   30   40   50   60   70   80   90   100%\n",
      "|----|----|----|----|----|----|----|----|----|----|\n",
      "*Performing docking (random seed: 1922166156) ... \n",
      "0%   10   20   30   40   50   60   70   80   90   100%\n",
      "|----|----|----|----|----|----|----|----|----|----|\n",
      "***************done.\n",
      "*Performing docking (random seed: 1754591219) ... \n",
      "0%   10   20   30   40   50   60   70   80   90   100%\n",
      "|----|----|----|----|----|----|----|----|----|----|\n",
      "*"
     ]
    },
    {
     "name": "stderr",
     "output_type": "stream",
     "text": [
      "WARNING: At low exhaustiveness, it may be impossible to utilize all CPUs.\n"
     ]
    },
    {
     "name": "stdout",
     "output_type": "stream",
     "text": [
      "************************************************************************************************************************************************************************\n",
      "*****\n"
     ]
    },
    {
     "name": "stderr",
     "output_type": "stream",
     "text": [
      "1 molecule converted\n",
      "1 molecule converted\n"
     ]
    },
    {
     "name": "stdout",
     "output_type": "stream",
     "text": [
      "*"
     ]
    },
    {
     "name": "stderr",
     "output_type": "stream",
     "text": [
      "1 molecule converted\n"
     ]
    },
    {
     "name": "stdout",
     "output_type": "stream",
     "text": [
      "here\n",
      "CNC(=O)CN1C[C@@]2(C(=O)N(c3cncc4ccccc34)C[C@@H]2Cc2ccccc2)c2cc(Cl)ccc2C1=O SARS-CoV-2 Mpro"
     ]
    },
    {
     "name": "stderr",
     "output_type": "stream",
     "text": [
      "1 molecule converted\n",
      "1 molecule converted\n",
      "1 molecule converted\n"
     ]
    },
    {
     "name": "stdout",
     "output_type": "stream",
     "text": [
      "\n",
      "Processing /home/xchen/Work/asap-polaris-blind-challenge-examples/SMILESopt/xtbopt_00088.xyz in docking/88\n"
     ]
    },
    {
     "name": "stderr",
     "output_type": "stream",
     "text": [
      "1 molecule converted\n",
      "1 molecule converted\n"
     ]
    },
    {
     "name": "stdout",
     "output_type": "stream",
     "text": [
      "here\n",
      "CCO[C@H]1CN(c2cncc3ccccc23)C(=O)[C@@]12CN(CC(=O)NC)C(=O)c1ccc(Cl)cc12 MERS-CoV Mpro\n",
      "Processing /home/xchen/Work/asap-polaris-blind-challenge-examples/SMILESopt/xtbopt_00083.xyz in docking/83\n"
     ]
    },
    {
     "name": "stderr",
     "output_type": "stream",
     "text": [
      "1 molecule converted\n"
     ]
    },
    {
     "name": "stdout",
     "output_type": "stream",
     "text": [
      "****"
     ]
    },
    {
     "name": "stderr",
     "output_type": "stream",
     "text": [
      "1 molecule converted\n"
     ]
    },
    {
     "name": "stdout",
     "output_type": "stream",
     "text": [
      "*********************\n",
      "mode |   affinity | dist from best mode\n",
      "     | (kcal/mol) | rmsd l.b.| rmsd u.b.\n",
      "-----+------------+----------+----------\n",
      "   1       -8.529          0          0\n",
      "   2       -8.418     0.9818      2.003\n",
      "   3       -8.317       3.19      7.407\n",
      "   4       -8.269      1.755      2.381\n",
      "   5       -8.228      2.813      3.831\n",
      "   6       -8.125      3.723       7.67\n",
      "   7        -7.95      3.045       7.01\n",
      "   8       -7.906      3.072      7.325\n",
      "   9       -7.855      3.422      7.188\n",
      "  10        -7.84      5.411       7.78\n",
      "  11       -7.683      4.678      6.657\n",
      "  12        -7.68      4.375      6.329\n",
      "  13       -7.647      3.541      7.459\n",
      "  14       -7.522      3.754      7.596\n",
      "  15       -7.499      5.018       7.24\n",
      "  16       -7.423      5.231      6.314\n",
      "  17       -7.409      5.646      6.781\n",
      "  18       -7.383      3.674      4.986\n",
      "  19       -7.371      3.964      4.879\n",
      "  20       -7.215      5.376      7.262\n",
      "*omputing Vina grid ... \n",
      "mode |   affinity | dist from best mode\n",
      "     | (kcal/mol) | rmsd l.b.| rmsd u.b.\n",
      "-----+------------+----------+----------\n",
      "   1       -8.951          0          0\n",
      "   2       -8.707      2.522      3.025\n",
      "   3       -8.647      3.058      7.243\n",
      "   4       -8.434      3.519      4.657\n",
      "   5       -8.368      3.065      7.324\n",
      "   6       -8.263      3.917      8.049\n",
      "   7       -8.258      5.712      9.056\n",
      "   8       -8.227      3.094      7.509\n",
      "   9       -8.137      5.943      8.949\n",
      "  10       -8.045      3.502      5.599\n",
      "  11       -7.989      4.309       8.53\n",
      "  12       -7.888      5.508      8.649\n",
      "  13       -7.866      2.963      3.969\n",
      "  14       -7.684      3.213      7.664\n",
      "  15       -7.607       3.95      6.761\n",
      "  16       -7.582      4.971      8.328\n",
      "  17       -7.567      4.217      8.022\n",
      "  18       -7.461      5.177      8.473\n",
      "  19       -7.364      5.874      8.847\n",
      "  20       -7.328      2.879        6.6\n",
      "***************grid ... \n",
      "**"
     ]
    },
    {
     "name": "stderr",
     "output_type": "stream",
     "text": [
      "1 molecule converted\n",
      "1 molecule converted\n",
      "WARNING: At low exhaustiveness, it may be impossible to utilize all CPUs.\n",
      "1 molecule converted\n"
     ]
    },
    {
     "name": "stdout",
     "output_type": "stream",
     "text": [
      "done.\n",
      "Performing docking (random seed: -2102580289) ... \n",
      "0%   10   20   30   40   50   60   70   80   90   100%\n",
      "|----|----|----|----|----|----|----|----|----|----|\n",
      "***here\n",
      "N#Cc1ccc(N(Cc2cccc(Cl)c2)C(=O)Cc2cncc3ccccc23)cc1"
     ]
    },
    {
     "name": "stderr",
     "output_type": "stream",
     "text": [
      "1 molecule converted\n"
     ]
    },
    {
     "name": "stdout",
     "output_type": "stream",
     "text": [
      " MERS-CoV Mpro\n",
      "Processing /home/xchen/Work/asap-polaris-blind-challenge-examples/SMILESopt/xtbopt_00075.xyz in docking/75\n",
      "*"
     ]
    },
    {
     "name": "stderr",
     "output_type": "stream",
     "text": [
      "1 molecule converted\n"
     ]
    },
    {
     "name": "stdout",
     "output_type": "stream",
     "text": [
      "*done.\n",
      "Performing docking (random seed: 1486049487) ... "
     ]
    },
    {
     "name": "stderr",
     "output_type": "stream",
     "text": [
      "WARNING: At low exhaustiveness, it may be impossible to utilize all CPUs.\n"
     ]
    },
    {
     "name": "stdout",
     "output_type": "stream",
     "text": [
      "\n",
      "0%   10   20   30   40   50   60   70   80   90   100%\n",
      "|----|----|----|----|----|----|----|----|----|----|\n",
      "***************\n",
      "mode |   affinity | dist from best mode\n",
      "     | (kcal/mol) | rmsd l.b.| rmsd u.b.\n",
      "-----+------------+----------+----------\n",
      "   1       -8.785          0          0\n",
      "   2       -8.701      3.188      7.331\n",
      "   3       -8.538      2.895      7.232\n",
      "   4       -8.349      3.391      5.632\n",
      "   5        -8.27      3.629      7.692\n",
      "   6       -8.225      3.406      5.813\n",
      "   7       -7.958       1.79      2.061\n",
      "   8       -7.895      2.711      5.747\n",
      "   9       -7.876      2.972      5.717\n",
      "  10       -7.797      4.284      7.893\n",
      "  11       -7.645      3.332      6.866\n",
      "  12       -7.637      3.506      7.393\n",
      "  13         -7.6      2.326      3.309\n",
      "  14        -7.55      2.863      6.895\n",
      "  15       -7.539      2.883      4.789\n",
      "  16       -7.512      3.038      6.043\n",
      "  17        -7.42       3.57      6.106\n",
      "  18       -7.415      3.043      6.084\n",
      "  19       -7.371       2.86       6.84\n",
      "  20        -7.37      3.192       6.26\n",
      "Computing Vina grid ... **\n",
      "*****"
     ]
    },
    {
     "name": "stderr",
     "output_type": "stream",
     "text": [
      "1 molecule converted\n",
      "1 molecule converted\n"
     ]
    },
    {
     "name": "stdout",
     "output_type": "stream",
     "text": [
      "here\n"
     ]
    },
    {
     "name": "stderr",
     "output_type": "stream",
     "text": [
      "1 molecule converted\n",
      "1 molecule converted\n"
     ]
    },
    {
     "name": "stdout",
     "output_type": "stream",
     "text": [
      "CCS(=O)(=O)N[C@H]1CN(c2cncc3ccccc23)C(=O)[C@@]12CN(CC(=O)NC)C(=O)c1ccc(Cl)cc12 MERS-CoV Mpro\n",
      "Processing /home/xchen/Work/asap-polaris-blind-challenge-examples/SMILESopt/xtbopt_00100.xyz in docking/100\n",
      "***"
     ]
    },
    {
     "name": "stderr",
     "output_type": "stream",
     "text": [
      "1 molecule converted\n"
     ]
    },
    {
     "name": "stdout",
     "output_type": "stream",
     "text": [
      "******************done.\n",
      "Performing docking (random seed: 1109939085) ... *\n",
      "0%   10   20   30   40   50   60   70   80   90   100%\n",
      "|----|----|----|----|----|----|----|----|----|----|\n",
      "*"
     ]
    },
    {
     "name": "stderr",
     "output_type": "stream",
     "text": [
      "WARNING: At low exhaustiveness, it may be impossible to utilize all CPUs.\n"
     ]
    },
    {
     "name": "stdout",
     "output_type": "stream",
     "text": [
      "********\n",
      "mode |   affinity | dist from best mode\n",
      "     | (kcal/mol) | rmsd l.b.| rmsd u.b.\n",
      "-----+------------+----------+----------\n",
      "   1       -8.118          0          0\n",
      "   2       -7.987      2.678      4.928\n",
      "   3       -7.569      3.276      5.392\n",
      "   4       -7.538      2.793      5.162\n",
      "   5       -7.409      2.354      7.136\n",
      "   6       -7.039      2.996      6.699\n",
      "   7        -6.99      2.331      6.874\n",
      "   8       -6.883      2.613      6.947\n",
      "   9       -6.862      3.223       6.35\n",
      "  10       -6.861      4.085      7.334\n",
      "  11       -6.849      3.042      5.332\n",
      "  12       -6.758      2.495      7.093\n",
      "  13       -6.758      2.844      7.189\n",
      "  14       -6.687       3.55      6.648\n",
      "  15         -6.6      3.386      7.665\n",
      "  16        -6.59      1.341       2.09\n",
      "  17       -6.546      4.383      7.278\n",
      "  18       -6.442      3.107      5.842\n",
      "  19       -6.428      3.071      6.027\n",
      "  20        -6.36      3.494      6.262\n",
      "***********************************done.\n",
      "Performing docking (random seed: 1800693828) ... "
     ]
    },
    {
     "name": "stderr",
     "output_type": "stream",
     "text": [
      "WARNING: At low exhaustiveness, it may be impossible to utilize all CPUs.\n"
     ]
    },
    {
     "name": "stdout",
     "output_type": "stream",
     "text": [
      "*\n",
      "0%   10   20   30   40   50   60   70   80   90   100%\n",
      "|----|----|----|----|----|----|----|----|----|----|\n",
      "*****************\n",
      "**"
     ]
    },
    {
     "name": "stderr",
     "output_type": "stream",
     "text": [
      "1 molecule converted\n",
      "1 molecule converted\n"
     ]
    },
    {
     "name": "stdout",
     "output_type": "stream",
     "text": [
      "*here\n",
      "CNC(=O)CN1C[C@@]2(C(=O)N(c3cncc4ccccc34)C[C@@H]2CNc2ccncn2)c2cc(Cl)ccc2C1=O MERS-CoV Mpro\n"
     ]
    },
    {
     "name": "stderr",
     "output_type": "stream",
     "text": [
      "1 molecule converted\n",
      "1 molecule converted\n"
     ]
    },
    {
     "name": "stdout",
     "output_type": "stream",
     "text": [
      "Processing /home/xchen/Work/asap-polaris-blind-challenge-examples/SMILESopt/xtbopt_00107.xyz in docking/107\n",
      "*"
     ]
    },
    {
     "name": "stderr",
     "output_type": "stream",
     "text": [
      "1 molecule converted\n"
     ]
    },
    {
     "name": "stdout",
     "output_type": "stream",
     "text": [
      "****\n",
      "**\n",
      "*"
     ]
    },
    {
     "name": "stderr",
     "output_type": "stream",
     "text": [
      "1 molecule converted\n",
      "1 molecule converted\n"
     ]
    },
    {
     "name": "stdout",
     "output_type": "stream",
     "text": [
      "**here"
     ]
    },
    {
     "name": "stderr",
     "output_type": "stream",
     "text": [
      "1 molecule converted\n",
      "1 molecule converted\n",
      "1 molecule converted\n",
      "1 molecule converted\n",
      "1 molecule converted\n"
     ]
    },
    {
     "name": "stdout",
     "output_type": "stream",
     "text": [
      "\n",
      "C[C@H]1CN(c2cncc3ccccc23)C(=O)[C@@]12CN(Cc1cnn(C)n1)C(=O)c1ccc(F)cc12 MERS-CoV Mpro\n",
      "Processing /home/xchen/Work/asap-polaris-blind-challenge-examples/SMILESopt/xtbopt_00068.xyz in docking/68\n",
      "*here\n",
      "CNC(=O)CN1C[C@@]2(C(=O)N(c3cncc4ccccc34)C[C@@H]2Cc2nn[n-]n2)c2cc(Cl)ccc2C1=O MERS-CoV Mpro\n",
      "Processing /home/xchen/Work/asap-polaris-blind-challenge-examples/SMILESopt/xtbopt_00093.xyz in docking/93\n"
     ]
    },
    {
     "name": "stderr",
     "output_type": "stream",
     "text": [
      "1 molecule converted\n",
      "1 molecule converted\n",
      "1 molecule converted\n"
     ]
    },
    {
     "name": "stdout",
     "output_type": "stream",
     "text": [
      "*************\n",
      "mode |   affinity | dist from best mode\n",
      "     | (kcal/mol) | rmsd l.b.| rmsd u.b.\n",
      "-----+------------+----------+----------\n",
      "   1       -8.936          0          0\n",
      "   2       -8.296      1.331      2.071\n",
      "   3       -7.782      3.398      6.718\n",
      "   4       -7.674      2.797      6.868\n",
      "   5       -7.625      3.218       5.68\n",
      "   6       -7.595      1.572      2.385\n",
      "   7       -7.558      3.644      6.202\n",
      "   8       -7.508      6.134      8.631\n",
      "   9       -7.503      2.816      7.346\n",
      "  10         -7.5      2.159      3.325\n",
      "  11       -7.374      3.599      6.515\n",
      "  12       -7.285      4.167      7.302\n",
      "  13        -7.25      3.322      6.133\n",
      "  14       -7.181      2.052      2.725\n",
      "  15       -7.145       3.05      7.254\n",
      "  16        -7.14      2.759      6.662\n",
      "  17       -7.138      3.057      5.969\n",
      "  18       -7.115      3.131       7.29\n",
      "  19       -7.115      3.249      6.326\n",
      "  20       -7.085      3.667      6.485\n",
      "****uting Vina grid ... *\n",
      "mode |   affinity | dist from best mode\n",
      "     | (kcal/mol) | rmsd l.b.| rmsd u.b.\n",
      "-----+------------+----------+----------\n",
      "   1       -9.883          0          0\n",
      "   2       -9.704      1.689      2.502\n",
      "   3       -9.605        1.6      2.205\n",
      "   4       -9.114      3.321      7.613\n",
      "   5       -8.955      3.072       7.19\n",
      "   6       -8.808      2.979      7.427\n",
      "   7       -8.694      1.524      2.323\n",
      "   8       -8.534      3.155      7.385\n",
      "   9       -8.257       2.11      3.092\n",
      "  10       -8.063        3.2      6.196\n",
      "  11       -8.006      3.052      7.123\n",
      "  12       -7.929       2.93          7\n",
      "  13       -7.877      3.436      6.434\n",
      "  14       -7.783      2.642      6.458\n",
      "  15       -7.764      3.532       6.26\n",
      "  16       -7.706      3.197      7.747\n",
      "  17       -7.705       2.55      6.605\n",
      "  18       -7.684      2.905       4.27\n",
      "  19       -7.579      3.169      6.517\n",
      "  20       -7.477      3.545      6.989\n",
      "**mputing Vina grid ... *\n",
      "mode |   affinity | dist from best mode\n",
      "     | (kcal/mol) | rmsd l.b.| rmsd u.b.\n",
      "-----+------------+----------+----------\n",
      "   1       -9.943          0          0\n",
      "   2        -9.92      1.081       1.22\n",
      "   3       -9.729      1.739      2.053\n",
      "   4       -8.664      3.641       6.98\n",
      "   5       -8.543      3.179       6.34\n",
      "   6       -8.398      1.811      2.622\n",
      "   7       -8.384      3.067      6.959\n",
      "   8       -8.367       2.96      6.596\n",
      "   9       -8.255      3.281      6.858\n",
      "  10       -8.237      3.382      7.696\n",
      "  11       -8.009      3.638      7.296\n",
      "  12       -7.939      3.443      7.535\n",
      "  13        -7.92      3.238      7.496\n",
      "  14       -7.722      3.187      7.425\n",
      "  15       -7.721      2.204      3.365\n",
      "  16       -7.672      3.525      8.074\n",
      "  17       -7.648      2.964      6.837\n",
      "  18       -7.537      3.453      7.485\n",
      "  19       -7.484      3.627      7.155\n",
      "  20        -7.33      3.836      7.312\n",
      "************done.id ... *\n",
      "*Performing docking (random seed: -1470120579) ... *\n",
      "\n",
      "0%   10   20   30   40   50   60   70   80   90   100%\n",
      "|----|----|----|----|----|----|----|----|----|----|\n",
      "*"
     ]
    },
    {
     "name": "stderr",
     "output_type": "stream",
     "text": [
      "WARNING: At low exhaustiveness, it may be impossible to utilize all CPUs.\n"
     ]
    },
    {
     "name": "stdout",
     "output_type": "stream",
     "text": [
      "done.\n",
      "**Performing docking (random seed: 208238938) ... \n",
      "0%   10   20   30   40   50   60   70   80   90   100%\n",
      "|----|----|----|----|----|----|----|----|----|----|\n",
      "*"
     ]
    },
    {
     "name": "stderr",
     "output_type": "stream",
     "text": [
      "WARNING: At low exhaustiveness, it may be impossible to utilize all CPUs.\n",
      "1 molecule converted\n"
     ]
    },
    {
     "name": "stdout",
     "output_type": "stream",
     "text": [
      "*"
     ]
    },
    {
     "name": "stderr",
     "output_type": "stream",
     "text": [
      "1 molecule converted\n",
      "1 molecule converted\n"
     ]
    },
    {
     "name": "stdout",
     "output_type": "stream",
     "text": [
      "*here"
     ]
    },
    {
     "name": "stderr",
     "output_type": "stream",
     "text": [
      "1 molecule converted\n"
     ]
    },
    {
     "name": "stdout",
     "output_type": "stream",
     "text": [
      "\n",
      "O=C1c2ccc(Cl)cc2[C@@]2(CN1Cc1nnco1)C(=O)N(c1cncc3ccccc13)C[C@@H]2CNc1ccncn1 MERS-CoV Mpro\n",
      "Processing /home/xchen/Work/asap-polaris-blind-challenge-examples/SMILESopt/xtbopt_00061.xyz in docking/61\n",
      "*"
     ]
    },
    {
     "name": "stderr",
     "output_type": "stream",
     "text": [
      "1 molecule converted\n"
     ]
    },
    {
     "name": "stdout",
     "output_type": "stream",
     "text": [
      "******done.\n",
      "Performing docking (random seed: 308101910) ... \n",
      "0%   10   20   30   40   50   60   70   80   90   100%\n",
      "|----|----|----|----|----|----|----|----|----|----|\n",
      "*"
     ]
    },
    {
     "name": "stderr",
     "output_type": "stream",
     "text": [
      "WARNING: At low exhaustiveness, it may be impossible to utilize all CPUs.\n"
     ]
    },
    {
     "name": "stdout",
     "output_type": "stream",
     "text": [
      "***************************\n",
      "mode |   affinity | dist from best mode\n",
      "     | (kcal/mol) | rmsd l.b.| rmsd u.b.\n",
      "-----+------------+----------+----------\n",
      "   1       -9.556          0          0\n",
      "   2       -8.949      3.273      7.092\n",
      "   3       -8.878       3.35      7.287\n",
      "   4       -8.784      2.335      3.312\n",
      "   5       -8.627       3.23      7.258\n",
      "   6       -8.552       3.43      8.433\n",
      "   7       -8.418      3.222      6.952\n",
      "   8       -8.379      4.175      8.057\n",
      "   9       -8.106      4.195      8.771\n",
      "  10       -8.084      2.384      5.901\n",
      "  11        -8.02      3.578      7.025\n",
      "  12       -7.987      2.884      6.986\n",
      "  13       -7.922      4.114      7.399\n",
      "  14       -7.903      3.447      5.603\n",
      "  15       -7.882      2.587      5.504\n",
      "  16       -7.872      3.294      6.296\n",
      "  17       -7.839       3.15      7.902\n",
      "  18       -7.682      3.576      8.227\n",
      "  19       -7.613      2.884      7.376\n",
      "  20        -7.43      3.289      6.666\n",
      "********************************done.\n"
     ]
    },
    {
     "name": "stderr",
     "output_type": "stream",
     "text": [
      "WARNING: At low exhaustiveness, it may be impossible to utilize all CPUs.\n"
     ]
    },
    {
     "name": "stdout",
     "output_type": "stream",
     "text": [
      "Performing docking (random seed: -1493631477) ... **\n",
      "0%   10   20   30   40   50   60   70   80   90   100%\n",
      "|----|----|----|----|----|----|----|----|----|----|\n",
      "******************************\n",
      "****"
     ]
    },
    {
     "name": "stderr",
     "output_type": "stream",
     "text": [
      "1 molecule converted\n",
      "1 molecule converted\n"
     ]
    },
    {
     "name": "stdout",
     "output_type": "stream",
     "text": [
      "**"
     ]
    },
    {
     "name": "stderr",
     "output_type": "stream",
     "text": [
      "1 molecule converted\n"
     ]
    },
    {
     "name": "stdout",
     "output_type": "stream",
     "text": [
      "here"
     ]
    },
    {
     "name": "stderr",
     "output_type": "stream",
     "text": [
      "1 molecule converted\n"
     ]
    },
    {
     "name": "stdout",
     "output_type": "stream",
     "text": [
      "\n",
      "CNC(=O)CN1C[C@@]2(C(=O)N(c3cncc4ccccc34)C[C@@H]2CNc2scnc2C)c2cc(Cl)ccc2C1=O SARS-CoV-2 Mpro\n",
      "Processing /home/xchen/Work/asap-polaris-blind-challenge-examples/SMILESopt/xtbopt_00084.xyz in docking/84\n"
     ]
    },
    {
     "name": "stderr",
     "output_type": "stream",
     "text": [
      "1 molecule converted\n"
     ]
    },
    {
     "name": "stdout",
     "output_type": "stream",
     "text": [
      "**************************\n",
      "mode |   affinity | dist from best mode\n",
      "     | (kcal/mol) | rmsd l.b.| rmsd u.b.\n",
      "-----+------------+----------+----------\n",
      "   1       -8.066          0          0\n",
      "   2       -7.858      1.285      1.585\n",
      "   3       -7.601      1.769      2.447\n",
      "   4       -7.571      3.021      5.274\n",
      "   5       -7.215       2.56      6.264\n",
      "   6       -7.165       3.28      7.558\n",
      "   7       -7.068      3.494      5.099\n",
      "   8       -7.045      3.238      7.938\n",
      "   9       -6.898      3.366       7.29\n",
      "  10       -6.832      3.028      6.976\n",
      "  11       -6.828      3.342      7.505\n",
      "  12       -6.791       2.37      6.555\n",
      "  13       -6.649      2.871      4.516\n",
      "  14       -6.624      2.965      7.123\n",
      "  15       -6.621      3.138      7.654\n",
      "  16       -6.554      3.123       4.48\n",
      "  17       -6.517      3.004      6.916\n",
      "  18       -6.469        3.5      5.283\n",
      "  19       -6.428      3.446      6.989\n",
      "  20       -6.362      4.353      6.572\n",
      "*****************************done.\n",
      "*Performing docking (random seed: 971811237) ... "
     ]
    },
    {
     "name": "stderr",
     "output_type": "stream",
     "text": [
      "WARNING: At low exhaustiveness, it may be impossible to utilize all CPUs.\n"
     ]
    },
    {
     "name": "stdout",
     "output_type": "stream",
     "text": [
      "\n",
      "0%   10   20   30   40   50   60   70   80   90   100%\n",
      "|----|----|----|----|----|----|----|----|----|----|\n",
      "***************************************\n",
      "**\n",
      "**"
     ]
    },
    {
     "name": "stderr",
     "output_type": "stream",
     "text": [
      "1 molecule converted\n",
      "1 molecule converted\n"
     ]
    },
    {
     "name": "stdout",
     "output_type": "stream",
     "text": [
      "*"
     ]
    },
    {
     "name": "stderr",
     "output_type": "stream",
     "text": [
      "1 molecule converted\n",
      "1"
     ]
    },
    {
     "name": "stdout",
     "output_type": "stream",
     "text": [
      "here*\n",
      "C[NH2+]CCN1C[C@@]2(C(=O)N(c3cncc4ccccc34)C[C@@H]2COCC2CS(=O)(=O)C2)c2cc(Cl)ccc2C1=O "
     ]
    },
    {
     "name": "stderr",
     "output_type": "stream",
     "text": [
      " molecule converted\n"
     ]
    },
    {
     "name": "stdout",
     "output_type": "stream",
     "text": [
      "MERS-CoV Mpro\n",
      "Processing /home/xchen/Work/asap-polaris-blind-challenge-examples/SMILESopt/xtbopt_00076.xyz in docking/76\n"
     ]
    },
    {
     "name": "stderr",
     "output_type": "stream",
     "text": [
      "1 molecule converted\n",
      "1 molecule converted\n"
     ]
    },
    {
     "name": "stdout",
     "output_type": "stream",
     "text": [
      "*here\n",
      "C[C@H]1CN(c2cncc3ccccc23)C(=O)[C@@]12CN(CC#N)C(=O)c1ccc(F)cc12 SARS-CoV-2 Mpro\n"
     ]
    },
    {
     "name": "stderr",
     "output_type": "stream",
     "text": [
      "1 molecule converted\n",
      "1 molecule converted\n",
      "1 molecule converted\n"
     ]
    },
    {
     "name": "stdout",
     "output_type": "stream",
     "text": [
      "Processing /home/xchen/Work/asap-polaris-blind-challenge-examples/SMILESopt/xtbopt_00089.xyz in docking/89\n",
      "*"
     ]
    },
    {
     "name": "stderr",
     "output_type": "stream",
     "text": [
      "1 molecule converted\n"
     ]
    },
    {
     "name": "stdout",
     "output_type": "stream",
     "text": [
      "************\n",
      "mode |   affinity | dist from best mode\n",
      "     | (kcal/mol) | rmsd l.b.| rmsd u.b.\n",
      "-----+------------+----------+----------\n",
      "   1       -9.023          0          0\n",
      "   2       -8.997      2.716      6.606\n",
      "   3        -8.86      2.657      6.657\n",
      "   4       -8.839      2.692      5.762\n",
      "   5       -8.791      2.384      3.893\n",
      "   6       -8.777      2.698       6.52\n",
      "   7         -8.5      1.121      1.295\n",
      "   8       -8.489      2.424      4.444\n",
      "   9       -8.393      2.418      6.077\n",
      "  10       -8.322      2.488      6.188\n",
      "  11       -8.252       2.87      6.844\n",
      "  12        -8.23       2.72      6.627\n",
      "  13       -8.225      2.078      6.111\n",
      "  14       -8.193      3.104      6.339\n",
      "  15       -8.163      2.407      5.553\n",
      "  16       -8.112      2.638      6.703\n",
      "  17       -8.082      3.155      6.931\n",
      "  18       -7.996      2.506      6.079\n",
      "  19       -7.954      2.478       5.92\n",
      "  20       -7.919      2.643      6.396\n",
      "********g Vina grid ... *\n",
      "mode |   affinity | dist from best mode\n",
      "     | (kcal/mol) | rmsd l.b.| rmsd u.b.\n",
      "-----+------------+----------+----------\n",
      "   1       -8.498          0          0\n",
      "   2       -8.436      1.029      1.608\n",
      "   3       -8.231      3.775      8.814\n",
      "   4        -8.04      3.219      7.707\n",
      "   5        -7.96      1.686      2.007\n",
      "   6       -7.907      1.787      2.758\n",
      "   7       -7.702      3.385      5.336\n",
      "   8       -7.611      3.006      5.789\n",
      "   9       -7.524       2.88      3.882\n",
      "  10       -7.505      3.209      7.479\n",
      "  11       -7.448      4.759       7.77\n",
      "  12        -7.39      3.611      5.453\n",
      "  13       -7.356      3.516      6.368\n",
      "  14       -7.316       2.52      7.119\n",
      "  15       -7.262      2.906      4.694\n",
      "  16       -7.142      3.098      7.628\n",
      "  17       -7.136      4.664      7.493\n",
      "  18       -7.072      3.972      5.796\n",
      "  19       -7.064      3.053       4.47\n",
      "  20       -7.002       3.05       5.11\n",
      "*omputing Vina grid ... *\n",
      "*"
     ]
    },
    {
     "name": "stderr",
     "output_type": "stream",
     "text": [
      "1 molecule converted\n",
      "1 molecule converted\n",
      "1 molecule converted\n",
      "1 molecule converted\n"
     ]
    },
    {
     "name": "stdout",
     "output_type": "stream",
     "text": [
      "here\n",
      "N#CCc1ccc(N(Cc2cccc(Cl)c2)C(=O)Cc2cncc3ccccc23)cc1 MERS-CoV Mpro\n",
      "Processing /home/xchen/Work/asap-polaris-blind-challenge-examples/SMILESopt/xtbopt_00069.xyz in docking/69\n",
      "**done.\n"
     ]
    },
    {
     "name": "stderr",
     "output_type": "stream",
     "text": [
      "1 molecule converted\n",
      "WARNING: At low exhaustiveness, it may be impossible to utilize all CPUs.\n"
     ]
    },
    {
     "name": "stdout",
     "output_type": "stream",
     "text": [
      "*Performing docking (random seed: -271199960) ... *\n",
      "0%   10   20   30   40   50   60   70   80   90   100%\n",
      "|----|----|----|----|----|----|----|----|----|----|\n",
      "********************\n",
      "mode |   affinity | dist from best mode\n",
      "     | (kcal/mol) | rmsd l.b.| rmsd u.b.\n",
      "-----+------------+----------+----------\n",
      "   1       -9.152          0          0\n",
      "   2       -8.883      3.031      7.308\n",
      "   3        -8.85      3.257      5.249\n",
      "   4       -8.752      3.199      7.326\n",
      "   5       -8.747      3.554      5.657\n",
      "   6        -8.56      3.599      7.848\n",
      "   7       -8.552      3.778      7.731\n",
      "   8       -8.315      1.999      2.343\n",
      "   9       -8.162      3.104      6.837\n",
      "  10       -8.013      3.474      7.206\n",
      "  11       -7.942      3.763      6.348\n",
      "  12       -7.941      3.256      6.472\n",
      "  13       -7.933      2.974      6.803\n",
      "  14       -7.927       3.29      7.076\n",
      "  15       -7.798      3.234      6.115\n",
      "  16       -7.669      3.511       5.98\n",
      "  17       -7.553      3.917      7.702\n",
      "  18       -7.498      3.035       5.51\n",
      "  19       -7.444      3.476       5.85\n",
      "*******done.na grid ... \n",
      "Performing docking (random seed: -1534432686) ... *\n",
      "0%   10   20   30   40   50   60   70   80   90   100%\n",
      "|----|----|----|----|----|----|----|----|----|----|\n",
      "*"
     ]
    },
    {
     "name": "stderr",
     "output_type": "stream",
     "text": [
      "WARNING: At low exhaustiveness, it may be impossible to utilize all CPUs.\n"
     ]
    },
    {
     "name": "stdout",
     "output_type": "stream",
     "text": [
      "***********done.\n",
      "Performing docking (random seed: 65381781) ... "
     ]
    },
    {
     "name": "stderr",
     "output_type": "stream",
     "text": [
      "WARNING: At low exhaustiveness, it may be impossible to utilize all CPUs.\n"
     ]
    },
    {
     "name": "stdout",
     "output_type": "stream",
     "text": [
      "**\n",
      "0%   10   20   30   40   50   60   70   80   90   100%\n",
      "|----|----|----|----|----|----|----|----|----|----|\n",
      "**********************\n",
      "***"
     ]
    },
    {
     "name": "stderr",
     "output_type": "stream",
     "text": [
      "1 molecule converted\n"
     ]
    },
    {
     "name": "stdout",
     "output_type": "stream",
     "text": [
      "***"
     ]
    },
    {
     "name": "stderr",
     "output_type": "stream",
     "text": [
      "1 molecule converted\n",
      "1 molecule converted\n"
     ]
    },
    {
     "name": "stdout",
     "output_type": "stream",
     "text": [
      "*here\n",
      "CNC(=O)CN1C[C@@]2(C(=O)N(c3cncc4ccccc34)C[C@@H]2C)c2cc(F)ccc2C1=O MERS-CoV Mpro\n"
     ]
    },
    {
     "name": "stderr",
     "output_type": "stream",
     "text": [
      "1 molecule converted\n"
     ]
    },
    {
     "name": "stdout",
     "output_type": "stream",
     "text": [
      "Processing /home/xchen/Work/asap-polaris-blind-challenge-examples/SMILESopt/xtbopt_00101.xyz in docking/101\n",
      "**"
     ]
    },
    {
     "name": "stderr",
     "output_type": "stream",
     "text": [
      "1 molecule converted\n"
     ]
    },
    {
     "name": "stdout",
     "output_type": "stream",
     "text": [
      "**********************\n",
      "mode |   affinity | dist from best mode\n",
      "     | (kcal/mol) | rmsd l.b.| rmsd u.b.\n",
      "-----+------------+----------+----------\n",
      "   1       -8.892          0          0\n",
      "   2       -8.377       3.37      6.984\n",
      "   3       -8.335       3.52      7.019\n",
      "   4       -8.149      1.555       1.87\n",
      "   5       -7.888      3.498      6.759\n",
      "   6       -7.829       3.67      7.373\n",
      "   7       -7.576      2.894       5.55\n",
      "   8       -7.484      3.091      7.411\n",
      "   9       -7.452      3.349      6.334\n",
      "  10       -7.435      3.117      7.772\n",
      "  11        -7.43      2.659      5.701\n",
      "  12        -7.31      3.943      6.712\n",
      "  13       -7.256       3.02       6.69\n",
      "  14       -7.119      3.272      5.948\n",
      "  15       -7.069      3.488      6.976\n",
      "  16       -7.036      3.287       6.62\n",
      "  17       -7.031       3.42      7.062\n",
      "  18       -6.963      2.733      6.296\n",
      "  19       -6.954       3.42      6.319\n",
      "  20       -6.924      3.232      6.536\n",
      "****************************done.\n",
      "Performing docking (random seed: -1041628151) ... "
     ]
    },
    {
     "name": "stderr",
     "output_type": "stream",
     "text": [
      "WARNING: At low exhaustiveness, it may be impossible to utilize all CPUs.\n"
     ]
    },
    {
     "name": "stdout",
     "output_type": "stream",
     "text": [
      "\n",
      "0%   10   20   30   40   50   60   70   80   90   100%\n",
      "|----|----|----|----|----|----|----|----|----|----|\n",
      "*************************************\n",
      "**\n"
     ]
    },
    {
     "name": "stderr",
     "output_type": "stream",
     "text": [
      "1 molecule converted\n",
      "1 molecule converted\n",
      "1 molecule converted\n",
      "1 molecule converted\n"
     ]
    },
    {
     "name": "stdout",
     "output_type": "stream",
     "text": [
      "here\n",
      "O=C(Cc1cncc2ccccc12)N(Cc1cccc(Cl)c1)[C@]12C[N@@H+](C3CC3)[C@H](C1)C2 SARS-CoV-2 Mpro\n",
      "**Processing /home/xchen/Work/asap-polaris-blind-challenge-examples/SMILESopt/xtbopt_00090.xyz in docking/90\n"
     ]
    },
    {
     "name": "stderr",
     "output_type": "stream",
     "text": [
      "1 molecule converted\n",
      "1 molecule converted\n",
      "1 molecule converted\n",
      "1 molecule converted\n"
     ]
    },
    {
     "name": "stdout",
     "output_type": "stream",
     "text": [
      "here\n",
      "CNC(=O)CN1C[C@@]2(C(=O)N(c3cncc4ccccc34)C[C@@H]2COC(C)C)c2cc(F)ccc2C1=O"
     ]
    },
    {
     "name": "stderr",
     "output_type": "stream",
     "text": [
      "1 molecule converted\n"
     ]
    },
    {
     "name": "stdout",
     "output_type": "stream",
     "text": [
      " SARS-CoV-2 Mpro**\n",
      "Processing /home/xchen/Work/asap-polaris-blind-challenge-examples/SMILESopt/xtbopt_00094.xyz in docking/94\n",
      "**"
     ]
    },
    {
     "name": "stderr",
     "output_type": "stream",
     "text": [
      "1 molecule converted\n"
     ]
    },
    {
     "name": "stdout",
     "output_type": "stream",
     "text": [
      "************\n",
      "mode |   affinity | dist from best mode\n",
      "     | (kcal/mol) | rmsd l.b.| rmsd u.b.\n",
      "-----+------------+----------+----------\n",
      "   1       -8.376          0          0\n",
      "   2       -7.937      2.645      7.212\n",
      "   3        -7.87      3.558      6.511\n",
      "   4       -7.663       2.66      6.678\n",
      "   5       -7.644      5.696      7.776\n",
      "   6       -7.549       2.93      7.446\n",
      "   7       -7.463      3.365      6.474\n",
      "   8       -7.377      3.507      5.936\n",
      "   9       -7.323      3.337       5.96\n",
      "  10         -7.3      1.662      2.686\n",
      "  11       -7.236      2.824      6.655\n",
      "  12       -7.166      3.169      7.183\n",
      "  13       -7.124      3.223      5.367\n",
      "  14       -6.927      2.569       6.64\n",
      "  15       -6.814      1.486      2.298\n",
      "  16       -6.782      2.693      7.052\n",
      "  17       -6.753      3.329      6.326\n",
      "  18       -6.711      2.932      6.586\n",
      "  19       -6.706      2.791      6.841\n",
      "  20        -6.65      3.334      6.609\n",
      "****************rid ... *\n",
      "mode |   affinity | dist from best mode\n",
      "     | (kcal/mol) | rmsd l.b.| rmsd u.b.\n",
      "-----+------------+----------+----------\n",
      "   1       -9.941          0          0\n",
      "   2       -8.953      3.546      6.979\n",
      "   3       -8.947      3.221      7.118\n",
      "   4       -8.546       3.12      5.942\n",
      "   5       -8.508      3.092      6.769\n",
      "   6       -8.427      3.172      6.736\n",
      "   7       -8.158      3.364      6.065\n",
      "   8        -8.15      3.246      7.433\n",
      "   9       -8.055      3.261      6.881\n",
      "  10       -8.049      2.538      5.149\n",
      "  11       -7.993      3.557      7.185\n",
      "  12       -7.941      3.959       8.31\n",
      "  13       -7.907      2.839      6.422\n",
      "  14       -7.874      3.123      6.703\n",
      "  15       -7.864      3.159      6.103\n",
      "  16       -7.823       3.01      6.973\n",
      "  17       -7.822      2.478      5.818\n",
      "  18       -7.812      3.269      6.607\n",
      "  19       -7.796      2.524      5.175\n",
      "  20       -7.648      3.428      7.679\n",
      "***done.g Vina grid ... **\n",
      "*Performing docking (random seed: 486304584) ... \n",
      "0%   10   20   30   40   50   60   70   80   90   100%\n",
      "|----|----|----|----|----|----|----|----|----|----|\n",
      "*"
     ]
    },
    {
     "name": "stderr",
     "output_type": "stream",
     "text": [
      "WARNING: At low exhaustiveness, it may be impossible to utilize all CPUs.\n"
     ]
    },
    {
     "name": "stdout",
     "output_type": "stream",
     "text": [
      "************\n",
      "***"
     ]
    },
    {
     "name": "stderr",
     "output_type": "stream",
     "text": [
      "1 molecule converted\n",
      "1 molecule converted\n"
     ]
    },
    {
     "name": "stdout",
     "output_type": "stream",
     "text": [
      "**"
     ]
    },
    {
     "name": "stderr",
     "output_type": "stream",
     "text": [
      "1 molecule converted\n",
      "1 molecule converted\n"
     ]
    },
    {
     "name": "stdout",
     "output_type": "stream",
     "text": [
      "here\n",
      "O=C1c2ccc(Cl)cc2[C@@]2(CN1CC[NH+]1CC3(COC3)C1)C(=O)N(c1cncc3ccccc13)C[C@@H]2CNc1ncccn1 MERS-CoV Mpro\n",
      "Processing /home/xchen/Work/asap-polaris-blind-challenge-examples/SMILESopt/xtbopt_00108.xyz in docking/108\n"
     ]
    },
    {
     "name": "stderr",
     "output_type": "stream",
     "text": [
      "1 molecule converted\n"
     ]
    },
    {
     "name": "stdout",
     "output_type": "stream",
     "text": [
      "****done.\n",
      "*Performing docking (random seed: 175643549) ... "
     ]
    },
    {
     "name": "stderr",
     "output_type": "stream",
     "text": [
      "WARNING: At low exhaustiveness, it may be impossible to utilize all CPUs.\n"
     ]
    },
    {
     "name": "stdout",
     "output_type": "stream",
     "text": [
      "\n",
      "0%   10   20   30   40   50   60   70   80   90   100%\n",
      "|----|----|----|----|----|----|----|----|----|----|\n",
      "******************************\n",
      "mode |   affinity | dist from best mode\n",
      "     | (kcal/mol) | rmsd l.b.| rmsd u.b.\n",
      "-----+------------+----------+----------\n",
      "   1       -8.926          0          0\n",
      "   2        -8.41      3.433      6.594\n",
      "   3       -8.324       1.62       2.23\n",
      "   4       -8.141      2.644      7.343\n",
      "   5       -8.067        2.7      6.602\n",
      "   6       -8.015      2.821      6.998\n",
      "   7       -7.919      3.416      7.417\n",
      "   8       -7.764      3.507      7.977\n",
      "   9       -7.667      4.182      8.298\n",
      "  10       -7.649      2.817      5.436\n",
      "  11       -7.638       3.07      5.928\n",
      "  12       -7.614      3.169       6.79\n",
      "  13        -7.59      4.804      8.857\n",
      "  14       -7.481      2.887      7.349\n",
      "  15       -7.481      4.052      7.804\n",
      "  16       -7.481      2.921      5.805\n",
      "  17       -7.478      2.794      6.995\n",
      "  18       -7.435      3.079      5.858\n",
      "  19       -7.427      2.455      6.224\n",
      "  20       -7.422       3.39      7.558\n",
      "*****************************done.\n"
     ]
    },
    {
     "name": "stderr",
     "output_type": "stream",
     "text": [
      "WARNING: At low exhaustiveness, it may be impossible to utilize all CPUs.\n"
     ]
    },
    {
     "name": "stdout",
     "output_type": "stream",
     "text": [
      "Performing docking (random seed: 1552553345) ... \n",
      "0%   10   20   30   40   50   60   70   80   90   100%\n",
      "|----|----|----|----|----|----|----|----|----|----|\n",
      "********************\n",
      "*\n",
      "***"
     ]
    },
    {
     "name": "stderr",
     "output_type": "stream",
     "text": [
      "1 molecule converted\n",
      "1 molecule converted\n",
      "1 molecule converted\n",
      "1 molecule converted\n",
      "1 molecule converted\n",
      "1 molecule converted\n"
     ]
    },
    {
     "name": "stdout",
     "output_type": "stream",
     "text": [
      "here\n",
      "C[C@H]1CCN(C(=O)Cc2cncc3ccccc23)CCO1 hereMERS-CoV Mpro\n",
      "\n",
      "Processing /home/xchen/Work/asap-polaris-blind-challenge-examples/SMILESopt/xtbopt_00102.xyz in docking/102C[C@H]1CN(c2cncc3ccccc23)C(=O)[C@@]12CN(CC[N@H+]1CCOC(C)(C)C1)C(=O)c1ccc(Cl)cc12"
     ]
    },
    {
     "name": "stderr",
     "output_type": "stream",
     "text": [
      "1 molecule converted\n",
      "1 molecule converted\n"
     ]
    },
    {
     "name": "stdout",
     "output_type": "stream",
     "text": [
      " \n",
      "MERS-CoV Mpro\n",
      "Processing /home/xchen/Work/asap-polaris-blind-challenge-examples/SMILESopt/xtbopt_00062.xyz in docking/62\n"
     ]
    },
    {
     "name": "stderr",
     "output_type": "stream",
     "text": [
      "1 molecule converted\n",
      "1 molecule converted\n"
     ]
    },
    {
     "name": "stdout",
     "output_type": "stream",
     "text": [
      "************\n",
      "mode |   affinity | dist from best mode\n",
      "     | (kcal/mol) | rmsd l.b.| rmsd u.b.\n",
      "-----+------------+----------+----------\n",
      "   1       -9.324          0          0\n",
      "   2       -9.319      2.588        4.3\n",
      "   3       -8.999      2.771      4.665\n",
      "   4       -8.713      2.611      8.102\n",
      "   5       -8.689      2.653      7.728\n",
      "   6        -8.66      1.761      2.181\n",
      "   7       -8.637      3.604        7.2\n",
      "   8       -8.486      2.596      7.819\n",
      "   9       -8.446      1.494      2.332\n",
      "  10       -8.337      3.205      5.565\n",
      "  11       -8.331      2.647      8.072\n",
      "  12       -8.273      2.587      6.804\n",
      "  13       -8.233      3.087      5.292\n",
      "  14       -8.218      2.678      7.861\n",
      "  15       -8.172       2.77      4.257\n",
      "  16       -8.166      2.772      6.954\n",
      "  17       -8.074      3.392      5.488\n",
      "  18       -7.911      3.357      5.828\n",
      "  19       -7.664      3.108      5.225\n",
      "  20       -7.658      2.979      8.119\n",
      "*omputing Vina grid ... *\n",
      "mode |   affinity | dist from best mode\n",
      "     | (kcal/mol) | rmsd l.b.| rmsd u.b.\n",
      "-----+------------+----------+----------\n",
      "   1       -9.826          0          0\n",
      "   2       -9.605      3.231      7.032\n",
      "   3       -9.328       2.88      6.665\n",
      "   4       -9.233      3.558       8.64\n",
      "   5        -8.95      1.556      2.331\n",
      "   6       -8.886      2.599      7.328\n",
      "   7       -8.602      2.768      4.432\n",
      "   8       -8.485      2.389      7.043\n",
      "   9       -8.442      2.754      6.809\n",
      "  10       -8.355      2.921      7.275\n",
      "  11       -8.344      2.856      6.646\n",
      "  12       -8.344       2.85      7.425\n",
      "  13       -8.239      2.962      5.259\n",
      "  14       -8.212      2.751      5.485\n",
      "  15       -8.209      2.766      5.007\n",
      "  16       -8.047      3.348      6.266\n",
      "  17       -8.024      2.702      7.576\n",
      "  18       -7.964      2.787      6.465\n",
      "  19       -7.955      3.031      5.915\n",
      "**********done.grid ... \n",
      "*Performing docking (random seed: 223068397) ... \n",
      "0%   10   20   30   40   50   60   70   80   90   100%\n",
      "|----|----|----|----|----|----|----|----|----|----|\n",
      "**"
     ]
    },
    {
     "name": "stderr",
     "output_type": "stream",
     "text": [
      "WARNING: At low exhaustiveness, it may be impossible to utilize all CPUs.\n"
     ]
    },
    {
     "name": "stdout",
     "output_type": "stream",
     "text": [
      "********done.\n",
      "Performing docking (random seed: 637328774) ... \n",
      "0%   10   20   30   40   50   60   70   80   90   100%\n",
      "|----|----|----|----|----|----|----|----|----|----|\n",
      "**"
     ]
    },
    {
     "name": "stderr",
     "output_type": "stream",
     "text": [
      "WARNING: At low exhaustiveness, it may be impossible to utilize all CPUs.\n"
     ]
    },
    {
     "name": "stdout",
     "output_type": "stream",
     "text": [
      "*********************************\n",
      "**"
     ]
    },
    {
     "name": "stderr",
     "output_type": "stream",
     "text": [
      "1 molecule converted\n",
      "1 molecule converted\n"
     ]
    },
    {
     "name": "stdout",
     "output_type": "stream",
     "text": [
      "****"
     ]
    },
    {
     "name": "stderr",
     "output_type": "stream",
     "text": [
      "1 molecule converted\n"
     ]
    },
    {
     "name": "stdout",
     "output_type": "stream",
     "text": [
      "here\n"
     ]
    },
    {
     "name": "stderr",
     "output_type": "stream",
     "text": [
      "1 molecule converted\n"
     ]
    },
    {
     "name": "stdout",
     "output_type": "stream",
     "text": [
      "C[C@H]1CN(c2cncc3ccccc23)C(=O)[C@@]12CN(Cc1ncccn1)C(=O)c1ccc(F)cc12 SARS-CoV-2 Mpro\n",
      "*Processing /home/xchen/Work/asap-polaris-blind-challenge-examples/SMILESopt/xtbopt_00113.xyz in docking/113\n",
      "**"
     ]
    },
    {
     "name": "stderr",
     "output_type": "stream",
     "text": [
      "1 molecule converted\n"
     ]
    },
    {
     "name": "stdout",
     "output_type": "stream",
     "text": [
      "**********\n",
      "*****"
     ]
    },
    {
     "name": "stderr",
     "output_type": "stream",
     "text": [
      "1 molecule converted\n",
      "1 molecule converted\n",
      "1 molecule converted\n"
     ]
    },
    {
     "name": "stdout",
     "output_type": "stream",
     "text": [
      "*here\n",
      "C[C@H](NC(=O)COS(N)(=O)=O)c1cc(Cl)cc(-c2ccc(S(N)(=O)=O)cc2)c1 SARS-CoV-2 Mpro\n",
      "Processing /home/xchen/Work/asap-polaris-blind-challenge-examples/SMILESopt/xtbopt_00070.xyz in docking/70\n"
     ]
    },
    {
     "name": "stderr",
     "output_type": "stream",
     "text": [
      "1 molecule converted\n"
     ]
    },
    {
     "name": "stdout",
     "output_type": "stream",
     "text": [
      "***"
     ]
    },
    {
     "name": "stderr",
     "output_type": "stream",
     "text": [
      "1 molecule converted\n"
     ]
    },
    {
     "name": "stdout",
     "output_type": "stream",
     "text": [
      "************\n",
      "mode |   affinity | dist from best mode\n",
      "     | (kcal/mol) | rmsd l.b.| rmsd u.b.\n",
      "-----+------------+----------+----------\n",
      "   1        -8.12          0          0\n",
      "   2       -7.893      3.388      6.961\n",
      "   3       -7.783      4.217      6.481\n",
      "   4       -7.619       4.03      6.699\n",
      "   5       -7.581      3.415      8.128\n",
      "   6       -7.501      3.368      6.235\n",
      "   7       -7.494      3.138      7.877\n",
      "   8        -7.46       3.94      7.203\n",
      "   9       -7.405      4.055      6.552\n",
      "  10       -7.397      4.752      7.499\n",
      "  11       -7.338      4.044      6.865\n",
      "  12       -7.307      4.947      7.973\n",
      "  13       -7.267      4.518      7.307\n",
      "  14       -7.171      5.187      8.482\n",
      "  15       -7.161      5.246      7.367\n",
      "  16       -7.141       3.36      8.049\n",
      "  17       -7.119      4.262      6.942\n",
      "  18       -7.088      3.357       5.44\n",
      "  19       -7.016      3.555      6.551\n",
      "  20        -6.96      5.554      9.229\n",
      "***************grid ... *\n",
      "mode |   affinity | dist from best mode\n",
      "     | (kcal/mol) | rmsd l.b.| rmsd u.b.\n",
      "-----+------------+----------+----------\n",
      "   1        -7.62          0          0\n",
      "   2       -7.593      3.134      5.453\n",
      "   3       -7.487      2.889      6.489\n",
      "   4       -7.467      2.607      5.198\n",
      "   5       -7.399      3.245      8.325\n",
      "   6       -7.387      1.498      1.852\n",
      "   7       -7.336      3.019       7.51\n",
      "   8       -7.229      2.814      5.493\n",
      "   9       -7.209      2.338      4.816\n",
      "  10       -7.119      1.878      4.735\n",
      "  11       -7.063      2.563      6.262\n",
      "  12       -7.057      2.688      6.879\n",
      "  13       -7.039      3.221      8.335\n",
      "  14       -7.023       3.03      7.509\n",
      "  15       -6.895      2.896      7.978\n",
      "  16       -6.859      2.617      7.135\n",
      "  17       -6.857      3.071      6.076\n",
      "  18       -6.832      2.462      4.038\n",
      "  19       -6.707      2.799      7.429\n",
      "  20       -6.646      2.852      7.164\n",
      "*****ting Vina grid ... *\n"
     ]
    },
    {
     "name": "stderr",
     "output_type": "stream",
     "text": [
      "1 molecule converted\n",
      "1 molecule converted\n",
      "1 molecule converted\n",
      "1 molecule converted\n"
     ]
    },
    {
     "name": "stdout",
     "output_type": "stream",
     "text": [
      "here\n",
      "*CN1C[C@@H](C(=O)Nc2cncc3ccccc23)c2cc(Cl)ccc2C1=O MERS-CoV Mpro\n",
      "Processing /home/xchen/Work/asap-polaris-blind-challenge-examples/SMILESopt/xtbopt_00103.xyz in docking/103\n",
      "**"
     ]
    },
    {
     "name": "stderr",
     "output_type": "stream",
     "text": [
      "1 molecule converted\n",
      "WARNING: At low exhaustiveness, it may be impossible to utilize all CPUs.\n"
     ]
    },
    {
     "name": "stdout",
     "output_type": "stream",
     "text": [
      "done.\n",
      "*Performing docking (random seed: -1126442183) ... \n",
      "0%   10   20   30   40   50   60   70   80   90   100%\n",
      "|----|----|----|----|----|----|----|----|----|----|\n",
      "************done.\n",
      "*"
     ]
    },
    {
     "name": "stderr",
     "output_type": "stream",
     "text": [
      "WARNING: At low exhaustiveness, it may be impossible to utilize all CPUs.\n"
     ]
    },
    {
     "name": "stdout",
     "output_type": "stream",
     "text": [
      "Performing docking (random seed: 1502979189) ... \n",
      "0%   10   20   30   40   50   60   70   80   90   100%\n",
      "|----|----|----|----|----|----|----|----|----|----|\n",
      "****\n",
      "mode |   affinity | dist from best mode\n",
      "     | (kcal/mol) | rmsd l.b.| rmsd u.b.\n",
      "-----+------------+----------+----------\n",
      "   1       -7.356          0          0\n",
      "   2       -7.323      1.323      2.225\n",
      "   3       -7.172      1.777      2.761\n",
      "   4        -7.17      2.245      7.884\n",
      "   5       -7.112      1.354      1.843\n",
      "   6        -7.09      1.798      2.892\n",
      "   7       -7.086       1.64      2.524\n",
      "   8       -6.915      1.706      2.214\n",
      "   9       -6.911      1.955       7.84\n",
      "  10       -6.828      3.182      5.085\n",
      "  11       -6.734      1.601      2.291\n",
      "  12        -6.72       3.19      5.203\n",
      "  13       -6.636      3.289      5.487\n",
      "  14       -6.529      3.661      5.278\n",
      "  15       -6.395      1.699       2.56\n",
      "  16       -6.245      2.085      3.364\n",
      "  17        -6.23      2.064      7.293\n",
      "  18       -6.217      2.353      3.578\n",
      "  19       -6.108      1.871      7.537\n",
      "  20       -6.101      2.033      7.387\n",
      "*********************** \n",
      "***"
     ]
    },
    {
     "name": "stderr",
     "output_type": "stream",
     "text": [
      "1 molecule converted\n",
      "1 molecule converted\n"
     ]
    },
    {
     "name": "stdout",
     "output_type": "stream",
     "text": [
      "**"
     ]
    },
    {
     "name": "stderr",
     "output_type": "stream",
     "text": [
      "1 molecule converted\n"
     ]
    },
    {
     "name": "stdout",
     "output_type": "stream",
     "text": [
      "*done.\n",
      "here\n",
      "CC(C)C1CCN(C(=O)Cc2cncc3ccccc23)CC1 SARS-CoV-2 Mpro\n",
      "Processing /home/xchen/Work/asap-polaris-blind-challenge-examples/SMILESopt/xtbopt_00091.xyz in docking/91\n"
     ]
    },
    {
     "name": "stderr",
     "output_type": "stream",
     "text": [
      "1 molecule converted\n",
      "WARNING: At low exhaustiveness, it may be impossible to utilize all CPUs.\n"
     ]
    },
    {
     "name": "stdout",
     "output_type": "stream",
     "text": [
      "*Performing docking (random seed: 1984170430) ... *\n",
      "0%   10   20   30   40   50   60   70   80   90   100%\n",
      "|----|----|----|----|----|----|----|----|----|----|\n",
      "*"
     ]
    },
    {
     "name": "stderr",
     "output_type": "stream",
     "text": [
      "1 molecule converted\n"
     ]
    },
    {
     "name": "stdout",
     "output_type": "stream",
     "text": [
      "*******************\n",
      "mode |   affinity | dist from best mode\n",
      "     | (kcal/mol) | rmsd l.b.| rmsd u.b.\n",
      "-----+------------+----------+----------\n",
      "   1       -8.289          0          0\n",
      "   2       -8.284       1.13      1.422\n",
      "   3       -8.067       2.85      5.962\n",
      "   4       -8.046      2.167      5.013\n",
      "   5       -7.979      2.567      3.301\n",
      "   6       -7.907      2.401      5.251\n",
      "   7       -7.854      1.452      1.785\n",
      "   8       -7.844      2.493      5.308\n",
      "   9       -7.762      1.555      2.324\n",
      "  10       -7.584      2.579      5.821\n",
      "  11       -7.505      2.297       2.91\n",
      "  12       -7.496      2.438      6.922\n",
      "  13       -7.426      2.778      7.166\n",
      "  14       -7.416      2.553      6.454\n",
      "  15       -7.343      2.488      7.331\n",
      "  16       -7.332      2.939      6.718\n",
      "  17       -7.265      2.794      6.315\n",
      "  18       -7.211      2.609      7.487\n",
      "  19       -7.195      2.595      5.613\n",
      "  20       -7.186       2.52      7.227\n",
      "******************************done.\n",
      "*Performing docking (random seed: -1717882648) ... \n",
      "0%   10   20   30   40   50   60   70   80   90   100%\n",
      "|----|----|----|----|----|----|----|----|----|----|\n",
      "**"
     ]
    },
    {
     "name": "stderr",
     "output_type": "stream",
     "text": [
      "WARNING: At low exhaustiveness, it may be impossible to utilize all CPUs.\n"
     ]
    },
    {
     "name": "stdout",
     "output_type": "stream",
     "text": [
      "*********************************************************************************\n",
      "***"
     ]
    },
    {
     "name": "stderr",
     "output_type": "stream",
     "text": [
      "1 molecule converted\n"
     ]
    },
    {
     "name": "stdout",
     "output_type": "stream",
     "text": [
      "***"
     ]
    },
    {
     "name": "stderr",
     "output_type": "stream",
     "text": [
      "1 molecule converted\n",
      "1 molecule converted\n"
     ]
    },
    {
     "name": "stdout",
     "output_type": "stream",
     "text": [
      "here\n"
     ]
    },
    {
     "name": "stderr",
     "output_type": "stream",
     "text": [
      "1 molecule converted\n"
     ]
    },
    {
     "name": "stdout",
     "output_type": "stream",
     "text": [
      "CCn1nccc1CN1C[C@@]2(C(=O)N(c3cncc4ccccc34)C[C@@H]2C)c2cc(F)ccc2C1=O MERS-CoV Mpro\n",
      "Processing /home/xchen/Work/asap-polaris-blind-challenge-examples/SMILESopt/xtbopt_00095.xyz in docking/95\n",
      "*******"
     ]
    },
    {
     "name": "stderr",
     "output_type": "stream",
     "text": [
      "1 molecule converted\n"
     ]
    },
    {
     "name": "stdout",
     "output_type": "stream",
     "text": [
      "***********************************\n",
      "mode |   affinity | dist from best mode\n",
      "     | (kcal/mol) | rmsd l.b.| rmsd u.b.\n",
      "-----+------------+----------+----------\n",
      "   1       -9.387          0          0\n",
      "   2       -9.204      1.163      1.592\n",
      "   3       -8.122      1.807      2.574\n",
      "   4       -8.065      1.463      1.631\n",
      "   5       -7.899      2.815      7.245\n",
      "   6       -7.795      2.597      5.604\n",
      "   7       -7.702      2.599      6.191\n",
      "   8       -7.693      2.894      7.123\n",
      "   9        -7.66       3.05       7.17\n",
      "  10       -7.633      2.616      6.466\n",
      "  11       -7.595      2.713      5.857\n",
      "  12       -7.511       2.46      5.463\n",
      "  13       -7.498      2.902      6.459\n",
      "  14       -7.437      2.913      6.995\n",
      "  15       -7.273      2.591      6.742\n",
      "  16       -7.135      2.704      6.285\n",
      "  17       -7.096      2.992      7.003\n",
      "  18       -7.094      2.692      7.132\n",
      "  19       -7.067      2.722      5.494\n",
      "  20       -6.958      2.902       6.07\n",
      "***********ina grid ... **\n",
      "**"
     ]
    },
    {
     "name": "stderr",
     "output_type": "stream",
     "text": [
      "1 molecule converted\n",
      "1 molecule converted\n"
     ]
    },
    {
     "name": "stdout",
     "output_type": "stream",
     "text": [
      "****"
     ]
    },
    {
     "name": "stderr",
     "output_type": "stream",
     "text": [
      "1 molecule converted\n",
      "1 molecule converted\n"
     ]
    },
    {
     "name": "stdout",
     "output_type": "stream",
     "text": [
      "here\n",
      "O=C(Cc1cncc2ccccc12)N1CCc2sccc2C1 MERS-CoV Mpro\n",
      "Processing /home/xchen/Work/asap-polaris-blind-challenge-examples/SMILESopt/xtbopt_00104.xyz in docking/104\n",
      "*"
     ]
    },
    {
     "name": "stderr",
     "output_type": "stream",
     "text": [
      "1 molecule converted\n"
     ]
    },
    {
     "name": "stdout",
     "output_type": "stream",
     "text": [
      "******done.\n"
     ]
    },
    {
     "name": "stderr",
     "output_type": "stream",
     "text": [
      "WARNING: At low exhaustiveness, it may be impossible to utilize all CPUs.\n"
     ]
    },
    {
     "name": "stdout",
     "output_type": "stream",
     "text": [
      "Performing docking (random seed: 2125020561) ... *\n",
      "0%   10   20   30   40   50   60   70   80   90   100%\n",
      "|----|----|----|----|----|----|----|----|----|----|\n",
      "*****\n",
      "\n",
      "mode |   affinity | dist from best mode\n",
      "     | (kcal/mol) | rmsd l.b.| rmsd u.b.\n",
      "-----+------------+----------+----------\n",
      "   1        -8.04          0          0\n",
      "   2       -7.663       3.72       7.22\n",
      "   3       -7.649      3.807      6.278\n",
      "   4        -7.47      2.774      3.547\n",
      "   5       -7.438      4.119      7.885\n",
      "   6       -7.282      1.728      2.096\n",
      "   7       -7.195      3.374      7.609\n",
      "   8        -7.19      1.637      2.499\n",
      "   9       -7.155      3.593      7.014\n",
      "  10       -7.153      3.394      7.235\n",
      "  11       -7.059      3.402      7.138\n",
      "  12       -7.059      3.154      6.203\n",
      "  13       -7.056      2.539      2.968\n",
      "  14       -7.048      4.047      7.789\n",
      "  15       -7.043      3.168       7.19\n",
      "  16       -7.014      2.372      3.227\n",
      "  17       -6.934      3.123      4.064\n",
      "  18       -6.901      3.118      4.007\n",
      "  19       -6.894      3.603      7.175\n",
      "  20       -6.798      4.034      6.611\n",
      "***puting Vina grid ... *"
     ]
    },
    {
     "name": "stderr",
     "output_type": "stream",
     "text": [
      "1 molecule converted\n",
      "1 molecule converted\n"
     ]
    },
    {
     "name": "stdout",
     "output_type": "stream",
     "text": [
      "here\n"
     ]
    },
    {
     "name": "stderr",
     "output_type": "stream",
     "text": [
      "1 molecule converted\n",
      "1 molecule converted\n"
     ]
    },
    {
     "name": "stdout",
     "output_type": "stream",
     "text": [
      "C[C@H]1CN(c2cncc3ccccc23)C(=O)[C@@]12CN(Cc1ccncn1)C(=O)c1ccc(F)cc12 MERS-CoV Mpro\n",
      "Processing /home/xchen/Work/asap-polaris-blind-challenge-examples/SMILESopt/xtbopt_00120.xyz in docking/120\n"
     ]
    },
    {
     "name": "stderr",
     "output_type": "stream",
     "text": [
      "1 molecule converted\n"
     ]
    },
    {
     "name": "stdout",
     "output_type": "stream",
     "text": [
      "*********done.\n",
      "Performing docking (random seed: -1862254040) ... *\n",
      "0%   10   20   30   40   50   60   70   80   90   100%\n",
      "|----|----|----|----|----|----|----|----|----|----|\n",
      "*"
     ]
    },
    {
     "name": "stderr",
     "output_type": "stream",
     "text": [
      "WARNING: At low exhaustiveness, it may be impossible to utilize all CPUs.\n"
     ]
    },
    {
     "name": "stdout",
     "output_type": "stream",
     "text": [
      "***\n",
      "*******"
     ]
    },
    {
     "name": "stderr",
     "output_type": "stream",
     "text": [
      "1 molecule converted\n",
      "1 molecule converted\n",
      "1 molecule converted\n"
     ]
    },
    {
     "name": "stdout",
     "output_type": "stream",
     "text": [
      "**here\n"
     ]
    },
    {
     "name": "stderr",
     "output_type": "stream",
     "text": [
      "1 molecule converted\n"
     ]
    },
    {
     "name": "stdout",
     "output_type": "stream",
     "text": [
      "CNC(=O)CN1C[C@@]2(C(=O)N(c3cncc4ccccc34)C[C@@H]2C)c2ccccc2C1=O SARS-CoV-2 Mpro\n",
      "Processing /home/xchen/Work/asap-polaris-blind-challenge-examples/SMILESopt/xtbopt_00077.xyz in docking/77\n",
      "\n",
      "mode |   affinity | dist from best mode\n",
      "     | (kcal/mol) | rmsd l.b.| rmsd u.b.\n",
      "-----+------------+----------+----------\n",
      "   1       -7.025          0          0\n",
      "   2       -6.928      1.578      2.147\n",
      "   3       -6.669       5.84      7.636\n",
      "   4       -6.664      3.452      7.689\n",
      "   5       -6.638      3.798       7.48\n",
      "   6       -6.608      3.677      7.029\n",
      "   7       -6.588      5.176      7.494\n",
      "   8       -6.581      1.997      2.489\n",
      "   9       -6.542      2.029      7.456\n",
      "  10       -6.485      4.573      7.423\n",
      "  11       -6.481      2.019      7.862\n",
      "  12       -6.439       7.95      8.861\n",
      "  13       -6.407      3.215      4.705\n",
      "  14       -6.397      1.787      7.392\n",
      "  15       -6.365      4.353      5.944\n",
      "  16       -6.353      4.831        8.4\n",
      "  17       -6.348      4.708      6.403\n",
      "  18       -6.319      5.717       7.88\n",
      "  19       -6.317      1.652      2.628\n",
      "  20       -6.247      4.427       6.23\n",
      "**mputing Vina grid ... *"
     ]
    },
    {
     "name": "stderr",
     "output_type": "stream",
     "text": [
      "1 molecule converted\n"
     ]
    },
    {
     "name": "stdout",
     "output_type": "stream",
     "text": [
      "********************\n",
      "****"
     ]
    },
    {
     "name": "stderr",
     "output_type": "stream",
     "text": [
      "1 molecule converted\n",
      "1 molecule converted\n"
     ]
    },
    {
     "name": "stdout",
     "output_type": "stream",
     "text": [
      "*"
     ]
    },
    {
     "name": "stderr",
     "output_type": "stream",
     "text": [
      "1 molecule converted\n",
      "1 molecule converted\n"
     ]
    },
    {
     "name": "stdout",
     "output_type": "stream",
     "text": [
      "here\n",
      "CNC(=O)CN1C[C@@]2(C(=O)N(c3cncc4ccccc34)CC2(C)C)c2cc(Cl)ccc2C1=O SARS-CoV-2 Mpro\n",
      "Processing /home/xchen/Work/asap-polaris-blind-challenge-examples/SMILESopt/xtbopt_00114.xyz in docking/114\n",
      "**done.\n",
      "Performing docking (random seed: 1236328102) ... \n",
      "0%   10   20   30   40   50   60   70   80   90   100%\n",
      "|----|----|----|----|----|----|----|----|----|----|\n",
      "*\n",
      "mode |   affinity | dist from best mode\n",
      "     | (kcal/mol) | rmsd l.b.| rmsd u.b.\n",
      "-----+------------+----------+----------\n",
      "   1       -8.618          0          0\n",
      "   2       -8.329      1.644      2.044\n",
      "   3       -8.046       1.65      2.056\n",
      "   4        -7.96      3.551       7.82\n",
      "   5       -7.883       3.82      8.332\n",
      "   6       -7.749      2.685      6.074\n",
      "   7       -7.678      2.559      6.315\n",
      "   8       -7.561        2.6      6.902\n",
      "   9         -7.4      3.002      5.612\n",
      "  10       -7.348      2.944      6.364\n",
      "  11       -7.268      3.102      6.364\n",
      "  12       -7.254      2.968      6.342\n",
      "  13       -7.195      3.136      6.709\n",
      "  14       -7.191      3.998      6.939\n",
      "  15        -7.19      3.456      6.975\n",
      "  16        -7.18      3.455      7.541\n",
      "  17       -7.103      3.307      6.644\n",
      "  18       -7.084      2.897      6.749\n",
      "  19       -7.053      2.661       6.81\n",
      "  20       -7.035      1.574      2.256\n",
      "Computing Vina grid ... "
     ]
    },
    {
     "name": "stderr",
     "output_type": "stream",
     "text": [
      "WARNING: At low exhaustiveness, it may be impossible to utilize all CPUs.\n"
     ]
    },
    {
     "name": "stdout",
     "output_type": "stream",
     "text": [
      "**"
     ]
    },
    {
     "name": "stderr",
     "output_type": "stream",
     "text": [
      "1 molecule converted\n"
     ]
    },
    {
     "name": "stdout",
     "output_type": "stream",
     "text": [
      "***************************\n",
      "mode |   affinity | dist from best mode\n",
      "     | (kcal/mol) | rmsd l.b.| rmsd u.b.\n",
      "-----+------------+----------+----------\n",
      "   1        -8.72          0          0\n",
      "   2       -8.518      1.387       2.27\n",
      "   3       -8.484      5.414      7.999\n",
      "   4       -8.232      3.587      4.914\n",
      "   5       -8.204      4.382      5.688\n",
      "   6       -8.034      2.646      6.815\n",
      "   7       -8.001      3.022      7.589\n",
      "   8       -7.896      3.351      6.064\n",
      "   9       -7.893      3.772      6.238\n",
      "  10       -7.793      2.216      7.308\n",
      "  11       -7.782      3.447       4.71\n",
      "  12       -7.586      3.667      6.241\n",
      "  13       -7.512      5.326      9.136\n",
      "  14       -7.394      4.827       6.97\n",
      "  15       -7.376      3.201      7.605\n",
      "  16       -7.374      3.274      5.417\n",
      "  17       -7.336      4.925      6.912\n",
      "  18       -7.218      3.506      5.686\n",
      "  19       -7.212      6.769      9.914\n",
      "  20       -7.197      4.935      7.048\n",
      "Computing Vina grid ... *done.\n",
      "*Performing docking (random seed: -1633866175) ... *\n",
      "0%   10   20   30   40   50   60   70   80   90   100%\n",
      "|----|----|----|----|----|----|----|----|----|----|\n",
      "**"
     ]
    },
    {
     "name": "stderr",
     "output_type": "stream",
     "text": [
      "WARNING: At low exhaustiveness, it may be impossible to utilize all CPUs.\n"
     ]
    },
    {
     "name": "stdout",
     "output_type": "stream",
     "text": [
      "**\n",
      "*****"
     ]
    },
    {
     "name": "stderr",
     "output_type": "stream",
     "text": [
      "1 molecule converted\n",
      "1 molecule converted\n",
      "1 molecule converted\n"
     ]
    },
    {
     "name": "stdout",
     "output_type": "stream",
     "text": [
      "***here\n",
      "C[C@H]1CN(c2cncc3ccccc23)C(=O)[C@@]12CN(Cc1cn[nH]n1)C(=O)c1ccc(F)cc12 SARS-CoV-2 Mpro\n",
      "Processing /home/xchen/Work/asap-polaris-blind-challenge-examples/SMILESopt/xtbopt_00063.xyz in docking/63"
     ]
    },
    {
     "name": "stderr",
     "output_type": "stream",
     "text": [
      "1 molecule converted\n"
     ]
    },
    {
     "name": "stdout",
     "output_type": "stream",
     "text": [
      "\n",
      "**"
     ]
    },
    {
     "name": "stderr",
     "output_type": "stream",
     "text": [
      "1 molecule converted\n"
     ]
    },
    {
     "name": "stdout",
     "output_type": "stream",
     "text": [
      "********************\n",
      "***done.\n"
     ]
    },
    {
     "name": "stderr",
     "output_type": "stream",
     "text": [
      "1 molecule converted\n",
      "WARNING: At low exhaustiveness, it may be impossible to utilize all CPUs.\n",
      "1 molecule converted\n"
     ]
    },
    {
     "name": "stdout",
     "output_type": "stream",
     "text": [
      "Performing docking (random seed: -1662194592) ... \n",
      "0%   10   20   30   40   50   60   70   80   90   100%\n",
      "|----|----|----|----|----|----|----|----|----|----|\n",
      "here"
     ]
    },
    {
     "name": "stderr",
     "output_type": "stream",
     "text": [
      "1 molecule converted\n",
      "1 molecule converted\n"
     ]
    },
    {
     "name": "stdout",
     "output_type": "stream",
     "text": [
      "*\n",
      "O=C1c2ccc(Cl)cc2[C@@]2(CN1Cc1ccnnc1)C(=O)N(c1cncc3ccccc13)C[C@@H]2CNc1nncs1 MERS-CoV Mpro\n",
      "Processing /home/xchen/Work/asap-polaris-blind-challenge-examples/SMILESopt/xtbopt_00127.xyz in docking/127\n",
      "***"
     ]
    },
    {
     "name": "stderr",
     "output_type": "stream",
     "text": [
      "1 molecule converted\n"
     ]
    },
    {
     "name": "stdout",
     "output_type": "stream",
     "text": [
      "\n",
      "mode |   affinity | dist from best mode\n",
      "     | (kcal/mol) | rmsd l.b.| rmsd u.b.\n",
      "-----+------------+----------+----------\n",
      "   1       -8.829          0          0\n",
      "   2       -8.728      2.612      7.388\n",
      "   3       -8.325      2.504      7.631\n",
      "   4       -8.305      2.275      3.899\n",
      "   5       -8.251      2.195      3.571\n",
      "   6       -8.148      1.001      1.699\n",
      "   7        -8.06      3.359      7.746\n",
      "   8       -8.015       2.88       6.29\n",
      "   9        -7.67      4.157      7.784\n",
      "  10       -7.656      3.641      8.163\n",
      "  11       -7.616      4.001      8.811\n",
      "  12       -7.593      1.529      2.342\n",
      "  13       -7.573      4.041      7.495\n",
      "  14       -7.552      3.908      8.483\n",
      "  15       -7.388       3.99      7.893\n",
      "  16       -7.363      2.373      7.255\n",
      "  17       -7.333      3.918      9.376\n",
      "  18       -7.323      4.828      9.668\n",
      "  19       -7.288      2.948       7.83\n",
      "  20       -7.284      2.774      4.619\n",
      "********* Vina grid ... \n",
      "***"
     ]
    },
    {
     "name": "stderr",
     "output_type": "stream",
     "text": [
      "1 molecule converted\n",
      "1 molecule converted\n"
     ]
    },
    {
     "name": "stdout",
     "output_type": "stream",
     "text": [
      "***"
     ]
    },
    {
     "name": "stderr",
     "output_type": "stream",
     "text": [
      "1 molecule converted\n",
      "1 molecule converted\n"
     ]
    },
    {
     "name": "stdout",
     "output_type": "stream",
     "text": [
      "here\n",
      "Cc1nnc(CN2C[C@@]3(C(=O)N(c4cncc5ccccc45)C[C@@H]3CNc3ccncn3)c3cc(Cl)ccc3C2=O)o1 MERS-CoV Mpro\n",
      "Processing /home/xchen/Work/asap-polaris-blind-challenge-examples/SMILESopt/xtbopt_00105.xyz in docking/105\n",
      "**"
     ]
    },
    {
     "name": "stderr",
     "output_type": "stream",
     "text": [
      "1 molecule converted\n"
     ]
    },
    {
     "name": "stdout",
     "output_type": "stream",
     "text": [
      "**************\n",
      "mode |   affinity | dist from best mode\n",
      "     | (kcal/mol) | rmsd l.b.| rmsd u.b.\n",
      "-----+------------+----------+----------\n",
      "   1       -7.928          0          0\n",
      "   2       -7.758      2.122      2.862\n",
      "   3       -7.495      3.428      4.171\n",
      "   4        -7.24      3.682      4.906\n",
      "   5       -7.232      4.824      6.937\n",
      "   6       -7.211      4.493      5.823\n",
      "   7       -7.184      6.249      8.891\n",
      "   8       -7.155      4.292      5.123\n",
      "   9        -7.15      4.955      9.056\n",
      "  10        -7.09      4.825      7.414\n",
      "  11       -7.075      1.848        2.5\n",
      "  12       -6.914      4.741      6.579\n",
      "  13       -6.914      3.635      8.178\n",
      "  14       -6.845      4.423      5.725\n",
      "  15       -6.833      2.886      3.531\n",
      "  16       -6.798      4.258      8.975\n",
      "  17       -6.797      2.868      8.583\n",
      "  18       -6.718      4.717      8.354\n",
      "  19       -6.674      2.619      2.987\n",
      "  20       -6.552      5.983      8.821\n",
      "**done.ng Vina grid ... \n"
     ]
    },
    {
     "name": "stderr",
     "output_type": "stream",
     "text": [
      "WARNING: At low exhaustiveness, it may be impossible to utilize all CPUs.\n"
     ]
    },
    {
     "name": "stdout",
     "output_type": "stream",
     "text": [
      "Performing docking (random seed: -667545206) ... \n",
      "0%   10   20   30   40   50   60   70   80   90   100%\n",
      "|----|----|----|----|----|----|----|----|----|----|\n",
      "*******************\n",
      "mode |   affinity | dist from best mode\n",
      "     | (kcal/mol) | rmsd l.b.| rmsd u.b.\n",
      "-----+------------+----------+----------\n",
      "   1       -7.893          0          0\n",
      "   2       -7.846      2.951      7.875\n",
      "   3        -7.78      1.405      2.172\n",
      "   4        -7.68      2.867       7.81\n",
      "   5       -7.388      1.836      2.586\n",
      "   6       -7.345      2.052      2.948\n",
      "   7       -7.311      2.911       7.87\n",
      "   8       -7.179      3.696      5.149\n",
      "   9       -7.137      1.953      3.132\n",
      "  10        -7.11       2.74      7.815\n",
      "  11        -7.01      2.575       4.12\n",
      "  12       -6.934       3.84      5.322\n",
      "  13       -6.817      1.563      2.186\n",
      "  14       -6.771      3.934      5.422\n",
      "  15       -6.724      3.617      5.552\n",
      "  16       -6.704      3.297      5.012\n",
      "  17       -6.596      2.314      3.242\n",
      "  18       -6.532      2.911       7.47\n",
      "  19       -6.466       2.89      7.137\n",
      "  20       -6.448       2.33      3.858\n",
      "************************done.\n",
      "*Performing docking (random seed: -1937350351) ... \n",
      "0%   10   20   30   40   50   60   70   80   90   100%\n",
      "|----|----|----|----|----|----|----|----|----|----|\n",
      "*"
     ]
    },
    {
     "name": "stderr",
     "output_type": "stream",
     "text": [
      "WARNING: At low exhaustiveness, it may be impossible to utilize all CPUs.\n"
     ]
    },
    {
     "name": "stdout",
     "output_type": "stream",
     "text": [
      "*************done.\n",
      "**Performing docking (random seed: -400246566) ... \n",
      "0%   10   20   30   40   50   60   70   80   90   100%\n",
      "|----|----|----|----|----|----|----|----|----|----|\n",
      "*"
     ]
    },
    {
     "name": "stderr",
     "output_type": "stream",
     "text": [
      "WARNING: At low exhaustiveness, it may be impossible to utilize all CPUs.\n"
     ]
    },
    {
     "name": "stdout",
     "output_type": "stream",
     "text": [
      "****************************************************************************************************************\n",
      "***"
     ]
    },
    {
     "name": "stderr",
     "output_type": "stream",
     "text": [
      "1 molecule converted\n",
      "1 molecule converted\n"
     ]
    },
    {
     "name": "stdout",
     "output_type": "stream",
     "text": [
      "**\n"
     ]
    },
    {
     "name": "stderr",
     "output_type": "stream",
     "text": [
      "1 molecule converted\n",
      "1 molecule converted\n"
     ]
    },
    {
     "name": "stdout",
     "output_type": "stream",
     "text": [
      "here\n",
      "C=C(CN(C(=O)Nc1cncc2ccccc12)c1cccc(Cl)c1)C(=O)NCC SARS-CoV-2 Mpro\n",
      "Processing /home/xchen/Work/asap-polaris-blind-challenge-examples/SMILESopt/xtbopt_00096.xyz in docking/96\n",
      "**"
     ]
    },
    {
     "name": "stderr",
     "output_type": "stream",
     "text": [
      "1 molecule converted\n",
      "1 molecule converted\n"
     ]
    },
    {
     "name": "stdout",
     "output_type": "stream",
     "text": [
      "*"
     ]
    },
    {
     "name": "stderr",
     "output_type": "stream",
     "text": [
      "1 molecule converted\n",
      "1 molecule converted\n"
     ]
    },
    {
     "name": "stdout",
     "output_type": "stream",
     "text": [
      "here\n",
      "O=C(Cc1cncc2ccccc12)N1CCC2(CCC2)CC1 SARS-CoV-2 Mpro\n",
      "Processing /home/xchen/Work/asap-polaris-blind-challenge-examples/SMILESopt/xtbopt_00121.xyz in docking/121\n"
     ]
    },
    {
     "name": "stderr",
     "output_type": "stream",
     "text": [
      "1 molecule converted\n"
     ]
    },
    {
     "name": "stdout",
     "output_type": "stream",
     "text": [
      "***"
     ]
    },
    {
     "name": "stderr",
     "output_type": "stream",
     "text": [
      "1 molecule converted\n"
     ]
    },
    {
     "name": "stdout",
     "output_type": "stream",
     "text": [
      "*******\n",
      "**"
     ]
    },
    {
     "name": "stderr",
     "output_type": "stream",
     "text": [
      "1 molecule converted\n",
      "1 molecule converted\n",
      "1 molecule converted\n"
     ]
    },
    {
     "name": "stdout",
     "output_type": "stream",
     "text": [
      "here\n",
      "Cc1cc(CN2C[C@@]3(C(=O)N(c4cncc5ccccc45)C[C@@H]3C)c3cc(F)ccc3C2=O)on1 SARS-CoV-2 Mpro\n",
      "Processing /home/xchen/Work/asap-polaris-blind-challenge-examples/SMILESopt/xtbopt_00134.xyz in docking/134\n"
     ]
    },
    {
     "name": "stderr",
     "output_type": "stream",
     "text": [
      "1 molecule converted\n"
     ]
    },
    {
     "name": "stdout",
     "output_type": "stream",
     "text": [
      "**"
     ]
    },
    {
     "name": "stderr",
     "output_type": "stream",
     "text": [
      "1 molecule converted\n"
     ]
    },
    {
     "name": "stdout",
     "output_type": "stream",
     "text": [
      "*\n",
      "mode |   affinity | dist from best mode\n",
      "     | (kcal/mol) | rmsd l.b.| rmsd u.b.\n",
      "-----+------------+----------+----------\n",
      "   1       -9.833          0          0\n",
      "   2       -9.168      2.758      8.442\n",
      "   3       -8.998       1.44       2.03\n",
      "   4       -8.953      2.253      7.368\n",
      "   5       -8.933      2.539      7.411\n",
      "   6       -8.711      2.986      4.833\n",
      "   7       -8.559      1.328      2.141\n",
      "   8       -8.453      2.895      8.133\n",
      "   9       -8.384      2.549      6.931\n",
      "  10       -8.317      3.133      5.539\n",
      "  11       -8.246      3.571      5.577\n",
      "  12       -8.172      3.027      5.994\n",
      "  13       -8.097      2.525       7.55\n",
      "  14       -8.078      4.067      9.308\n",
      "  15       -7.977      2.864      4.617\n",
      "  16       -7.962      2.759      5.292\n",
      "  17       -7.926      3.125      4.643\n",
      "  18       -7.878      3.331      5.625\n",
      "  19       -7.819      2.869      8.251\n",
      "  20       -7.811      3.736      6.161\n",
      "****uting Vina grid ... \n",
      "mode |   affinity | dist from best mode\n",
      "     | (kcal/mol) | rmsd l.b.| rmsd u.b.\n",
      "-----+------------+----------+----------\n",
      "   1        -9.55          0          0\n",
      "   2         -8.4      2.634      5.145\n",
      "   3       -8.279      3.288       5.17\n",
      "   4       -8.237      3.236      5.243\n",
      "   5       -8.217      3.318      7.004\n",
      "   6         -8.1      3.216       5.49\n",
      "   7        -8.06      3.524      6.842\n",
      "   8       -8.044      2.558      5.018\n",
      "   9       -8.011      2.652      5.221\n",
      "  10       -7.976      3.229      5.088\n",
      "  11       -7.919      2.691      7.438\n",
      "  12       -7.867      3.209      6.917\n",
      "  13       -7.803      3.294      5.312\n",
      "  14       -7.773      2.983      7.102\n",
      "  15       -7.696      3.323      5.477\n",
      "  16       -7.657      3.195      5.177\n",
      "  17       -7.584       3.16      7.499\n",
      "  18       -7.512      3.003      7.733\n",
      "  19       -7.468      2.103      7.115\n",
      "  20       -7.434      2.402      7.722\n",
      "*****ting Vina grid ... *\n",
      "mode |   affinity | dist from best mode\n",
      "     | (kcal/mol) | rmsd l.b.| rmsd u.b.\n",
      "-----+------------+----------+----------\n",
      "   1       -8.941          0          0\n",
      "   2       -7.938      2.839      6.672\n",
      "   3       -7.899      3.291      5.807\n",
      "   4       -7.674       1.41      2.248\n",
      "   5       -7.575      3.093      5.755\n",
      "   6       -7.447      3.361      5.654\n",
      "   7       -7.442      3.095      6.472\n",
      "   8       -7.379      5.299      7.403\n",
      "   9       -7.331       2.69      5.786\n",
      "  10       -7.245      6.294      8.611\n",
      "  11       -7.168      3.263      6.002\n",
      "  12       -7.121      1.814      6.393\n",
      "  13       -7.112      3.654      6.489\n",
      "  14       -7.076      3.473      6.638\n",
      "  15       -7.054       2.08      6.647\n",
      "  16       -7.045      1.614      2.079\n",
      "  17       -7.045       2.87      6.114\n",
      "  18        -6.98      4.983      6.799\n",
      "  19       -6.759      3.096      6.536\n",
      "  20       -6.741      2.836      5.997\n",
      "**mputing Vina grid ... *\n",
      "*done.\n",
      "*\n",
      "Performing docking (random seed: 1595277184) ... \n",
      "0%   10   20   30   40   50   60   70   80   90   100%\n",
      "|----|----|----|----|----|----|----|----|----|----|\n",
      "**"
     ]
    },
    {
     "name": "stderr",
     "output_type": "stream",
     "text": [
      "WARNING: At low exhaustiveness, it may be impossible to utilize all CPUs.\n",
      "1 molecule converted\n",
      "1 molecule converted\n",
      "1 molecule converted\n",
      "1 molecule converted\n",
      "1 molecule converted\n",
      "1 molecule converted\n"
     ]
    },
    {
     "name": "stdout",
     "output_type": "stream",
     "text": [
      "here\n",
      "Cn1c(Cc2ccccc2)nn(-c2cncc3ccccc23)c1=O SARS-CoV-2 Mpro\n",
      "Processing /home/xchen/Work/asap-polaris-blind-challenge-examples/SMILESopt/xtbopt_00109.xyz in docking/109\n",
      "here**\n",
      "CN1C[C@@H](C(=O)Nc2cncc3ccccc23)c2cc(Cl)ccc2C1=O SARS-CoV-2 Mpro\n"
     ]
    },
    {
     "name": "stderr",
     "output_type": "stream",
     "text": [
      "1 molecule converted\n",
      "1 molecule converted\n",
      "1 molecule converted\n"
     ]
    },
    {
     "name": "stdout",
     "output_type": "stream",
     "text": [
      "Processing /home/xchen/Work/asap-polaris-blind-challenge-examples/SMILESopt/xtbopt_00115.xyz in docking/115\n",
      "**"
     ]
    },
    {
     "name": "stderr",
     "output_type": "stream",
     "text": [
      "1 molecule converted\n"
     ]
    },
    {
     "name": "stdout",
     "output_type": "stream",
     "text": [
      "*done.\n",
      "Performing docking (random seed: 1402563654) ... "
     ]
    },
    {
     "name": "stderr",
     "output_type": "stream",
     "text": [
      "WARNING: At low exhaustiveness, it may be impossible to utilize all CPUs.\n"
     ]
    },
    {
     "name": "stdout",
     "output_type": "stream",
     "text": [
      "\n",
      "0%   10   20   30   40   50   60   70   80   90   100%\n",
      "|----|----|----|----|----|----|----|----|----|----|\n",
      "************done.\n",
      "Performing docking (random seed: -320727079) ... "
     ]
    },
    {
     "name": "stderr",
     "output_type": "stream",
     "text": [
      "WARNING: At low exhaustiveness, it may be impossible to utilize all CPUs.\n"
     ]
    },
    {
     "name": "stdout",
     "output_type": "stream",
     "text": [
      "\n",
      "0%   10   20   30   40   50   60   70   80   90   100%\n",
      "|----|----|----|----|----|----|----|----|----|----|\n",
      "******\n",
      "**\n",
      "mode |   affinity | dist from best mode\n",
      "     | (kcal/mol) | rmsd l.b.| rmsd u.b.\n",
      "-----+------------+----------+----------\n",
      "   1       -9.032          0          0\n",
      "   2        -8.96       2.26      7.115\n",
      "   3       -8.852      2.921       7.48\n",
      "   4       -8.842      2.822      7.338\n",
      "   5       -8.737      4.356      7.679\n",
      "   6       -8.541      2.702      6.689\n",
      "   7       -8.536      2.471      4.527\n",
      "   8       -8.519      2.609      7.045\n",
      "   9       -8.426      2.534      7.201\n",
      "  10       -8.414      2.344      3.973\n",
      "  11       -8.319      2.312       4.47\n",
      "  12       -8.251      2.711      5.374\n",
      "  13       -8.241       3.71      7.721\n",
      "  14       -8.208      4.265      7.998\n",
      "  15       -8.136      3.032       6.59\n",
      "  16       -8.136       3.02      7.275\n",
      "  17       -8.099      1.666      2.155\n",
      "  18       -8.062        2.5      6.505\n",
      "  19        -8.05      2.489      6.699\n",
      "  20       -7.971      4.557      8.222\n",
      "*omputing Vina grid ... *\n",
      "mode |   affinity | dist from best mode\n",
      "     | (kcal/mol) | rmsd l.b.| rmsd u.b.\n",
      "-----+------------+----------+----------\n",
      "   1       -7.907          0          0\n",
      "   2       -7.713       2.01      2.932\n",
      "   3       -7.697      3.592      5.845\n",
      "   4       -7.631      3.687      7.759\n",
      "   5       -7.612      3.187      7.136\n",
      "   6       -7.584      3.174      7.467\n",
      "   7        -7.47      3.155      4.481\n",
      "   8       -7.457      5.731      7.691\n",
      "   9       -7.415      2.842      4.121\n",
      "  10       -7.368      3.279      5.055\n",
      "  11       -7.265      3.724      5.258\n",
      "  12        -7.12       3.88      7.098\n",
      "  13       -7.111      3.782      5.858\n",
      "  14       -7.031      1.996      3.166\n",
      "  15        -7.02      3.677      6.145\n",
      "  16       -7.018      3.471      7.104\n",
      "  17       -6.995      2.906      7.388\n",
      "  18       -6.944      8.138       10.6\n",
      "  19       -6.903      1.607      2.464\n",
      "  20       -6.814      3.411      8.458\n",
      "Computing Vina grid ... "
     ]
    },
    {
     "name": "stderr",
     "output_type": "stream",
     "text": [
      "1 molecule converted\n",
      "1 molecule converted\n",
      "1 molecule converted\n",
      "1 molecule converted\n"
     ]
    },
    {
     "name": "stdout",
     "output_type": "stream",
     "text": [
      "**here\n",
      "CCC(=O)N1CCCc2ccc(N(Cc3cccc(Cl)c3)C(=O)Cc3cncc4c(F)cccc34)cc21 MERS-CoV Mpro\n",
      "Processing /home/xchen/Work/asap-polaris-blind-challenge-examples/SMILESopt/xtbopt_00141.xyz in docking/141\n",
      "****"
     ]
    },
    {
     "name": "stderr",
     "output_type": "stream",
     "text": [
      "1 molecule converted\n"
     ]
    },
    {
     "name": "stdout",
     "output_type": "stream",
     "text": [
      "********************done.\n"
     ]
    },
    {
     "name": "stderr",
     "output_type": "stream",
     "text": [
      "WARNING: At low exhaustiveness, it may be impossible to utilize all CPUs.\n"
     ]
    },
    {
     "name": "stdout",
     "output_type": "stream",
     "text": [
      "Performing docking (random seed: 930104485) ... *\n",
      "0%   10   20   30   40   50   60   70   80   90   100%\n",
      "|----|----|----|----|----|----|----|----|----|----|\n",
      "**********done.\n",
      "**Performing docking (random seed: 957631572) ... "
     ]
    },
    {
     "name": "stderr",
     "output_type": "stream",
     "text": [
      "WARNING: At low exhaustiveness, it may be impossible to utilize all CPUs.\n"
     ]
    },
    {
     "name": "stdout",
     "output_type": "stream",
     "text": [
      "\n",
      "0%   10   20   30   40   50   60   70   80   90   100%\n",
      "|----|----|----|----|----|----|----|----|----|----|\n",
      "**\n",
      "mode |   affinity | dist from best mode\n",
      "     | (kcal/mol) | rmsd l.b.| rmsd u.b.\n",
      "-----+------------+----------+----------\n",
      "   1       -9.203          0          0\n",
      "   2       -8.927      4.208      5.865\n",
      "   3       -8.723      2.885      7.914\n",
      "   4       -8.709      3.189      7.059\n",
      "   5       -8.612      4.248      6.476\n",
      "   6       -8.501      2.935      7.584\n",
      "   7       -8.422      3.414      5.204\n",
      "   8       -8.348      4.619      7.118\n",
      "   9       -8.325      3.023      4.383\n",
      "  10       -8.325      2.547      8.008\n",
      "  11       -8.314       4.27      7.096\n",
      "  12        -8.14      2.506      8.093\n",
      "  13       -8.134      3.289      7.234\n",
      "  14       -8.132      2.959      5.275\n",
      "  15       -8.073      4.423      7.462\n",
      "  16       -8.055      4.181      6.261\n",
      "  17       -8.032      3.898      5.605\n",
      "  18       -8.004      3.167      4.815\n",
      "  19       -7.977      3.019      7.572\n",
      "  20        -7.92      1.511      2.242\n",
      "*******************************************done.\n",
      "*Performing docking (random seed: -1194761744) ... \n",
      "0%   10   20   30   40   50   60   70   80   90   100%\n",
      "|----|----|----|----|----|----|----|----|----|----|\n",
      "*"
     ]
    },
    {
     "name": "stderr",
     "output_type": "stream",
     "text": [
      "WARNING: At low exhaustiveness, it may be impossible to utilize all CPUs.\n"
     ]
    },
    {
     "name": "stdout",
     "output_type": "stream",
     "text": [
      "***********\n",
      "****"
     ]
    },
    {
     "name": "stderr",
     "output_type": "stream",
     "text": [
      "1 molecule converted\n",
      "1 molecule converted\n",
      "1 molecule converted\n"
     ]
    },
    {
     "name": "stdout",
     "output_type": "stream",
     "text": [
      "****here\n",
      "O=C(Cc1cncc2ccccc12)N1CCC(C2CC2)CC1 SARS-CoV-2 Mpro\n"
     ]
    },
    {
     "name": "stderr",
     "output_type": "stream",
     "text": [
      "1 molecule converted\n"
     ]
    },
    {
     "name": "stdout",
     "output_type": "stream",
     "text": [
      "Processing /home/xchen/Work/asap-polaris-blind-challenge-examples/SMILESopt/xtbopt_00122.xyz in docking/122\n",
      "***"
     ]
    },
    {
     "name": "stderr",
     "output_type": "stream",
     "text": [
      "1 molecule converted\n"
     ]
    },
    {
     "name": "stdout",
     "output_type": "stream",
     "text": [
      "*************************\n",
      "mode |   affinity | dist from best mode\n",
      "     | (kcal/mol) | rmsd l.b.| rmsd u.b.\n",
      "-----+------------+----------+----------\n",
      "   1       -7.238          0          0\n",
      "   2        -6.99       4.85      7.594\n",
      "   3        -6.96       1.89      7.209\n",
      "   4       -6.943      1.462      1.926\n",
      "   5       -6.936      1.155       1.76\n",
      "   6       -6.852      5.245      7.966\n",
      "   7       -6.848      4.528      6.257\n",
      "   8       -6.775      3.025      7.202\n",
      "   9       -6.759      1.807      7.584\n",
      "  10       -6.728      1.853      2.675\n",
      "  11       -6.712      2.207      3.265\n",
      "  12       -6.658      5.208      7.479\n",
      "  13       -6.658          4      5.789\n",
      "  14        -6.58      5.043      7.687\n",
      "  15       -6.561      4.315      5.561\n",
      "  16       -6.543      4.308      7.633\n",
      "  17       -6.302      2.201      3.596\n",
      "  18       -6.293      6.143      8.187\n",
      "  19       -6.288      1.887      7.252\n",
      "  20       -6.276      5.668      6.665\n",
      "*************************************done.\n",
      "Performing docking (random seed: -967384349) ... \n",
      "0%   10   20   30   40   50   60   70   80   90   100%\n",
      "|----|----|----|----|----|----|----|----|----|----|\n",
      "*"
     ]
    },
    {
     "name": "stderr",
     "output_type": "stream",
     "text": [
      "WARNING: At low exhaustiveness, it may be impossible to utilize all CPUs.\n"
     ]
    },
    {
     "name": "stdout",
     "output_type": "stream",
     "text": [
      "****************************************************************************************************\n",
      "*"
     ]
    },
    {
     "name": "stderr",
     "output_type": "stream",
     "text": [
      "1 molecule converted\n",
      "1 molecule converted\n"
     ]
    },
    {
     "name": "stdout",
     "output_type": "stream",
     "text": [
      "*"
     ]
    },
    {
     "name": "stderr",
     "output_type": "stream",
     "text": [
      "1 molecule converted\n",
      "1 molecule converted\n"
     ]
    },
    {
     "name": "stdout",
     "output_type": "stream",
     "text": [
      "here\n",
      "CNC(=O)CN1C[C@@]2(C(=O)N(c3cncc4ccccc34)C[C@@H]2Cc2nn[n-]n2)c2cc(Cl)ccc2C1=O SARS-CoV-2 Mpro****\n",
      "Processing /home/xchen/Work/asap-polaris-blind-challenge-examples/SMILESopt/xtbopt_00116.xyz in docking/116\n",
      "**\n",
      "**"
     ]
    },
    {
     "name": "stderr",
     "output_type": "stream",
     "text": [
      "1 molecule converted\n",
      "1 molecule converted\n",
      "1 molecule converted\n"
     ]
    },
    {
     "name": "stdout",
     "output_type": "stream",
     "text": [
      "***"
     ]
    },
    {
     "name": "stderr",
     "output_type": "stream",
     "text": [
      "1 molecule converted\n",
      "1 molecule converted\n"
     ]
    },
    {
     "name": "stdout",
     "output_type": "stream",
     "text": [
      "here\n",
      "CNC(=O)CN1C[C@@]2(C(=O)N(c3cncc4ccccc34)C[C@@H]2CNc2cnccn2)c2cc(Cl)ccc2C1=O MERS-CoV Mpro\n",
      "Processing /home/xchen/Work/asap-polaris-blind-challenge-examples/SMILESopt/xtbopt_00110.xyz in docking/110\n",
      "*"
     ]
    },
    {
     "name": "stderr",
     "output_type": "stream",
     "text": [
      "1 molecule converted\n"
     ]
    },
    {
     "name": "stdout",
     "output_type": "stream",
     "text": [
      "***************************\n",
      "mode |   affinity | dist from best mode\n",
      "     | (kcal/mol) | rmsd l.b.| rmsd u.b.\n",
      "-----+------------+----------+----------\n",
      "   1       -7.825          0          0\n",
      "   2       -7.538      1.428      2.363\n",
      "   3       -7.492      5.338      6.789\n",
      "   4       -7.389      4.616      5.998\n",
      "   5       -7.356      5.531      7.385\n",
      "   6       -7.147      2.713      7.248\n",
      "   7       -7.085       3.93      6.323\n",
      "   8       -7.034      6.438      8.828\n",
      "   9       -6.988      3.324      5.754\n",
      "  10       -6.949      2.666      7.335\n",
      "  11       -6.949      2.469      3.683\n",
      "  12       -6.947      3.516      7.531\n",
      "  13       -6.936      2.898      6.931\n",
      "  14       -6.855      5.936      8.143\n",
      "  15       -6.804      4.252      5.864\n",
      "  16       -6.785      2.794       5.99\n",
      "  17       -6.755      2.276       6.67\n",
      "  18       -6.711      2.618      4.448\n",
      "  19       -6.679      3.649      7.486\n",
      "  20        -6.64      2.255      6.664\n",
      "********g Vina grid ... \n",
      "mode |   affinity | dist from best mode\n",
      "     | (kcal/mol) | rmsd l.b.| rmsd u.b.\n",
      "-----+------------+----------+----------\n",
      "   1        -7.74          0          0\n",
      "   2       -7.506      3.127      7.117\n",
      "   3       -7.476       1.68      2.475\n",
      "   4       -7.414      1.645      3.789\n",
      "   5       -7.394      2.175      6.687\n",
      "   6       -7.273      1.853      3.717\n",
      "   7       -7.072        1.8      2.329\n",
      "   8       -6.967      3.322      6.877\n",
      "   9       -6.904      3.707      6.858\n",
      "  10       -6.847      2.254      4.888\n",
      "  11       -6.709      2.853       6.58\n",
      "  12        -6.65      3.473      7.341\n",
      "  13       -6.636      2.166      6.722\n",
      "  14       -6.606      2.431      3.849\n",
      "  15       -6.598       2.62      6.882\n",
      "  16        -6.56      3.255      6.288\n",
      "  17       -6.553      3.556      8.022\n",
      "  18       -6.542      3.032      7.309\n",
      "  19        -6.54       2.78      6.937\n",
      "  20       -6.415      2.963      4.043\n",
      "******************d ... \n",
      "*"
     ]
    },
    {
     "name": "stderr",
     "output_type": "stream",
     "text": [
      "1 molecule converted\n",
      "1 molecule converted\n"
     ]
    },
    {
     "name": "stdout",
     "output_type": "stream",
     "text": [
      "done.\n",
      "Performing docking (random seed: 877413179) ... *\n",
      "0%   10   20   30   40   50   60   70   80   90   100%\n",
      "|----|----|----|----|----|----|----|----|----|----|\n",
      "*"
     ]
    },
    {
     "name": "stderr",
     "output_type": "stream",
     "text": [
      "WARNING: At low exhaustiveness, it may be impossible to utilize all CPUs.\n",
      "1 molecule converted\n",
      "1 molecule converted\n"
     ]
    },
    {
     "name": "stdout",
     "output_type": "stream",
     "text": [
      "here\n",
      "CNC(=O)CN1C[C@@]2(C(=O)N(c3cncc4ccccc34)C[C@@H]2CO)c2cc(Cl)ccc2C1=O SARS-CoV-2 Mpro\n",
      "Processing /home/xchen/Work/asap-polaris-blind-challenge-examples/SMILESopt/xtbopt_00123.xyz in docking/123\n",
      "***"
     ]
    },
    {
     "name": "stderr",
     "output_type": "stream",
     "text": [
      "1 molecule converted\n"
     ]
    },
    {
     "name": "stdout",
     "output_type": "stream",
     "text": [
      "done.\n",
      "Performing docking (random seed: -896650553) ... "
     ]
    },
    {
     "name": "stderr",
     "output_type": "stream",
     "text": [
      "WARNING: At low exhaustiveness, it may be impossible to utilize all CPUs.\n"
     ]
    },
    {
     "name": "stdout",
     "output_type": "stream",
     "text": [
      "\n",
      "0%   10   20   30   40   50   60   70   80   90   100%\n",
      "|----|----|----|----|----|----|----|----|----|----|\n",
      "******\n",
      "*"
     ]
    },
    {
     "name": "stderr",
     "output_type": "stream",
     "text": [
      "1 molecule converted\n",
      "1 molecule converted\n"
     ]
    },
    {
     "name": "stdout",
     "output_type": "stream",
     "text": [
      "*"
     ]
    },
    {
     "name": "stderr",
     "output_type": "stream",
     "text": [
      "1 molecule converted\n",
      "1 molecule converted\n"
     ]
    },
    {
     "name": "stdout",
     "output_type": "stream",
     "text": [
      "*here\n",
      "CNC(=O)CN1C[C@@]2(C(=O)N(c3cncc4ccccc34)C[C@@H]2CCl)c2cc(Cl)ccc2C1=O MERS-CoV Mpro\n",
      "Processing /home/xchen/Work/asap-polaris-blind-challenge-examples/SMILESopt/xtbopt_00097.xyz in docking/97\n",
      "*\n",
      "mode |   affinity | dist from best mode\n",
      "     | (kcal/mol) | rmsd l.b.| rmsd u.b.\n",
      "-----+------------+----------+----------\n",
      "   1       -6.959          0          0\n",
      "   2       -6.868      2.957      4.227\n",
      "   3       -6.769      3.446      4.846\n",
      "   4       -6.641      4.275      5.442\n",
      "   5       -6.554      2.916      7.291\n",
      "   6       -6.446      3.079      7.276\n",
      "   7       -6.445      4.333      7.808\n",
      "   8       -6.422      3.636      7.537\n",
      "   9       -6.373       4.09       7.72\n",
      "  10       -6.364      1.989      2.981\n",
      "  11       -6.361      4.137      7.382\n",
      "  12       -6.334       4.43      6.001\n",
      "  13       -6.318      2.924      7.596\n",
      "  14       -6.281       2.91      3.848\n",
      "  15       -6.245      1.796      6.911\n",
      "  16       -6.221      4.196      6.044\n",
      "  17        -6.21      3.507      7.807\n",
      "  18       -6.176      4.339      7.589\n",
      "  19       -6.148      3.426      6.784\n",
      "  20       -6.127      2.906      5.328\n",
      "Computing Vina grid ... "
     ]
    },
    {
     "name": "stderr",
     "output_type": "stream",
     "text": [
      "1 molecule converted\n"
     ]
    },
    {
     "name": "stdout",
     "output_type": "stream",
     "text": [
      "*****************\n",
      "done.\n"
     ]
    },
    {
     "name": "stderr",
     "output_type": "stream",
     "text": [
      "WARNING: At low exhaustiveness, it may be impossible to utilize all CPUs.\n"
     ]
    },
    {
     "name": "stdout",
     "output_type": "stream",
     "text": [
      "Performing docking (random seed: 514412125) ... \n",
      "0%   10   20   30   40   50   60   70   80   90   100%\n",
      "|----|----|----|----|----|----|----|----|----|----|\n",
      "**"
     ]
    },
    {
     "name": "stderr",
     "output_type": "stream",
     "text": [
      "1 molecule converted\n",
      "1 molecule converted\n"
     ]
    },
    {
     "name": "stdout",
     "output_type": "stream",
     "text": [
      "**"
     ]
    },
    {
     "name": "stderr",
     "output_type": "stream",
     "text": [
      "1 molecule converted\n",
      "1 molecule converted\n"
     ]
    },
    {
     "name": "stdout",
     "output_type": "stream",
     "text": [
      "here\n",
      "O=C(Cc1cncc2ccccc12)N1CC[C@H]2CCC(F)(F)C[C@H]2C1 MERS-CoV Mpro\n",
      "mode |   affinity | dist from best mode\n",
      "     | (kcal/mol) | rmsd l.b.| rmsd u.b.\n",
      "-----+------------+----------+----------\n",
      "   1       -7.876          0          0\n",
      "   2       -7.652      1.713       2.68\n",
      "   3       -7.648      2.799      4.305\n",
      "   4       -7.454      2.145      3.259\n",
      "   5       -7.439      2.046      2.632\n",
      "   6       -7.332       2.28      3.194\n",
      "   7       -7.231       4.85      6.662\n",
      "   8       -6.951      4.511      7.243\n",
      "   9        -6.92      3.756      6.362\n",
      "  10       -6.876      4.135      6.314\n",
      "  11       -6.869      4.953       6.63\n",
      "  12       -6.849      7.525       9.71\n",
      "  13       -6.809      3.168      5.652\n",
      "  14       -6.804      4.329      6.612\n",
      "  15       -6.775      2.245      3.406\n",
      "  16       -6.731      3.395      6.659\n",
      "  17       -6.712      3.538      7.347\n",
      "  18       -6.646      3.717       7.37\n",
      "  19       -6.602       4.19      7.198\n",
      "  20       -6.538      4.153      6.172\n",
      "Computing Vina grid ... \n",
      "Processing /home/xchen/Work/asap-polaris-blind-challenge-examples/SMILESopt/xtbopt_00135.xyz in docking/135\n"
     ]
    },
    {
     "name": "stderr",
     "output_type": "stream",
     "text": [
      "1 molecule converted\n"
     ]
    },
    {
     "name": "stdout",
     "output_type": "stream",
     "text": [
      "***********\n",
      "mode |   affinity | dist from best mode\n",
      "     | (kcal/mol) | rmsd l.b.| rmsd u.b.\n",
      "-----+------------+----------+----------\n",
      "   1       -9.294          0          0\n",
      "   2       -8.785      3.202      7.075\n",
      "   3       -8.614      2.894      7.116\n",
      "   4       -8.551      1.567      2.399\n",
      "   5       -8.226      2.465      3.255\n",
      "   6       -8.156       2.92      6.778\n",
      "   7       -7.936      3.011      6.985\n",
      "   8       -7.716        2.7      5.982\n",
      "   9       -7.683      2.291      6.203\n",
      "  10       -7.621      3.367       6.75\n",
      "  11       -7.619      1.949      2.184\n",
      "  12       -7.518      2.305      6.668\n",
      "  13       -7.507      2.992      5.674\n",
      "  14       -7.499      3.415      5.585\n",
      "  15       -7.407      3.383      6.752\n",
      "  16       -7.372      3.425      6.888\n",
      "  17       -7.307      2.434      4.172\n",
      "  18       -7.263      2.779      5.942\n",
      "  19       -7.235      3.293       6.06\n",
      "  20        -7.22      3.091      6.572\n",
      "********done.a grid ... \n",
      "Performing docking (random seed: 340670076) ... *\n",
      "0%   10   20   30   40   50   60   70   80   90   100%\n",
      "|----|----|----|----|----|----|----|----|----|----|\n"
     ]
    },
    {
     "name": "stderr",
     "output_type": "stream",
     "text": [
      "WARNING: At low exhaustiveness, it may be impossible to utilize all CPUs.\n"
     ]
    },
    {
     "name": "stdout",
     "output_type": "stream",
     "text": [
      "*****\n",
      "***"
     ]
    },
    {
     "name": "stderr",
     "output_type": "stream",
     "text": [
      "1 molecule converted\n",
      "1 molecule converted\n"
     ]
    },
    {
     "name": "stdout",
     "output_type": "stream",
     "text": [
      "**"
     ]
    },
    {
     "name": "stderr",
     "output_type": "stream",
     "text": [
      "1 molecule converted\n",
      "1 molecule converted\n"
     ]
    },
    {
     "name": "stdout",
     "output_type": "stream",
     "text": [
      "here\n",
      "C[C@H]1CN(c2cncc3ccccc23)C(=O)[C@@]12CN(Cc1cocn1)C(=O)c1ccc(F)cc12 SARS-CoV-2 Mpro\n",
      "Processing /home/xchen/Work/asap-polaris-blind-challenge-examples/SMILESopt/xtbopt_00128.xyz in docking/128\n",
      "*done.\n"
     ]
    },
    {
     "name": "stderr",
     "output_type": "stream",
     "text": [
      "1 molecule converted\n",
      "WARNING: At low exhaustiveness, it may be impossible to utilize all CPUs.\n"
     ]
    },
    {
     "name": "stdout",
     "output_type": "stream",
     "text": [
      "Performing docking (random seed: 1606933507) ... \n",
      "0%   10   20   30   40   50   60   70   80   90   100%\n",
      "|----|----|----|----|----|----|----|----|----|----|\n",
      "*****************************\n",
      "mode |   affinity | dist from best mode\n",
      "     | (kcal/mol) | rmsd l.b.| rmsd u.b.\n",
      "-----+------------+----------+----------\n",
      "   1       -9.661          0          0\n",
      "   2       -9.503      3.487      6.315\n",
      "   3       -9.481      3.888      6.757\n",
      "   4       -9.353      3.986       7.03\n",
      "   5       -9.262      3.719      8.327\n",
      "   6       -9.054      4.085      8.382\n",
      "   7       -8.792      3.746      6.968\n",
      "   8        -8.79      1.093      1.588\n",
      "   9        -8.77      2.957      3.835\n",
      "  10       -8.723        3.7      6.687\n",
      "  11       -8.596      3.826      7.032\n",
      "  12       -8.509       3.29      7.047\n",
      "  13       -8.435      3.086      6.494\n",
      "  14       -8.393      1.856      2.605\n",
      "  15       -8.367       3.33      7.386\n",
      "  16       -8.343      3.835      7.655\n",
      "  17       -8.313      3.279       7.01\n",
      "  18       -8.299      2.789      6.295\n",
      "  19       -8.175      3.712      6.545\n",
      "  20       -8.124      3.273      7.708\n",
      "*****************************done.\n",
      "*Performing docking (random seed: 1722093498) ... *"
     ]
    },
    {
     "name": "stderr",
     "output_type": "stream",
     "text": [
      "WARNING: At low exhaustiveness, it may be impossible to utilize all CPUs.\n"
     ]
    },
    {
     "name": "stdout",
     "output_type": "stream",
     "text": [
      "\n",
      "0%   10   20   30   40   50   60   70   80   90   100%\n",
      "|----|----|----|----|----|----|----|----|----|----|\n",
      "**************************************************************\n",
      "*******"
     ]
    },
    {
     "name": "stderr",
     "output_type": "stream",
     "text": [
      "1 molecule converted\n",
      "1 molecule converted\n",
      "1 molecule converted\n"
     ]
    },
    {
     "name": "stdout",
     "output_type": "stream",
     "text": [
      "*here\n",
      "C[C@H]1CN(c2cncc3ccccc23)C(=O)[C@@]12CN(C1C[NH2+]C1)C(=O)c1ccc(Cl)cc12"
     ]
    },
    {
     "name": "stderr",
     "output_type": "stream",
     "text": [
      "1 molecule converted\n"
     ]
    },
    {
     "name": "stdout",
     "output_type": "stream",
     "text": [
      " MERS-CoV Mpro\n",
      "Processing /home/xchen/Work/asap-polaris-blind-challenge-examples/SMILESopt/xtbopt_00148.xyz in docking/148\n",
      "*****"
     ]
    },
    {
     "name": "stderr",
     "output_type": "stream",
     "text": [
      "1 molecule converted\n"
     ]
    },
    {
     "name": "stdout",
     "output_type": "stream",
     "text": [
      "******************************\n",
      "mode |   affinity | dist from best mode\n",
      "     | (kcal/mol) | rmsd l.b.| rmsd u.b.\n",
      "-----+------------+----------+----------\n",
      "   1       -9.654          0          0\n",
      "   2       -9.213      2.647      7.852\n",
      "   3       -9.056      1.413      1.865\n",
      "   4       -8.962      2.931      7.358\n",
      "   5       -8.929      2.585      6.116\n",
      "   6       -8.919       2.65      5.944\n",
      "   7       -8.784      3.111      4.996\n",
      "   8        -8.67      2.738      7.924\n",
      "   9       -8.665      2.856      6.432\n",
      "  10       -8.661      4.222      7.768\n",
      "  11       -8.642      3.448      6.873\n",
      "  12       -8.581      1.662      2.626\n",
      "  13       -8.546      2.707      6.594\n",
      "  14       -8.456      3.546      7.174\n",
      "  15        -8.43      3.178       6.71\n",
      "  16       -8.257      3.066      7.328\n",
      "  17       -8.255      3.211       5.34\n",
      "  18       -8.243      3.185      6.605\n",
      "  19        -8.21      2.436      5.709\n",
      "  20       -8.052      3.138        7.2\n",
      "*****************id ... *\n",
      "*"
     ]
    },
    {
     "name": "stderr",
     "output_type": "stream",
     "text": [
      "1 molecule converted\n",
      "1 molecule converted\n"
     ]
    },
    {
     "name": "stdout",
     "output_type": "stream",
     "text": [
      "**"
     ]
    },
    {
     "name": "stderr",
     "output_type": "stream",
     "text": [
      "1 molecule converted\n",
      "1 molecule converted\n"
     ]
    },
    {
     "name": "stdout",
     "output_type": "stream",
     "text": [
      "*here\n",
      "C[NH2+]CCN1C[C@@]2(C(=O)N(c3cncc4ccccc34)C[C@@H]2COCC2(F)CC2)c2cc(Cl)ccc2C1=O MERS-CoV Mpro\n",
      "Processing /home/xchen/Work/asap-polaris-blind-challenge-examples/SMILESopt/xtbopt_00136.xyz in docking/136\n",
      "****"
     ]
    },
    {
     "name": "stderr",
     "output_type": "stream",
     "text": [
      "1 molecule converted\n"
     ]
    },
    {
     "name": "stdout",
     "output_type": "stream",
     "text": [
      "************done.\n"
     ]
    },
    {
     "name": "stderr",
     "output_type": "stream",
     "text": [
      "WARNING: At low exhaustiveness, it may be impossible to utilize all CPUs.\n"
     ]
    },
    {
     "name": "stdout",
     "output_type": "stream",
     "text": [
      "Performing docking (random seed: -473459602) ... \n",
      "0%   10   20   30   40   50   60   70   80   90   100%\n",
      "|----|----|----|----|----|----|----|----|----|----|\n",
      "**************\n",
      "mode |   affinity | dist from best mode\n",
      "     | (kcal/mol) | rmsd l.b.| rmsd u.b.\n",
      "-----+------------+----------+----------\n",
      "   1       -8.498          0          0\n",
      "   2       -8.079      1.364      2.102\n",
      "   3       -7.984      3.086       7.76\n",
      "   4       -7.962      1.294      2.144\n",
      "   5       -7.906      1.828      2.495\n",
      "   6       -7.822      3.102        7.7\n",
      "   7       -7.781      3.204      7.921\n",
      "   8       -7.562       3.09      7.657\n",
      "   9       -7.539      5.095      8.231\n",
      "  10       -7.465      2.576      3.765\n",
      "  11        -7.44      3.112      7.817\n",
      "  12       -7.423      4.213      7.506\n",
      "  13       -7.389      3.097      5.005\n",
      "  14       -7.355      2.679      3.886\n",
      "  15       -7.347      3.363      5.408\n",
      "  16       -7.272       2.64      4.019\n",
      "  17       -7.213      2.192       3.27\n",
      "  18       -7.176       2.85      7.889\n",
      "  19       -7.126      2.917      6.967\n",
      "  20       -7.026      2.155      3.326\n",
      "****************************************\n",
      "done.\n",
      "*Performing docking (random seed: -697057863) ... \n",
      "0%   10   20   30   40   50   60   70   80   90   100%\n",
      "|----|----|----|----|----|----|----|----|----|----|\n",
      "*"
     ]
    },
    {
     "name": "stderr",
     "output_type": "stream",
     "text": [
      "WARNING: At low exhaustiveness, it may be impossible to utilize all CPUs.\n",
      "1 molecule converted\n",
      "1 molecule converted\n",
      "1 molecule converted\n"
     ]
    },
    {
     "name": "stdout",
     "output_type": "stream",
     "text": [
      "**here\n",
      "COC[C@H]1CN(c2cncc3ccccc23)C(=O)[C@@]12CN(Cc1ncc[nH]1)C(=O)c1ccc(Cl)cc12 MERS-CoV Mpro\n",
      "Processing /home/xchen/Work/asap-polaris-blind-challenge-examples/SMILESopt/xtbopt_00124.xyz in docking/124\n"
     ]
    },
    {
     "name": "stderr",
     "output_type": "stream",
     "text": [
      "1 molecule converted\n"
     ]
    },
    {
     "name": "stdout",
     "output_type": "stream",
     "text": [
      "*"
     ]
    },
    {
     "name": "stderr",
     "output_type": "stream",
     "text": [
      "1 molecule converted\n"
     ]
    },
    {
     "name": "stdout",
     "output_type": "stream",
     "text": [
      "*********\n",
      "***"
     ]
    },
    {
     "name": "stderr",
     "output_type": "stream",
     "text": [
      "1 molecule converted\n",
      "1 molecule converted\n",
      "1 molecule converted\n",
      "1 molecule converted\n"
     ]
    },
    {
     "name": "stdout",
     "output_type": "stream",
     "text": [
      "here\n",
      "CCC(=O)Nc1cccc(N(Cc2ccccc2)C(=O)Cc2cncc3ccccc23)c1 SARS-CoV-2 Mpro\n",
      "Processing /home/xchen/Work/asap-polaris-blind-challenge-examples/SMILESopt/xtbopt_00098.xyz in docking/98\n",
      "**"
     ]
    },
    {
     "name": "stderr",
     "output_type": "stream",
     "text": [
      "1 molecule converted\n"
     ]
    },
    {
     "name": "stdout",
     "output_type": "stream",
     "text": [
      "*\n",
      "***\n",
      "mode |   affinity | dist from best mode\n",
      "     | (kcal/mol) | rmsd l.b.| rmsd u.b.\n",
      "-----+------------+----------+----------\n",
      "   1       -7.907          0          0\n",
      "   2       -7.466      4.083      5.638\n",
      "   3       -7.448      2.465      4.174\n",
      "   4       -7.413      3.538      5.437\n",
      "   5       -7.386      4.156       6.32\n",
      "   6       -7.238      3.223      4.791\n",
      "   7       -7.196      4.096      7.024\n",
      "   8       -7.189      4.064      6.024\n",
      "   9       -7.148      3.872      7.812\n",
      "  10       -7.141      3.488      6.999\n",
      "  11       -7.048      3.752      5.416\n",
      "  12       -6.973       5.73      7.479\n",
      "  13       -6.927      3.323      7.167\n",
      "  14        -6.92      4.112       6.34\n",
      "  15       -6.818      2.791      7.637\n",
      "  16       -6.794      3.175      4.721\n",
      "  17        -6.75      6.272      9.713\n",
      "  18       -6.747      3.889      6.615\n",
      "  19       -6.643      8.085      10.38\n",
      "  20        -6.55      3.136        4.8\n",
      "Computing Vina grid ... "
     ]
    },
    {
     "name": "stderr",
     "output_type": "stream",
     "text": [
      "1 molecule converted\n",
      "1 molecule converted\n"
     ]
    },
    {
     "name": "stdout",
     "output_type": "stream",
     "text": [
      "here\n",
      "C[C@H]1CN(c2cncc3ccccc23)C(=O)[C@@]12CN(Cc1nnn(C)n1)C(=O)c1ccc(F)cc12 "
     ]
    },
    {
     "name": "stderr",
     "output_type": "stream",
     "text": [
      "1 molecule converted\n",
      "1 molecule converted\n"
     ]
    },
    {
     "name": "stdout",
     "output_type": "stream",
     "text": [
      "MERS-CoV Mpro\n",
      "Processing /home/xchen/Work/asap-polaris-blind-challenge-examples/SMILESopt/xtbopt_00142.xyz in docking/142\n",
      "***"
     ]
    },
    {
     "name": "stderr",
     "output_type": "stream",
     "text": [
      "1 molecule converted\n"
     ]
    },
    {
     "name": "stdout",
     "output_type": "stream",
     "text": [
      "*****\n",
      "mode |   affinity | dist from best mode\n",
      "     | (kcal/mol) | rmsd l.b.| rmsd u.b.\n",
      "-----+------------+----------+----------\n",
      "   1       -8.067          0          0\n",
      "   2       -7.961      2.403      4.457\n",
      "   3       -7.953       1.03      1.592\n",
      "   4        -7.63      2.044      2.795\n",
      "   5       -7.486      3.528      4.839\n",
      "   6       -7.364      3.317      7.729\n",
      "   7       -7.174      3.055      7.418\n",
      "   8       -7.016      4.274      6.774\n",
      "   9       -7.014       3.01      6.849\n",
      "  10       -6.948       3.28      7.603\n",
      "  11       -6.892      3.423      6.245\n",
      "  12       -6.877      3.443      6.501\n",
      "  13       -6.848       2.73      4.491\n",
      "  14       -6.834      3.126      4.283\n",
      "  15       -6.824      2.787      4.295\n",
      "  16       -6.824      2.832      6.548\n",
      "  17       -6.804      3.368      4.872\n",
      "  18       -6.786      3.087      6.804\n",
      "  19       -6.765      3.349      6.919\n",
      "***puting Vina grid ... *\n",
      "mode |   affinity | dist from best mode\n",
      "     | (kcal/mol) | rmsd l.b.| rmsd u.b.\n",
      "-----+------------+----------+----------\n",
      "   1       -8.638          0          0\n",
      "   2       -8.346      3.266      6.572\n",
      "   3       -8.311      2.022      3.143\n",
      "   4       -8.307      3.895      8.511\n",
      "   5       -8.305      1.696      2.905\n",
      "   6       -8.296      2.733      5.801\n",
      "   7       -8.293      3.609      7.171\n",
      "   8       -8.226      1.986      2.388\n",
      "   9       -8.081      2.563      5.379\n",
      "  10       -8.056       3.17      6.127\n",
      "  11       -8.025       3.54      7.067\n",
      "  12       -7.957      3.445      7.277\n",
      "  13       -7.902       3.91      7.955\n",
      "  14       -7.863      2.474      4.988\n",
      "  15       -7.858      3.711      7.309\n",
      "  16       -7.845      2.592       5.84\n",
      "  17       -7.839      3.859      7.533\n",
      "  18       -7.733      3.374      6.296\n",
      "  19       -7.725      3.009      4.877\n",
      "  20       -7.701      3.688      7.064\n",
      "*done.ing Vina grid ... \n",
      "Performing docking (random seed: 60066916) ... \n",
      "0%   10   20   30   40   50   60   70   80   90   100%\n",
      "|----|----|----|----|----|----|----|----|----|----|\n",
      "*"
     ]
    },
    {
     "name": "stderr",
     "output_type": "stream",
     "text": [
      "WARNING: At low exhaustiveness, it may be impossible to utilize all CPUs.\n"
     ]
    },
    {
     "name": "stdout",
     "output_type": "stream",
     "text": [
      "*****\n",
      "**"
     ]
    },
    {
     "name": "stderr",
     "output_type": "stream",
     "text": [
      "1 molecule converted\n",
      "1 molecule converted\n"
     ]
    },
    {
     "name": "stdout",
     "output_type": "stream",
     "text": [
      "*"
     ]
    },
    {
     "name": "stderr",
     "output_type": "stream",
     "text": [
      "1 molecule converted\n",
      "1 molecule converted\n"
     ]
    },
    {
     "name": "stdout",
     "output_type": "stream",
     "text": [
      "here\n",
      "C[C@H]1CN(c2cncc3ccccc23)C(=O)[C@@]12CN(CC[N@@H+]1CCC3(COC3)C1)C(=O)c1ccc(Cl)cc12 MERS-CoV Mpro\n",
      "Processing /home/xchen/Work/asap-polaris-blind-challenge-examples/SMILESopt/xtbopt_00129.xyz in docking/129\n",
      "done.\n",
      "*Performing docking (random seed: 1000756830) ... \n",
      "0%   10   20   30   40   50   60   70   80   90   100%\n",
      "|----|----|----|----|----|----|----|----|----|----|\n",
      "**"
     ]
    },
    {
     "name": "stderr",
     "output_type": "stream",
     "text": [
      "WARNING: At low exhaustiveness, it may be impossible to utilize all CPUs.\n"
     ]
    },
    {
     "name": "stdout",
     "output_type": "stream",
     "text": [
      "*"
     ]
    },
    {
     "name": "stderr",
     "output_type": "stream",
     "text": [
      "1 molecule converted\n"
     ]
    },
    {
     "name": "stdout",
     "output_type": "stream",
     "text": [
      "*******done.\n",
      "*Performing docking (random seed: -957788588) ... "
     ]
    },
    {
     "name": "stderr",
     "output_type": "stream",
     "text": [
      "WARNING: At low exhaustiveness, it may be impossible to utilize all CPUs.\n"
     ]
    },
    {
     "name": "stdout",
     "output_type": "stream",
     "text": [
      "\n",
      "0%   10   20   30   40   50   60   70   80   90   100%\n",
      "|----|----|----|----|----|----|----|----|----|----|\n",
      "*******************\n",
      "mode |   affinity | dist from best mode\n",
      "     | (kcal/mol) | rmsd l.b.| rmsd u.b.\n",
      "-----+------------+----------+----------\n",
      "   1       -9.023          0          0\n",
      "   2       -8.833      1.303       1.79\n",
      "   3       -8.367      1.489      2.307\n",
      "   4       -8.343      3.902      6.443\n",
      "   5       -8.317      6.278      9.237\n",
      "   6       -8.104      3.272      5.732\n",
      "   7       -7.988      3.648      6.615\n",
      "   8       -7.926      3.263      7.291\n",
      "   9       -7.824      3.449      6.384\n",
      "  10        -7.73      3.334       5.78\n",
      "  11       -7.646      3.275      6.217\n",
      "  12       -7.642      3.829       7.37\n",
      "  13       -7.641      6.242      9.247\n",
      "  14       -7.632      2.978      7.567\n",
      "  15       -7.542      3.035      7.452\n",
      "  16       -7.493      3.358      6.265\n",
      "  17       -7.476        3.9      6.624\n",
      "  18       -7.452      3.769      6.861\n",
      "  19       -7.446      3.669      7.372\n",
      "  20       -7.436      4.329      7.071\n",
      "********g Vina grid ... \n",
      "****"
     ]
    },
    {
     "name": "stderr",
     "output_type": "stream",
     "text": [
      "1 molecule converted\n",
      "1 molecule converted\n"
     ]
    },
    {
     "name": "stdout",
     "output_type": "stream",
     "text": [
      "*"
     ]
    },
    {
     "name": "stderr",
     "output_type": "stream",
     "text": [
      "1 molecule converted\n",
      "1 molecule converted\n"
     ]
    },
    {
     "name": "stdout",
     "output_type": "stream",
     "text": [
      "here\n",
      "O=C(Cc1cncc2ccccc12)N1CCCSC[C@H]1C(F)(F)F MERS-CoV Mpro\n",
      "Processing /home/xchen/Work/asap-polaris-blind-challenge-examples/SMILESopt/xtbopt_00117.xyz in docking/117\n",
      "**"
     ]
    },
    {
     "name": "stderr",
     "output_type": "stream",
     "text": [
      "1 molecule converted\n"
     ]
    },
    {
     "name": "stdout",
     "output_type": "stream",
     "text": [
      "*****************done.\n",
      "*Performing docking (random seed: -462983292) ... "
     ]
    },
    {
     "name": "stderr",
     "output_type": "stream",
     "text": [
      "WARNING: At low exhaustiveness, it may be impossible to utilize all CPUs.\n"
     ]
    },
    {
     "name": "stdout",
     "output_type": "stream",
     "text": [
      "\n",
      "0%   10   20   30   40   50   60   70   80   90   100%\n",
      "|----|----|----|----|----|----|----|----|----|----|\n",
      "*\n",
      "mode |   affinity | dist from best mode\n",
      "     | (kcal/mol) | rmsd l.b.| rmsd u.b.\n",
      "-----+------------+----------+----------\n",
      "   1       -9.495          0          0\n",
      "   2        -9.08      2.956      6.029\n",
      "   3       -8.992      1.056      1.603\n",
      "   4         -8.8      2.968      6.236\n",
      "   5       -8.388      2.844      6.597\n",
      "   6       -8.275        1.4      1.626\n",
      "   7        -8.25      1.877      2.612\n",
      "   8       -8.192      2.802      5.722\n",
      "   9       -7.827       3.21      6.935\n",
      "  10       -7.813      2.855      6.167\n",
      "  11       -7.715      2.892      5.811\n",
      "  12       -7.664      3.139      7.083\n",
      "  13       -7.582      3.275      7.341\n",
      "  14       -7.287       3.28      7.268\n",
      "  15       -7.276      3.087      6.996\n",
      "  16        -7.19      2.738      6.153\n",
      "  17       -7.186      2.267      2.735\n",
      "  18       -7.142        3.2      7.452\n",
      "  19       -7.137      3.287      6.445\n",
      "  20       -7.058      3.106      6.924\n",
      "*************************done.\n",
      "*"
     ]
    },
    {
     "name": "stderr",
     "output_type": "stream",
     "text": [
      "WARNING: At low exhaustiveness, it may be impossible to utilize all CPUs.\n"
     ]
    },
    {
     "name": "stdout",
     "output_type": "stream",
     "text": [
      "Performing docking (random seed: 963808877) ... *\n",
      "0%   10   20   30   40   50   60   70   80   90   100%\n",
      "|----|----|----|----|----|----|----|----|----|----|\n",
      "***\n",
      "****"
     ]
    },
    {
     "name": "stderr",
     "output_type": "stream",
     "text": [
      "1 molecule converted\n",
      "1 molecule converted\n"
     ]
    },
    {
     "name": "stdout",
     "output_type": "stream",
     "text": [
      "**"
     ]
    },
    {
     "name": "stderr",
     "output_type": "stream",
     "text": [
      "1 molecule converted\n"
     ]
    },
    {
     "name": "stdout",
     "output_type": "stream",
     "text": [
      "here\n",
      "C[C@H]1CN(c2cncc3ccccc23)C(=O)[C@@]12CN(Cc1ccon1)C(=O)c1ccc(F)cc12 MERS-CoV Mpro\n",
      "Processing /home/xchen/Work/asap-polaris-blind-challenge-examples/SMILESopt/xtbopt_00149.xyz in docking/149"
     ]
    },
    {
     "name": "stderr",
     "output_type": "stream",
     "text": [
      "1 molecule converted\n"
     ]
    },
    {
     "name": "stdout",
     "output_type": "stream",
     "text": [
      "\n",
      "**"
     ]
    },
    {
     "name": "stderr",
     "output_type": "stream",
     "text": [
      "1 molecule converted\n"
     ]
    },
    {
     "name": "stdout",
     "output_type": "stream",
     "text": [
      "*****************************\n",
      "mode |   affinity | dist from best mode\n",
      "     | (kcal/mol) | rmsd l.b.| rmsd u.b.\n",
      "-----+------------+----------+----------\n",
      "   1       -8.702          0          0\n",
      "   2       -8.479      3.558      7.963\n",
      "   3       -8.334      2.613      4.399\n",
      "   4        -8.32      2.963      3.652\n",
      "   5       -8.292      2.687      5.087\n",
      "   6       -8.244      2.878      6.573\n",
      "   7       -8.047      3.147      7.779\n",
      "   8       -8.035       1.69      2.602\n",
      "   9       -7.989      1.035      2.323\n",
      "  10        -7.82      2.484      5.154\n",
      "  11       -7.631      2.635      6.815\n",
      "  12        -7.61      3.118       4.99\n",
      "  13        -7.58      2.941      4.886\n",
      "  14       -7.529      3.368      4.754\n",
      "  15        -7.38       3.14      4.878\n",
      "  16       -7.317      3.197      6.593\n",
      "  17       -7.292      3.164      4.452\n",
      "  18       -7.257      2.688      6.168\n",
      "  19       -7.202      3.121      4.994\n",
      "  20       -7.124       3.22      5.413\n",
      "**********************. \n",
      "*****"
     ]
    },
    {
     "name": "stderr",
     "output_type": "stream",
     "text": [
      "1 molecule converted\n",
      "1 molecule converted\n"
     ]
    },
    {
     "name": "stdout",
     "output_type": "stream",
     "text": [
      "***"
     ]
    },
    {
     "name": "stderr",
     "output_type": "stream",
     "text": [
      "1 molecule converted\n"
     ]
    },
    {
     "name": "stdout",
     "output_type": "stream",
     "text": [
      "here\n",
      "Cn1ccc(CN2C[C@]3(CCN(c4cncc5ccccc45)C3=O)c3cc(Cl)ccc3C2=O)n1 MERS-CoV Mpro"
     ]
    },
    {
     "name": "stderr",
     "output_type": "stream",
     "text": [
      "1 molecule converted\n"
     ]
    },
    {
     "name": "stdout",
     "output_type": "stream",
     "text": [
      "\n",
      "Processing /home/xchen/Work/asap-polaris-blind-challenge-examples/SMILESopt/xtbopt_00111.xyz in docking/111\n",
      "**"
     ]
    },
    {
     "name": "stderr",
     "output_type": "stream",
     "text": [
      "1 molecule converted\n"
     ]
    },
    {
     "name": "stdout",
     "output_type": "stream",
     "text": [
      "*done.\n",
      "**"
     ]
    },
    {
     "name": "stderr",
     "output_type": "stream",
     "text": [
      "WARNING: At low exhaustiveness, it may be impossible to utilize all CPUs.\n"
     ]
    },
    {
     "name": "stdout",
     "output_type": "stream",
     "text": [
      "Performing docking (random seed: 1786237083) ... \n",
      "0%   10   20   30   40   50   60   70   80   90   100%\n",
      "|----|----|----|----|----|----|----|----|----|----|\n",
      "*******************************\n",
      "mode |   affinity | dist from best mode\n",
      "     | (kcal/mol) | rmsd l.b.| rmsd u.b.\n",
      "-----+------------+----------+----------\n",
      "   1       -9.549          0          0\n",
      "   2       -8.987      1.045      1.549\n",
      "   3       -8.883      1.767       2.31\n",
      "   4       -8.725      3.398      7.333\n",
      "   5       -8.622      3.476      7.136\n",
      "   6       -8.579      2.601      7.207\n",
      "   7       -8.507       2.32      4.452\n",
      "   8       -8.415      2.866      5.345\n",
      "   9       -8.237      3.172      8.429\n",
      "  10        -8.18      1.601      2.467\n",
      "  11       -8.091      3.219      5.676\n",
      "  12       -8.049      2.982      7.365\n",
      "  13        -8.04      3.998      7.831\n",
      "  14       -8.015      2.896      6.406\n",
      "  15       -8.001      2.879      7.082\n",
      "  16       -7.908       3.02      6.929\n",
      "  17       -7.902      3.479      7.209\n",
      "  18       -7.902      2.359      3.343\n",
      "  19       -7.883      3.091      7.157\n",
      "  20       -7.837      3.593      7.901\n",
      "*************************************done.\n",
      "**Performing docking (random seed: 1084743817) ... *\n",
      "0%   10   20   30   40   50   60   70   80   90   100%\n",
      "|----|----|----|----|----|----|----|----|----|----|\n",
      "*"
     ]
    },
    {
     "name": "stderr",
     "output_type": "stream",
     "text": [
      "WARNING: At low exhaustiveness, it may be impossible to utilize all CPUs.\n"
     ]
    },
    {
     "name": "stdout",
     "output_type": "stream",
     "text": [
      "*******************************************************************\n",
      "**"
     ]
    },
    {
     "name": "stderr",
     "output_type": "stream",
     "text": [
      "1 molecule converted\n",
      "1 molecule converted\n",
      "1 molecule converted\n"
     ]
    },
    {
     "name": "stdout",
     "output_type": "stream",
     "text": [
      "****here\n",
      "CNC(=O)CN1C[C@@]2(C(=O)N(c3cncc4ccccc34)C[C@@H]2CNc2cnc(C)s2)c2cc(Cl)ccc2C1=O MERS-CoV Mpro\n",
      "Processing /home/xchen/Work/asap-polaris-blind-challenge-examples/SMILESopt/xtbopt_00118.xyz in docking/118\n"
     ]
    },
    {
     "name": "stderr",
     "output_type": "stream",
     "text": [
      "1 molecule converted\n"
     ]
    },
    {
     "name": "stdout",
     "output_type": "stream",
     "text": [
      "**"
     ]
    },
    {
     "name": "stderr",
     "output_type": "stream",
     "text": [
      "1 molecule converted\n"
     ]
    },
    {
     "name": "stdout",
     "output_type": "stream",
     "text": [
      "*****************************\n",
      "mode |   affinity | dist from best mode\n",
      "     | (kcal/mol) | rmsd l.b.| rmsd u.b.\n",
      "-----+------------+----------+----------\n",
      "   1        -7.54          0          0\n",
      "   2       -7.477      1.753      2.495\n",
      "   3       -7.364      3.773      5.645\n",
      "   4       -7.289      5.032      7.125\n",
      "   5       -7.267      3.798      5.625\n",
      "   6       -7.256       3.57      4.499\n",
      "   7       -7.195      3.587      5.153\n",
      "   8       -7.163       3.21      3.961\n",
      "   9       -7.122      3.845      5.466\n",
      "  10       -7.036      5.344      7.378\n",
      "  11       -6.951      5.585      7.469\n",
      "  12       -6.894      3.435      5.038\n",
      "  13       -6.868      4.758      6.843\n",
      "  14        -6.81      3.295      6.523\n",
      "  15       -6.807      4.548      5.555\n",
      "  16       -6.744      4.874      7.075\n",
      "  17       -6.743      3.731      6.715\n",
      "  18       -6.656      3.727      6.385\n",
      "  19       -6.635      3.921      4.936\n",
      "  20       -6.584      5.343      7.504\n",
      "*******ng Vina grid ... **\n",
      "**"
     ]
    },
    {
     "name": "stderr",
     "output_type": "stream",
     "text": [
      "1 molecule converted\n",
      "1 molecule converted\n"
     ]
    },
    {
     "name": "stdout",
     "output_type": "stream",
     "text": [
      "*"
     ]
    },
    {
     "name": "stderr",
     "output_type": "stream",
     "text": [
      "1 molecule converted\n",
      "1 molecule converted\n"
     ]
    },
    {
     "name": "stdout",
     "output_type": "stream",
     "text": [
      "here\n",
      "O=C(Cc1cncc2ccccc12)N1CCc2sccc2C1 MERS-CoV Mpro\n",
      "Processing /home/xchen/Work/asap-polaris-blind-challenge-examples/SMILESopt/xtbopt_00125.xyz in docking/125\n",
      "***"
     ]
    },
    {
     "name": "stderr",
     "output_type": "stream",
     "text": [
      "1 molecule converted\n"
     ]
    },
    {
     "name": "stdout",
     "output_type": "stream",
     "text": [
      "**\n",
      "*"
     ]
    },
    {
     "name": "stderr",
     "output_type": "stream",
     "text": [
      "1 molecule converted\n",
      "1 molecule converted\n"
     ]
    },
    {
     "name": "stdout",
     "output_type": "stream",
     "text": [
      "****"
     ]
    },
    {
     "name": "stderr",
     "output_type": "stream",
     "text": [
      "1 molecule converted\n",
      "1 molecule converted\n"
     ]
    },
    {
     "name": "stdout",
     "output_type": "stream",
     "text": [
      "here\n",
      "C[C@H]1CN(c2cncc3ccccc23)C(=O)[C@@]12CN(CC#N)C(=O)c1ccc(F)cc12 SARS-CoV-2 Mpro\n",
      "Processing /home/xchen/Work/asap-polaris-blind-challenge-examples/SMILESopt/xtbopt_00143.xyz in docking/143\n"
     ]
    },
    {
     "name": "stderr",
     "output_type": "stream",
     "text": [
      "1 molecule converted\n"
     ]
    },
    {
     "name": "stdout",
     "output_type": "stream",
     "text": [
      "*******\n",
      "mode |   affinity | dist from best mode\n",
      "     | (kcal/mol) | rmsd l.b.| rmsd u.b.\n",
      "-----+------------+----------+----------\n",
      "   1       -8.222          0          0\n",
      "   2       -7.904      2.811      5.372\n",
      "   3       -7.839      2.714      7.258\n",
      "   4       -7.788      1.587       2.39\n",
      "   5       -7.386      3.194      4.455\n",
      "   6       -7.382      2.726      6.491\n",
      "   7       -7.377      2.018      2.918\n",
      "   8       -7.319     0.9034      2.068\n",
      "   9       -7.318      3.315      7.795\n",
      "  10       -7.306      2.749      7.386\n",
      "  11       -7.253      3.593       7.97\n",
      "  12       -7.226      2.788      5.153\n",
      "  13       -7.112      2.299      6.211\n",
      "  14       -7.065      2.814      7.004\n",
      "  15       -7.049      2.829      4.969\n",
      "  16       -7.046      3.358      7.427\n",
      "  17       -6.955      3.048       6.32\n",
      "  18       -6.889      2.951      5.181\n",
      "  19       -6.882      3.243      5.052\n",
      "  20       -6.878      3.165      7.154\n",
      "***done.g Vina grid ... **\n",
      "**Performing docking (random seed: -971116516) ... \n",
      "0%   10   20   30   40   50   60   70   80   90   100%\n",
      "|----|----|----|----|----|----|----|----|----|----|\n",
      "*"
     ]
    },
    {
     "name": "stderr",
     "output_type": "stream",
     "text": [
      "WARNING: At low exhaustiveness, it may be impossible to utilize all CPUs.\n"
     ]
    },
    {
     "name": "stdout",
     "output_type": "stream",
     "text": [
      "***\n",
      "mode |   affinity | dist from best mode\n",
      "     | (kcal/mol) | rmsd l.b.| rmsd u.b.\n",
      "-----+------------+----------+----------\n",
      "   1       -8.903          0          0\n",
      "   2       -8.876       4.28      7.546\n",
      "   3       -8.819      1.997       3.09\n",
      "   4       -8.797      4.022      8.677\n",
      "   5       -8.541       3.54      7.859\n",
      "   6       -8.386      4.608      7.635\n",
      "   7       -8.376      3.109       4.66\n",
      "   8       -8.275      4.445      7.736\n",
      "   9       -8.033      5.986      10.03\n",
      "  10       -8.012      3.834      6.012\n",
      "  11       -7.992       5.76      9.429\n",
      "  12       -7.959      4.135      7.595\n",
      "  13       -7.861      4.285      6.865\n",
      "  14       -7.847       3.53      6.647\n",
      "  15       -7.834      3.315       7.55\n",
      "  16       -7.783       2.33      3.008\n",
      "  17       -7.764      3.766      7.196\n",
      "  18       -7.739      3.869      7.296\n",
      "  19       -7.589      3.863      6.995\n",
      "  20       -7.505      4.877      8.095\n",
      "*******done.na grid ... *\n"
     ]
    },
    {
     "name": "stderr",
     "output_type": "stream",
     "text": [
      "WARNING: At low exhaustiveness, it may be impossible to utilize all CPUs.\n"
     ]
    },
    {
     "name": "stdout",
     "output_type": "stream",
     "text": [
      "Performing docking (random seed: 1271727279) ... \n",
      "0%   10   20   30   40   50   60   70   80   90   100%\n",
      "|----|----|----|----|----|----|----|----|----|----|\n",
      "**************************done.\n",
      "***Performing docking (random seed: 1330464616) ... \n",
      "0%   10   20   30   40   50   60   70   80   90   100%\n",
      "|----|----|----|----|----|----|----|----|----|----|\n",
      "*"
     ]
    },
    {
     "name": "stderr",
     "output_type": "stream",
     "text": [
      "WARNING: At low exhaustiveness, it may be impossible to utilize all CPUs.\n"
     ]
    },
    {
     "name": "stdout",
     "output_type": "stream",
     "text": [
      "***\n",
      "****"
     ]
    },
    {
     "name": "stderr",
     "output_type": "stream",
     "text": [
      "1 molecule converted\n",
      "1 molecule converted\n"
     ]
    },
    {
     "name": "stdout",
     "output_type": "stream",
     "text": [
      "***"
     ]
    },
    {
     "name": "stderr",
     "output_type": "stream",
     "text": [
      "1 molecule converted\n",
      "1 molecule converted\n"
     ]
    },
    {
     "name": "stdout",
     "output_type": "stream",
     "text": [
      "here\n",
      "COC(=O)N[C@H](C(=O)N1C[C@H](C(F)(F)F)C[C@H]1C(=O)N[C@H](C[NH3+])C[C@@H]1CCNC1=O)C(C)(C)C MERS-CoV Mpro***\n",
      "Processing /home/xchen/Work/asap-polaris-blind-challenge-examples/SMILESopt/xtbopt_00155.xyz in docking/155\n"
     ]
    },
    {
     "name": "stderr",
     "output_type": "stream",
     "text": [
      "1 molecule converted\n"
     ]
    },
    {
     "name": "stdout",
     "output_type": "stream",
     "text": [
      "************************\n",
      "****"
     ]
    },
    {
     "name": "stderr",
     "output_type": "stream",
     "text": [
      "1 molecule converted\n",
      "1 molecule converted\n"
     ]
    },
    {
     "name": "stdout",
     "output_type": "stream",
     "text": [
      "***here\n",
      "COc1cccc(CNC(=O)CN2C[C@@]3(C(=O)N(c4cncc5ccccc45)C[C@@H]3C)c3cc(Cl)ccc3C2=O)c1 "
     ]
    },
    {
     "name": "stderr",
     "output_type": "stream",
     "text": [
      "1 molecule converted\n",
      "1 molecule converted\n"
     ]
    },
    {
     "name": "stdout",
     "output_type": "stream",
     "text": [
      "MERS-CoV Mpro\n",
      "Processing /home/xchen/Work/asap-polaris-blind-challenge-examples/SMILESopt/xtbopt_00150.xyz in docking/150\n",
      "****"
     ]
    },
    {
     "name": "stderr",
     "output_type": "stream",
     "text": [
      "1 molecule converted\n"
     ]
    },
    {
     "name": "stdout",
     "output_type": "stream",
     "text": [
      "***\n",
      "mode |   affinity | dist from best mode\n",
      "     | (kcal/mol) | rmsd l.b.| rmsd u.b.\n",
      "-----+------------+----------+----------\n",
      "   1        -8.03          0          0\n",
      "   2       -7.805      1.949      3.423\n",
      "   3       -7.731      3.258      5.066\n",
      "   4       -7.688      2.413      7.962\n",
      "   5       -7.612      2.379      7.939\n",
      "   6       -7.571      2.432      4.329\n",
      "   7       -7.459      3.108      5.048\n",
      "   8        -7.43      1.367      2.222\n",
      "   9       -7.367      4.465      7.931\n",
      "  10       -7.333      3.548      5.729\n",
      "  11       -7.198      3.663      7.472\n",
      "  12        -7.19      3.385      5.013\n",
      "  13        -7.15      3.028      5.716\n",
      "  14       -7.129      2.332      7.587\n",
      "  15       -7.003      4.822      7.797\n",
      "  16       -6.991      2.424      7.803\n",
      "  17       -6.982      3.746      6.055\n",
      "  18       -6.973      2.964      7.419\n",
      "  19       -6.963       2.77      7.685\n",
      "  20       -6.939       3.42      7.432\n",
      "**************************\n",
      "**"
     ]
    },
    {
     "name": "stderr",
     "output_type": "stream",
     "text": [
      "1 molecule converted\n",
      "1 molecule converted\n",
      "1 molecule converted\n"
     ]
    },
    {
     "name": "stdout",
     "output_type": "stream",
     "text": [
      "\n",
      "mode |   affinity | dist from best mode\n",
      "     | (kcal/mol) | rmsd l.b.| rmsd u.b.\n",
      "-----+------------+----------+----------\n",
      "   1       -8.686          0          0\n",
      "   2       -8.551      1.992      7.048\n",
      "   3        -8.43      3.084      6.986\n",
      "   4       -8.405      2.401      7.318\n",
      "   5       -8.377      2.591      5.031\n",
      "   6        -8.35      2.627      4.591\n",
      "   7       -8.327      3.191      7.913\n",
      "   8         -8.3       3.71      6.394\n",
      "   9       -8.296      3.058      6.368\n",
      "  10       -8.293      3.427      6.457\n",
      "  11       -8.289      2.029      6.889\n",
      "  12       -8.174      2.632      4.808\n",
      "  13       -8.167      2.753      7.408\n",
      "  14       -7.991      3.319      5.347\n",
      "  15       -7.972      3.221       7.25\n",
      "  16        -7.96      3.115      6.618\n",
      "  17       -7.783      2.454      3.157\n",
      "  18       -7.761      2.841      7.697\n",
      "  19       -7.711      3.063      7.794\n",
      "  20       -7.614      3.202      5.352\n",
      "hereuting Vina grid ... **\n",
      "CC[C@H]1c2ccsc2CCN1C(=O)Cc1cncc2ccccc12 SARS-CoV-2 Mpro\n",
      "Processing /home/xchen/Work/asap-polaris-blind-challenge-examples/SMILESopt/xtbopt_00130.xyz in docking/130\n"
     ]
    },
    {
     "name": "stderr",
     "output_type": "stream",
     "text": [
      "1 molecule converted\n",
      "1 molecule converted\n"
     ]
    },
    {
     "name": "stdout",
     "output_type": "stream",
     "text": [
      "****\n",
      "*"
     ]
    },
    {
     "name": "stderr",
     "output_type": "stream",
     "text": [
      "1 molecule converted\n",
      "1 molecule converted\n",
      "WARNING: At low exhaustiveness, it may be impossible to utilize all CPUs.\n",
      "1 molecule converted\n"
     ]
    },
    {
     "name": "stdout",
     "output_type": "stream",
     "text": [
      "*done.\n",
      "*\n",
      "Performing docking (random seed: 1282190635) ... *\n",
      "\n",
      "0%   10   20   30   40   50   60   70   80   90   100%\n",
      "|----|----|----|----|----|----|----|----|----|----|\n",
      "here\n",
      "O=C(Cc1cncc2ccccc12)N(Cc1cccc(Cl)c1)[C@]12CC[C@H](C1)[N@H+](CC1COC1)C2 SARS-CoV-2 Mpro\n",
      "Processing /home/xchen/Work/asap-polaris-blind-challenge-examples/SMILESopt/xtbopt_00137.xyz in docking/137\n"
     ]
    },
    {
     "name": "stderr",
     "output_type": "stream",
     "text": [
      "1 molecule converted\n",
      "1 molecule converted\n"
     ]
    },
    {
     "name": "stdout",
     "output_type": "stream",
     "text": [
      "**"
     ]
    },
    {
     "name": "stderr",
     "output_type": "stream",
     "text": [
      "1 molecule converted\n",
      "1 molecule converted\n",
      "1 molecule converted\n",
      "1 molecule converted\n",
      "1 molecule converted\n",
      "1 molecule converted\n"
     ]
    },
    {
     "name": "stdout",
     "output_type": "stream",
     "text": [
      "here\n",
      "C[C@H]1CN(c2cncc3ccccc23)C(=O)[C@@]12CN(Cc1nc[nH]n1)C(=O)c1ccc(F)cc12 SARS-CoV-2 Mpro\n",
      "Processing /home/xchen/Work/asap-polaris-blind-challenge-examples/SMILESopt/xtbopt_00126.xyz in docking/126\n",
      "here\n",
      "COC[C@H]1CN(c2cncc3ccccc23)C(=O)[C@@]12CN(Cc1c[nH+]c[nH]1)C(=O)c1ccc(Cl)cc12 SARS-CoV-2 Mpro\n",
      "*\n",
      "mode |   affinity | dist from best mode\n",
      "     | (kcal/mol) | rmsd l.b.| rmsd u.b.\n",
      "-----+------------+----------+----------\n",
      "   1        -9.59          0          0\n",
      "   2       -9.463       4.77        8.4\n",
      "   3       -9.246      3.309      5.333\n",
      "   4        -9.19      3.363      5.718\n",
      "   5       -9.162      3.139      5.657\n",
      "   6        -9.16      3.116      9.215\n",
      "   7       -9.035      3.586      5.974\n",
      "   8       -8.981      2.904      7.646\n",
      "   9       -8.959      4.778      8.209\n",
      "  10       -8.923      3.431      5.713\n",
      "  11       -8.885      4.219      9.832\n",
      "  12       -8.871      3.348      4.952\n",
      "  13       -8.783      2.732      8.598\n",
      "  14       -8.725      3.893      7.369\n",
      "  15       -8.573      4.656      8.963\n",
      "  16       -8.566      3.233      8.241\n",
      "  17       -8.541      4.032      5.916\n",
      "  18        -8.54      3.812      5.663\n",
      "  19       -8.438      4.034      9.468\n",
      "  20       -8.398      3.283      5.908\n",
      "Processing /home/xchen/Work/asap-polaris-blind-challenge-examples/SMILESopt/xtbopt_00112.xyz in docking/112"
     ]
    },
    {
     "name": "stderr",
     "output_type": "stream",
     "text": [
      "1 molecule converted\n",
      "1 molecule converted\n",
      "1 molecule converted\n"
     ]
    },
    {
     "name": "stdout",
     "output_type": "stream",
     "text": [
      "\n"
     ]
    },
    {
     "name": "stderr",
     "output_type": "stream",
     "text": [
      "==============================\n",
      "*** Open Babel Warning  in PerceiveBondOrders\n",
      "  Failed to kekulize aromatic bonds in OBMol::PerceiveBondOrders (title is energy: -101.949756665735 gnorm: 0.003823095469 xtb: 6.6.1 (8d0f1dd))\n",
      "\n",
      "1 molecule converted\n"
     ]
    },
    {
     "name": "stdout",
     "output_type": "stream",
     "text": [
      "****done.\n",
      "Performing docking (random seed: -384941090) ... \n",
      "0%   10   20   30   40   50   60   70   80   90   100%\n",
      "|----|----|----|----|----|----|----|----|----|----|\n",
      "*"
     ]
    },
    {
     "name": "stderr",
     "output_type": "stream",
     "text": [
      "WARNING: At low exhaustiveness, it may be impossible to utilize all CPUs.\n"
     ]
    },
    {
     "name": "stdout",
     "output_type": "stream",
     "text": [
      "********\n",
      "mode |   affinity | dist from best mode\n",
      "     | (kcal/mol) | rmsd l.b.| rmsd u.b.\n",
      "-----+------------+----------+----------\n",
      "   1       -7.756          0          0\n",
      "   2       -7.725      1.718      2.783\n",
      "   3       -7.721      1.311      2.185\n",
      "   4       -7.568       2.92       8.05\n",
      "   5       -7.512      1.325      1.854\n",
      "   6       -7.469      2.817      7.847\n",
      "   7       -7.368      3.763      5.187\n",
      "   8       -7.307      1.336      1.641\n",
      "   9        -7.27       1.81      2.696\n",
      "  10       -7.263      2.785      7.806\n",
      "  11       -7.102      3.873      5.635\n",
      "  12        -6.91      2.814      7.576\n",
      "  13       -6.861      1.885      3.005\n",
      "  14       -6.855      2.304      3.523\n",
      "  15       -6.847      2.778      4.108\n",
      "  16       -6.741      3.843       5.96\n",
      "  17       -6.697      3.562      7.997\n",
      "  18       -6.671      2.951       7.76\n",
      "  19       -6.664      2.148      3.258\n",
      "*done.ing Vina grid ... **\n",
      "Performing docking (random seed: -19182756) ... \n",
      "0%   10   20   30   40   50   60   70   80   90   100%\n",
      "|----|----|----|----|----|----|----|----|----|----|\n"
     ]
    },
    {
     "name": "stderr",
     "output_type": "stream",
     "text": [
      "WARNING: At low exhaustiveness, it may be impossible to utilize all CPUs.\n"
     ]
    },
    {
     "name": "stdout",
     "output_type": "stream",
     "text": [
      "**\n",
      "mode |   affinity | dist from best mode\n",
      "     | (kcal/mol) | rmsd l.b.| rmsd u.b.\n",
      "-----+------------+----------+----------\n",
      "   1       -8.816          0          0\n",
      "   2       -8.039      3.225      7.433\n",
      "   3       -7.934      1.352      1.918\n",
      "   4       -7.754      3.188      5.802\n",
      "   5       -7.364      1.726      2.103\n",
      "   6       -7.361      3.072      7.273\n",
      "   7       -7.289      2.788      5.214\n",
      "   8        -7.24      3.565      7.907\n",
      "   9       -7.193      2.294      5.395\n",
      "  10       -7.125      3.142      7.532\n",
      "  11       -7.074      3.314      7.743\n",
      "  12       -7.027      3.827      7.408\n",
      "  13       -6.943      3.679      8.413\n",
      "  14       -6.942      3.429      8.459\n",
      "  15       -6.841       3.72      7.268\n",
      "  16       -6.832        3.4      6.912\n",
      "  17       -6.818      3.468      6.842\n",
      "  18       -6.809      3.562      7.144\n",
      "  19       -6.805      2.181       5.96\n",
      "  20       -6.764      2.423      5.722\n",
      "**mputing Vina grid ... \n",
      "mode |   affinity | dist from best mode\n",
      "     | (kcal/mol) | rmsd l.b.| rmsd u.b.\n",
      "-----+------------+----------+----------\n",
      "   1       -8.698          0          0\n",
      "   2       -8.377      3.043       4.85\n",
      "   3       -8.324      3.675      5.303\n",
      "   4       -8.317      1.573      2.057\n",
      "   5       -8.256      3.167      4.996\n",
      "   6       -7.789      4.722       7.82\n",
      "   7       -7.759      2.861      4.776\n",
      "   8       -7.745      3.188      5.004\n",
      "   9       -7.735      1.556       2.37\n",
      "  10       -7.715      3.265      5.066\n",
      "  11       -7.665      3.889      6.374\n",
      "  12       -7.561      3.617      7.669\n",
      "  13       -7.516      3.181      7.349\n",
      "  14       -7.494      3.357        5.3\n",
      "  15       -7.434      3.817      8.736\n",
      "  16       -7.422      3.782      6.178\n",
      "  17       -7.266      4.841      9.088\n",
      "  18       -7.245      3.087      7.396\n",
      "  19       -7.239      2.925      7.692\n",
      "  20       -7.139      3.216      5.167\n",
      "******************************done.\n",
      "done.\n"
     ]
    },
    {
     "name": "stderr",
     "output_type": "stream",
     "text": [
      "WARNING: At low exhaustiveness, it may be impossible to utilize all CPUs.\n",
      "WARNING: At low exhaustiveness, it may be impossible to utilize all CPUs.\n"
     ]
    },
    {
     "name": "stdout",
     "output_type": "stream",
     "text": [
      "Performing docking (random seed: 775365491) ... \n",
      "0%   10   20   30   40   50   60   70   80   90   100%\n",
      "|----|----|----|----|----|----|----|----|----|----|\n",
      "*Performing docking (random seed: -692472705) ... done.\n",
      "\n",
      "0%   10   20   30   40   50   60   70   80   90   100%\n",
      "|----|----|----|----|----|----|----|----|----|----|\n",
      "**"
     ]
    },
    {
     "name": "stderr",
     "output_type": "stream",
     "text": [
      "WARNING: At low exhaustiveness, it may be impossible to utilize all CPUs.\n"
     ]
    },
    {
     "name": "stdout",
     "output_type": "stream",
     "text": [
      "Performing docking (random seed: -1434079843) ... *\n",
      "0%   10   20   30   40   50   60   70   80   90   100%\n",
      "|----|----|----|----|----|----|----|----|----|----|\n",
      "*********************\n",
      "*"
     ]
    },
    {
     "name": "stderr",
     "output_type": "stream",
     "text": [
      "1 molecule converted\n",
      "1 molecule converted\n"
     ]
    },
    {
     "name": "stdout",
     "output_type": "stream",
     "text": [
      "*****"
     ]
    },
    {
     "name": "stderr",
     "output_type": "stream",
     "text": [
      "1 molecule converted\n",
      "1"
     ]
    },
    {
     "name": "stdout",
     "output_type": "stream",
     "text": [
      "here\n",
      "C[C@H]1CN(c2cncc3ccccc23)C(=O)[C@@]12CN(Cc1nccn1C)C(=O)c1ccc(F)cc12"
     ]
    },
    {
     "name": "stderr",
     "output_type": "stream",
     "text": [
      " molecule converted\n"
     ]
    },
    {
     "name": "stdout",
     "output_type": "stream",
     "text": [
      " MERS-CoV Mpro\n",
      "Processing /home/xchen/Work/asap-polaris-blind-challenge-examples/SMILESopt/xtbopt_00144.xyz in docking/144\n",
      "***"
     ]
    },
    {
     "name": "stderr",
     "output_type": "stream",
     "text": [
      "1 molecule converted\n"
     ]
    },
    {
     "name": "stdout",
     "output_type": "stream",
     "text": [
      "******************************\n",
      "mode |   affinity | dist from best mode\n",
      "     | (kcal/mol) | rmsd l.b.| rmsd u.b.\n",
      "-----+------------+----------+----------\n",
      "   1       -8.449          0          0\n",
      "   2       -8.226      2.528      4.163\n",
      "   3       -7.837      2.402      6.645\n",
      "   4       -7.826      2.947      7.224\n",
      "   5       -7.718      2.368      7.055\n",
      "   6       -7.665      4.459      6.659\n",
      "   7       -7.609      2.768      4.114\n",
      "   8       -7.604      3.245      5.797\n",
      "   9       -7.545      4.613      6.808\n",
      "  10        -7.53      3.332      6.177\n",
      "  11       -7.353      4.433      5.888\n",
      "  12       -7.337      3.829      4.881\n",
      "  13       -7.324      3.873      6.519\n",
      "  14       -7.217      4.519      6.002\n",
      "  15       -7.215      4.913      6.635\n",
      "  16       -7.126      2.666      7.252\n",
      "  17       -7.103      5.305      8.163\n",
      "  18       -7.042      2.811      6.201\n",
      "  19       -7.024      5.256      8.616\n",
      "  20       -6.923      3.443      7.184\n",
      "*******************************done.\n",
      "*"
     ]
    },
    {
     "name": "stderr",
     "output_type": "stream",
     "text": [
      "WARNING: At low exhaustiveness, it may be impossible to utilize all CPUs.\n"
     ]
    },
    {
     "name": "stdout",
     "output_type": "stream",
     "text": [
      "Performing docking (random seed: 1520494600) ... \n",
      "0%   10   20   30   40   50   60   70   80   90   100%\n",
      "|----|----|----|----|----|----|----|----|----|----|\n",
      "*****************************************\n",
      "**"
     ]
    },
    {
     "name": "stderr",
     "output_type": "stream",
     "text": [
      "1 molecule converted\n"
     ]
    },
    {
     "name": "stdout",
     "output_type": "stream",
     "text": [
      "*"
     ]
    },
    {
     "name": "stderr",
     "output_type": "stream",
     "text": [
      "1 molecule converted\n",
      "1 molecule converted\n"
     ]
    },
    {
     "name": "stdout",
     "output_type": "stream",
     "text": [
      "here\n",
      "*Cn1ccc(CN2C[C@]3(CCN(c4cncc5ccccc45)C3=O)c3cc(Cl)ccc3C2=O)n1 MERS-CoV Mpro\n",
      "Processing /home/xchen/Work/asap-polaris-blind-challenge-examples/SMILESopt/xtbopt_00131.xyz in docking/131"
     ]
    },
    {
     "name": "stderr",
     "output_type": "stream",
     "text": [
      "1 molecule converted\n"
     ]
    },
    {
     "name": "stdout",
     "output_type": "stream",
     "text": [
      "\n",
      "*"
     ]
    },
    {
     "name": "stderr",
     "output_type": "stream",
     "text": [
      "1 molecule converted\n"
     ]
    },
    {
     "name": "stdout",
     "output_type": "stream",
     "text": [
      "***************************\n",
      "mode |   affinity | dist from best mode\n",
      "     | (kcal/mol) | rmsd l.b.| rmsd u.b.\n",
      "-----+------------+----------+----------\n",
      "   1       -7.534          0          0\n",
      "   2        -7.04      4.091      7.214\n",
      "   3        -6.88      1.331       2.15\n",
      "   4       -6.857      1.524      2.509\n",
      "   5       -6.691      3.354      4.737\n",
      "   6        -6.63       1.93      3.384\n",
      "   7       -6.567      2.764      3.522\n",
      "   8       -6.506      2.895      6.851\n",
      "   9         -6.5      3.436      5.315\n",
      "  10       -6.486      5.031       7.21\n",
      "  11       -6.348       2.98      7.649\n",
      "  12       -6.332      3.928      5.718\n",
      "  13       -6.329      3.835      5.767\n",
      "  14       -6.307      6.083      6.871\n",
      "  15       -6.234      5.978      9.358\n",
      "  16       -6.192      2.894      7.477\n",
      "  17       -6.157      5.555      6.684\n",
      "  18        -6.15      4.155      7.518\n",
      "  19       -6.116       4.22      4.851\n",
      "  20       -6.063      3.646      7.834\n",
      "****************************done.\n",
      "*"
     ]
    },
    {
     "name": "stderr",
     "output_type": "stream",
     "text": [
      "WARNING: At low exhaustiveness, it may be impossible to utilize all CPUs.\n"
     ]
    },
    {
     "name": "stdout",
     "output_type": "stream",
     "text": [
      "Performing docking (random seed: 749666372) ... \n",
      "0%   10   20   30   40   50   60   70   80   90   100%\n",
      "|----|----|----|----|----|----|----|----|----|----|\n",
      "****************************************************************************************************************************\n",
      "*"
     ]
    },
    {
     "name": "stderr",
     "output_type": "stream",
     "text": [
      "1 molecule converted\n",
      "1 molecule converted\n"
     ]
    },
    {
     "name": "stdout",
     "output_type": "stream",
     "text": [
      "here\n",
      "CN1C(=O)N(c2cncc3ccccc23)C(=O)C12CN(S(=O)(=O)C1CC1)C2 SARS-CoV-2 Mpro\n",
      "Processing /home/xchen/Work/asap-polaris-blind-challenge-examples/SMILESopt/xtbopt_00162.xyz in docking/162"
     ]
    },
    {
     "name": "stderr",
     "output_type": "stream",
     "text": [
      "1 molecule converted\n",
      "1 molecule converted\n"
     ]
    },
    {
     "name": "stdout",
     "output_type": "stream",
     "text": [
      "\n",
      "**"
     ]
    },
    {
     "name": "stderr",
     "output_type": "stream",
     "text": [
      "1 molecule converted\n"
     ]
    },
    {
     "name": "stdout",
     "output_type": "stream",
     "text": [
      "************\n",
      "mode |   affinity | dist from best mode\n",
      "     | (kcal/mol) | rmsd l.b.| rmsd u.b.\n",
      "-----+------------+----------+----------\n",
      "   1       -9.823          0          0\n",
      "   2        -9.79      1.521      2.245\n",
      "   3       -9.009      2.986      7.432\n",
      "   4       -9.002      3.126      7.086\n",
      "   5       -8.895      2.354      3.372\n",
      "   6       -8.575      3.156      7.263\n",
      "   7       -8.537      3.128      6.937\n",
      "   8       -8.336      3.271      6.694\n",
      "   9       -8.222      3.189      7.195\n",
      "  10        -8.21      2.974      6.955\n",
      "  11       -8.181      1.815      2.632\n",
      "  12       -7.994      3.395      5.052\n",
      "  13       -7.973      3.241      6.527\n",
      "  14       -7.894      2.639      6.388\n",
      "  15       -7.846       3.65      5.674\n",
      "  16       -7.762      2.943      6.028\n",
      "  17       -7.752      3.318      6.042\n",
      "  18       -7.727      3.764      5.207\n",
      "  19       -7.674      3.647      5.813\n",
      "  20       -7.622      3.005      5.973\n",
      "*******ng Vina grid ... \n",
      "***"
     ]
    },
    {
     "name": "stderr",
     "output_type": "stream",
     "text": [
      "1 molecule converted\n",
      "1 molecule converted\n",
      "1 molecule converted\n",
      "1 molecule converted\n"
     ]
    },
    {
     "name": "stdout",
     "output_type": "stream",
     "text": [
      "here\n",
      "CNC(=O)CN1C[C@@]2(C(=O)N(c3cncc4ccccc34)C[C@@H]2NC(C)=O)c2cc(Cl)ccc2C1=O MERS-CoV Mpro\n",
      "Processing /home/xchen/Work/asap-polaris-blind-challenge-examples/SMILESopt/xtbopt_00145.xyz in docking/145\n",
      "*"
     ]
    },
    {
     "name": "stderr",
     "output_type": "stream",
     "text": [
      "1 molecule converted\n"
     ]
    },
    {
     "name": "stdout",
     "output_type": "stream",
     "text": [
      "******done.\n"
     ]
    },
    {
     "name": "stderr",
     "output_type": "stream",
     "text": [
      "WARNING: At low exhaustiveness, it may be impossible to utilize all CPUs.\n"
     ]
    },
    {
     "name": "stdout",
     "output_type": "stream",
     "text": [
      "Performing docking (random seed: -813733188) ... \n",
      "0%   10   20   30   40   50   60   70   80   90   100%\n",
      "|----|----|----|----|----|----|----|----|----|----|\n",
      "*****************\n",
      "***\n",
      "mode |   affinity | dist from best mode\n",
      "     | (kcal/mol) | rmsd l.b.| rmsd u.b.\n",
      "-----+------------+----------+----------\n",
      "   1       -9.297          0          0\n",
      "   2       -8.408      2.104      7.332\n",
      "   3       -8.332      2.165      7.397\n",
      "   4       -8.223      2.192       7.87\n",
      "   5       -8.087      3.928      6.487\n",
      "   6       -8.004      2.755      4.499\n",
      "   7        -7.91      2.712      5.091\n",
      "   8       -7.834      2.551      4.504\n",
      "   9        -7.83      2.935      5.377\n",
      "  10       -7.791      2.021      8.017\n",
      "  11        -7.75      2.742       4.72\n",
      "  12       -7.724      3.035      7.796\n",
      "  13       -7.648      2.093      3.239\n",
      "  14       -7.646      2.624      4.018\n",
      "  15       -7.461      3.279      5.445\n",
      "  16       -7.458      2.813      7.983\n",
      "  17       -7.439      2.579      4.197\n",
      "  18       -7.407      3.412      9.174\n",
      "  19       -7.396      2.706      7.903\n",
      "  20       -7.381      2.463      3.573\n",
      "Computing Vina grid ... "
     ]
    },
    {
     "name": "stderr",
     "output_type": "stream",
     "text": [
      "==============================\n",
      "*** Open Babel Warning  in PerceiveBondOrders\n",
      "  Failed to kekulize aromatic bonds in OBMol::PerceiveBondOrders (title is energy:)\n",
      "\n",
      "1 molecule converted\n",
      "1 molecule converted\n"
     ]
    },
    {
     "name": "stdout",
     "output_type": "stream",
     "text": [
      "***"
     ]
    },
    {
     "name": "stderr",
     "output_type": "stream",
     "text": [
      "1 molecule converted\n",
      "==============================\n",
      "*** Open Babel Warning  in PerceiveBondOrders\n",
      "  Failed to kekulize aromatic bonds in OBMol::PerceiveBondOrders (title is energy:)\n",
      "\n",
      "1 molecule converted\n"
     ]
    },
    {
     "name": "stdout",
     "output_type": "stream",
     "text": [
      "here\n",
      "CNC(=O)CN1C[C@@]2(C(=O)N(c3cncc4ccccc34)C[C@@H]2Cn2cccn2)c2cc(Cl)ccc2C1=O MERS-CoV Mpro\n",
      "Processing /home/xchen/Work/asap-polaris-blind-challenge-examples/SMILESopt/xtbopt_00169.xyz in docking/169\n",
      "**"
     ]
    },
    {
     "name": "stderr",
     "output_type": "stream",
     "text": [
      "1 molecule converted\n"
     ]
    },
    {
     "name": "stdout",
     "output_type": "stream",
     "text": [
      "****************done.\n",
      "Performing docking (random seed: -1835189982) ... \n",
      "0%   10   20   30   40   50   60   70   80   90   100%\n",
      "|----|----|----|----|----|----|----|----|----|----|\n",
      "**"
     ]
    },
    {
     "name": "stderr",
     "output_type": "stream",
     "text": [
      "WARNING: At low exhaustiveness, it may be impossible to utilize all CPUs.\n"
     ]
    },
    {
     "name": "stdout",
     "output_type": "stream",
     "text": [
      "*******\n",
      "mode |   affinity | dist from best mode\n",
      "     | (kcal/mol) | rmsd l.b.| rmsd u.b.\n",
      "-----+------------+----------+----------\n",
      "   1       -8.833          0          0\n",
      "   2       -8.293      1.285      2.137\n",
      "   3       -8.056      4.465      6.597\n",
      "   4       -7.979      4.548      5.817\n",
      "   5       -7.957      3.112      4.562\n",
      "   6       -7.813       3.46      4.588\n",
      "   7       -7.711      3.386      7.978\n",
      "   8       -7.677      4.571      8.566\n",
      "   9       -7.668      3.127      6.019\n",
      "  10       -7.595      5.513      7.826\n",
      "  11        -7.59      4.045      5.989\n",
      "  12       -7.539      4.283      5.699\n",
      "  13        -7.51      4.237      6.307\n",
      "  14       -7.474      4.731       7.91\n",
      "  15       -7.455       3.89      8.281\n",
      "  16       -7.415      3.545      4.763\n",
      "  17       -7.384      2.822      7.092\n",
      "  18       -7.316      5.146      8.094\n",
      "  19       -7.303      3.251      6.649\n",
      "  20       -7.263       4.37      8.401\n",
      "Computing Vina grid ... *\n",
      "**"
     ]
    },
    {
     "name": "stderr",
     "output_type": "stream",
     "text": [
      "1 molecule converted\n",
      "1 molecule converted\n"
     ]
    },
    {
     "name": "stdout",
     "output_type": "stream",
     "text": [
      "**"
     ]
    },
    {
     "name": "stderr",
     "output_type": "stream",
     "text": [
      "1 molecule converted\n",
      "1"
     ]
    },
    {
     "name": "stdout",
     "output_type": "stream",
     "text": [
      "**here"
     ]
    },
    {
     "name": "stderr",
     "output_type": "stream",
     "text": [
      " molecule converted\n"
     ]
    },
    {
     "name": "stdout",
     "output_type": "stream",
     "text": [
      "\n",
      "CCn1nccc1CN1C[C@@]2(C(=O)N(c3cncc4ccccc34)C[C@@H]2C)c2cc(F)ccc2C1=O SARS-CoV-2 Mpro*\n",
      "Processing /home/xchen/Work/asap-polaris-blind-challenge-examples/SMILESopt/xtbopt_00119.xyz in docking/119\n",
      "**"
     ]
    },
    {
     "name": "stderr",
     "output_type": "stream",
     "text": [
      "1 molecule converted\n"
     ]
    },
    {
     "name": "stdout",
     "output_type": "stream",
     "text": [
      "********************done.\n",
      "*\n",
      "*Performing docking (random seed: -2003987046) ... "
     ]
    },
    {
     "name": "stderr",
     "output_type": "stream",
     "text": [
      "WARNING: At low exhaustiveness, it may be impossible to utilize all CPUs.\n"
     ]
    },
    {
     "name": "stdout",
     "output_type": "stream",
     "text": [
      "\n",
      "0%   10   20   30   40   50   60   70   80   90   100%\n",
      "|----|----|----|----|----|----|----|----|----|----|\n",
      "*\n",
      "mode |   affinity | dist from best mode\n",
      "     | (kcal/mol) | rmsd l.b.| rmsd u.b.\n",
      "-----+------------+----------+----------\n",
      "   1       -9.497          0          0\n",
      "   2       -9.376      2.883      8.089\n",
      "   3       -9.095       1.34      1.771\n",
      "   4       -8.814      3.152      8.157\n",
      "   5       -8.647      3.111      8.077\n",
      "   6       -8.568      4.064      6.744\n",
      "   7       -8.522      4.079      6.509\n",
      "   8       -8.506      3.133      6.172\n",
      "   9       -8.483      3.115      8.177\n",
      "  10       -8.125      2.901      7.879\n",
      "  11       -8.036      3.325      6.047\n",
      "  12       -7.966      2.483      3.824\n",
      "  13       -7.903      3.291       5.74\n",
      "  14       -7.702      3.533      5.809\n",
      "  15       -7.632      2.722      7.103\n",
      "  16       -7.516      3.409      7.603\n",
      "  17       -7.455      3.757      6.067\n",
      "  18       -7.452      3.338      5.531\n",
      "  19       -7.446      2.665      7.006\n",
      "  20       -7.406      3.545      6.622\n",
      "Computing Vina grid ... *"
     ]
    },
    {
     "name": "stderr",
     "output_type": "stream",
     "text": [
      "1 molecule converted\n",
      "1 molecule converted\n"
     ]
    },
    {
     "name": "stdout",
     "output_type": "stream",
     "text": [
      "**here"
     ]
    },
    {
     "name": "stderr",
     "output_type": "stream",
     "text": [
      "1 molecule converted\n",
      "1 molecule converted\n"
     ]
    },
    {
     "name": "stdout",
     "output_type": "stream",
     "text": [
      "\n",
      "C[C@H]1CN(c2cncc3ccccc23)C(=O)[C@@]12CN(CC[NH+]1CCOCC1)C(=O)c1ccc(Cl)cc12** MERS-CoV Mpro\n",
      "Processing /home/xchen/Work/asap-polaris-blind-challenge-examples/SMILESopt/xtbopt_00132.xyz in docking/132\n",
      "**"
     ]
    },
    {
     "name": "stderr",
     "output_type": "stream",
     "text": [
      "1 molecule converted\n"
     ]
    },
    {
     "name": "stdout",
     "output_type": "stream",
     "text": [
      "********************\n",
      "mode |   affinity | dist from best mode\n",
      "     | (kcal/mol) | rmsd l.b.| rmsd u.b.\n",
      "-----+------------+----------+----------\n",
      "   1       -8.915          0          0\n",
      "   2       -8.845      3.381      5.058\n",
      "   3       -8.581     0.9537      1.136\n",
      "   4        -8.43      3.626      5.507\n",
      "   5       -8.255      2.316      8.119\n",
      "   6       -7.977      3.004      3.813\n",
      "   7       -7.925      2.886      7.734\n",
      "   8        -7.91      3.167      4.372\n",
      "   9        -7.87      1.112      2.092\n",
      "  10        -7.82      1.477      1.948\n",
      "  11       -7.658      1.864      2.697\n",
      "  12        -7.65      3.555      5.665\n",
      "  13       -7.622      2.897      8.738\n",
      "  14       -7.462       2.78      3.731\n",
      "  15       -7.429       4.67      7.739\n",
      "  16       -7.424      4.438      6.768\n",
      "  17       -7.411      2.575      7.627\n",
      "  18       -7.399      2.253      7.759\n",
      "  19       -7.317      4.153      7.131\n",
      "  20       -7.265      3.399      8.497\n",
      "***done.g Vina grid ... **\n",
      "*Performing docking (random seed: -501598586) ... "
     ]
    },
    {
     "name": "stderr",
     "output_type": "stream",
     "text": [
      "WARNING: At low exhaustiveness, it may be impossible to utilize all CPUs.\n"
     ]
    },
    {
     "name": "stdout",
     "output_type": "stream",
     "text": [
      "\n",
      "0%   10   20   30   40   50   60   70   80   90   100%\n",
      "|----|----|----|----|----|----|----|----|----|----|\n",
      "********done.\n",
      "*Performing docking (random seed: 49760713) ... \n",
      "0%   10   20   30   40   50   60   70   80   90   100%\n",
      "|----|----|----|----|----|----|----|----|----|----|\n",
      "*"
     ]
    },
    {
     "name": "stderr",
     "output_type": "stream",
     "text": [
      "WARNING: At low exhaustiveness, it may be impossible to utilize all CPUs.\n"
     ]
    },
    {
     "name": "stdout",
     "output_type": "stream",
     "text": [
      "********\n"
     ]
    },
    {
     "name": "stderr",
     "output_type": "stream",
     "text": [
      "1 molecule converted\n"
     ]
    },
    {
     "name": "stdout",
     "output_type": "stream",
     "text": [
      "***"
     ]
    },
    {
     "name": "stderr",
     "output_type": "stream",
     "text": [
      "1 molecule converted\n",
      "1 molecule converted\n"
     ]
    },
    {
     "name": "stdout",
     "output_type": "stream",
     "text": [
      "here***\n",
      "C[C@H]1CN(c2cncc3ccccc23)C(=O)[C@@]12CN(Cc1ncco1)C(=O)c1ccc(F)cc12 MERS-CoV Mpro\n",
      "Processing /home/xchen/Work/asap-polaris-blind-challenge-examples/SMILESopt/xtbopt_00163.xyz in docking/163\n"
     ]
    },
    {
     "name": "stderr",
     "output_type": "stream",
     "text": [
      "1 molecule converted\n",
      "1 molecule converted\n"
     ]
    },
    {
     "name": "stdout",
     "output_type": "stream",
     "text": [
      "*******************\n",
      "mode |   affinity | dist from best mode\n",
      "     | (kcal/mol) | rmsd l.b.| rmsd u.b.\n",
      "-----+------------+----------+----------\n",
      "   1       -8.438          0          0\n",
      "   2        -7.76      1.378      2.287\n",
      "   3        -7.09      1.846      2.102\n",
      "   4       -6.951      3.551       8.01\n",
      "   5       -6.886      2.747      8.001\n",
      "   6       -6.724      2.479      7.781\n",
      "   7       -6.634      3.518      7.979\n",
      "   8       -6.604      2.855      8.055\n",
      "   9       -6.574      1.657       2.41\n",
      "  10       -6.545      3.465      8.165\n",
      "  11       -6.456      3.187      5.568\n",
      "  12       -6.452      3.944      5.809\n",
      "  13       -6.416      3.227      5.797\n",
      "  14       -6.396      3.969      5.581\n",
      "  15       -6.253      5.099      9.452\n",
      "  16       -6.248      2.557      3.736\n",
      "  17       -6.234      4.492      7.876\n",
      "  18       -6.187      4.317      7.938\n",
      "  19        -6.18      4.634      8.256\n",
      "  20       -6.131      1.391      1.686\n",
      "**mputing Vina grid ... *\n",
      "***"
     ]
    },
    {
     "name": "stderr",
     "output_type": "stream",
     "text": [
      "1 molecule converted\n",
      "1 molecule converted\n",
      "1 molecule converted\n",
      "1 molecule converted\n"
     ]
    },
    {
     "name": "stdout",
     "output_type": "stream",
     "text": [
      "here\n",
      "Cc1nc(CN2C[C@@]3(C(=O)N(c4cncc5ccccc45)C[C@@H]3C)c3cc(F)ccc3C2=O)no1** MERS-CoV Mpro\n",
      "Processing /home/xchen/Work/asap-polaris-blind-challenge-examples/SMILESopt/xtbopt_00138.xyz in docking/138\n"
     ]
    },
    {
     "name": "stderr",
     "output_type": "stream",
     "text": [
      "1 molecule converted\n"
     ]
    },
    {
     "name": "stdout",
     "output_type": "stream",
     "text": [
      "***************done.\n",
      "Performing docking (random seed: 352951156) ... "
     ]
    },
    {
     "name": "stderr",
     "output_type": "stream",
     "text": [
      "WARNING: At low exhaustiveness, it may be impossible to utilize all CPUs.\n"
     ]
    },
    {
     "name": "stdout",
     "output_type": "stream",
     "text": [
      "\n",
      "0%   10   20   30   40   50   60   70   80   90   100%\n",
      "|----|----|----|----|----|----|----|----|----|----|\n",
      "***\n",
      "mode |   affinity | dist from best mode\n",
      "     | (kcal/mol) | rmsd l.b.| rmsd u.b.\n",
      "-----+------------+----------+----------\n",
      "   1       -8.684          0          0\n",
      "   2       -8.334      3.076      6.745\n",
      "   3       -8.305      3.098      7.079\n",
      "   4       -8.096      2.425      4.245\n",
      "   5       -8.094      3.012      8.216\n",
      "   6       -8.093      3.017      6.008\n",
      "   7       -8.014      2.389      3.719\n",
      "   8        -7.99      3.071      7.044\n",
      "   9       -7.944      2.476      4.151\n",
      "  10       -7.944      2.677       6.51\n",
      "  11       -7.894      2.955      5.441\n",
      "  12       -7.869       2.99      7.012\n",
      "  13       -7.846      2.414      6.445\n",
      "  14       -7.729      2.435      3.448\n",
      "  15       -7.635      2.419      3.382\n",
      "  16       -7.601      2.292      3.608\n",
      "  17       -7.591      2.439      3.743\n",
      "  18       -7.556      2.622      6.074\n",
      "  19       -7.546      3.034      6.795\n",
      "  20       -7.376      2.976      7.711\n",
      "**********************. \n",
      "*done.\n",
      "*Performing docking (random seed: 2146242162) ... \n",
      "0%   10   20   30   40   50   60   70   80   90   100%\n",
      "|----|----|----|----|----|----|----|----|----|----|\n",
      "**"
     ]
    },
    {
     "name": "stderr",
     "output_type": "stream",
     "text": [
      "WARNING: At low exhaustiveness, it may be impossible to utilize all CPUs.\n"
     ]
    },
    {
     "name": "stdout",
     "output_type": "stream",
     "text": [
      "*"
     ]
    },
    {
     "name": "stderr",
     "output_type": "stream",
     "text": [
      "1 molecule converted\n"
     ]
    },
    {
     "name": "stdout",
     "output_type": "stream",
     "text": [
      "*"
     ]
    },
    {
     "name": "stderr",
     "output_type": "stream",
     "text": [
      "1 molecule converted\n",
      "1 molecule converted\n"
     ]
    },
    {
     "name": "stdout",
     "output_type": "stream",
     "text": [
      "**here\n",
      "O=C1N[C@]2(C[C@H](c3ccccc3Cl)C2)C(=O)N1c1cncc2ccccc12 SARS-CoV-2 Mpro"
     ]
    },
    {
     "name": "stderr",
     "output_type": "stream",
     "text": [
      "1 molecule converted\n"
     ]
    },
    {
     "name": "stdout",
     "output_type": "stream",
     "text": [
      "\n",
      "Processing /home/xchen/Work/asap-polaris-blind-challenge-examples/SMILESopt/xtbopt_00151.xyz in docking/151\n",
      "***"
     ]
    },
    {
     "name": "stderr",
     "output_type": "stream",
     "text": [
      "1 molecule converted\n"
     ]
    },
    {
     "name": "stdout",
     "output_type": "stream",
     "text": [
      "************************\n",
      "mode |   affinity | dist from best mode\n",
      "     | (kcal/mol) | rmsd l.b.| rmsd u.b.\n",
      "-----+------------+----------+----------\n",
      "   1       -8.928          0          0\n",
      "   2       -8.705      2.936      5.688\n",
      "   3       -8.695      2.761      4.033\n",
      "   4       -8.573      3.207      7.229\n",
      "   5       -8.514      3.132      4.958\n",
      "   6       -8.392      3.257      6.079\n",
      "   7       -8.347       3.98       7.95\n",
      "   8       -8.304      2.213      3.564\n",
      "   9       -8.272      2.958      8.761\n",
      "  10        -8.11      3.228      5.977\n",
      "  11        -8.11      3.447      10.25\n",
      "  12       -8.068      3.316      5.329\n",
      "  13       -8.053     0.9439      2.025\n",
      "  14       -7.964      3.319      6.285\n",
      "  15       -7.949      3.153      8.589\n",
      "  16       -7.947      3.121      5.813\n",
      "  17       -7.897       3.15      5.131\n",
      "  18       -7.878      2.421      4.113\n",
      "  19       -7.875      3.173      8.758\n",
      "  20       -7.726      3.619      10.28\n",
      "****uting Vina grid ... \n",
      "****"
     ]
    },
    {
     "name": "stderr",
     "output_type": "stream",
     "text": [
      "1 molecule converted\n",
      "1 molecule converted\n"
     ]
    },
    {
     "name": "stdout",
     "output_type": "stream",
     "text": [
      "*"
     ]
    },
    {
     "name": "stderr",
     "output_type": "stream",
     "text": [
      "1 molecule converted\n",
      "1 molecule converted\n"
     ]
    },
    {
     "name": "stdout",
     "output_type": "stream",
     "text": [
      "here\n",
      "C[C@H]1CN(c2cncc3ccccc23)C(=O)[C@@]12CN(CC[NH+]1CCOCC1)C(=O)c1ccc(Cl)cc12 SARS-CoV-2 Mpro\n",
      "Processing /home/xchen/Work/asap-polaris-blind-challenge-examples/SMILESopt/xtbopt_00156.xyz in docking/156\n",
      "****"
     ]
    },
    {
     "name": "stderr",
     "output_type": "stream",
     "text": [
      "1 molecule converted\n"
     ]
    },
    {
     "name": "stdout",
     "output_type": "stream",
     "text": [
      "**********************done.\n"
     ]
    },
    {
     "name": "stderr",
     "output_type": "stream",
     "text": [
      "WARNING: At low exhaustiveness, it may be impossible to utilize all CPUs.\n"
     ]
    },
    {
     "name": "stdout",
     "output_type": "stream",
     "text": [
      "Performing docking (random seed: -1284388463) ... \n",
      "0%   10   20   30   40   50   60   70   80   90   100%\n",
      "|----|----|----|----|----|----|----|----|----|----|\n",
      "***\n",
      "mode |   affinity | dist from best mode\n",
      "     | (kcal/mol) | rmsd l.b.| rmsd u.b.\n",
      "-----+------------+----------+----------\n",
      "   1       -7.464          0          0\n",
      "   2       -7.218      3.389      7.735\n",
      "   3       -7.032       3.96      8.368\n",
      "   4       -6.829      1.566      2.049\n",
      "   5       -6.668      3.557      6.401\n",
      "   6       -6.666      2.505      3.569\n",
      "   7       -6.527      3.724      7.262\n",
      "   8       -6.524      3.628      7.462\n",
      "   9       -6.497      3.424      7.657\n",
      "  10       -6.381      3.882      6.466\n",
      "  11       -6.354       3.44      6.906\n",
      "  12       -6.209      3.107      6.503\n",
      "  13         -6.2      3.388       7.43\n",
      "  14       -6.154      3.565      5.244\n",
      "  15       -6.146      3.934      6.081\n",
      "  16       -6.139      4.508       6.77\n",
      "  17       -6.137      3.419      6.959\n",
      "  18       -6.046      3.884      7.807\n",
      "  19       -6.027        3.1      5.063\n",
      "  20       -5.943      3.786      6.815\n",
      "*********************************done.\n",
      "*Performing docking (random seed: -822935784) ... "
     ]
    },
    {
     "name": "stderr",
     "output_type": "stream",
     "text": [
      "WARNING: At low exhaustiveness, it may be impossible to utilize all CPUs.\n"
     ]
    },
    {
     "name": "stdout",
     "output_type": "stream",
     "text": [
      "\n",
      "0%   10   20   30   40   50   60   70   80   90   100%\n",
      "|----|----|----|----|----|----|----|----|----|----|\n",
      "******************************************************\n",
      "****"
     ]
    },
    {
     "name": "stderr",
     "output_type": "stream",
     "text": [
      "1 molecule converted\n",
      "1 molecule converted\n"
     ]
    },
    {
     "name": "stdout",
     "output_type": "stream",
     "text": [
      "**"
     ]
    },
    {
     "name": "stderr",
     "output_type": "stream",
     "text": [
      "1 molecule converted\n"
     ]
    },
    {
     "name": "stdout",
     "output_type": "stream",
     "text": [
      "***here"
     ]
    },
    {
     "name": "stderr",
     "output_type": "stream",
     "text": [
      "1 molecule converted\n"
     ]
    },
    {
     "name": "stdout",
     "output_type": "stream",
     "text": [
      "\n",
      "O=C(Cc1cncc2ccccc12)N1CCCc2sccc2C1 SARS-CoV-2 Mpro\n",
      "Processing /home/xchen/Work/asap-polaris-blind-challenge-examples/SMILESopt/xtbopt_00146.xyz in docking/146\n",
      "***"
     ]
    },
    {
     "name": "stderr",
     "output_type": "stream",
     "text": [
      "1 molecule converted\n"
     ]
    },
    {
     "name": "stdout",
     "output_type": "stream",
     "text": [
      "**************************\n",
      "mode |   affinity | dist from best mode\n",
      "     | (kcal/mol) | rmsd l.b.| rmsd u.b.\n",
      "-----+------------+----------+----------\n",
      "   1       -9.257          0          0\n",
      "   2       -9.162     0.9336      1.102\n",
      "   3       -8.482        2.3      2.998\n",
      "   4       -8.382      3.366      7.328\n",
      "   5       -8.039      3.035       7.52\n",
      "   6       -7.973      3.648      7.662\n",
      "   7       -7.973      3.043      6.697\n",
      "   8       -7.962      2.888      6.895\n",
      "   9       -7.878      2.628      5.522\n",
      "  10       -7.861      3.849      8.503\n",
      "  11       -7.749      3.396      7.953\n",
      "  12       -7.655      2.816      6.286\n",
      "  13       -7.361      2.797      6.791\n",
      "  14        -7.32      3.467      5.905\n",
      "  15       -7.303      3.072      6.855\n",
      "  16       -7.256       3.02      6.363\n",
      "  17       -7.254      3.191      7.195\n",
      "  18       -7.124      3.059      6.866\n",
      "  19       -7.039      2.354      5.852\n",
      "  20       -7.017      3.111      6.046\n",
      "**********************************done.\n",
      "*Performing docking (random seed: 1959022724) ... \n",
      "0%   10   20   30   40   50   60   70   80   90   100%\n",
      "|----|----|----|----|----|----|----|----|----|----|\n",
      "*"
     ]
    },
    {
     "name": "stderr",
     "output_type": "stream",
     "text": [
      "WARNING: At low exhaustiveness, it may be impossible to utilize all CPUs.\n"
     ]
    },
    {
     "name": "stdout",
     "output_type": "stream",
     "text": [
      "**************************\n",
      "***\n",
      "*"
     ]
    },
    {
     "name": "stderr",
     "output_type": "stream",
     "text": [
      "1 molecule converted\n",
      "1 molecule converted\n"
     ]
    },
    {
     "name": "stdout",
     "output_type": "stream",
     "text": [
      "here\n",
      "C[C@H]1CN(c2cncc3ccccc23)C(=O)[C@@]12CN(CC[NH+](C)C)C(=O)c1ccc(Cl)cc12 MERS-CoV Mpro\n",
      "Processing /home/xchen/Work/asap-polaris-blind-challenge-examples/SMILESopt/xtbopt_00152.xyz in docking/152\n",
      "**"
     ]
    },
    {
     "name": "stderr",
     "output_type": "stream",
     "text": [
      "1 molecule converted\n",
      "1 molecule converted\n",
      "1 molecule converted\n"
     ]
    },
    {
     "name": "stdout",
     "output_type": "stream",
     "text": [
      "**"
     ]
    },
    {
     "name": "stderr",
     "output_type": "stream",
     "text": [
      "1 molecule converted\n",
      "1 molecule converted\n",
      "1 molecule converted\n"
     ]
    },
    {
     "name": "stdout",
     "output_type": "stream",
     "text": [
      "here\n",
      "C[C@H]1CCN(C(=O)Cc2cncc3ccccc23)[C@@H](C)C1 SARS-CoV-2 Mpro\n",
      "Processing /home/xchen/Work/asap-polaris-blind-challenge-examples/SMILESopt/xtbopt_00176.xyz in docking/176\n"
     ]
    },
    {
     "name": "stderr",
     "output_type": "stream",
     "text": [
      "1 molecule converted\n"
     ]
    },
    {
     "name": "stdout",
     "output_type": "stream",
     "text": [
      "***"
     ]
    },
    {
     "name": "stderr",
     "output_type": "stream",
     "text": [
      "1 molecule converted\n"
     ]
    },
    {
     "name": "stdout",
     "output_type": "stream",
     "text": [
      "**********\n",
      "**"
     ]
    },
    {
     "name": "stderr",
     "output_type": "stream",
     "text": [
      "1 molecule converted\n",
      "1 molecule converted\n"
     ]
    },
    {
     "name": "stdout",
     "output_type": "stream",
     "text": [
      "***here\n",
      "CNC(=O)CN1C(=O)C2=CC=C(Cl)C[C@@]23[C@@H]1[C@]31C(=O)N(c2cncc3ccccc23)C/C1=C\\F MERS-CoV Mpro\n",
      "Processing /home/xchen/Work/asap-polaris-blind-challenge-examples/SMILESopt/xtbopt_00133.xyz in docking/133\n"
     ]
    },
    {
     "name": "stderr",
     "output_type": "stream",
     "text": [
      "1 molecule converted\n",
      "1 molecule converted\n"
     ]
    },
    {
     "name": "stdout",
     "output_type": "stream",
     "text": [
      "**\n",
      "mode |   affinity | dist from best mode\n",
      "     | (kcal/mol) | rmsd l.b.| rmsd u.b.\n",
      "-----+------------+----------+----------\n",
      "   1       -9.032          0          0\n",
      "   2       -8.991      1.659      2.818\n",
      "   3       -8.463      4.348      7.135\n",
      "   4       -8.437      3.047      5.399\n",
      "   5       -8.396      1.126      1.779\n",
      "   6       -8.312      4.281      7.537\n",
      "   7       -8.218      6.267      9.705\n",
      "   8        -8.16      3.284      5.699\n",
      "   9       -8.087      2.991      6.935\n",
      "  10        -8.08      3.885      6.656\n",
      "  11       -8.046      3.418      6.441\n",
      "  12       -8.016       1.33      2.203\n",
      "  13       -7.969      3.238      6.083\n",
      "  14       -7.915      6.236      9.945\n",
      "  15       -7.914      3.401       6.21\n",
      "  16       -7.756      2.098      3.222\n",
      "  17       -7.741      3.248      6.404\n",
      "  18       -7.685      2.943      7.856\n",
      "  19       -7.616      3.868      7.538\n",
      "  20       -7.512      3.798      6.589\n",
      "Computing Vina grid ... "
     ]
    },
    {
     "name": "stderr",
     "output_type": "stream",
     "text": [
      "1 molecule converted\n"
     ]
    },
    {
     "name": "stdout",
     "output_type": "stream",
     "text": [
      "*\n",
      "mode |   affinity | dist from best mode\n",
      "     | (kcal/mol) | rmsd l.b.| rmsd u.b.\n",
      "-----+------------+----------+----------\n",
      "   1       -8.677          0          0\n",
      "   2       -7.621      3.483      7.776\n",
      "   3       -7.519       3.52      5.499\n",
      "   4       -7.486      1.296      2.152\n",
      "   5       -7.483      4.993      8.152\n",
      "   6        -7.42      4.625      7.937\n",
      "   7       -7.401      4.329      5.773\n",
      "   8       -7.384      3.333      7.779\n",
      "   9       -7.382      3.193      5.309\n",
      "  10       -7.225       3.21      5.458\n",
      "  11       -7.215      5.601      10.74\n",
      "  12       -7.182       3.67      8.641\n",
      "  13       -7.144      5.222      8.069\n",
      "  14        -7.03      2.857      8.028\n",
      "  15       -6.994      3.422      5.776\n",
      "  16       -6.974      4.336      6.614\n",
      "  17       -6.973      5.664      8.789\n",
      "  18       -6.954      3.003      8.292\n",
      "  19       -6.941      1.841      2.584\n",
      "  20       -6.859        3.8      6.803\n",
      "****uting Vina grid ... *\n",
      "***"
     ]
    },
    {
     "name": "stderr",
     "output_type": "stream",
     "text": [
      "1 molecule converted\n",
      "1 molecule converted\n"
     ]
    },
    {
     "name": "stdout",
     "output_type": "stream",
     "text": [
      "here\n",
      "C[C@@H]1COC[C@@H](C)[NH+]1CCN1C[C@@]2(C(=O)N(c3cncc4ccccc34)C[C@@H]2C)c2cc(Cl)ccc2C1=O MERS-CoV Mpro\n"
     ]
    },
    {
     "name": "stderr",
     "output_type": "stream",
     "text": [
      "1 molecule converted\n",
      "1 molecule converted\n"
     ]
    },
    {
     "name": "stdout",
     "output_type": "stream",
     "text": [
      "Processing /home/xchen/Work/asap-polaris-blind-challenge-examples/SMILESopt/xtbopt_00164.xyz in docking/164\n",
      "****"
     ]
    },
    {
     "name": "stderr",
     "output_type": "stream",
     "text": [
      "1 molecule converted\n",
      "WARNING: At low exhaustiveness, it may be impossible to utilize all CPUs.\n"
     ]
    },
    {
     "name": "stdout",
     "output_type": "stream",
     "text": [
      "done.\n",
      "Performing docking (random seed: -290802337) ... \n",
      "0%   10   20   30   40   50   60   70   80   90   100%\n",
      "|----|----|----|----|----|----|----|----|----|----|\n",
      "**\n",
      "mode |   affinity | dist from best mode\n",
      "     | (kcal/mol) | rmsd l.b.| rmsd u.b.\n",
      "-----+------------+----------+----------\n",
      "   1       -9.118          0          0\n",
      "   2       -8.841      3.126       8.38\n",
      "   3       -8.521      1.849      2.386\n",
      "   4       -8.518      3.374      9.196\n",
      "   5       -8.368      1.488      2.362\n",
      "   6       -8.291      3.367      9.168\n",
      "   7       -8.182       1.49      2.418\n",
      "   8       -8.147      2.914      5.355\n",
      "   9       -8.131      3.679      5.373\n",
      "  10        -8.12      4.137      6.819\n",
      "  11       -8.024      4.247      8.851\n",
      "  12       -7.996      4.259      8.068\n",
      "  13       -7.876      4.141      5.612\n",
      "  14       -7.876      3.242      6.232\n",
      "  15       -7.833      3.401      8.893\n",
      "  16       -7.806      3.332      8.371\n",
      "  17       -7.769      3.292      9.134\n",
      "  18        -7.75       3.21      5.735\n",
      "  19       -7.743      2.461      3.341\n",
      "  20       -7.649       3.23      5.874\n",
      "Computing Vina grid ... *\n",
      "*****"
     ]
    },
    {
     "name": "stderr",
     "output_type": "stream",
     "text": [
      "1 molecule converted\n",
      "1 molecule converted\n",
      "1 molecule converted\n",
      "1 molecule converted\n"
     ]
    },
    {
     "name": "stdout",
     "output_type": "stream",
     "text": [
      "here\n",
      "CCC(=O)N1CCCc2ccc(N(Cc3cccc(Br)c3)C(=O)Cc3cncc4ccccc34)cc21 MERS-CoV Mpro\n",
      "Processing /home/xchen/Work/asap-polaris-blind-challenge-examples/SMILESopt/xtbopt_00170.xyz in docking/170\n",
      "***done.\n"
     ]
    },
    {
     "name": "stderr",
     "output_type": "stream",
     "text": [
      "1 molecule converted\n",
      "WARNING: At low exhaustiveness, it may be impossible to utilize all CPUs.\n"
     ]
    },
    {
     "name": "stdout",
     "output_type": "stream",
     "text": [
      "Performing docking (random seed: 163165627) ... \n",
      "0%   10   20   30   40   50   60   70   80   90   100%\n",
      "|----|----|----|----|----|----|----|----|----|----|\n",
      "*******\n",
      "*****"
     ]
    },
    {
     "name": "stderr",
     "output_type": "stream",
     "text": [
      "1 molecule converted\n",
      "1 molecule converted\n"
     ]
    },
    {
     "name": "stdout",
     "output_type": "stream",
     "text": [
      "**"
     ]
    },
    {
     "name": "stderr",
     "output_type": "stream",
     "text": [
      "1 molecule converted\n",
      "1 molecule converted\n"
     ]
    },
    {
     "name": "stdout",
     "output_type": "stream",
     "text": [
      "***here\n",
      "C=CC(=O)N1CCCc2c1cccc2[N@@H+](Cc1cccc(Cl)c1)C(=O)Cc1cncc2ccccc12 SARS-CoV-2 Mpro\n",
      "Processing /home/xchen/Work/asap-polaris-blind-challenge-examples/SMILESopt/xtbopt_00139.xyz in docking/139\n",
      "*****"
     ]
    },
    {
     "name": "stderr",
     "output_type": "stream",
     "text": [
      "1 molecule converted\n"
     ]
    },
    {
     "name": "stdout",
     "output_type": "stream",
     "text": [
      "*******\n",
      "mode |   affinity | dist from best mode\n",
      "     | (kcal/mol) | rmsd l.b.| rmsd u.b.\n",
      "-----+------------+----------+----------\n",
      "   1       -9.044          0          0\n",
      "   2       -8.848      3.099      7.234\n",
      "   3       -8.393       2.89      7.182\n",
      "   4       -8.116      3.562      7.597\n",
      "   5       -8.101      3.148      5.601\n",
      "   6       -7.854      3.066      5.316\n",
      "   7        -7.85      3.324      7.411\n",
      "   8       -7.691      1.841      2.203\n",
      "   9       -7.679      3.084      6.717\n",
      "  10       -7.652      1.923      2.407\n",
      "  11        -7.43      3.151      6.099\n",
      "  12       -7.424      2.896      6.917\n",
      "  13       -7.393      2.205      2.747\n",
      "  14       -7.383       3.42      6.352\n",
      "  15       -7.289      2.695      6.852\n",
      "  16        -7.23      4.061      7.653\n",
      "  17       -7.113      2.842      5.587\n",
      "  18       -7.026      3.677      6.766\n",
      "  19       -6.976      4.308      6.976\n",
      "  20       -6.968      3.147      6.924\n",
      "******done.ina grid ... \n",
      "*"
     ]
    },
    {
     "name": "stderr",
     "output_type": "stream",
     "text": [
      "WARNING: At low exhaustiveness, it may be impossible to utilize all CPUs.\n"
     ]
    },
    {
     "name": "stdout",
     "output_type": "stream",
     "text": [
      "Performing docking (random seed: 287235204) ... \n",
      "0%   10   20   30   40   50   60   70   80   90   100%\n",
      "|----|----|----|----|----|----|----|----|----|----|\n",
      "****\n",
      "mode |   affinity | dist from best mode\n",
      "     | (kcal/mol) | rmsd l.b.| rmsd u.b.\n",
      "-----+------------+----------+----------\n",
      "   1       -9.339          0          0\n",
      "   2        -9.22      1.131      1.518\n",
      "   3       -8.573      3.282      7.121\n",
      "   4       -8.528      3.101        6.8\n",
      "   5       -8.084      2.957      7.006\n",
      "   6       -8.032        3.1      6.473\n",
      "   7       -8.027       2.81      5.858\n",
      "   8       -7.999      3.933      7.909\n",
      "   9       -7.977      3.221      6.878\n",
      "  10       -7.815      3.147      7.749\n",
      "  11       -7.775      2.303      3.225\n",
      "  12       -7.677      1.805       2.52\n",
      "  13       -7.607      2.933      5.534\n",
      "  14       -7.602      2.778      6.737\n",
      "  15       -7.439       3.03      6.786\n",
      "  16       -7.418      3.037      6.695\n",
      "  17       -7.411      3.291      6.548\n",
      "  18       -7.309      3.792      6.636\n",
      "  19       -7.299      3.347      8.167\n",
      "  20       -7.034      3.549      6.374\n",
      "*************a grid ... **\n",
      "mode |   affinity | dist from best mode\n",
      "     | (kcal/mol) | rmsd l.b.| rmsd u.b.\n",
      "-----+------------+----------+----------\n",
      "   1       -9.109          0          0\n",
      "   2       -8.514       2.88      6.939\n",
      "   3       -8.514      3.172      4.892\n",
      "   4       -8.514      2.727      7.143\n",
      "   5       -8.513      2.615      5.247\n",
      "   6       -8.482      3.126      6.412\n",
      "   7       -8.475      2.931      6.447\n",
      "   8       -8.345      3.252      6.302\n",
      "   9       -8.293      2.781      5.121\n",
      "  10       -8.279      2.641      5.014\n",
      "  11       -8.252      3.298       5.52\n",
      "  12       -8.213      2.696      5.136\n",
      "  13       -8.123      2.811      7.093\n",
      "  14       -8.101      2.178      6.766\n",
      "  15       -8.055      2.388      3.203\n",
      "  16       -7.933      3.529      5.783\n",
      "  17       -7.863      2.955      7.685\n",
      "  18        -7.77      3.141      5.336\n",
      "  19       -7.709      3.035      7.163\n",
      "  20        -7.67       3.37      5.822\n",
      "*******ng Vina grid ... \n",
      "****"
     ]
    },
    {
     "name": "stderr",
     "output_type": "stream",
     "text": [
      "1 molecule converted\n",
      "1 molecule converted\n"
     ]
    },
    {
     "name": "stdout",
     "output_type": "stream",
     "text": [
      "*here\n",
      "*"
     ]
    },
    {
     "name": "stderr",
     "output_type": "stream",
     "text": [
      "1 molecule converted\n",
      "1 molecule converted\n"
     ]
    },
    {
     "name": "stdout",
     "output_type": "stream",
     "text": [
      "O=C(Cc1cncc2ccccc12)N1CCCC[C@H]1Cc1ccccc1 SARS-CoV-2 Mpro\n",
      "Processing /home/xchen/Work/asap-polaris-blind-challenge-examples/SMILESopt/xtbopt_00147.xyz in docking/147\n",
      "***done.\n"
     ]
    },
    {
     "name": "stderr",
     "output_type": "stream",
     "text": [
      "1 molecule converted\n",
      "WARNING: At low exhaustiveness, it may be impossible to utilize all CPUs.\n"
     ]
    },
    {
     "name": "stdout",
     "output_type": "stream",
     "text": [
      "*Performing docking (random seed: 1397686825) ... \n",
      "0%   10   20   30   40   50   60   70   80   90   100%\n",
      "|----|----|----|----|----|----|----|----|----|----|\n",
      "*done.\n",
      "Performing docking (random seed: -2044948075) ... \n",
      "0%   10   20   30   40   50   60   70   80   90   100%\n",
      "|----|----|----|----|----|----|----|----|----|----|\n",
      "*"
     ]
    },
    {
     "name": "stderr",
     "output_type": "stream",
     "text": [
      "WARNING: At low exhaustiveness, it may be impossible to utilize all CPUs.\n"
     ]
    },
    {
     "name": "stdout",
     "output_type": "stream",
     "text": [
      "*********************done.\n",
      "*Performing docking (random seed: -1647366061) ... \n",
      "0%   10   20   30   40   50   60   70   80   90   100%\n",
      "|----|----|----|----|----|----|----|----|----|----|\n",
      "*"
     ]
    },
    {
     "name": "stderr",
     "output_type": "stream",
     "text": [
      "WARNING: At low exhaustiveness, it may be impossible to utilize all CPUs.\n"
     ]
    },
    {
     "name": "stdout",
     "output_type": "stream",
     "text": [
      "****\n",
      "mode |   affinity | dist from best mode\n",
      "     | (kcal/mol) | rmsd l.b.| rmsd u.b.\n",
      "-----+------------+----------+----------\n",
      "   1       -6.999          0          0\n",
      "   2       -6.714      2.096      2.714\n",
      "   3       -6.631      4.012      7.156\n",
      "   4        -6.51      2.597      6.705\n",
      "   5        -6.51      2.673      3.288\n",
      "   6       -6.454      3.984      6.942\n",
      "   7       -6.359      2.375      3.635\n",
      "   8       -6.266      5.027       8.48\n",
      "   9       -6.227      2.893      6.837\n",
      "  10       -6.208      4.995      6.966\n",
      "  11       -6.203      3.055      6.932\n",
      "  12       -6.094      3.075      6.862\n",
      "  13       -6.088      2.589      4.226\n",
      "  14       -6.033      12.27      14.97\n",
      "  15       -6.031      3.033      4.109\n",
      "  16       -6.015      4.658      7.077\n",
      "  17       -6.007      3.082      7.113\n",
      "  18       -5.933      3.589      6.268\n",
      "  19       -5.898      3.091      6.809\n",
      "  20       -5.854      3.523      5.985\n",
      "*****ting Vina grid ... *\n",
      "**"
     ]
    },
    {
     "name": "stderr",
     "output_type": "stream",
     "text": [
      "1 molecule converted\n",
      "1 molecule converted\n"
     ]
    },
    {
     "name": "stdout",
     "output_type": "stream",
     "text": [
      "*"
     ]
    },
    {
     "name": "stderr",
     "output_type": "stream",
     "text": [
      "1 molecule converted\n",
      "1 molecule converted\n"
     ]
    },
    {
     "name": "stdout",
     "output_type": "stream",
     "text": [
      "here\n",
      "C[C@H]1CN(c2cncc3ccccc23)C(=O)[C@@]12CN(Cc1ccnn1C)C(=O)c1ccc(F)cc12 SARS-CoV-2 Mpro\n",
      "Processing /home/xchen/Work/asap-polaris-blind-challenge-examples/SMILESopt/xtbopt_00177.xyz in docking/177\n",
      "****"
     ]
    },
    {
     "name": "stderr",
     "output_type": "stream",
     "text": [
      "1 molecule converted\n"
     ]
    },
    {
     "name": "stdout",
     "output_type": "stream",
     "text": [
      "********done.\n"
     ]
    },
    {
     "name": "stderr",
     "output_type": "stream",
     "text": [
      "WARNING: At low exhaustiveness, it may be impossible to utilize all CPUs.\n"
     ]
    },
    {
     "name": "stdout",
     "output_type": "stream",
     "text": [
      "Performing docking (random seed: -969137074) ... *\n",
      "0%   10   20   30   40   50   60   70   80   90   100%\n",
      "|----|----|----|----|----|----|----|----|----|----|\n",
      "********************\n",
      "mode |   affinity | dist from best mode\n",
      "     | (kcal/mol) | rmsd l.b.| rmsd u.b.\n",
      "-----+------------+----------+----------\n",
      "   1       -7.156          0          0\n",
      "   2        -6.98      1.568      2.432\n",
      "   3       -6.817      1.409      2.322\n",
      "   4       -6.685      4.188      5.777\n",
      "   5       -6.438      4.721      6.147\n",
      "   6       -6.413      4.271      7.418\n",
      "   7        -6.32      6.287      8.599\n",
      "   8       -6.278      5.658      7.442\n",
      "   9       -6.261      4.806      6.783\n",
      "  10       -6.254      2.361      7.054\n",
      "  11       -6.218      2.683      3.579\n",
      "  12       -6.213      3.753      5.116\n",
      "  13       -6.196      3.734      7.962\n",
      "  14       -6.167      2.022      7.219\n",
      "  15       -6.165      4.931      7.542\n",
      "  16       -6.141      6.709      7.833\n",
      "  17       -6.129      3.831      7.126\n",
      "  18       -6.117      1.973      3.277\n",
      "  19        -6.08      4.893      7.011\n",
      "  20       -6.045      5.995      6.864\n",
      "********************************done.\n",
      "Performing docking (random seed: 866733773) ... "
     ]
    },
    {
     "name": "stderr",
     "output_type": "stream",
     "text": [
      "WARNING: At low exhaustiveness, it may be impossible to utilize all CPUs.\n"
     ]
    },
    {
     "name": "stdout",
     "output_type": "stream",
     "text": [
      "\n",
      "0%   10   20   30   40   50   60   70   80   90   100%\n",
      "|----|----|----|----|----|----|----|----|----|----|\n",
      "*************************\n",
      "****"
     ]
    },
    {
     "name": "stderr",
     "output_type": "stream",
     "text": [
      "1 molecule converted\n"
     ]
    },
    {
     "name": "stdout",
     "output_type": "stream",
     "text": [
      "**"
     ]
    },
    {
     "name": "stderr",
     "output_type": "stream",
     "text": [
      "1 molecule converted\n",
      "1 molecule converted\n"
     ]
    },
    {
     "name": "stdout",
     "output_type": "stream",
     "text": [
      "here"
     ]
    },
    {
     "name": "stderr",
     "output_type": "stream",
     "text": [
      "1 molecule converted\n"
     ]
    },
    {
     "name": "stdout",
     "output_type": "stream",
     "text": [
      "\n",
      "C[C@H]1CN(c2cncc3ccccc23)C(=O)[C@@]12CN(Cc1cocn1)C(=O)c1ccc(F)cc12 SARS-CoV-2 Mpro\n",
      "Processing /home/xchen/Work/asap-polaris-blind-challenge-examples/SMILESopt/xtbopt_00157.xyz in docking/157\n",
      "******"
     ]
    },
    {
     "name": "stderr",
     "output_type": "stream",
     "text": [
      "1 molecule converted\n"
     ]
    },
    {
     "name": "stdout",
     "output_type": "stream",
     "text": [
      "******************************\n",
      "mode |   affinity | dist from best mode\n",
      "     | (kcal/mol) | rmsd l.b.| rmsd u.b.\n",
      "-----+------------+----------+----------\n",
      "   1       -8.718          0          0\n",
      "   2       -8.177       1.76      2.524\n",
      "   3       -7.999      2.635      3.949\n",
      "   4       -7.947      3.588      6.244\n",
      "   5       -7.866      2.319      4.202\n",
      "   6       -7.677      3.058      7.585\n",
      "   7       -7.643      1.532      2.254\n",
      "   8       -7.624      2.474      4.062\n",
      "   9       -7.603      3.744      6.576\n",
      "  10       -7.497      2.885      7.335\n",
      "  11       -7.468      2.965      7.238\n",
      "  12       -7.444      3.724      6.988\n",
      "  13       -7.413      3.478      7.844\n",
      "  14       -7.318      3.473      6.562\n",
      "  15       -7.274      3.832      6.692\n",
      "  16       -7.267      3.797      6.731\n",
      "  17        -7.26      3.729       7.29\n",
      "  18        -7.14      1.805      2.387\n",
      "  19       -7.065      6.342      8.854\n",
      "  20       -6.999       2.77      7.013\n",
      "*********************************done.\n",
      "*Performing docking (random seed: 1819966926) ... *\n",
      "0%   10   20   30   40   50   60   70   80   90   100%\n",
      "|----|----|----|----|----|----|----|----|----|----|\n",
      "*"
     ]
    },
    {
     "name": "stderr",
     "output_type": "stream",
     "text": [
      "WARNING: At low exhaustiveness, it may be impossible to utilize all CPUs.\n"
     ]
    },
    {
     "name": "stdout",
     "output_type": "stream",
     "text": [
      "********************************\n",
      "**"
     ]
    },
    {
     "name": "stderr",
     "output_type": "stream",
     "text": [
      "1 molecule converted\n",
      "1 molecule converted\n",
      "1 molecule converted\n"
     ]
    },
    {
     "name": "stdout",
     "output_type": "stream",
     "text": [
      "****\n",
      "here\n",
      "CC(C)(C#N)c1ccc(N(Cc2cccc(Cl)c2)C(=O)Cc2cncc3ccccc23)cc1 MERS-CoV Mpro*\n",
      "Processing /home/xchen/Work/asap-polaris-blind-challenge-examples/SMILESopt/xtbopt_00153.xyz in docking/153"
     ]
    },
    {
     "name": "stderr",
     "output_type": "stream",
     "text": [
      "1 molecule converted\n"
     ]
    },
    {
     "name": "stdout",
     "output_type": "stream",
     "text": [
      "\n",
      "*"
     ]
    },
    {
     "name": "stderr",
     "output_type": "stream",
     "text": [
      "1 molecule converted\n",
      "1 molecule converted\n",
      "1 molecule converted\n"
     ]
    },
    {
     "name": "stdout",
     "output_type": "stream",
     "text": [
      "**"
     ]
    },
    {
     "name": "stderr",
     "output_type": "stream",
     "text": [
      "1 molecule converted\n"
     ]
    },
    {
     "name": "stdout",
     "output_type": "stream",
     "text": [
      "here\n",
      "CNC(=O)CN1C[C@@]2(C(=O)N(c3cncc4ccccc34)C[C@@H]2CNc2cnccn2)c2cc(Cl)ccc2C1=O SARS-CoV-2 Mpro\n",
      "Processing /home/xchen/Work/asap-polaris-blind-challenge-examples/SMILESopt/xtbopt_00183.xyz in docking/183***"
     ]
    },
    {
     "name": "stderr",
     "output_type": "stream",
     "text": [
      "1 molecule converted\n"
     ]
    },
    {
     "name": "stdout",
     "output_type": "stream",
     "text": [
      "\n"
     ]
    },
    {
     "name": "stderr",
     "output_type": "stream",
     "text": [
      "1 molecule converted\n"
     ]
    },
    {
     "name": "stdout",
     "output_type": "stream",
     "text": [
      "**********************\n",
      "mode |   affinity | dist from best mode\n",
      "     | (kcal/mol) | rmsd l.b.| rmsd u.b.\n",
      "-----+------------+----------+----------\n",
      "   1       -8.165          0          0\n",
      "   2       -7.793      2.572      4.362\n",
      "   3       -7.479      2.413      7.765\n",
      "   4       -7.372      2.738      8.038\n",
      "   5       -7.365      3.735      5.873\n",
      "   6       -7.161      2.411      8.351\n",
      "   7        -7.16       2.67      4.167\n",
      "   8        -7.15       2.26      7.136\n",
      "   9       -7.139      2.218      7.502\n",
      "  10       -7.059      2.833      5.033\n",
      "  11       -6.939      2.463      3.865\n",
      "  12       -6.748       2.38      7.857\n",
      "  13       -6.703      3.427      5.544\n",
      "  14       -6.696      2.827      4.521\n",
      "  15       -6.578      2.512      3.787\n",
      "  16       -6.528        2.6      7.674\n",
      "  17       -6.473      3.444      6.006\n",
      "  18       -6.457       3.51      5.782\n",
      "  19       -6.395       3.61      8.514\n",
      "  20       -6.313      3.532      6.726\n",
      "******ing Vina grid ... \n",
      "mode |   affinity | dist from best mode\n",
      "     | (kcal/mol) | rmsd l.b.| rmsd u.b.\n",
      "-----+------------+----------+----------\n",
      "   1        -9.34          0          0\n",
      "   2       -8.479      1.251      1.349\n",
      "   3       -8.276      1.868      2.746\n",
      "   4       -8.115      3.091      4.372\n",
      "   5       -8.087      2.524      3.647\n",
      "   6       -8.025      3.036      7.175\n",
      "   7       -7.936      2.893      4.355\n",
      "   8       -7.811       2.78      7.557\n",
      "   9       -7.772      3.266      6.899\n",
      "  10        -7.67      3.216      7.105\n",
      "  11       -7.414      3.558      8.185\n",
      "  12       -7.294      3.307       6.76\n",
      "  13       -7.292       3.26      6.699\n",
      "  14       -7.272       2.96      4.167\n",
      "  15       -7.236      4.064      7.442\n",
      "  16       -7.136      3.397      5.738\n",
      "  17       -7.093      3.476      7.331\n",
      "  18       -7.091      2.699      7.102\n",
      "  19       -6.948      3.036      5.705\n",
      "  20       -6.818      2.963      7.861\n",
      "*******************done.**\n",
      "*Performing docking (random seed: -88070089) ... \n",
      "0%   10   20   30   40   50   60   70   80   90   100%\n",
      "|----|----|----|----|----|----|----|----|----|----|\n"
     ]
    },
    {
     "name": "stderr",
     "output_type": "stream",
     "text": [
      "WARNING: At low exhaustiveness, it may be impossible to utilize all CPUs.\n"
     ]
    },
    {
     "name": "stdout",
     "output_type": "stream",
     "text": [
      "***done.\n"
     ]
    },
    {
     "name": "stderr",
     "output_type": "stream",
     "text": [
      "WARNING: At low exhaustiveness, it may be impossible to utilize all CPUs.\n"
     ]
    },
    {
     "name": "stdout",
     "output_type": "stream",
     "text": [
      "Performing docking (random seed: 1776150010) ... \n",
      "0%   10   20   30   40   50   60   70   80   90   100%\n",
      "|----|----|----|----|----|----|----|----|----|----|\n",
      "********\n",
      "**"
     ]
    },
    {
     "name": "stderr",
     "output_type": "stream",
     "text": [
      "1 molecule converted\n",
      "1 molecule converted\n"
     ]
    },
    {
     "name": "stdout",
     "output_type": "stream",
     "text": [
      "**"
     ]
    },
    {
     "name": "stderr",
     "output_type": "stream",
     "text": [
      "1 molecule converted\n"
     ]
    },
    {
     "name": "stdout",
     "output_type": "stream",
     "text": [
      "here**\n",
      "CNC(=O)CN1C[C@@]2(C(=O)N(c3cncc4ccccc34)C[C@@H]2CS(=O)(=O)N(C)C)c2cc(F)ccc2C1=O MERS-CoV Mpro\n",
      "Processing /home/xchen/Work/asap-polaris-blind-challenge-examples/SMILESopt/xtbopt_00190.xyz in docking/190\n"
     ]
    },
    {
     "name": "stderr",
     "output_type": "stream",
     "text": [
      "1 molecule converted\n"
     ]
    },
    {
     "name": "stdout",
     "output_type": "stream",
     "text": [
      "**"
     ]
    },
    {
     "name": "stderr",
     "output_type": "stream",
     "text": [
      "1 molecule converted\n"
     ]
    },
    {
     "name": "stdout",
     "output_type": "stream",
     "text": [
      "****************************\n",
      "mode |   affinity | dist from best mode\n",
      "     | (kcal/mol) | rmsd l.b.| rmsd u.b.\n",
      "-----+------------+----------+----------\n",
      "   1         -7.9          0          0\n",
      "   2       -7.863      1.371      2.238\n",
      "   3       -7.806      1.638      4.448\n",
      "   4       -7.773      2.245      5.889\n",
      "   5       -7.671      2.082      4.613\n",
      "   6       -7.464       2.05      5.996\n",
      "   7        -7.43      2.086      6.394\n",
      "   8       -7.369      1.724      2.871\n",
      "   9       -7.354      2.231       6.07\n",
      "  10       -7.328      1.857      4.786\n",
      "  11       -7.236      1.222       1.59\n",
      "  12       -7.148      2.254      5.976\n",
      "  13       -7.147      2.478      6.286\n",
      "  14       -7.141      2.219      5.989\n",
      "  15       -7.058      1.886       4.31\n",
      "  16       -6.908      2.596      4.222\n",
      "  17       -6.867      1.718      5.947\n",
      "  18       -6.847      2.725      5.824\n",
      "  19       -6.783      2.782      5.431\n",
      "  20       -6.736      2.267      6.897\n",
      "***************************done.\n",
      "Performing docking (random seed: 126504611) ... "
     ]
    },
    {
     "name": "stderr",
     "output_type": "stream",
     "text": [
      "WARNING: At low exhaustiveness, it may be impossible to utilize all CPUs.\n"
     ]
    },
    {
     "name": "stdout",
     "output_type": "stream",
     "text": [
      "\n",
      "0%   10   20   30   40   50   60   70   80   90   100%\n",
      "|----|----|----|----|----|----|----|----|----|----|\n",
      "******************************\n",
      "****\n",
      "*"
     ]
    },
    {
     "name": "stderr",
     "output_type": "stream",
     "text": [
      "1 molecule converted\n"
     ]
    },
    {
     "name": "stdout",
     "output_type": "stream",
     "text": [
      "*"
     ]
    },
    {
     "name": "stderr",
     "output_type": "stream",
     "text": [
      "1 molecule converted\n",
      " molecule converted\n",
      "1 molecule converted\n",
      "1 molecule converted\n"
     ]
    },
    {
     "name": "stdout",
     "output_type": "stream",
     "text": [
      "here\n",
      "CNC(=O)C1(N2C[C@@]3(C(=O)N(c4cncc5ccccc45)C[C@@H]3C)c3cc(Cl)ccc3C2=O)CC1 MERS-CoV Mpro\n",
      "Processing /home/xchen/Work/asap-polaris-blind-challenge-examples/SMILESopt/xtbopt_00165.xyz in docking/165\n",
      "*"
     ]
    },
    {
     "name": "stderr",
     "output_type": "stream",
     "text": [
      "1 molecule converted\n",
      "1 molecule converted\n"
     ]
    },
    {
     "name": "stdout",
     "output_type": "stream",
     "text": [
      "here"
     ]
    },
    {
     "name": "stderr",
     "output_type": "stream",
     "text": [
      "1 molecule converted\n",
      "1 molecule converted\n"
     ]
    },
    {
     "name": "stdout",
     "output_type": "stream",
     "text": [
      "\n",
      "O=C(Cc1cncc2ccccc12)N1CCC(C(F)F)CC1 SARS-CoV-2 Mpro\n",
      "**Processing /home/xchen/Work/asap-polaris-blind-challenge-examples/SMILESopt/xtbopt_00178.xyz in docking/178\n",
      "**"
     ]
    },
    {
     "name": "stderr",
     "output_type": "stream",
     "text": [
      "1 molecule converted\n"
     ]
    },
    {
     "name": "stdout",
     "output_type": "stream",
     "text": [
      "***********\n",
      "mode |   affinity | dist from best mode\n",
      "     | (kcal/mol) | rmsd l.b.| rmsd u.b.\n",
      "-----+------------+----------+----------\n",
      "   1       -9.118          0          0\n",
      "   2       -9.014      3.458      7.402\n",
      "   3       -8.889      3.008      5.093\n",
      "   4       -8.755       3.74       7.88\n",
      "   5       -8.738      5.669      8.903\n",
      "   6       -8.664      2.063      7.688\n",
      "   7       -8.659      3.465       5.46\n",
      "   8       -8.612      2.774       7.45\n",
      "   9       -8.513      1.344      2.003\n",
      "  10       -8.372      3.155        4.9\n",
      "  11       -8.285      2.628      7.317\n",
      "  12       -8.213      3.888      8.055\n",
      "  13       -8.206      3.386       9.26\n",
      "  14       -8.186      3.046      7.724\n",
      "  15       -8.148      3.228      5.168\n",
      "  16       -8.135      3.284      5.593\n",
      "  17       -8.132      3.611      7.086\n",
      "  18        -8.11      5.673      9.534\n",
      "  19       -8.065      2.579      3.362\n",
      "  20       -7.983       3.46      7.911\n",
      "*omputing Vina grid ... **\n",
      "mode |   affinity | dist from best mode\n",
      "     | (kcal/mol) | rmsd l.b.| rmsd u.b.\n",
      "-----+------------+----------+----------\n",
      "   1       -8.786          0          0\n",
      "   2       -8.739      3.117      6.279\n",
      "   3       -8.651      3.115       5.78\n",
      "   4        -8.62      2.351      3.227\n",
      "   5       -8.608       2.92      7.185\n",
      "   6       -8.597      3.758      6.602\n",
      "   7        -8.26      2.791      6.844\n",
      "   8       -8.158       3.09      6.162\n",
      "   9       -8.123      3.869      6.607\n",
      "  10       -8.067      2.546      7.134\n",
      "  11       -7.862      3.149      5.574\n",
      "  12       -7.833      3.344      7.508\n",
      "  13        -7.78      2.941      6.051\n",
      "  14       -7.757      2.769       7.48\n",
      "  15       -7.722      2.411      5.702\n",
      "  16       -7.694      3.125      6.674\n",
      "  17       -7.691      3.633        6.1\n",
      "  18        -7.69      3.158      6.315\n",
      "  19       -7.636      2.855      7.171\n",
      "  20        -7.56      3.306      6.229\n",
      "***********ina grid ... *\n",
      "done.\n",
      "*Performing docking (random seed: 1870692149) ... *\n",
      "0%   10   20   30   40   50   60   70   80   90   100%\n",
      "|----|----|----|----|----|----|----|----|----|----|\n",
      "*"
     ]
    },
    {
     "name": "stderr",
     "output_type": "stream",
     "text": [
      "WARNING: At low exhaustiveness, it may be impossible to utilize all CPUs.\n",
      "1 molecule converted\n",
      "1 molecule converted\n"
     ]
    },
    {
     "name": "stdout",
     "output_type": "stream",
     "text": [
      "**"
     ]
    },
    {
     "name": "stderr",
     "output_type": "stream",
     "text": [
      "1 molecule converted\n",
      "1 molecule converted\n"
     ]
    },
    {
     "name": "stdout",
     "output_type": "stream",
     "text": [
      "here\n",
      "CC1CCN(C(=O)Cc2cncc3ccccc23)CC1 MERS-CoV Mpro\n",
      "Processing /home/xchen/Work/asap-polaris-blind-challenge-examples/SMILESopt/xtbopt_00158.xyz in docking/158\n",
      "*"
     ]
    },
    {
     "name": "stderr",
     "output_type": "stream",
     "text": [
      "1 molecule converted\n"
     ]
    },
    {
     "name": "stdout",
     "output_type": "stream",
     "text": [
      "******done.\n"
     ]
    },
    {
     "name": "stderr",
     "output_type": "stream",
     "text": [
      "WARNING: At low exhaustiveness, it may be impossible to utilize all CPUs.\n"
     ]
    },
    {
     "name": "stdout",
     "output_type": "stream",
     "text": [
      "Performing docking (random seed: -2144388448) ... *\n",
      "0%   10   20   30   40   50   60   70   80   90   100%\n",
      "|----|----|----|----|----|----|----|----|----|----|\n",
      "*************\n",
      "mode |   affinity | dist from best mode\n",
      "     | (kcal/mol) | rmsd l.b.| rmsd u.b.\n",
      "-----+------------+----------+----------\n",
      "   1       -9.454          0          0\n",
      "   2        -9.28      1.434      2.121\n",
      "   3       -8.535      3.085      7.026\n",
      "   4       -8.465      2.966      7.173\n",
      "   5       -8.462      1.388      1.489\n",
      "   6        -8.37      2.181       3.25\n",
      "   7       -8.304      3.253      7.094\n",
      "   8       -8.291      3.187      6.958\n",
      "   9       -8.135      2.139       2.96\n",
      "  10       -7.784      3.164      5.003\n",
      "  11       -7.653      3.093      6.717\n",
      "  12       -7.531      3.237      5.997\n",
      "  13       -7.387       3.35      6.793\n",
      "  14       -7.347      3.122      7.057\n",
      "  15       -7.308      2.943        5.9\n",
      "  16       -7.219      2.995      5.974\n",
      "  17       -7.201      3.208      7.322\n",
      "  18       -7.137      3.133       6.22\n",
      "  19       -7.081      3.259      7.534\n",
      "***************************done.\n",
      "**Performing docking (random seed: -219361970) ... *"
     ]
    },
    {
     "name": "stderr",
     "output_type": "stream",
     "text": [
      "WARNING: At low exhaustiveness, it may be impossible to utilize all CPUs.\n"
     ]
    },
    {
     "name": "stdout",
     "output_type": "stream",
     "text": [
      "\n",
      "0%   10   20   30   40   50   60   70   80   90   100%\n",
      "|----|----|----|----|----|----|----|----|----|----|\n",
      "**********************************************************************************************************\n",
      "**"
     ]
    },
    {
     "name": "stderr",
     "output_type": "stream",
     "text": [
      "1 molecule converted\n",
      "1 molecule converted\n"
     ]
    },
    {
     "name": "stdout",
     "output_type": "stream",
     "text": [
      "**"
     ]
    },
    {
     "name": "stderr",
     "output_type": "stream",
     "text": [
      "1 molecule converted\n",
      "1 molecule converted\n"
     ]
    },
    {
     "name": "stdout",
     "output_type": "stream",
     "text": [
      "here\n",
      "CC(C)CC1(C)CCN(C(=O)Cc2cncc3ccccc23)CC1 SARS-CoV-2 Mpro\n",
      "Processing /home/xchen/Work/asap-polaris-blind-challenge-examples/SMILESopt/xtbopt_00140.xyz in docking/140\n",
      "**"
     ]
    },
    {
     "name": "stderr",
     "output_type": "stream",
     "text": [
      "1 molecule converted\n"
     ]
    },
    {
     "name": "stdout",
     "output_type": "stream",
     "text": [
      "******\n",
      "**"
     ]
    },
    {
     "name": "stderr",
     "output_type": "stream",
     "text": [
      "1 molecule converted\n",
      "1 molecule converted\n",
      "1 molecule converted\n"
     ]
    },
    {
     "name": "stdout",
     "output_type": "stream",
     "text": [
      "here\n",
      "O=C(Cc1cncc2ccccc12)N1CC=CCCC1 MERS-CoV Mpro**\n",
      "Processing /home/xchen/Work/asap-polaris-blind-challenge-examples/SMILESopt/xtbopt_00179.xyz in docking/179\n"
     ]
    },
    {
     "name": "stderr",
     "output_type": "stream",
     "text": [
      "1 molecule converted\n",
      "1 molecule converted\n"
     ]
    },
    {
     "name": "stdout",
     "output_type": "stream",
     "text": [
      "*\n",
      "***"
     ]
    },
    {
     "name": "stderr",
     "output_type": "stream",
     "text": [
      "1 molecule converted\n",
      "1 molecule converted\n",
      "1 molecule converted\n"
     ]
    },
    {
     "name": "stdout",
     "output_type": "stream",
     "text": [
      "here\n",
      "O=C(Cc1cncc2ccccc12)N1CC=CC=CC1 SARS-CoV-2 Mpro*\n",
      "Processing /home/xchen/Work/asap-polaris-blind-challenge-examples/SMILESopt/xtbopt_00171.xyz in docking/171\n"
     ]
    },
    {
     "name": "stderr",
     "output_type": "stream",
     "text": [
      "1 molecule converted\n",
      "1 molecule converted\n"
     ]
    },
    {
     "name": "stdout",
     "output_type": "stream",
     "text": [
      "*\n",
      "mode |   affinity | dist from best mode\n",
      "     | (kcal/mol) | rmsd l.b.| rmsd u.b.\n",
      "-----+------------+----------+----------\n",
      "   1       -7.517          0          0\n",
      "   2       -7.458      1.376      1.755\n",
      "   3       -7.393      2.988      7.461\n",
      "   4       -7.377      3.352      6.597\n",
      "   5       -7.357      2.322      3.633\n",
      "   6       -7.311       3.24      5.544\n",
      "   7       -7.304      3.005       6.32\n",
      "   8        -7.27      2.969      7.475\n",
      "   9        -7.22      3.161      6.055\n",
      "  10       -7.198       2.76      4.276\n",
      "  11       -7.177      3.565      7.619\n",
      "  12       -7.151       3.55      7.764\n",
      "  13        -7.13      2.724      5.312\n",
      "  14       -7.083       2.36      2.911\n",
      "  15       -7.082      2.673      6.617\n",
      "  16       -7.043      1.415      1.914\n",
      "  17       -7.009      3.746      7.469\n",
      "  18       -6.987      2.955      6.905\n",
      "  19        -6.98      3.558      7.554\n",
      "  20       -6.905      3.408      7.398\n",
      "Computing Vina grid ... *\n",
      "mode |   affinity | dist from best mode\n",
      "     | (kcal/mol) | rmsd l.b.| rmsd u.b.\n",
      "-----+------------+----------+----------\n",
      "   1       -7.091          0          0\n",
      "   2       -7.075      3.932      4.713\n",
      "   3       -6.901      2.636      3.102\n",
      "   4       -6.827       4.07      7.703\n",
      "   5       -6.691      5.144      7.094\n",
      "   6       -6.643      3.891      7.472\n",
      "   7       -6.559      4.385      6.584\n",
      "   8       -6.497      4.728      6.985\n",
      "   9       -6.432      4.724      6.818\n",
      "  10       -6.362      3.804      7.257\n",
      "  11       -6.336      4.331      7.599\n",
      "  12       -6.323      4.006       7.09\n",
      "  13       -6.307      4.962      6.865\n",
      "  14       -6.283      4.577      6.408\n",
      "  15       -6.272      3.917       4.75\n",
      "  16       -6.271      3.938      6.829\n",
      "  17       -6.266      3.572      4.535\n",
      "  18        -6.22      6.952       10.5\n",
      "  19       -6.171       4.36      6.799\n",
      "  20       -6.102      3.304      4.186\n",
      "Computing Vina grid ... *\n",
      "**"
     ]
    },
    {
     "name": "stderr",
     "output_type": "stream",
     "text": [
      "1 molecule converted\n",
      "1 molecule converted\n",
      "1 molecule converted\n"
     ]
    },
    {
     "name": "stdout",
     "output_type": "stream",
     "text": [
      "here\n",
      "C[C@H]1CN(c2cncc3ccccc23)C(=O)[C@@]12CN(Cc1ccnn1C)C(=O)c1ccc(F)cc12 MERS-CoV Mpro\n",
      "Processing /home/xchen/Work/asap-polaris-blind-challenge-examples/SMILESopt/xtbopt_00159.xyz in docking/159\n"
     ]
    },
    {
     "name": "stderr",
     "output_type": "stream",
     "text": [
      "1 molecule converted\n"
     ]
    },
    {
     "name": "stdout",
     "output_type": "stream",
     "text": [
      "**"
     ]
    },
    {
     "name": "stderr",
     "output_type": "stream",
     "text": [
      "1 molecule converted\n"
     ]
    },
    {
     "name": "stdout",
     "output_type": "stream",
     "text": [
      "*\n",
      "mode |   affinity | dist from best mode\n",
      "     | (kcal/mol) | rmsd l.b.| rmsd u.b.\n",
      "-----+------------+----------+----------\n",
      "   1       -8.942          0          0\n",
      "   2       -8.853      2.411      7.611\n",
      "   3       -8.799      3.413      7.932\n",
      "   4       -8.738      1.716       2.75\n",
      "   5        -8.73      3.461      8.822\n",
      "   6       -8.693      3.407      8.595\n",
      "   7       -8.447      3.126      5.231\n",
      "   8       -8.377      3.929      6.155\n",
      "   9       -8.354      4.724      8.257\n",
      "  10       -8.322      2.073      3.396\n",
      "  11       -8.212      2.655      8.453\n",
      "  12       -8.208      4.574      8.047\n",
      "  13       -8.191      4.522      8.265\n",
      "  14       -8.128      3.534       5.41\n",
      "  15       -8.127      3.278      8.062\n",
      "  16       -8.037      3.063      5.029\n",
      "  17       -8.037      3.322      5.087\n",
      "  18           -8      3.096      8.159\n",
      "  19       -7.993      4.365      8.032\n",
      "  20       -7.988      2.737      8.077\n",
      "**done.ng Vina grid ... \n",
      "Performing docking (random seed: -1560043484) ... \n",
      "0%   10   20   30   40   50   60   70   80   90   100%\n",
      "|----|----|----|----|----|----|----|----|----|----|\n",
      "**"
     ]
    },
    {
     "name": "stderr",
     "output_type": "stream",
     "text": [
      "WARNING: At low exhaustiveness, it may be impossible to utilize all CPUs.\n"
     ]
    },
    {
     "name": "stdout",
     "output_type": "stream",
     "text": [
      "*done.\n",
      "Performing docking (random seed: 816495452) ... \n",
      "0%   10   20   30   40   50   60   70   80   90   100%\n",
      "|----|----|----|----|----|----|----|----|----|----|\n",
      "***"
     ]
    },
    {
     "name": "stderr",
     "output_type": "stream",
     "text": [
      "WARNING: At low exhaustiveness, it may be impossible to utilize all CPUs.\n"
     ]
    },
    {
     "name": "stdout",
     "output_type": "stream",
     "text": [
      "**************\n",
      "mode |   affinity | dist from best mode\n",
      "     | (kcal/mol) | rmsd l.b.| rmsd u.b.\n",
      "-----+------------+----------+----------\n",
      "   1        -7.38          0          0\n",
      "   2       -7.181      2.395      3.342\n",
      "   3       -7.014      1.753      2.896\n",
      "   4       -6.983      1.463      2.288\n",
      "   5       -6.962      2.306      7.725\n",
      "   6       -6.894      1.223      1.624\n",
      "   7       -6.807      1.955      7.672\n",
      "   8       -6.699        1.7      7.318\n",
      "   9        -6.67      2.719      4.794\n",
      "  10       -6.618       1.78      6.265\n",
      "  11        -6.61      1.806      2.886\n",
      "  12       -6.568      1.488      7.146\n",
      "  13       -6.556      2.145      3.039\n",
      "  14       -6.535      2.491      4.374\n",
      "  15       -6.406      3.464      5.146\n",
      "  16       -6.389      2.557      4.186\n",
      "  17       -6.375      2.189      3.699\n",
      "  18       -6.337      1.833      2.417\n",
      "  19        -6.29      2.257      3.269\n",
      "  20       -6.218      1.906      2.754\n",
      "*******done.na grid ... *\n",
      "Performing docking (random seed: -1469816113) ... \n",
      "0%   10   20   30   40   50   60   70   80   90   100%\n",
      "|----|----|----|----|----|----|----|----|----|----|\n",
      "***"
     ]
    },
    {
     "name": "stderr",
     "output_type": "stream",
     "text": [
      "WARNING: At low exhaustiveness, it may be impossible to utilize all CPUs.\n"
     ]
    },
    {
     "name": "stdout",
     "output_type": "stream",
     "text": [
      "*******************************************done.\n",
      "Performing docking (random seed: 33322723) ... *\n",
      "0%   10   20   30   40   50   60   70   80   90   100%\n",
      "|----|----|----|----|----|----|----|----|----|----|\n",
      "**"
     ]
    },
    {
     "name": "stderr",
     "output_type": "stream",
     "text": [
      "WARNING: At low exhaustiveness, it may be impossible to utilize all CPUs.\n"
     ]
    },
    {
     "name": "stdout",
     "output_type": "stream",
     "text": [
      "*********************************************************************************************************\n",
      "**"
     ]
    },
    {
     "name": "stderr",
     "output_type": "stream",
     "text": [
      "1 molecule converted\n",
      "1 molecule converted\n"
     ]
    },
    {
     "name": "stdout",
     "output_type": "stream",
     "text": [
      "**here\n",
      "C[C@H]1CN(c2cncc3ccccc23)C(=O)[C@@]12CN(CC[NH+]1CCC1)C(=O)c1ccc(Cl)cc12 "
     ]
    },
    {
     "name": "stderr",
     "output_type": "stream",
     "text": [
      "1 molecule converted\n",
      "1 molecule converted\n"
     ]
    },
    {
     "name": "stdout",
     "output_type": "stream",
     "text": [
      "MERS-CoV Mpro\n",
      "Processing /home/xchen/Work/asap-polaris-blind-challenge-examples/SMILESopt/xtbopt_00180.xyz in docking/180\n",
      "**"
     ]
    },
    {
     "name": "stderr",
     "output_type": "stream",
     "text": [
      "1 molecule converted\n"
     ]
    },
    {
     "name": "stdout",
     "output_type": "stream",
     "text": [
      "******\n",
      "**"
     ]
    },
    {
     "name": "stderr",
     "output_type": "stream",
     "text": [
      "1 molecule converted\n",
      "1 molecule converted\n"
     ]
    },
    {
     "name": "stdout",
     "output_type": "stream",
     "text": [
      "here\n",
      "CNC(=O)CN1C[C@@]2(C(=O)N(c3cncc4ccccc34)C[C@@H]2CNc2cnccn2)c2cc(Cl)ccc2C1=O SARS-CoV-2 Mpro"
     ]
    },
    {
     "name": "stderr",
     "output_type": "stream",
     "text": [
      "1 molecule converted\n",
      "1 molecule converted\n"
     ]
    },
    {
     "name": "stdout",
     "output_type": "stream",
     "text": [
      "\n",
      "Processing /home/xchen/Work/asap-polaris-blind-challenge-examples/SMILESopt/xtbopt_00154.xyz in docking/154\n",
      "****"
     ]
    },
    {
     "name": "stderr",
     "output_type": "stream",
     "text": [
      "1 molecule converted\n"
     ]
    },
    {
     "name": "stdout",
     "output_type": "stream",
     "text": [
      "*\n",
      "**\n",
      "*"
     ]
    },
    {
     "name": "stderr",
     "output_type": "stream",
     "text": [
      "1 molecule converted\n",
      "1 molecule converted\n",
      "1 molecule converted\n"
     ]
    },
    {
     "name": "stdout",
     "output_type": "stream",
     "text": [
      "here**\n",
      "COc1ccccc1[C@H]1C[C@@H](C)CCN1C(=O)Cc1cncc2ccccc12 SARS-CoV-2 Mpro\n",
      "Processing /home/xchen/Work/asap-polaris-blind-challenge-examples/SMILESopt/xtbopt_00172.xyz in docking/172\n"
     ]
    },
    {
     "name": "stderr",
     "output_type": "stream",
     "text": [
      "1 molecule converted\n",
      "1 molecule converted\n",
      "1 molecule converted\n",
      "1 molecule converted\n"
     ]
    },
    {
     "name": "stdout",
     "output_type": "stream",
     "text": [
      "*\n",
      "mode |   affinity | dist from best mode\n",
      "     | (kcal/mol) | rmsd l.b.| rmsd u.b.\n",
      "-----+------------+----------+----------\n",
      "   1       -7.123          0          0\n",
      "   2       -7.086      2.483      3.523\n",
      "   3       -7.079      2.425      3.714\n",
      "   4       -7.074      2.465      3.788\n",
      "   5        -7.03      2.859      3.956\n",
      "   6       -7.026      2.291      2.849\n",
      "   7       -6.992      2.962      5.787\n",
      "   8       -6.988      3.669      6.697\n",
      "   9        -6.86      3.964      6.707\n",
      "  10       -6.855       2.62      4.202\n",
      "  11       -6.775      2.751      4.029\n",
      "  12        -6.65      3.613      6.958\n",
      "  13       -6.641      2.581      3.971\n",
      "  14       -6.612      4.149      7.744\n",
      "  15       -6.607      3.605      6.353\n",
      "  16       -6.546      2.205       6.44\n",
      "  17       -6.498       2.67      4.172\n",
      "  18       -6.444      3.555      5.518\n",
      "  19       -6.431       2.37      6.366\n",
      "  20       -6.378      3.131      5.151\n",
      "hereuting Vina grid ... \n",
      "CNC(=O)C1(N2C[C@@]3(C(=O)N(c4cncc5ccccc45)C[C@@H]3C)c3cc(Cl)ccc3C2=O)CC1 SARS-CoV-2 Mpro\n",
      "Processing /home/xchen/Work/asap-polaris-blind-challenge-examples/SMILESopt/xtbopt_00166.xyz in docking/166\n"
     ]
    },
    {
     "name": "stderr",
     "output_type": "stream",
     "text": [
      "1 molecule converted\n",
      "1 molecule converted\n"
     ]
    },
    {
     "name": "stdout",
     "output_type": "stream",
     "text": [
      "*"
     ]
    },
    {
     "name": "stderr",
     "output_type": "stream",
     "text": [
      "1 molecule converted\n"
     ]
    },
    {
     "name": "stdout",
     "output_type": "stream",
     "text": [
      "********\n",
      "mode |   affinity | dist from best mode\n",
      "     | (kcal/mol) | rmsd l.b.| rmsd u.b.\n",
      "-----+------------+----------+----------\n",
      "   1       -8.173          0          0\n",
      "   2       -7.805      3.871      8.078\n",
      "   3       -7.765      2.923      4.528\n",
      "   4       -7.703      3.284      4.967\n",
      "   5       -7.658      3.719      5.678\n",
      "   6        -7.52       3.15       4.86\n",
      "   7        -7.47      1.699      2.372\n",
      "   8       -7.319      1.913       7.93\n",
      "   9       -7.298      3.232      9.192\n",
      "  10       -7.289      2.856      4.792\n",
      "  11       -7.259      3.901      7.952\n",
      "  12       -7.256      2.137      3.047\n",
      "  13       -7.248      3.157      4.902\n",
      "  14       -7.159      4.096      7.488\n",
      "  15       -7.124      2.843      4.317\n",
      "  16       -7.121      3.033      4.668\n",
      "  17       -7.097      2.952      4.607\n",
      "  18       -6.912      4.182      6.343\n",
      "  19       -6.897      3.613      5.051\n",
      "  20       -6.873      2.539      4.561\n",
      "**mputing Vina grid ... \n",
      "\n",
      "mode |   affinity | dist from best mode\n",
      "     | (kcal/mol) | rmsd l.b.| rmsd u.b.\n",
      "-----+------------+----------+----------\n",
      "   1       -9.086          0          0\n",
      "   2        -8.79      3.779      7.678\n",
      "   3       -8.486      2.702      8.214\n",
      "   4       -8.446      2.806      4.232\n",
      "   5       -8.429      2.886      4.662\n",
      "   6       -8.372      2.547      7.851\n",
      "   7       -8.282       1.58      2.052\n",
      "   8       -8.158      2.541      3.945\n",
      "   9       -8.097      4.127      8.052\n",
      "  10       -8.095      2.759      7.419\n",
      "  11       -7.912      2.889      4.186\n",
      "  12       -7.903      3.392      5.675\n",
      "  13       -7.875      2.978      7.926\n",
      "  14       -7.847      3.206      5.621\n",
      "  15       -7.786       2.64      7.857\n",
      "  16       -7.734      3.513       5.39\n",
      "  17       -7.726      2.289      3.789\n",
      "  18       -7.693      1.482      2.759\n",
      "  19       -7.634       2.59      7.939\n",
      "  20       -7.515      3.007      7.662\n",
      "Computing Vina grid ... **\n",
      "done.\n"
     ]
    },
    {
     "name": "stderr",
     "output_type": "stream",
     "text": [
      "1 molecule converted\n",
      "WARNING: At low exhaustiveness, it may be impossible to utilize all CPUs.\n",
      "1 molecule converted\n",
      "1 molecule converted\n"
     ]
    },
    {
     "name": "stdout",
     "output_type": "stream",
     "text": [
      "*Performing docking (random seed: 1371684594) ... \n",
      "0%   10   20   30   40   50   60   70   80   90   100%\n",
      "|----|----|----|----|----|----|----|----|----|----|\n",
      "*\n",
      "mode |   affinity | dist from best mode\n",
      "     | (kcal/mol) | rmsd l.b.| rmsd u.b.\n",
      "-----+------------+----------+----------\n",
      "   1       -7.342          0          0\n",
      "   2       -6.925      1.603      2.385\n",
      "   3       -6.714      1.398      2.352\n",
      "   4       -6.616      3.349      3.983\n",
      "   5       -6.458      4.521      6.745\n",
      "   6       -6.437      2.479      3.576\n",
      "   7       -6.339      4.116      7.129\n",
      "   8       -6.273      6.803      7.663\n",
      "   9       -6.254      1.995      6.718\n",
      "  10       -6.224       5.26      7.195\n",
      "  11       -6.223       2.46      6.924\n",
      "  12       -6.186      1.779       7.07\n",
      "  13       -6.059      5.083      6.838\n",
      "  14       -6.056      5.209      6.283\n",
      "  15       -6.036       4.01      5.252\n",
      "  16       -6.021      6.059      7.116\n",
      "  17       -5.971      2.339      7.395\n",
      "  18       -5.948      6.778       8.96\n",
      "  19       -5.841       4.56      8.468\n",
      "  20       -5.726      6.556      7.573\n",
      "hereuting Vina grid ... \n",
      "C[C@H]1CN(c2cncc3ccccc23)C(=O)[C@@]12CN(Cc1cn[nH]c1)C(=O)c1ccc(F)cc12 MERS-CoV Mpro\n",
      "Processing /home/xchen/Work/asap-polaris-blind-challenge-examples/SMILESopt/xtbopt_00184.xyz in docking/184\n"
     ]
    },
    {
     "name": "stderr",
     "output_type": "stream",
     "text": [
      "1 molecule converted\n",
      "1 molecule converted\n",
      "1 molecule converted\n",
      "1 molecule converted\n",
      "1 molecule converted\n"
     ]
    },
    {
     "name": "stdout",
     "output_type": "stream",
     "text": [
      "*"
     ]
    },
    {
     "name": "stderr",
     "output_type": "stream",
     "text": [
      "1 molecule converted\n"
     ]
    },
    {
     "name": "stdout",
     "output_type": "stream",
     "text": [
      "*********done.\n",
      "Performing docking (random seed: -1780787615) ... \n",
      "0%   10   20   30   40   50   60   70   80   90   100%\n",
      "|----|----|----|----|----|----|----|----|----|----|\n",
      "*"
     ]
    },
    {
     "name": "stderr",
     "output_type": "stream",
     "text": [
      "WARNING: At low exhaustiveness, it may be impossible to utilize all CPUs.\n"
     ]
    },
    {
     "name": "stdout",
     "output_type": "stream",
     "text": [
      "*done.\n",
      "*Performing docking (random seed: -1558119429) ... "
     ]
    },
    {
     "name": "stderr",
     "output_type": "stream",
     "text": [
      "WARNING: At low exhaustiveness, it may be impossible to utilize all CPUs.\n",
      "WARNING: At low exhaustiveness, it may be impossible to utilize all CPUs.\n"
     ]
    },
    {
     "name": "stdout",
     "output_type": "stream",
     "text": [
      "done.\n",
      "\n",
      "0%   10   20   30   40   50   60   70   80   90   100%\n",
      "|----|----|----|----|----|----|----|----|----|----|\n",
      "*Performing docking (random seed: 1681140466) ... **\n",
      "0%   10   20   30   40   50   60   70   80   90   100%\n",
      "|----|----|----|----|----|----|----|----|----|----|\n",
      "*\n",
      "mode |   affinity | dist from best mode\n",
      "     | (kcal/mol) | rmsd l.b.| rmsd u.b.\n",
      "-----+------------+----------+----------\n",
      "   1       -9.336          0          0\n",
      "   2       -9.157     0.9933      1.305\n",
      "   3       -8.661     0.8738      2.105\n",
      "   4       -8.458      3.549      6.288\n",
      "   5        -8.37      2.824      8.202\n",
      "   6        -8.29      2.858      6.858\n",
      "   7       -8.229      2.967       7.13\n",
      "   8       -7.851      2.058      2.908\n",
      "   9       -7.827      2.919      6.387\n",
      "  10       -7.827      3.308      6.429\n",
      "  11       -7.817      4.229      7.826\n",
      "  12       -7.814      3.223      5.854\n",
      "  13       -7.755      3.195      7.173\n",
      "  14       -7.741      3.249       5.59\n",
      "  15       -7.657       3.29      6.403\n",
      "  16       -7.544      2.147      3.516\n",
      "  17       -7.543      3.745       6.57\n",
      "  18       -7.524      3.488      7.214\n",
      "  19       -7.448      3.078      6.133\n",
      "  20       -7.422      5.832      9.608\n",
      "*******************************done.\n",
      "*\n",
      "*Performing docking (random seed: 96085823) ... \n",
      "0%   10   20   30   40   50   60   70   80   90   100%\n",
      "|----|----|----|----|----|----|----|----|----|----|\n",
      "**"
     ]
    },
    {
     "name": "stderr",
     "output_type": "stream",
     "text": [
      "WARNING: At low exhaustiveness, it may be impossible to utilize all CPUs.\n"
     ]
    },
    {
     "name": "stdout",
     "output_type": "stream",
     "text": [
      "****"
     ]
    },
    {
     "name": "stderr",
     "output_type": "stream",
     "text": [
      "1 molecule converted\n"
     ]
    },
    {
     "name": "stdout",
     "output_type": "stream",
     "text": [
      "*"
     ]
    },
    {
     "name": "stderr",
     "output_type": "stream",
     "text": [
      "1 molecule converted\n",
      "1 molecule converted\n"
     ]
    },
    {
     "name": "stdout",
     "output_type": "stream",
     "text": [
      "**here\n"
     ]
    },
    {
     "name": "stderr",
     "output_type": "stream",
     "text": [
      "1 molecule converted\n"
     ]
    },
    {
     "name": "stdout",
     "output_type": "stream",
     "text": [
      "CNS(=O)(=O)OCC(=O)N[C@@H](C)c1cc(Cl)cc(-c2ccc(S(N)(=O)=O)cc2)c1 SARS-CoV-2 Mpro\n",
      "Processing /home/xchen/Work/asap-polaris-blind-challenge-examples/SMILESopt/xtbopt_00191.xyz in docking/191\n",
      "**"
     ]
    },
    {
     "name": "stderr",
     "output_type": "stream",
     "text": [
      "1 molecule converted\n"
     ]
    },
    {
     "name": "stdout",
     "output_type": "stream",
     "text": [
      "*********************************\n",
      "mode |   affinity | dist from best mode\n",
      "     | (kcal/mol) | rmsd l.b.| rmsd u.b.\n",
      "-----+------------+----------+----------\n",
      "   1        -8.43          0          0\n",
      "   2       -8.282      1.038      1.346\n",
      "   3       -7.852      3.857      7.589\n",
      "   4       -7.766      1.619      2.345\n",
      "   5       -7.753      3.565      7.725\n",
      "   6       -7.652      3.498      7.792\n",
      "   7        -7.53      3.785      7.672\n",
      "   8       -7.461      2.771      6.833\n",
      "   9       -7.248      3.177      6.664\n",
      "  10       -7.231      3.026      7.171\n",
      "  11       -7.185      3.291      7.256\n",
      "  12       -7.142      3.307      7.183\n",
      "  13       -7.057      2.861      6.665\n",
      "  14       -6.989      4.437      7.835\n",
      "  15       -6.929          3      4.901\n",
      "  16       -6.853      2.759       6.44\n",
      "  17       -6.834      2.278      7.115\n",
      "  18       -6.809      4.232       5.89\n",
      "  19       -6.757      3.798      7.959\n",
      "  20       -6.542      3.956       7.84\n",
      "************************************done.\n",
      "*Performing docking (random seed: -221238427) ... \n",
      "0%   10   20   30   40   50   60   70   80   90   100%\n",
      "|----|----|----|----|----|----|----|----|----|----|\n",
      "**"
     ]
    },
    {
     "name": "stderr",
     "output_type": "stream",
     "text": [
      "WARNING: At low exhaustiveness, it may be impossible to utilize all CPUs.\n"
     ]
    },
    {
     "name": "stdout",
     "output_type": "stream",
     "text": [
      "**********************************************************************************\n",
      "******"
     ]
    },
    {
     "name": "stderr",
     "output_type": "stream",
     "text": [
      "1 molecule converted\n"
     ]
    },
    {
     "name": "stdout",
     "output_type": "stream",
     "text": [
      "*"
     ]
    },
    {
     "name": "stderr",
     "output_type": "stream",
     "text": [
      "1 molecule converted\n",
      "1 molecule converted\n"
     ]
    },
    {
     "name": "stdout",
     "output_type": "stream",
     "text": [
      "*here\n",
      "Cc1nc(CN2C[C@@]3(C(=O)N(c4cncc5ccccc45)C[C@@H]3C)c3cc(F)ccc3C2=O)co1 MERS-CoV Mpro\n",
      "Processing /home/xchen/Work/asap-polaris-blind-challenge-examples/SMILESopt/xtbopt_00160.xyz in docking/160"
     ]
    },
    {
     "name": "stderr",
     "output_type": "stream",
     "text": [
      "1 molecule converted\n"
     ]
    },
    {
     "name": "stdout",
     "output_type": "stream",
     "text": [
      "\n",
      "***"
     ]
    },
    {
     "name": "stderr",
     "output_type": "stream",
     "text": [
      "1 molecule converted\n"
     ]
    },
    {
     "name": "stdout",
     "output_type": "stream",
     "text": [
      "*********************************\n",
      "mode |   affinity | dist from best mode\n",
      "     | (kcal/mol) | rmsd l.b.| rmsd u.b.\n",
      "-----+------------+----------+----------\n",
      "   1       -9.482          0          0\n",
      "   2        -9.02      3.166      5.599\n",
      "   3       -8.991      3.303      5.852\n",
      "   4        -8.88      1.527      2.313\n",
      "   5       -8.783      3.528      7.263\n",
      "   6       -8.605      1.113      1.382\n",
      "   7        -8.57      3.164      6.981\n",
      "   8       -8.563      3.739      8.326\n",
      "   9       -8.485      2.986       7.41\n",
      "  10       -8.319      3.454       6.85\n",
      "  11       -8.297      3.119      7.719\n",
      "  12       -8.143      4.609      8.946\n",
      "  13        -8.13      3.842      7.721\n",
      "  14        -8.07      2.864      7.106\n",
      "  15        -8.06      2.458      6.513\n",
      "  16       -7.588      3.501      6.411\n",
      "  17       -7.575      3.542      6.458\n",
      "  18       -7.569      3.986      7.673\n",
      "  19       -7.498      3.076      6.281\n",
      "  20       -7.474      2.882      7.432\n",
      "*********************done.\n",
      "Performing docking (random seed: 1412458952) ... \n",
      "0%   10   20   30   40   50   60   70   80   90   100%\n",
      "|----|----|----|----|----|----|----|----|----|----|\n",
      "*"
     ]
    },
    {
     "name": "stderr",
     "output_type": "stream",
     "text": [
      "WARNING: At low exhaustiveness, it may be impossible to utilize all CPUs.\n"
     ]
    },
    {
     "name": "stdout",
     "output_type": "stream",
     "text": [
      "*******\n",
      "***"
     ]
    },
    {
     "name": "stderr",
     "output_type": "stream",
     "text": [
      "1 molecule converted\n",
      "1 molecule converted\n"
     ]
    },
    {
     "name": "stdout",
     "output_type": "stream",
     "text": [
      "here\n",
      "NS(=O)(=O)c1ccc2c(c1)[C@@]1(CCO2)NC(=O)N(c2cncc3ccccc23)C1=O"
     ]
    },
    {
     "name": "stderr",
     "output_type": "stream",
     "text": [
      "1 molecule converted\n",
      "1 molecule converted\n"
     ]
    },
    {
     "name": "stdout",
     "output_type": "stream",
     "text": [
      " SARS-CoV-2 Mpro\n",
      "Processing /home/xchen/Work/asap-polaris-blind-challenge-examples/SMILESopt/xtbopt_00173.xyz in docking/173\n",
      "***"
     ]
    },
    {
     "name": "stderr",
     "output_type": "stream",
     "text": [
      "1 molecule converted\n"
     ]
    },
    {
     "name": "stdout",
     "output_type": "stream",
     "text": [
      "*\n",
      "*"
     ]
    },
    {
     "name": "stderr",
     "output_type": "stream",
     "text": [
      "1 molecule converted\n",
      "1 molecule converted\n"
     ]
    },
    {
     "name": "stdout",
     "output_type": "stream",
     "text": [
      "**\n",
      "*"
     ]
    },
    {
     "name": "stderr",
     "output_type": "stream",
     "text": [
      "1 molecule converted\n",
      "1 molecule converted\n"
     ]
    },
    {
     "name": "stdout",
     "output_type": "stream",
     "text": [
      "here\n",
      "CC1(C)CCN(C(=O)Cc2cncc3ccccc23)CC1 *SARS-CoV-2 Mpro\n",
      "Processing /home/xchen/Work/asap-polaris-blind-challenge-examples/SMILESopt/xtbopt_00181.xyz in docking/181\n"
     ]
    },
    {
     "name": "stderr",
     "output_type": "stream",
     "text": [
      "1 molecule converted\n",
      "1 molecule converted\n",
      "1 molecule converted\n",
      "1 molecule converted\n"
     ]
    },
    {
     "name": "stdout",
     "output_type": "stream",
     "text": [
      "here\n",
      "C[C@H]1CN(c2cncc3ccccc23)C(=O)[C@@]12CN(Cc1cocn1)C(=O)c1ccc(F)cc12 MERS-CoV Mpro\n",
      "Processing /home/xchen/Work/asap-polaris-blind-challenge-examples/SMILESopt/xtbopt_00167.xyz in docking/167\n",
      "***\n"
     ]
    },
    {
     "name": "stderr",
     "output_type": "stream",
     "text": [
      "1 molecule converted\n",
      "1 molecule converted\n"
     ]
    },
    {
     "name": "stdout",
     "output_type": "stream",
     "text": [
      "**"
     ]
    },
    {
     "name": "stderr",
     "output_type": "stream",
     "text": [
      "1 molecule converted\n",
      "1 molecule converted\n"
     ]
    },
    {
     "name": "stdout",
     "output_type": "stream",
     "text": [
      "*here\n",
      "COC[C@H]1CN(c2cncc3ccccc23)C(=O)[C@@]12CN(Cc1cn[nH]c1)C(=O)c1ccc(Cl)cc12"
     ]
    },
    {
     "name": "stderr",
     "output_type": "stream",
     "text": [
      "1 molecule converted\n",
      "1 molecule converted\n"
     ]
    },
    {
     "name": "stdout",
     "output_type": "stream",
     "text": [
      " SARS-CoV-2 Mpro\n",
      "Processing /home/xchen/Work/asap-polaris-blind-challenge-examples/SMILESopt/xtbopt_00185.xyz in docking/185\n",
      "*"
     ]
    },
    {
     "name": "stderr",
     "output_type": "stream",
     "text": [
      "1 molecule converted\n"
     ]
    },
    {
     "name": "stdout",
     "output_type": "stream",
     "text": [
      "**\n",
      "mode |   affinity | dist from best mode\n",
      "     | (kcal/mol) | rmsd l.b.| rmsd u.b.\n",
      "-----+------------+----------+----------\n",
      "   1       -7.528          0          0\n",
      "   2       -7.476      1.719      4.032\n",
      "   3       -7.358       1.52      1.993\n",
      "   4       -7.294      2.053      5.738\n",
      "   5       -7.278      2.355      5.543\n",
      "   6       -7.257      2.025      6.331\n",
      "   7       -7.124      2.151      6.067\n",
      "   8       -7.094      2.069      5.932\n",
      "   9       -6.999      1.993      6.019\n",
      "  10        -6.96      2.077      6.188\n",
      "  11        -6.93      2.403      4.785\n",
      "  12       -6.909      2.259      6.136\n",
      "  13       -6.861      1.995      5.697\n",
      "  14       -6.856      4.045      7.464\n",
      "  15       -6.835      2.141      6.356\n",
      "  16         -6.8      1.439      2.102\n",
      "  17       -6.799      2.292       5.64\n",
      "  18       -6.644      2.107      6.651\n",
      "  19       -6.574      2.048       5.65\n",
      "  20        -6.57      2.288      6.227\n",
      "*omputing Vina grid ... \n",
      "mode |   affinity | dist from best mode\n",
      "     | (kcal/mol) | rmsd l.b.| rmsd u.b.\n",
      "-----+------------+----------+----------\n",
      "   1       -8.415          0          0\n",
      "   2       -7.931      1.931      7.454\n",
      "   3       -7.871      1.282      2.058\n",
      "   4       -7.711      3.545      7.167\n",
      "   5       -7.708      3.383      4.942\n",
      "   6       -7.702      4.381      7.946\n",
      "   7       -7.606      3.382        5.3\n",
      "   8       -7.566      2.989       7.39\n",
      "   9       -7.446      2.808      5.308\n",
      "  10       -7.409      3.041      7.427\n",
      "  11        -7.39      3.381      7.495\n",
      "  12       -7.314      2.916      5.342\n",
      "  13       -7.311      3.617       8.97\n",
      "  14       -7.207      2.057      7.321\n",
      "  15       -7.204      3.359      5.142\n",
      "  16       -7.201      4.018      7.687\n",
      "  17       -7.118      4.627      7.189\n",
      "  18       -6.983      3.631      5.247\n",
      "  19       -6.978      3.116      5.082\n",
      "  20         -6.8      2.454      7.618\n",
      "*******ng Vina grid ... \n",
      "mode |   affinity | dist from best mode\n",
      "     | (kcal/mol) | rmsd l.b.| rmsd u.b.\n",
      "-----+------------+----------+----------\n",
      "   1       -8.747          0          0\n",
      "   2         -8.3      3.714      4.901\n",
      "   3        -7.94      3.905      6.861\n",
      "   4       -7.852      3.251      4.455\n",
      "   5       -7.839      5.623      8.929\n",
      "   6       -7.693      3.654      4.789\n",
      "   7       -7.676      2.699      6.693\n",
      "   8       -7.609      2.487      7.123\n",
      "   9       -7.607      4.086      6.243\n",
      "  10       -7.606      4.185      5.545\n",
      "  11       -7.519      4.411      5.857\n",
      "  12        -7.41      5.787      8.261\n",
      "  13       -7.342      3.146      4.777\n",
      "  14       -7.326      3.195      7.681\n",
      "  15       -7.265      4.932      8.165\n",
      "  16        -7.23      3.845      7.239\n",
      "  17       -7.213      5.238       7.89\n",
      "  18       -7.184      6.632      10.21\n",
      "  19       -7.084      5.796       9.36\n",
      "  20       -7.032      6.333      9.038\n",
      "****done. Vina grid ... \n",
      "Performing docking (random seed: 22647330) ... \n",
      "0%   10   20   30   40   50   60   70   80   90   100%\n",
      "|----|----|----|----|----|----|----|----|----|----|\n",
      "**"
     ]
    },
    {
     "name": "stderr",
     "output_type": "stream",
     "text": [
      "WARNING: At low exhaustiveness, it may be impossible to utilize all CPUs.\n"
     ]
    },
    {
     "name": "stdout",
     "output_type": "stream",
     "text": [
      "***\n",
      "mode |   affinity | dist from best mode\n",
      "     | (kcal/mol) | rmsd l.b.| rmsd u.b.\n",
      "-----+------------+----------+----------\n",
      "   1       -8.873          0          0\n",
      "   2       -8.661      2.885      7.917\n",
      "   3       -8.241       2.11      7.247\n",
      "   4       -8.217       2.59      4.811\n",
      "   5        -7.98      1.792      7.143\n",
      "   6       -7.957      3.359      5.106\n",
      "   7       -7.874      3.441      6.964\n",
      "   8       -7.684       2.91      7.294\n",
      "   9       -7.655      3.232      5.118\n",
      "  10       -7.615      3.656      6.805\n",
      "  11       -7.614      1.329      2.121\n",
      "  12       -7.593      3.351      5.105\n",
      "  13       -7.585      3.434      5.387\n",
      "  14       -7.542      2.339      7.324\n",
      "  15       -7.489      3.258      8.653\n",
      "  16       -7.436      4.348      7.627\n",
      "  17        -7.39      2.978      7.717\n",
      "  18       -7.218      3.268      4.953\n",
      "  19       -7.189      3.312      5.203\n",
      "  20        -7.03      3.008      5.016\n",
      "done.ting Vina grid ... *\n",
      "Performing docking (random seed: 866436373) ... *"
     ]
    },
    {
     "name": "stderr",
     "output_type": "stream",
     "text": [
      "WARNING: At low exhaustiveness, it may be impossible to utilize all CPUs.\n"
     ]
    },
    {
     "name": "stdout",
     "output_type": "stream",
     "text": [
      "*\n",
      "0%   10   20   30   40   50   60   70   80   90   100%\n",
      "|----|----|----|----|----|----|----|----|----|----|\n",
      "*********done.\n",
      "Performing docking (random seed: 1133867257) ... *\n",
      "0%   10   20   30   40   50   60   70   80   90   100%\n",
      "|----|----|----|----|----|----|----|----|----|----|\n",
      "*"
     ]
    },
    {
     "name": "stderr",
     "output_type": "stream",
     "text": [
      "WARNING: At low exhaustiveness, it may be impossible to utilize all CPUs.\n"
     ]
    },
    {
     "name": "stdout",
     "output_type": "stream",
     "text": [
      "********************************done.\n",
      "**Performing docking (random seed: -1591467096) ... \n",
      "0%   10   20   30   40   50   60   70   80   90   100%\n",
      "|----|----|----|----|----|----|----|----|----|----|\n",
      "*"
     ]
    },
    {
     "name": "stderr",
     "output_type": "stream",
     "text": [
      "WARNING: At low exhaustiveness, it may be impossible to utilize all CPUs.\n"
     ]
    },
    {
     "name": "stdout",
     "output_type": "stream",
     "text": [
      "************************************************************************************************\n",
      "**"
     ]
    },
    {
     "name": "stderr",
     "output_type": "stream",
     "text": [
      "1 molecule converted\n",
      "1 molecule converted\n"
     ]
    },
    {
     "name": "stdout",
     "output_type": "stream",
     "text": [
      "**"
     ]
    },
    {
     "name": "stderr",
     "output_type": "stream",
     "text": [
      "1 molecule converted\n",
      "1 molecule converted\n"
     ]
    },
    {
     "name": "stdout",
     "output_type": "stream",
     "text": [
      "here\n",
      "CNC(=O)CN1C[C@@]2(C(=O)N(c3cncc4ccccc34)C[C@@H]2CS(=O)(=O)NC)c2cc(F)ccc2C1=O SARS-CoV-2 Mpro\n",
      "Processing /home/xchen/Work/asap-polaris-blind-challenge-examples/SMILESopt/xtbopt_00182.xyz in docking/182\n",
      "**"
     ]
    },
    {
     "name": "stderr",
     "output_type": "stream",
     "text": [
      "1 molecule converted\n"
     ]
    },
    {
     "name": "stdout",
     "output_type": "stream",
     "text": [
      "************************************\n",
      "\n",
      "mode |   affinity | dist from best mode\n",
      "     | (kcal/mol) | rmsd l.b.| rmsd u.b.\n",
      "-----+------------+----------+----------\n",
      "   1       -7.132          0          0\n",
      "   2       -6.776      15.18      16.85\n",
      "   3       -6.769      2.352      3.068\n",
      "   4       -6.688      2.156      6.743\n",
      "   5       -6.504      3.493      6.976\n",
      "   6       -6.479        4.8      6.703\n",
      "   7       -6.434      1.925      7.008\n",
      "   8       -6.396      1.785      6.727\n",
      "   9       -6.393      4.296      6.839\n",
      "  10       -6.374      2.654      7.124\n",
      "  11       -6.336      5.081      6.767\n",
      "  12       -6.288      5.131      6.194\n",
      "  13        -6.26      1.565      2.507\n",
      "  14       -6.243      4.013        6.6\n",
      "  15       -6.201      3.142      6.804\n",
      "  16       -6.166      3.856      5.698\n",
      "  17       -6.118      4.003       7.06\n",
      "  18       -6.081      4.333      5.971\n",
      "  19       -6.049      3.968      6.918\n",
      "  20       -6.039      2.197      3.454\n",
      "***puting Vina grid ... "
     ]
    },
    {
     "name": "stderr",
     "output_type": "stream",
     "text": [
      "1 molecule converted\n",
      "1 molecule converted\n"
     ]
    },
    {
     "name": "stdout",
     "output_type": "stream",
     "text": [
      "*"
     ]
    },
    {
     "name": "stderr",
     "output_type": "stream",
     "text": [
      "1 molecule converted\n",
      "1 molecule converted\n"
     ]
    },
    {
     "name": "stdout",
     "output_type": "stream",
     "text": [
      "here\n",
      "CNC(=O)CN1C[C@@]2(C(=O)N(c3cncc4ccccc34)C[C@@H]2CNc2ccncn2)c2cc(Cl)ccc2C1=O SARS-CoV-2 Mpro\n",
      "Processing /home/xchen/Work/asap-polaris-blind-challenge-examples/SMILESopt/xtbopt_00192.xyz in docking/192\n",
      "**"
     ]
    },
    {
     "name": "stderr",
     "output_type": "stream",
     "text": [
      "1 molecule converted\n"
     ]
    },
    {
     "name": "stdout",
     "output_type": "stream",
     "text": [
      "**************************done.\n",
      "*Performing docking (random seed: -1422347140) ... \n",
      "0%   10   20   30   40   50   60   70   80   90   100%\n",
      "|----|----|----|----|----|----|----|----|----|----|\n",
      "*"
     ]
    },
    {
     "name": "stderr",
     "output_type": "stream",
     "text": [
      "WARNING: At low exhaustiveness, it may be impossible to utilize all CPUs.\n"
     ]
    },
    {
     "name": "stdout",
     "output_type": "stream",
     "text": [
      "***\n",
      "mode |   affinity | dist from best mode\n",
      "     | (kcal/mol) | rmsd l.b.| rmsd u.b.\n",
      "-----+------------+----------+----------\n",
      "   1       -7.804          0          0\n",
      "   2       -7.372      1.938      2.616\n",
      "   3       -7.177       3.74      4.528\n",
      "   4       -7.115      4.853      6.135\n",
      "   5       -7.111      2.521      3.502\n",
      "   6        -7.08      4.764      7.491\n",
      "   7       -7.053      4.332      5.324\n",
      "   8       -7.053      4.062      5.129\n",
      "   9       -7.005      1.934      2.679\n",
      "  10       -6.989      4.079      7.856\n",
      "  11       -6.962      4.652      6.712\n",
      "  12       -6.926      4.766      9.453\n",
      "  13       -6.883      4.239       7.35\n",
      "  14       -6.861      4.407      8.326\n",
      "  15       -6.852      6.311      9.342\n",
      "  16       -6.848      4.859      8.799\n",
      "  17       -6.842      6.411      8.984\n",
      "  18       -6.836      4.813        6.8\n",
      "  19       -6.781       4.62      7.198\n",
      "  20       -6.622      5.559      7.205\n",
      "***********ina grid ... *\n",
      "**"
     ]
    },
    {
     "name": "stderr",
     "output_type": "stream",
     "text": [
      "1 molecule converted\n",
      "1 molecule converted\n"
     ]
    },
    {
     "name": "stdout",
     "output_type": "stream",
     "text": [
      "*here"
     ]
    },
    {
     "name": "stderr",
     "output_type": "stream",
     "text": [
      "1 molecule converted\n",
      "1 molecule converted\n"
     ]
    },
    {
     "name": "stdout",
     "output_type": "stream",
     "text": [
      "\n",
      "C[C@H]1CN(c2cncc3ccccc23)C(=O)[C@@]12CN(CC(=O)NCC1(F)CC1)C(=O)c1ccc(F)cc12 SARS-CoV-2 Mpro\n",
      "Processing /home/xchen/Work/asap-polaris-blind-challenge-examples/SMILESopt/xtbopt_00174.xyz in docking/174\n"
     ]
    },
    {
     "name": "stderr",
     "output_type": "stream",
     "text": [
      "1 molecule converted\n"
     ]
    },
    {
     "name": "stdout",
     "output_type": "stream",
     "text": [
      "***done.\n",
      "Performing docking (random seed: 1284836486) ... \n",
      "0%   10   20   30   40   50   60   70   80   90   100%\n",
      "|----|----|----|----|----|----|----|----|----|----|\n",
      "*"
     ]
    },
    {
     "name": "stderr",
     "output_type": "stream",
     "text": [
      "WARNING: At low exhaustiveness, it may be impossible to utilize all CPUs.\n"
     ]
    },
    {
     "name": "stdout",
     "output_type": "stream",
     "text": [
      "*****\n",
      "*\n",
      "**"
     ]
    },
    {
     "name": "stderr",
     "output_type": "stream",
     "text": [
      "1 molecule converted\n",
      "1 molecule converted\n",
      "1 molecule converted\n",
      "1 molecule converted\n",
      "1 molecule converted\n"
     ]
    },
    {
     "name": "stdout",
     "output_type": "stream",
     "text": [
      "*"
     ]
    },
    {
     "name": "stderr",
     "output_type": "stream",
     "text": [
      "1 molecule converted\n",
      "1 molecule converted\n",
      "1"
     ]
    },
    {
     "name": "stdout",
     "output_type": "stream",
     "text": [
      "here\n",
      "CNC(=O)CN1C[C@@]2(C(=O)N(c3cncc4ccccc34)C[C@@H]2C)c2cc(Cl)ccc2C1=O SARS-CoV-2 Mpro\n",
      "Processing /home/xchen/Work/asap-polaris-blind-challenge-examples/SMILESopt/xtbopt_00161.xyz in docking/161**\n"
     ]
    },
    {
     "name": "stderr",
     "output_type": "stream",
     "text": [
      " molecule converted\n",
      "1 molecule converted\n"
     ]
    },
    {
     "name": "stdout",
     "output_type": "stream",
     "text": [
      "**\n",
      "mode |   affinity | dist from best mode\n",
      "     | (kcal/mol) | rmsd l.b.| rmsd u.b.\n",
      "-----+------------+----------+----------\n",
      "   1       -7.737          0          0\n",
      "   2       -7.597      4.985      6.076\n",
      "   3       -7.595      1.232      2.568\n",
      "   4       -7.566      3.126      7.115\n",
      "   5        -7.48      1.937      5.616\n",
      "   6        -7.47      2.134      5.892\n",
      "   7       -7.328      3.287      6.961\n",
      "   8       -7.323      2.571      5.407\n",
      "   9       -7.284      3.955      7.434\n",
      "  10       -7.241      1.389      1.773\n",
      "  11       -7.147      3.407      5.882\n",
      "  12       -7.115      2.678      6.521\n",
      "  13       -7.069      4.975      7.992\n",
      "  14       -6.998      4.774      7.581\n",
      "  15       -6.976      3.147      7.084\n",
      "  16       -6.953      3.218      5.662\n",
      "  17       -6.906      6.769      9.614\n",
      "  18       -6.823       3.23       5.37\n",
      "  19       -6.805      2.964      5.107\n",
      "  20        -6.74      2.753      6.795\n",
      "**mputing Vina grid ... **\n",
      "**"
     ]
    },
    {
     "name": "stderr",
     "output_type": "stream",
     "text": [
      "1 molecule converted\n",
      "1 molecule converted\n",
      "1 molecule converted\n"
     ]
    },
    {
     "name": "stdout",
     "output_type": "stream",
     "text": [
      "here\n",
      "CNC(=O)CN1C[C@@]2(C(=O)N(c3cncc4ccccc34)C[C@@H]2CNc2ncncn2)c2cc(Cl)ccc2C1=O MERS-CoV Mpro\n",
      "Processing /home/xchen/Work/asap-polaris-blind-challenge-examples/SMILESopt/xtbopt_00168.xyz in docking/168\n"
     ]
    },
    {
     "name": "stderr",
     "output_type": "stream",
     "text": [
      "1 molecule converted\n"
     ]
    },
    {
     "name": "stdout",
     "output_type": "stream",
     "text": [
      "**"
     ]
    },
    {
     "name": "stderr",
     "output_type": "stream",
     "text": [
      "1 molecule converted\n"
     ]
    },
    {
     "name": "stdout",
     "output_type": "stream",
     "text": [
      "***\n",
      "mode |   affinity | dist from best mode\n",
      "     | (kcal/mol) | rmsd l.b.| rmsd u.b.\n",
      "-----+------------+----------+----------\n",
      "   1       -9.191          0          0\n",
      "   2       -8.944      3.368      5.092\n",
      "   3       -8.792      2.672      7.976\n",
      "   4       -8.653       2.98      4.295\n",
      "   5       -8.641      3.466      5.493\n",
      "   6       -8.409      1.733      2.209\n",
      "   7       -8.385      3.123      7.893\n",
      "   8        -8.36      2.806       3.98\n",
      "   9       -8.175      3.958      7.183\n",
      "  10       -8.077      3.826      6.223\n",
      "  11        -8.02      3.862      8.938\n",
      "  12       -8.016      2.893      8.615\n",
      "  13        -7.99      2.884      7.714\n",
      "  14       -7.986       2.88      4.027\n",
      "  15       -7.896      3.912       5.51\n",
      "  16       -7.886      3.306      5.676\n",
      "  17       -7.781      2.851      3.974\n",
      "  18       -7.712      3.121      4.971\n",
      "  19       -7.692      1.863      2.558\n",
      "  20       -7.687      3.947       6.77\n",
      "**done.ng Vina grid ... *\n",
      "*Performing docking (random seed: 516568011) ... \n",
      "0%   10   20   30   40   50   60   70   80   90   100%\n",
      "|----|----|----|----|----|----|----|----|----|----|\n",
      "*"
     ]
    },
    {
     "name": "stderr",
     "output_type": "stream",
     "text": [
      "WARNING: At low exhaustiveness, it may be impossible to utilize all CPUs.\n"
     ]
    },
    {
     "name": "stdout",
     "output_type": "stream",
     "text": [
      "*******\n",
      "mode |   affinity | dist from best mode\n",
      "     | (kcal/mol) | rmsd l.b.| rmsd u.b.\n",
      "-----+------------+----------+----------\n",
      "   1       -8.813          0          0\n",
      "   2       -8.348      3.076      7.855\n",
      "   3       -8.278      2.613       4.57\n",
      "   4       -8.131      2.566      4.974\n",
      "   5       -8.068      3.027      7.008\n",
      "   6       -8.059       3.22      5.195\n",
      "   7       -8.025      2.035      7.064\n",
      "   8       -7.995      3.468      6.574\n",
      "   9        -7.99      2.105      6.925\n",
      "  10       -7.945        3.7      6.262\n",
      "  11       -7.868      2.855       6.82\n",
      "  12       -7.803      2.701      7.249\n",
      "  13       -7.608      2.796      7.616\n",
      "  14       -7.583      3.074      7.737\n",
      "  15       -7.551      3.171      5.928\n",
      "  16       -7.479      1.205      2.016\n",
      "  17       -7.457      4.128      7.406\n",
      "  18       -7.364      2.503      7.212\n",
      "  19       -7.355       4.07      8.301\n",
      "  20        -7.34       3.19      5.058\n",
      "**done.ng Vina grid ... \n"
     ]
    },
    {
     "name": "stderr",
     "output_type": "stream",
     "text": [
      "WARNING: At low exhaustiveness, it may be impossible to utilize all CPUs.\n"
     ]
    },
    {
     "name": "stdout",
     "output_type": "stream",
     "text": [
      "Performing docking (random seed: -1561612135) ... \n",
      "0%   10   20   30   40   50   60   70   80   90   100%\n",
      "|----|----|----|----|----|----|----|----|----|----|\n",
      "******************done.\n",
      "Performing docking (random seed: -1425553166) ... "
     ]
    },
    {
     "name": "stderr",
     "output_type": "stream",
     "text": [
      "WARNING: At low exhaustiveness, it may be impossible to utilize all CPUs.\n"
     ]
    },
    {
     "name": "stdout",
     "output_type": "stream",
     "text": [
      "*\n",
      "0%   10   20   30   40   50   60   70   80   90   100%\n",
      "|----|----|----|----|----|----|----|----|----|----|\n",
      "***********************************************************\n",
      "***"
     ]
    },
    {
     "name": "stderr",
     "output_type": "stream",
     "text": [
      "1 molecule converted\n",
      "1 molecule converted\n",
      "1 molecule converted\n",
      "1 molecule converted\n"
     ]
    },
    {
     "name": "stdout",
     "output_type": "stream",
     "text": [
      "here\n",
      "O=C(Cc1cncc2ccccc12)N1C=CC=CC=C[C@H]1c1ccccc1 MERS-CoV Mpro\n",
      "**Processing /home/xchen/Work/asap-polaris-blind-challenge-examples/SMILESopt/xtbopt_00186.xyz in docking/186\n",
      "*"
     ]
    },
    {
     "name": "stderr",
     "output_type": "stream",
     "text": [
      "1 molecule converted\n"
     ]
    },
    {
     "name": "stdout",
     "output_type": "stream",
     "text": [
      "***************\n",
      "mode |   affinity | dist from best mode\n",
      "     | (kcal/mol) | rmsd l.b.| rmsd u.b.\n",
      "-----+------------+----------+----------\n",
      "   1       -8.174          0          0\n",
      "   2       -7.907       3.63      6.532\n",
      "   3       -7.904      3.087      7.342\n",
      "   4       -7.763      3.103       5.53\n",
      "   5       -7.708      3.067      5.529\n",
      "   6       -7.574      3.229       6.02\n",
      "   7        -7.45      3.073      5.831\n",
      "   8       -7.422      3.144      6.243\n",
      "   9       -7.323       2.97      6.671\n",
      "  10       -7.253      3.111      6.464\n",
      "  11       -7.145      3.413       7.34\n",
      "  12       -7.072      2.831      6.182\n",
      "  13       -7.068      2.193      7.601\n",
      "  14       -7.033       2.58      5.736\n",
      "  15        -6.96      2.837       6.72\n",
      "  16       -6.934      3.037      6.537\n",
      "  17       -6.874      3.408      7.091\n",
      "  18       -6.872      3.825      6.666\n",
      "  19       -6.853      3.405       6.39\n",
      "  20       -6.846      1.355      2.218\n",
      "*******************done.\n",
      "Performing docking (random seed: 534749485) ... \n",
      "0%   10   20   30   40   50   60   70   80   90   100%\n",
      "|----|----|----|----|----|----|----|----|----|----|\n",
      "*"
     ]
    },
    {
     "name": "stderr",
     "output_type": "stream",
     "text": [
      "WARNING: At low exhaustiveness, it may be impossible to utilize all CPUs.\n"
     ]
    },
    {
     "name": "stdout",
     "output_type": "stream",
     "text": [
      "******************************************************************************************\n",
      "*"
     ]
    },
    {
     "name": "stderr",
     "output_type": "stream",
     "text": [
      "1 molecule converted\n",
      "1 molecule converted\n"
     ]
    },
    {
     "name": "stdout",
     "output_type": "stream",
     "text": [
      "*"
     ]
    },
    {
     "name": "stderr",
     "output_type": "stream",
     "text": [
      "1 molecule converted\n",
      "1 molecule converted\n"
     ]
    },
    {
     "name": "stdout",
     "output_type": "stream",
     "text": [
      "********************************\n",
      "*"
     ]
    },
    {
     "name": "stderr",
     "output_type": "stream",
     "text": [
      "1 molecule converted\n",
      "1 molecule converted\n",
      "1 molecule converted\n"
     ]
    },
    {
     "name": "stdout",
     "output_type": "stream",
     "text": [
      "**"
     ]
    },
    {
     "name": "stderr",
     "output_type": "stream",
     "text": [
      "1 molecule converted\n"
     ]
    },
    {
     "name": "stdout",
     "output_type": "stream",
     "text": [
      "******************\n"
     ]
    },
    {
     "name": "stderr",
     "output_type": "stream",
     "text": [
      "1 molecule converted\n",
      "1 molecule converted\n",
      "1 molecule converted\n",
      "1 molecule converted\n"
     ]
    },
    {
     "name": "stdout",
     "output_type": "stream",
     "text": [
      "here\n",
      "**C[NH2+]CCN1C[C@@]2(C(=O)N(c3cncc4ccccc34)C[C@@H]2C)c2cc(F)ccc2C1=O MERS-CoV Mpro\n",
      "Processing /home/xchen/Work/asap-polaris-blind-challenge-examples/SMILESopt/xtbopt_00187.xyz in docking/187\n",
      "*\n"
     ]
    },
    {
     "name": "stderr",
     "output_type": "stream",
     "text": [
      "1 molecule converted\n",
      "1 molecule converted\n",
      "1 molecule converted\n",
      "1 molecule converted\n"
     ]
    },
    {
     "name": "stdout",
     "output_type": "stream",
     "text": [
      "here\n",
      "CNC(=O)CN1C[C@@]2(C(=O)N(c3cncc4ccccc34)CC23CC3)c2cc(Cl)ccc2C1=O SARS-CoV-2 Mpro*\n",
      "Processing /home/xchen/Work/asap-polaris-blind-challenge-examples/SMILESopt/xtbopt_00175.xyz in docking/175\n"
     ]
    },
    {
     "name": "stderr",
     "output_type": "stream",
     "text": [
      "1 molecule converted\n",
      "1 molecule converted\n"
     ]
    },
    {
     "name": "stdout",
     "output_type": "stream",
     "text": [
      "***\n",
      "mode |   affinity | dist from best mode\n",
      "     | (kcal/mol) | rmsd l.b.| rmsd u.b.\n",
      "-----+------------+----------+----------\n",
      "   1       -8.245          0          0\n",
      "   2        -8.15      1.981      3.127\n",
      "   3       -8.063      1.942      7.581\n",
      "   4        -7.86      1.676      7.327\n",
      "   5       -7.821      1.919       7.53\n",
      "   6       -7.764      1.237      1.774\n",
      "   7       -7.666       3.11       7.98\n",
      "   8        -7.62       1.99       3.31\n",
      "   9       -7.572      3.748       5.29\n",
      "  10       -7.447      1.729      7.465\n",
      "  11       -7.442      2.072      2.805\n",
      "  12       -7.383      3.921      5.243\n",
      "  13       -7.332      3.584      6.477\n",
      "  14       -7.187      1.975      7.045\n",
      "  15       -7.174      2.355      7.992\n",
      "  16       -7.135      2.253      4.073\n",
      "  17       -7.132      2.344      7.562\n",
      "  18       -7.116      2.481      7.969\n",
      "  19       -7.054      4.619      10.15\n",
      "  20       -7.037      2.675       4.06\n",
      "*omputing Vina grid ... *\n",
      "mode |   affinity | dist from best mode\n",
      "     | (kcal/mol) | rmsd l.b.| rmsd u.b.\n",
      "-----+------------+----------+----------\n",
      "   1       -8.682          0          0\n",
      "   2       -8.672      2.276      2.947\n",
      "   3       -8.637      2.116      2.364\n",
      "   4       -8.619       3.31       8.77\n",
      "   5       -8.591      3.782        8.1\n",
      "   6       -8.567      3.728      8.153\n",
      "   7       -8.542      2.797      8.961\n",
      "   8       -8.498      3.598      9.858\n",
      "   9       -8.344      2.976      8.378\n",
      "  10       -8.239      2.773      8.411\n",
      "  11       -8.214      3.899      9.741\n",
      "  12       -8.126      3.441      8.424\n",
      "  13       -8.076       2.77      8.778\n",
      "  14        -8.01      4.236      6.781\n",
      "  15       -7.955      3.399      8.735\n",
      "  16       -7.951      2.621      9.442\n",
      "  17       -7.923      3.449      8.456\n",
      "  18       -7.915      3.319      4.605\n",
      "  19       -7.865      4.389       10.3\n",
      "  20       -7.799      3.236      8.987\n",
      "***done.g Vina grid ... \n",
      "Performing docking (random seed: 1381206889) ... \n",
      "0%   10   20   30   40   50   60   70   80   90   100%\n",
      "|----|----|----|----|----|----|----|----|----|----|\n",
      "**"
     ]
    },
    {
     "name": "stderr",
     "output_type": "stream",
     "text": [
      "WARNING: At low exhaustiveness, it may be impossible to utilize all CPUs.\n"
     ]
    },
    {
     "name": "stdout",
     "output_type": "stream",
     "text": [
      "done.\n",
      "Performing docking (random seed: 1127542618) ... \n",
      "0%   10   20   30   40   50   60   70   80   90   100%\n",
      "|----|----|----|----|----|----|----|----|----|----|\n",
      "*"
     ]
    },
    {
     "name": "stderr",
     "output_type": "stream",
     "text": [
      "WARNING: At low exhaustiveness, it may be impossible to utilize all CPUs.\n"
     ]
    },
    {
     "name": "stdout",
     "output_type": "stream",
     "text": [
      "********************\n",
      "*"
     ]
    },
    {
     "name": "stderr",
     "output_type": "stream",
     "text": [
      "1 molecule converted\n",
      "1 molecule converted\n",
      "1 molecule converted\n"
     ]
    },
    {
     "name": "stdout",
     "output_type": "stream",
     "text": [
      "***here\n",
      "O=C(Cc1cncc2ccccc12)NCc1cccc(Cl)c1 MERS-CoV Mpro\n",
      "Processing /home/xchen/Work/asap-polaris-blind-challenge-examples/SMILESopt/xtbopt_00193.xyz in docking/193\n"
     ]
    },
    {
     "name": "stderr",
     "output_type": "stream",
     "text": [
      "1 molecule converted\n"
     ]
    },
    {
     "name": "stdout",
     "output_type": "stream",
     "text": [
      "**"
     ]
    },
    {
     "name": "stderr",
     "output_type": "stream",
     "text": [
      "1 molecule converted\n"
     ]
    },
    {
     "name": "stdout",
     "output_type": "stream",
     "text": [
      "**********\n",
      "mode |   affinity | dist from best mode\n",
      "     | (kcal/mol) | rmsd l.b.| rmsd u.b.\n",
      "-----+------------+----------+----------\n",
      "   1       -8.411          0          0\n",
      "   2       -8.286      1.821      2.927\n",
      "   3       -8.111      1.779      2.527\n",
      "   4        -8.11      2.559      5.634\n",
      "   5       -8.041      3.135      6.426\n",
      "   6       -8.019      3.708      6.914\n",
      "   7       -7.992       3.21      6.669\n",
      "   8       -7.968      3.465      6.283\n",
      "   9       -7.945      2.703      6.288\n",
      "  10       -7.941      4.392      8.002\n",
      "  11       -7.898      3.272      6.911\n",
      "  12       -7.893      3.143      6.551\n",
      "  13       -7.873      3.087      6.374\n",
      "  14       -7.684      3.419      6.982\n",
      "  15       -7.635      2.792      5.948\n",
      "  16       -7.593      1.743      2.325\n",
      "  17        -7.59      3.543      7.187\n",
      "  18       -7.493      3.245        6.5\n",
      "  19       -7.453      3.361      6.825\n",
      "  20        -7.24      1.594      2.413\n",
      "************done.id ... **\n",
      "Performing docking (random seed: 1204381915) ... \n",
      "0%   10   20   30   40   50   60   70   80   90   100%\n",
      "|----|----|----|----|----|----|----|----|----|----|\n",
      "***"
     ]
    },
    {
     "name": "stderr",
     "output_type": "stream",
     "text": [
      "WARNING: At low exhaustiveness, it may be impossible to utilize all CPUs.\n"
     ]
    },
    {
     "name": "stdout",
     "output_type": "stream",
     "text": [
      "********************************\n",
      "**"
     ]
    },
    {
     "name": "stderr",
     "output_type": "stream",
     "text": [
      "1 molecule converted\n",
      "1 molecule converted\n",
      "1 molecule converted\n"
     ]
    },
    {
     "name": "stdout",
     "output_type": "stream",
     "text": [
      "**"
     ]
    },
    {
     "name": "stderr",
     "output_type": "stream",
     "text": [
      "1 molecule converted\n"
     ]
    },
    {
     "name": "stdout",
     "output_type": "stream",
     "text": [
      "******************************************************************\n"
     ]
    },
    {
     "name": "stderr",
     "output_type": "stream",
     "text": [
      "1 molecule converted\n",
      "1 molecule converted\n",
      "1 molecule converted\n",
      "1 molecule converted\n"
     ]
    },
    {
     "name": "stdout",
     "output_type": "stream",
     "text": [
      "*\n",
      "*\n",
      "here\n",
      "CCn1nccc1CN1C[C@@]2(C(=O)N(c3cncc4ccccc34)C[C@@H]2C)c2cc(F)ccc2C1=O SARS-CoV-2 Mpro\n",
      "Processing /home/xchen/Work/asap-polaris-blind-challenge-examples/SMILESopt/xtbopt_00188.xyz in docking/188\n"
     ]
    },
    {
     "name": "stderr",
     "output_type": "stream",
     "text": [
      "1 molecule converted\n",
      "1 molecule converted\n",
      "1 molecule converted\n",
      "1 molecule converted\n",
      "1 molecule converted\n",
      "1 molecule converted\n"
     ]
    },
    {
     "name": "stdout",
     "output_type": "stream",
     "text": [
      "here\n",
      "CNC(=O)CN1C[C@@]2(C(=O)N(c3cncc4ccccc34)C[C@@H]2COC(C)C)c2cc(Cl)ccc2C1=O SARS-CoV-2 Mpro\n",
      "Processing /home/xchen/Work/asap-polaris-blind-challenge-examples/SMILESopt/xtbopt_00194.xyz in docking/194\n"
     ]
    },
    {
     "name": "stderr",
     "output_type": "stream",
     "text": [
      "1 molecule converted\n",
      "1 molecule converted\n",
      "1 molecule converted\n",
      "1 molecule converted\n"
     ]
    },
    {
     "name": "stdout",
     "output_type": "stream",
     "text": [
      "\n",
      "mode |   affinity | dist from best mode\n",
      "     | (kcal/mol) | rmsd l.b.| rmsd u.b.\n",
      "-----+------------+----------+----------\n",
      "   1       -9.046          0          0\n",
      "   2        -8.01      3.382      7.866\n",
      "   3       -7.956      3.174      6.814\n",
      "   4       -7.809      3.293      7.548\n",
      "   5       -7.669      3.424      7.343\n",
      "   6       -7.495      3.019      6.448\n",
      "   7       -7.448      2.812      7.419\n",
      "   8        -7.42      1.799      2.147\n",
      "   9       -7.288      3.358      6.827\n",
      "  10       -7.133      3.841      7.666\n",
      "  11       -7.114      3.416      6.015\n",
      "  12       -7.097      4.223      8.575\n",
      "  13       -6.983      2.681      6.676\n",
      "  14       -6.978      3.891      7.695\n",
      "  15       -6.932      2.975       4.92\n",
      "  16       -6.919      3.698      6.346\n",
      "  17       -6.902      3.089      5.751\n",
      "  18       -6.841       3.09      5.222\n",
      "  19       -6.683      3.222      5.999\n",
      "  20       -6.479      3.479      6.222\n",
      "Computing Vina grid ... \n",
      "mode |   affinity | dist from best mode\n",
      "     | (kcal/mol) | rmsd l.b.| rmsd u.b.\n",
      "-----+------------+----------+----------\n",
      "   1        -7.71          0          0\n",
      "   2       -7.677      1.363      2.151\n",
      "   3       -7.651      3.221      8.691\n",
      "   4       -7.643     0.9628      1.122\n",
      "   5       -7.585      3.428      6.585\n",
      "   6       -7.449      3.033       8.34\n",
      "   7       -7.326       3.77      4.986\n",
      "   8       -7.318      1.779      2.686\n",
      "   9       -7.238      1.958      2.967\n",
      "  10       -7.221      1.578      2.046\n",
      "  11       -7.126      4.013      6.832\n",
      "  12       -7.098      3.643      7.412\n",
      "  13        -7.01       3.61      7.265\n",
      "  14       -6.984      3.515      7.178\n",
      "  15        -6.97      3.086      7.494\n",
      "  16       -6.918      3.707      4.093\n",
      "  17       -6.915      3.224      7.536\n",
      "  18       -6.894      2.943      4.233\n",
      "  19       -6.822      3.238      7.515\n",
      "  20       -6.783      3.979      7.408\n",
      "done.ting Vina grid ... \n",
      "Performing docking (random seed: -1590027481) ... \n",
      "0%   10   20   30   40   50   60   70   80   90   100%\n",
      "|----|----|----|----|----|----|----|----|----|----|\n",
      "*"
     ]
    },
    {
     "name": "stderr",
     "output_type": "stream",
     "text": [
      "WARNING: At low exhaustiveness, it may be impossible to utilize all CPUs.\n"
     ]
    },
    {
     "name": "stdout",
     "output_type": "stream",
     "text": [
      "**done.\n",
      "Performing docking (random seed: -1525890973) ... \n",
      "0%   10   20   30   40   50   60   70   80   90   100%\n",
      "|----|----|----|----|----|----|----|----|----|----|\n",
      "**"
     ]
    },
    {
     "name": "stderr",
     "output_type": "stream",
     "text": [
      "WARNING: At low exhaustiveness, it may be impossible to utilize all CPUs.\n"
     ]
    },
    {
     "name": "stdout",
     "output_type": "stream",
     "text": [
      "****************************************************************************************\n",
      "here\n",
      "CCC(=O)[N@@H+]1CCCc2c(N(Cc3cccc(Cl)c3)C(=O)Cc3cncc4ccccc34)cccc21 MERS-CoV Mpro\n",
      "Processing /home/xchen/Work/asap-polaris-blind-challenge-examples/SMILESopt/xtbopt_00189.xyz in docking/189\n"
     ]
    },
    {
     "name": "stderr",
     "output_type": "stream",
     "text": [
      "1 molecule converted\n",
      "1 molecule converted\n",
      "1 molecule converted\n",
      "1 molecule converted\n"
     ]
    },
    {
     "name": "stdout",
     "output_type": "stream",
     "text": [
      "*"
     ]
    },
    {
     "name": "stderr",
     "output_type": "stream",
     "text": [
      "1 molecule converted\n"
     ]
    },
    {
     "name": "stdout",
     "output_type": "stream",
     "text": [
      "*****\n",
      "mode |   affinity | dist from best mode\n",
      "     | (kcal/mol) | rmsd l.b.| rmsd u.b.\n",
      "-----+------------+----------+----------\n",
      "   1       -8.494          0          0\n",
      "   2       -8.483      3.057      7.428\n",
      "   3       -8.151      3.021       4.72\n",
      "   4       -8.128      4.007      6.298\n",
      "   5       -8.123      3.034      5.299\n",
      "   6       -8.089      3.084      4.429\n",
      "   7        -8.06      3.901      5.995\n",
      "   8       -8.021      3.073      7.162\n",
      "   9       -8.013       2.65      8.077\n",
      "  10       -7.974      3.321       5.37\n",
      "  11       -7.952      2.937       7.45\n",
      "  12        -7.95      2.333      8.252\n",
      "  13       -7.812      3.011      4.356\n",
      "  14       -7.788      3.894      6.241\n",
      "  15       -7.698      4.612      7.009\n",
      "  16       -7.661      1.805      2.552\n",
      "  17       -7.582      3.945       5.85\n",
      "  18       -7.537      3.918      6.321\n",
      "  19       -7.505      6.543      8.953\n",
      "  20       -7.486       5.38      8.383\n",
      "*done.ing Vina grid ... *\n",
      "Performing docking (random seed: 1881516987) ... \n",
      "0%   10   20   30   40   50   60   70   80   90   100%\n",
      "|----|----|----|----|----|----|----|----|----|----|\n",
      "*"
     ]
    },
    {
     "name": "stderr",
     "output_type": "stream",
     "text": [
      "WARNING: At low exhaustiveness, it may be impossible to utilize all CPUs.\n"
     ]
    },
    {
     "name": "stdout",
     "output_type": "stream",
     "text": [
      "*\n",
      "here\n",
      "C[C@@H]1COC[C@@]2(C1)NC(=O)N(c1cncc3ccccc13)C2=O SARS-CoV-2 Mpro\n",
      "Processing /home/xchen/Work/asap-polaris-blind-challenge-examples/SMILESopt/xtbopt_00195.xyz in docking/195\n"
     ]
    },
    {
     "name": "stderr",
     "output_type": "stream",
     "text": [
      "1 molecule converted\n",
      "1 molecule converted\n",
      "1 molecule converted\n",
      "1 molecule converted\n"
     ]
    },
    {
     "name": "stdout",
     "output_type": "stream",
     "text": [
      "*"
     ]
    },
    {
     "name": "stderr",
     "output_type": "stream",
     "text": [
      "1 molecule converted\n"
     ]
    },
    {
     "name": "stdout",
     "output_type": "stream",
     "text": [
      "***\n",
      "mode |   affinity | dist from best mode\n",
      "     | (kcal/mol) | rmsd l.b.| rmsd u.b.\n",
      "-----+------------+----------+----------\n",
      "   1       -8.339          0          0\n",
      "   2       -7.789       3.39      5.532\n",
      "   3       -7.735      2.824      5.058\n",
      "   4       -7.634      3.139      5.221\n",
      "   5       -7.577      3.665      6.311\n",
      "   6       -7.277      3.155      6.866\n",
      "   7       -7.103      3.481      6.727\n",
      "   8       -7.036       2.91      6.465\n",
      "   9       -7.004      3.438      5.818\n",
      "  10       -6.993      3.562      8.079\n",
      "  11        -6.82      3.201      7.034\n",
      "  12       -6.787      2.488      7.912\n",
      "  13       -6.779      1.559       2.24\n",
      "  14       -6.735      4.235      7.114\n",
      "  15       -6.606      3.738      7.333\n",
      "  16       -6.543      4.692      7.887\n",
      "  17       -6.533      2.785       7.76\n",
      "  18        -6.53      3.143      5.357\n",
      "  19       -6.516      3.452      6.617\n",
      "  20       -6.501      5.488      8.284\n",
      "****done. Vina grid ... \n",
      "Performing docking (random seed: 375162153) ... \n",
      "0%   10   20   30   40   50   60   70   80   90   100%\n",
      "|----|----|----|----|----|----|----|----|----|----|\n",
      "*"
     ]
    },
    {
     "name": "stderr",
     "output_type": "stream",
     "text": [
      "WARNING: At low exhaustiveness, it may be impossible to utilize all CPUs.\n"
     ]
    },
    {
     "name": "stdout",
     "output_type": "stream",
     "text": [
      "*************************************************************\n"
     ]
    },
    {
     "name": "stderr",
     "output_type": "stream",
     "text": [
      "1 molecule converted\n",
      "1 molecule converted\n",
      "1 molecule converted\n",
      "1 molecule converted\n"
     ]
    },
    {
     "name": "stdout",
     "output_type": "stream",
     "text": [
      "*******************************\n"
     ]
    },
    {
     "name": "stderr",
     "output_type": "stream",
     "text": [
      "1 molecule converted\n",
      "1 molecule converted\n",
      "1 molecule converted\n",
      "1 molecule converted\n"
     ]
    }
   ],
   "source": [
    "import os\n",
    "import glob\n",
    "import re\n",
    "import multiprocessing\n",
    "\n",
    "# Function to run docking in a subdirectory\n",
    "def process_docking(itest, drug_file, docking_dir, original_dir):\n",
    "    # Extract the numeric ID from the filename\n",
    "    drug_number = int(re.search(r'xtbopt_(\\d+).xyz', drug_file).group(1))\n",
    "    obabel ='obabel'\n",
    "    charge_model = 'mmff94'\n",
    "    print('here')\n",
    "    print(itest['CXSMILES'], itest['Protein Label'])\n",
    "\n",
    "    if 'MERS' in itest['Protein Label']:\n",
    "        position = [6, 0, 20]\n",
    "        protein_file = '/home/xchen/Work/asap-polaris-blind-challenge-examples/reference_structures/MERS-CoV-Mpro/protein.pdbqt'\n",
    "    else:\n",
    "        position = [-7, 0, -20]\n",
    "        protein_file = '/home/xchen/Work/asap-polaris-blind-challenge-examples/reference_structures/SARS-CoV-2-Mpro/protein.pdbqt'\n",
    "    \n",
    "    # Create a subdirectory docking/{number}\n",
    "    sub_dir = os.path.join(docking_dir, str(drug_number))\n",
    "    os.makedirs(sub_dir, exist_ok=True)\n",
    "    \n",
    "    print(f\"Processing {drug_file} in {sub_dir}\")\n",
    "    \n",
    "    # Change to the subdirectory\n",
    "    os.chdir(sub_dir)\n",
    "    \n",
    "    # Run docking process\n",
    "    run_vina_docking(drug_file, protein_file, obabel, charge_model, position)\n",
    "    \n",
    "    # Return to the original directory\n",
    "    os.chdir(original_dir)\n",
    "\n",
    "# Main function to initiate multiprocessing\n",
    "def main():\n",
    "    # Get all xtbopt_xxxxx.xyz files\n",
    "    obabel ='obabel'\n",
    "    charge_model = 'mmff94'\n",
    "    #charge_model = 'eem'\n",
    "    xyz_files = glob.glob('/home/xchen/Work/asap-polaris-blind-challenge-examples/SMILESopt/xtbopt_*.xyz')\n",
    "\n",
    "    # Sort files by numeric order\n",
    "    xyz_files_sorted = sorted(xyz_files, key=lambda x: int(re.search(r'xtbopt_(\\d+).xyz', x).group(1)))\n",
    "\n",
    "    # Store the original working directory\n",
    "    original_dir = os.getcwd()\n",
    "\n",
    "    # Create the docking directory\n",
    "    docking_dir = 'docking'\n",
    "    os.makedirs(docking_dir, exist_ok=True)\n",
    "\n",
    "    # Set up multiprocessing pool\n",
    "    pool = multiprocessing.Pool(processes=8)  # Using 8 available CPUs\n",
    "\n",
    "    # Use zip to iterate over test and xyz_files_sorted and map to the process_docking function\n",
    "    pool.starmap(process_docking, [(itest, drug_file, docking_dir, original_dir) for itest, drug_file in zip(test, xyz_files_sorted)])\n",
    "\n",
    "    # Close the pool to release resources\n",
    "    pool.close()\n",
    "    pool.join()\n",
    "\n",
    "if __name__ == \"__main__\":\n",
    "    main()"
   ]
  },
  {
   "cell_type": "code",
   "execution_count": 90,
   "id": "29c89d01-00a7-40bb-ac05-5902255b2f12",
   "metadata": {},
   "outputs": [
    {
     "data": {
      "text/plain": [
       "dict_keys(['CXSMILES', 'Chain A Sequence', 'Chain B Sequence', 'Complex Structure', 'Ligand Pose', 'Protein Label', 'Protein Structure'])"
      ]
     },
     "execution_count": 90,
     "metadata": {},
     "output_type": "execute_result"
    }
   ],
   "source": [
    "# Get a single data point\n",
    "datapoint = competition[0]\n",
    "\n",
    "# See the data that's available\n",
    "datapoint.keys()"
   ]
  },
  {
   "cell_type": "code",
   "execution_count": 10,
   "id": "bf451da6-ff6c-4c87-8d79-9eaff07bc0c9",
   "metadata": {},
   "outputs": [
    {
     "data": {
      "text/plain": [
       "array([[ -2.395,   4.215, -17.097],\n",
       "       [ -1.977,   5.504, -16.496],\n",
       "       [ -2.341,   5.543, -15.01 ],\n",
       "       ...,\n",
       "       [ 21.061,  -8.835,   7.04 ],\n",
       "       [ 22.269, -10.73 ,   6.01 ],\n",
       "       [ 28.088, -10.911,   5.35 ]], dtype=float32)"
      ]
     },
     "execution_count": 10,
     "metadata": {},
     "output_type": "execute_result"
    }
   ],
   "source": [
    "datapoint[\"Complex Structure\"].coord"
   ]
  },
  {
   "cell_type": "markdown",
   "id": "4e98635e-100d-43e5-b4e5-48b8a0c22b83",
   "metadata": {},
   "source": [
    "Want to find the corresponding atom labels? You can do:"
   ]
  },
  {
   "cell_type": "code",
   "execution_count": 10,
   "id": "da2cae15-6d64-4924-82ac-798a992f3d9d",
   "metadata": {},
   "outputs": [
    {
     "data": {
      "text/plain": [
       "array(['N', 'CA', 'C', ..., 'H', 'H', 'H'], dtype='<U6')"
      ]
     },
     "execution_count": 10,
     "metadata": {},
     "output_type": "execute_result"
    }
   ],
   "source": [
    "datapoint[\"Complex Structure\"].atom_name"
   ]
  },
  {
   "cell_type": "markdown",
   "id": "69bee0cb-cd9a-42cc-b389-f6903efc3390",
   "metadata": {},
   "source": [
    "What about the chain ids?"
   ]
  },
  {
   "cell_type": "code",
   "execution_count": 11,
   "id": "27ec63ba-f1ed-4529-b587-dba4308e70e7",
   "metadata": {},
   "outputs": [
    {
     "data": {
      "text/plain": [
       "array(['A', 'A', 'A', ..., '', '', ''], dtype='<U4')"
      ]
     },
     "execution_count": 11,
     "metadata": {},
     "output_type": "execute_result"
    }
   ],
   "source": [
    "datapoint[\"Complex Structure\"].chain_id"
   ]
  },
  {
   "cell_type": "markdown",
   "id": "d6ecb956-7454-4725-8d1b-90d77a31f7a2",
   "metadata": {},
   "source": [
    "Polaris provides easy to use data structures for ML. In the case of this challenge, we specifically have two data types that are worth mentioning:\n",
    "- The [Biotite](https://www.biotite-python.org/) `AtomArray`\n",
    "- The [RDKit](https://www.rdkit.org/) `Chem.Mol`"
   ]
  },
  {
   "cell_type": "code",
   "execution_count": 12,
   "id": "2da56def-f8e0-4065-a27a-fbfb006a9bba",
   "metadata": {},
   "outputs": [
    {
     "data": {
      "text/plain": [
       "(biotite.structure.AtomArray, biotite.structure.AtomArray)"
      ]
     },
     "execution_count": 12,
     "metadata": {},
     "output_type": "execute_result"
    }
   ],
   "source": [
    "type(datapoint[\"Complex Structure\"]), type(datapoint[\"Protein Structure\"])"
   ]
  },
  {
   "cell_type": "code",
   "execution_count": 13,
   "id": "c6bdd0bd-3c19-4acb-9024-d1931b56a8f7",
   "metadata": {},
   "outputs": [
    {
     "data": {
      "text/plain": [
       "rdkit.Chem.rdchem.Mol"
      ]
     },
     "execution_count": 13,
     "metadata": {},
     "output_type": "execute_result"
    }
   ],
   "source": [
    "type(datapoint[\"Ligand Pose\"])"
   ]
  },
  {
   "cell_type": "markdown",
   "id": "122cfd56-8938-4dec-b3e5-c53a0e581a84",
   "metadata": {},
   "source": [
    "While this is convenient for many ML applications, you may prefer to use more traditional formats (e.g. as input to traditional docking tools). No problem!"
   ]
  },
  {
   "cell_type": "code",
   "execution_count": 15,
   "id": "c79f2b08-9189-4c33-945b-ba679e2ad68c",
   "metadata": {},
   "outputs": [],
   "source": [
    "import fastpdb\n",
    "import datamol as dm\n",
    "\n",
    "from tempfile import TemporaryDirectory\n",
    "from pathlib import Path\n",
    "\n",
    "\n",
    "with TemporaryDirectory() as tmpdir: \n",
    "\n",
    "    tmpdir = Path(tmpdir)\n",
    "    \n",
    "    # The RDKit Mol object supports various IO formats. \n",
    "    # Here we use the Datamol library (which wraps RDKit) to effortlessly write to SDF\n",
    "    dm.to_sdf(datapoint[\"Ligand Pose\"], tmpdir / \"mol.sdf\")\n",
    "\n",
    "    # Similarly, the Biotite AtomArray also support various IO formats\n",
    "    # Here we use fastpdb, a fast drop-in replacement for Biotite IO.\n",
    "    out_file = fastpdb.PDBFile()\n",
    "    out_file.set_structure(datapoint[\"Complex Structure\"])\n",
    "    out_file.write(tmpdir / \"complex.pdb\")"
   ]
  },
  {
   "cell_type": "code",
   "execution_count": 6,
   "id": "4f61acee-c81a-4b17-abe6-4f25cac29a1d",
   "metadata": {},
   "outputs": [],
   "source": [
    "import fsspec\n",
    "import zipfile\n",
    "\n",
    "with fsspec.open(\"https://fs.polarishub.io/2025-01-asap-discovery/raw_data_package.zip\") as fd:\n",
    "    with zipfile.ZipFile(fd, 'r') as zip_ref:\n",
    "        zip_ref.extractall(\"./raw_data_package/\")"
   ]
  },
  {
   "cell_type": "code",
   "execution_count": 8,
   "id": "2a87870f-9f36-456d-a3f3-cb31d41746cb",
   "metadata": {},
   "outputs": [
    {
     "data": {
      "text/plain": [
       "PosixPath('raw_data_package/ligand-posing/SARS-CoV-2_Mpro-P0765_0A_CONFIDENTIAL')"
      ]
     },
     "execution_count": 8,
     "metadata": {},
     "output_type": "execute_result"
    }
   ],
   "source": [
    "from pathlib import Path\n",
    "path = Path(\"./raw_data_package\") / \"ligand-posing\"\n",
    "subdir = list(path.iterdir())[0]\n",
    "subdir"
   ]
  },
  {
   "cell_type": "code",
   "execution_count": 9,
   "id": "94ccce1f-3c59-4135-a276-16263ec8df65",
   "metadata": {},
   "outputs": [
    {
     "data": {
      "text/plain": [
       "[PosixPath('raw_data_package/ligand-posing/SARS-CoV-2_Mpro-P0765_0A_CONFIDENTIAL/ligand.sdf'),\n",
       " PosixPath('raw_data_package/ligand-posing/SARS-CoV-2_Mpro-P0765_0A_CONFIDENTIAL/protein.pdb'),\n",
       " PosixPath('raw_data_package/ligand-posing/SARS-CoV-2_Mpro-P0765_0A_CONFIDENTIAL/protein.fasta'),\n",
       " PosixPath('raw_data_package/ligand-posing/SARS-CoV-2_Mpro-P0765_0A_CONFIDENTIAL/ligand.smi'),\n",
       " PosixPath('raw_data_package/ligand-posing/SARS-CoV-2_Mpro-P0765_0A_CONFIDENTIAL/complex.pdb')]"
      ]
     },
     "execution_count": 9,
     "metadata": {},
     "output_type": "execute_result"
    }
   ],
   "source": [
    "list(subdir.iterdir())"
   ]
  },
  {
   "cell_type": "markdown",
   "id": "7f4d72cd-faef-4285-a7e1-fef4bf1284d8",
   "metadata": {},
   "source": [
    "# Build my model\n",
    "Building a ligand pose prediction model is non trivial (e.g. see [Boltz-1](https://github.com/jwohlwend/boltz)) and outside the scope of this notebook.\n",
    "\n",
    "# Prepare my inputs\n",
    "Since building a ligand pose prediction model is out of scope, we'll simply generate a conformer using RDKit for the sake of simplicitly. This just serves as a way to show how to prepare your inputs for submission."
   ]
  },
  {
   "cell_type": "code",
   "execution_count": 33,
   "id": "545094e0-1d59-46ba-9af6-3d2051b4cf6d",
   "metadata": {},
   "outputs": [
    {
     "name": "stderr",
     "output_type": "stream",
     "text": [
      "100%|██████████████████████████████████████████| 195/195 [00:19<00:00,  9.78it/s]\n"
     ]
    }
   ],
   "source": [
    "import datamol as dm\n",
    "import numpy as np\n",
    "\n",
    "# Test y_pred\n",
    "from tqdm import tqdm\n",
    "\n",
    "y_pred_t = []\n",
    "\n",
    "for x in tqdm(test): \n",
    "    #print(x[\"CXSMILES\"])\n",
    "    # Generate a random conformer\n",
    "    mol = dm.to_mol(x[\"CXSMILES\"])\n",
    "    mol = dm.conformers.generate(mol, n_confs=1)\n",
    "\n",
    "    # That's our prediction\n",
    "    y_pred_t.append(mol)"
   ]
  },
  {
   "cell_type": "code",
   "execution_count": 65,
   "id": "a55877eb-4e6c-4eda-878a-94e262705a89",
   "metadata": {},
   "outputs": [],
   "source": [
    "import datamol as dm\n",
    "import numpy as np\n",
    "from rdkit import Chem\n",
    "\n",
    "# Test y_pred\n",
    "from tqdm import tqdm\n",
    "\n",
    "y_pred = []\n",
    "\n",
    "for i in range(195): \n",
    "    # print(x[\"CXSMILES\"])\n",
    "    # Generate a random conformer\n",
    "    #print(i)\n",
    "    mol = Chem.MolFromPDBFile(f\"./docking/{i+1}/sub_results/ligand_result_H_sub1.pdb\")\n",
    "\n",
    "    #mol = dm.to_mol(x[\"CXSMILES\"])\n",
    "    #mol = dm.conformers.generate(mol, n_confs=1)\n",
    "\n",
    "    # That's our prediction\n",
    "    y_pred.append(mol)"
   ]
  },
  {
   "cell_type": "code",
   "execution_count": 25,
   "id": "06d38081-fd59-41f5-9cd1-8a4eed3dd35a",
   "metadata": {},
   "outputs": [],
   "source": [
    "t1,t2 = y_pred[3],y_pred[5]"
   ]
  },
  {
   "cell_type": "code",
   "execution_count": 76,
   "id": "d0dbba03-148a-42ba-8a83-ec6b20d7f17f",
   "metadata": {},
   "outputs": [
    {
     "name": "stdout",
     "output_type": "stream",
     "text": [
      "5.538 2.631 21.4     MERS-CoV Mpro\n",
      "8.729 -0.569 22.655     MERS-CoV Mpro\n",
      "-5.572 -2.147 -25.037     SARS-CoV-2 Mpro\n",
      "9.98 -2.047 24.414     MERS-CoV Mpro\n",
      "5.676 -1.265 26.879     MERS-CoV Mpro\n",
      "-8.837 -3.411 -25.403     SARS-CoV-2 Mpro\n",
      "-3.666 -6.65 -26.777     SARS-CoV-2 Mpro\n",
      "-8.689 0.152 -24.828     SARS-CoV-2 Mpro\n",
      "-8.328 -3.845 -23.802     SARS-CoV-2 Mpro\n",
      "12.526 1.009 22.911     MERS-CoV Mpro\n",
      "6.549 -3.225 27.644     MERS-CoV Mpro\n",
      "7.892 -0.595 23.5     MERS-CoV Mpro\n",
      "-6.4 -0.042 -22.042     SARS-CoV-2 Mpro\n",
      "10.408 -2.152 23.506     MERS-CoV Mpro\n",
      "-6.585 -1.854 -21.677     SARS-CoV-2 Mpro\n",
      "-8.421 -3.973 -24.459     SARS-CoV-2 Mpro\n",
      "-8.8 0.861 -24.691     SARS-CoV-2 Mpro\n",
      "7.538 -0.63 24.692     MERS-CoV Mpro\n",
      "-6.915 -1.544 -21.536     SARS-CoV-2 Mpro\n",
      "-6.188 -5.386 -22.957     SARS-CoV-2 Mpro\n",
      "7.952 -3.39 24.885     MERS-CoV Mpro\n",
      "-10.158 -0.726 -23.601     SARS-CoV-2 Mpro\n",
      "-11.578 -3.552 -23.535     SARS-CoV-2 Mpro\n",
      "-10.33 -2.613 -23.819     SARS-CoV-2 Mpro\n",
      "7.805 -1.416 25.326     MERS-CoV Mpro\n",
      "-10.054 -1.554 -22.656     SARS-CoV-2 Mpro\n",
      "6.487 -3.081 24.555     MERS-CoV Mpro\n",
      "-9.63 2.539 -24.64     SARS-CoV-2 Mpro\n",
      "-9.512 -2.429 -23.976     SARS-CoV-2 Mpro\n",
      "8.072 1.785 21.101     MERS-CoV Mpro\n",
      "7.623 -3.418 24.865     MERS-CoV Mpro\n",
      "-7.368 -6.614 -24.995     SARS-CoV-2 Mpro\n",
      "6.66 -0.836 26.236     MERS-CoV Mpro\n",
      "8.006 -2.358 25.206     MERS-CoV Mpro\n",
      "-8.673 -4.106 -23.691     SARS-CoV-2 Mpro\n",
      "7.437 -1.242 21.923     MERS-CoV Mpro\n",
      "-9.046 0.904 -21.33     SARS-CoV-2 Mpro\n",
      "9.148 1.002 23.821     MERS-CoV Mpro\n",
      "-8.759 0.873 -24.275     SARS-CoV-2 Mpro\n",
      "13.704 -2.077 25.821     MERS-CoV Mpro\n",
      "7.868 -3.04 23.897     MERS-CoV Mpro\n",
      "7.869 0.229 23.407     MERS-CoV Mpro\n",
      "8.916 -0.089 25.218     MERS-CoV Mpro\n",
      "6.334 -1.631 22.175     MERS-CoV Mpro\n",
      "7.273 3.943 23.02     MERS-CoV Mpro\n",
      "-8.304 -3.371 -24.525     SARS-CoV-2 Mpro\n",
      "-5.201 -4.007 -20.716     SARS-CoV-2 Mpro\n",
      "7.635 -1.772 25.316     MERS-CoV Mpro\n",
      "-10.003 -2.611 -23.862     SARS-CoV-2 Mpro\n",
      "-8.068 -4.736 -24.708     SARS-CoV-2 Mpro\n",
      "-6.431 -1.317 -20.54     SARS-CoV-2 Mpro\n",
      "-8.367 -3.794 -23.894     SARS-CoV-2 Mpro\n",
      "-5.148 -0.62 -21.272     SARS-CoV-2 Mpro\n",
      "7.9 -2.021 24.988     MERS-CoV Mpro\n",
      "4.893 -2.937 21.681     MERS-CoV Mpro\n",
      "-8.314 -3.803 -25.461     SARS-CoV-2 Mpro\n",
      "9.481 -3.944 25.494     MERS-CoV Mpro\n",
      "5.661 0.49 24.739     MERS-CoV Mpro\n",
      "8.621 2.652 23.417     MERS-CoV Mpro\n",
      "8.243 3.169 23.423     MERS-CoV Mpro\n",
      "6.208 2.899 23.197     MERS-CoV Mpro\n",
      "9.77 -0.812 22.131     MERS-CoV Mpro\n",
      "-10.013 -0.919 -22.997     SARS-CoV-2 Mpro\n",
      "11.138 -1.183 22.087     MERS-CoV Mpro\n",
      "-10.326 -2.236 -22.383     SARS-CoV-2 Mpro\n",
      "-8.866 0.991 -24.301     SARS-CoV-2 Mpro\n",
      "-7.906 -3.226 -24.366     SARS-CoV-2 Mpro\n",
      "8.013 -2.494 23.786     MERS-CoV Mpro\n",
      "8.615 -0.456 22.314     MERS-CoV Mpro\n",
      "-10.178 -1.396 -22.968     SARS-CoV-2 Mpro\n",
      "-9.883 2.742 -24.454     SARS-CoV-2 Mpro\n",
      "-8.304 -0.847 -22.128     SARS-CoV-2 Mpro\n",
      "-8.579 0.337 -21.445     SARS-CoV-2 Mpro\n",
      "7.703 -2.496 23.807     MERS-CoV Mpro\n",
      "8.025 0.523 23.307     MERS-CoV Mpro\n",
      "6.689 -4.023 23.538     MERS-CoV Mpro\n",
      "-10.202 2.008 -24.246     SARS-CoV-2 Mpro\n",
      "-12.767 -2.191 -22.439     SARS-CoV-2 Mpro\n",
      "-6.275 -2.725 -27.354     SARS-CoV-2 Mpro\n",
      "-6.145 -2.452 -21.378     SARS-CoV-2 Mpro\n",
      "-6.973 -3.792 -24.674     SARS-CoV-2 Mpro\n",
      "-8.017 -3.117 -22.489     SARS-CoV-2 Mpro\n",
      "6.438 -2.869 22.438     MERS-CoV Mpro\n",
      "-6.594 -2.876 -25.703     SARS-CoV-2 Mpro\n",
      "7.768 -2.096 24.927     MERS-CoV Mpro\n",
      "-8.81 -3.573 -26.053     SARS-CoV-2 Mpro\n",
      "7.313 -4.32 23.607     MERS-CoV Mpro\n",
      "-6.367 -1.825 -26.295     SARS-CoV-2 Mpro\n",
      "-6.692 -0.529 -25.144     SARS-CoV-2 Mpro\n",
      "-7.877 -0.176 -20.573     SARS-CoV-2 Mpro\n",
      "-7.038 -5.628 -24.975     SARS-CoV-2 Mpro\n",
      "-8.699 0.564 -24.492     SARS-CoV-2 Mpro\n",
      "8.366 2.402 23.665     MERS-CoV Mpro\n",
      "-8.696 0.582 -24.575     SARS-CoV-2 Mpro\n",
      "9.196 -2.329 24.126     MERS-CoV Mpro\n",
      "-6.572 -4.04 -22.745     SARS-CoV-2 Mpro\n",
      "6.559 -1.533 25.505     MERS-CoV Mpro\n",
      "-8.596 -0.526 -22.961     SARS-CoV-2 Mpro\n",
      "9.696 -2.109 24.129     MERS-CoV Mpro\n",
      "7.823 -1.08 22.981     MERS-CoV Mpro\n",
      "7.331 3.188 23.265     MERS-CoV Mpro\n",
      "9.974 -1.207 22.839     MERS-CoV Mpro\n",
      "11.406 -0.268 23.126     MERS-CoV Mpro\n",
      "8.953 0.337 24.302     MERS-CoV Mpro\n",
      "5.493 -0.173 24.583     MERS-CoV Mpro\n",
      "-9.667 2.223 -24.597     SARS-CoV-2 Mpro\n",
      "7.825 -2.281 25.796     MERS-CoV Mpro\n",
      "2.416 0.187 24.719     MERS-CoV Mpro\n",
      "-6.704 -4.849 -23.518     SARS-CoV-2 Mpro\n",
      "8.312 3.132 23.336     MERS-CoV Mpro\n",
      "8.239 -3.556 25.235     MERS-CoV Mpro\n",
      "-6.68 -4.214 -22.248     SARS-CoV-2 Mpro\n",
      "-6.118 -5.317 -23.272     SARS-CoV-2 Mpro\n",
      "-8.753 -3.663 -25.354     SARS-CoV-2 Mpro\n",
      "-8.598 1.774 -24.006     SARS-CoV-2 Mpro\n",
      "-8.874 0.925 -24.723     SARS-CoV-2 Mpro\n",
      "9.638 -5.05 25.126     MERS-CoV Mpro\n",
      "7.436 -3.749 24.492     MERS-CoV Mpro\n",
      "-10.396 2.443 -24.281     SARS-CoV-2 Mpro\n",
      "5.9 -0.578 25.254     MERS-CoV Mpro\n",
      "-7.609 -1.163 -21.897     SARS-CoV-2 Mpro\n",
      "-9.028 -3.178 -22.06     SARS-CoV-2 Mpro\n",
      "-8.845 -3.548 -25.918     SARS-CoV-2 Mpro\n",
      "7.494 -3.047 23.004     MERS-CoV Mpro\n",
      "10.008 -1.265 22.057     MERS-CoV Mpro\n",
      "-8.159 -3.936 -23.784     SARS-CoV-2 Mpro\n",
      "7.608 -2.419 25.601     MERS-CoV Mpro\n",
      "-6.9 -0.038 -25.247     SARS-CoV-2 Mpro\n",
      "8.916 -1.326 22.387     MERS-CoV Mpro\n",
      "-6.643 -5.187 -23.108     SARS-CoV-2 Mpro\n",
      "11.414 -0.358 23.324     MERS-CoV Mpro\n",
      "10.928 1.246 23.292     MERS-CoV Mpro\n",
      "9.693 -1.327 24.093     MERS-CoV Mpro\n",
      "-9.049 0.317 -24.361     SARS-CoV-2 Mpro\n",
      "7.662 1.694 22.829     MERS-CoV Mpro\n",
      "8.667 2.916 23.626     MERS-CoV Mpro\n",
      "-8.132 1.34 -21.765     SARS-CoV-2 Mpro\n",
      "9.031 -2.945 24.947     MERS-CoV Mpro\n",
      "-7.922 -1.293 -23.217     SARS-CoV-2 Mpro\n",
      "-7.966 -3.611 -25.913     SARS-CoV-2 Mpro\n",
      "7.552 0.402 22.046     MERS-CoV Mpro\n",
      "6.46 -2.975 27.547     MERS-CoV Mpro\n",
      "-6.238 -5.441 -23.198     SARS-CoV-2 Mpro\n",
      "6.011 -1.349 24.489     MERS-CoV Mpro\n",
      "8.26 2.793 23.634     MERS-CoV Mpro\n",
      "-8.503 -1.679 -20.949     SARS-CoV-2 Mpro\n",
      "-8.709 0.418 -21.466     SARS-CoV-2 Mpro\n",
      "5.674 0.295 25.856     MERS-CoV Mpro\n",
      "9.063 0.596 24.236     MERS-CoV Mpro\n",
      "-0.542 4.863 21.286     MERS-CoV Mpro\n",
      "-8.944 -5.841 -23.09     SARS-CoV-2 Mpro\n",
      "13.431 -0.972 23.939     MERS-CoV Mpro\n",
      "8.916 0.611 22.571     MERS-CoV Mpro\n",
      "-9.919 -2.525 -23.744     SARS-CoV-2 Mpro\n",
      "7.693 -2.167 22.784     MERS-CoV Mpro\n",
      "-6.843 -1.166 -24.873     SARS-CoV-2 Mpro\n",
      "-8.187 -3.668 -23.952     SARS-CoV-2 Mpro\n",
      "10.631 -1.119 22.407     MERS-CoV Mpro\n",
      "7.443 -1.912 24.106     MERS-CoV Mpro\n",
      "11.41 -0.458 23.375     MERS-CoV Mpro\n",
      "-9.037 0.697 -24.777     SARS-CoV-2 Mpro\n",
      "-9.861 -0.676 -23.774     SARS-CoV-2 Mpro\n",
      "7.507 -2.217 24.068     MERS-CoV Mpro\n",
      "8.847 -2.85 25.253     MERS-CoV Mpro\n",
      "7.158 3.702 23.296     MERS-CoV Mpro\n",
      "-6.344 -3.601 -25.434     SARS-CoV-2 Mpro\n",
      "9.233 0.628 24.006     MERS-CoV Mpro\n",
      "8.127 2.67 23.73     MERS-CoV Mpro\n",
      "8.067 2.909 23.688     MERS-CoV Mpro\n",
      "8.138 0.238 23.343     MERS-CoV Mpro\n",
      "-6.604 -2.22 -21.353     SARS-CoV-2 Mpro\n",
      "-8.751 -3.042 -24.224     SARS-CoV-2 Mpro\n",
      "-12.431 1.768 -23.583     SARS-CoV-2 Mpro\n",
      "-9.501 -2.978 -24.806     SARS-CoV-2 Mpro\n",
      "-8.827 -4.042 -25.351     SARS-CoV-2 Mpro\n",
      "-6.825 -2.101 -21.454     SARS-CoV-2 Mpro\n",
      "-10.502 -2.813 -23.116     SARS-CoV-2 Mpro\n",
      "-7.912 0.407 -22.779     SARS-CoV-2 Mpro\n",
      "11.955 -1.377 22.933     MERS-CoV Mpro\n",
      "9.233 1.159 23.657     MERS-CoV Mpro\n",
      "-6.309 -2.401 -21.339     SARS-CoV-2 Mpro\n",
      "-8.635 -3.759 -25.195     SARS-CoV-2 Mpro\n",
      "-10.074 -2.534 -23.98     SARS-CoV-2 Mpro\n",
      "9.266 0.786 23.603     MERS-CoV Mpro\n",
      "-9.49 -1.155 -22.934     SARS-CoV-2 Mpro\n",
      "8.017 1.33 20.89     MERS-CoV Mpro\n",
      "8.666 2.298 23.655     MERS-CoV Mpro\n",
      "-8.731 -3.209 -25.634     SARS-CoV-2 Mpro\n",
      "6.731 -2.736 24.676     MERS-CoV Mpro\n",
      "6.038 -2.013 25.53     MERS-CoV Mpro\n",
      "-10.006 -1.206 -23.016     SARS-CoV-2 Mpro\n",
      "-9.457 2.842 -24.772     SARS-CoV-2 Mpro\n",
      "8.532 -0.116 23.72     MERS-CoV Mpro\n",
      "-8.769 -3.65 -25.991     SARS-CoV-2 Mpro\n",
      "-7.971 -2.432 -26.883     SARS-CoV-2 Mpro\n"
     ]
    }
   ],
   "source": [
    "for t,l in zip(y_pred,test):\n",
    "    positions = t.GetConformer().GetAtomPosition(0)\n",
    "    print( positions.x, positions.y, positions.z,'   ',l['Protein Label'])"
   ]
  },
  {
   "cell_type": "code",
   "execution_count": 127,
   "id": "d71ba86e-6e7b-4a80-95ca-d1e9ada8cec3",
   "metadata": {
    "scrolled": true
   },
   "outputs": [
    {
     "name": "stdout",
     "output_type": "stream",
     "text": [
      "N -6.255 12.244 -2.979\n",
      "C -5.756 10.942 -2.603\n",
      "C -4.357 10.719 -3.177\n",
      "C -3.864 9.319 -2.805\n",
      "O -4.53 8.314 -2.804\n",
      "N -2.541 9.415 -2.494\n",
      "C -2.002 10.741 -2.732\n",
      "C -3.233 11.654 -2.67\n",
      "C -4.478 10.862 -4.677\n",
      "C -3.749 10.089 -5.564\n",
      "C -3.881 10.3 -6.928\n",
      "Cl -2.969 9.32 -8.02\n",
      "C -4.725 11.282 -7.424\n",
      "C -5.448 12.052 -6.535\n",
      "C -5.337 11.849 -5.164\n",
      "C -6.145 12.702 -4.252\n",
      "O -6.639 13.757 -4.612\n",
      "C -1.706 8.309 -2.262\n",
      "C -1.404 7.433 -3.281\n",
      "N -0.672 6.326 -3.121\n",
      "C -0.219 6.044 -1.933\n",
      "C -0.405 6.873 -0.805\n",
      "C 0.135 6.563 0.459\n",
      "C -0.034 7.419 1.51\n",
      "C -0.726 8.628 1.332\n",
      "C -1.274 8.952 0.122\n",
      "C -1.155 8.069 -0.972\n",
      "C -7.222 12.871 -2.113\n",
      "C -7.228 16.639 -1.705\n",
      "N -7.503 15.265 -2.053\n",
      "C -6.724 14.245 -1.638\n",
      "O -5.724 14.386 -0.971\n",
      "C -3.463 12.223 -1.264\n",
      "N -2.985 13.58 -1.147\n",
      "C -1.734 13.817 -0.59\n",
      "C -1.007 15.019 -0.512\n",
      "N 0.099 14.856 0.196\n",
      "N 0.118 13.59 0.576\n",
      "C 1.19 13.078 1.375\n",
      "C -0.969 12.916 0.129\n"
     ]
    }
   ],
   "source": [
    "for i, atom in enumerate(t2.GetAtoms()):\n",
    "    positions = t2.GetConformer().GetAtomPosition(i)\n",
    "    print(atom.GetSymbol(), positions.x, positions.y, positions.z)"
   ]
  },
  {
   "cell_type": "code",
   "execution_count": 10,
   "id": "9c29d582-8168-44aa-83ed-ff8139cd4270",
   "metadata": {},
   "outputs": [],
   "source": [
    "import zipfile\n",
    "\n",
    "with fsspec.open(\"https://fs.polarishub.io/2025-01-asap-discovery/ligand_poses_reference_structures.zip\") as fd:\n",
    "    with zipfile.ZipFile(fd, 'r') as zip_ref:\n",
    "        zip_ref.extractall(\"./reference_structures/\")"
   ]
  },
  {
   "cell_type": "code",
   "execution_count": 149,
   "id": "d882feb5-10f6-478b-b4e9-537f27dd24ac",
   "metadata": {},
   "outputs": [
    {
     "data": {
      "text/plain": [
       "[PosixPath('reference_structures/SARS-CoV-2-Mpro'),\n",
       " PosixPath('reference_structures/__MACOSX'),\n",
       " PosixPath('reference_structures/MERS-CoV-Mpro')]"
      ]
     },
     "execution_count": 149,
     "metadata": {},
     "output_type": "execute_result"
    }
   ],
   "source": [
    "path = Path(\"./reference_structures\")\n",
    "path2 = Path(\"./raw_data_package\")\n",
    "list(path.iterdir())"
   ]
  },
  {
   "cell_type": "markdown",
   "id": "c6fdb8d5-51a8-4d4d-b86c-4262058473a6",
   "metadata": {},
   "source": [
    "We provide more information than just the protein structure"
   ]
  },
  {
   "cell_type": "code",
   "execution_count": 12,
   "id": "92f1755d-e969-4b29-bd01-068b6c39ae0e",
   "metadata": {},
   "outputs": [
    {
     "data": {
      "text/plain": [
       "[PosixPath('reference_structures/SARS-CoV-2-Mpro/ligand.sdf'),\n",
       " PosixPath('reference_structures/SARS-CoV-2-Mpro/protein.pdb'),\n",
       " PosixPath('reference_structures/SARS-CoV-2-Mpro/protein.fasta'),\n",
       " PosixPath('reference_structures/SARS-CoV-2-Mpro/ligand.smi'),\n",
       " PosixPath('reference_structures/SARS-CoV-2-Mpro/complex.pdb'),\n",
       " PosixPath('reference_structures/SARS-CoV-2-Mpro/.DS_Store')]"
      ]
     },
     "execution_count": 12,
     "metadata": {},
     "output_type": "execute_result"
    }
   ],
   "source": [
    "list((path / \"SARS-CoV-2-Mpro\").iterdir())"
   ]
  },
  {
   "cell_type": "markdown",
   "id": "3baf93a1-88cb-4380-a171-5b6bdaf40f0d",
   "metadata": {},
   "source": [
    "#### Dummy example\n",
    "To show how to do the alignment, let's work through a dummy example by aligning the reference structure with a corrupted version of itself.\n",
    "\n",
    "We will use PyMol. "
   ]
  },
  {
   "cell_type": "code",
   "execution_count": 154,
   "id": "f8af3bcc-4362-42fd-95a5-0e79ad52ab5d",
   "metadata": {},
   "outputs": [
    {
     "name": "stdout",
     "output_type": "stream",
     "text": [
      "ExecutiveRMS-Error: Atom counts between selections don't match (9206 vs 9215)\n",
      " Executive: Error -- no atoms left after refinement!\n"
     ]
    },
    {
     "data": {
      "text/plain": [
       "4.590448850271833e-32"
      ]
     },
     "execution_count": 154,
     "metadata": {},
     "output_type": "execute_result"
    }
   ],
   "source": [
    "import pymol\n",
    "\n",
    "# Let's reset! Just to be sure.\n",
    "pymol.cmd.delete(\"all\")\n",
    "\n",
    "# Load the reference and mobile structure\n",
    "ref_path = path / \"SARS-CoV-2-Mpro\" / \"complex.pdb\"\n",
    "test_path = path2 / \"ligand-posing\" /\"SARS-CoV-2_Mpro-x10334_0A_CONFIDENTIAL\"/ \"complex.pdb\"\n",
    "pymol.cmd.load(test_path, \"mobile\")\n",
    "pymol.cmd.load(ref_path, \"reference\")\n",
    "\n",
    "# Corrupt the mobile protein\n",
    "#pymol.cmd.rotate(\"x\", 90, selection=\"mobile\")\n",
    "\n",
    "# Compute the RMSD\n",
    "pymol.cmd.rms_cur(\"mobile\", \"reference\")"
   ]
  },
  {
   "cell_type": "markdown",
   "id": "16512e54-60b4-4294-9325-7d80605d8859",
   "metadata": {},
   "source": [
    "As expected, the alignment between the proteins is horrible!"
   ]
  },
  {
   "cell_type": "code",
   "execution_count": 156,
   "id": "96721783-152a-4b9a-9b74-f62461d27951",
   "metadata": {},
   "outputs": [],
   "source": []
  },
  {
   "cell_type": "code",
   "execution_count": 157,
   "id": "967ee618-617c-4f67-8eb2-345b0e067198",
   "metadata": {},
   "outputs": [],
   "source": []
  },
  {
   "cell_type": "markdown",
   "id": "4b177983-72c5-4755-b5b5-86e348788813",
   "metadata": {},
   "source": [
    "And the RMSD is 0 again!\n"
   ]
  },
  {
   "cell_type": "code",
   "execution_count": 23,
   "id": "1bdb3d38-ec1f-43bd-9d92-89432c034ad9",
   "metadata": {},
   "outputs": [
    {
     "name": "stdout",
     "output_type": "stream",
     "text": [
      "MERS-CoV Mpro\n"
     ]
    }
   ],
   "source": [
    "x0 = test[0]\n",
    "print(x0[\"Protein Label\"])"
   ]
  },
  {
   "cell_type": "code",
   "execution_count": 24,
   "id": "793b2aeb-62ef-4988-9152-0b9b4111080f",
   "metadata": {},
   "outputs": [
    {
     "name": "stdout",
     "output_type": "stream",
     "text": [
      "SARS-CoV-2 Mpro\n"
     ]
    }
   ],
   "source": [
    "x2 = test[2]\n",
    "print(x2[\"Protein Label\"])"
   ]
  },
  {
   "cell_type": "markdown",
   "id": "08b20c80-6b2a-423a-a27c-0bcba4d50613",
   "metadata": {},
   "source": [
    "Assuming we have PDB files of our predictions available on disk as `my_preds` (there are lots of ways to do this so please choose method appropriate for you)"
   ]
  },
  {
   "cell_type": "code",
   "execution_count": 25,
   "id": "cfbfa098-027d-4fd0-a064-23509ddf0680",
   "metadata": {},
   "outputs": [],
   "source": [
    "# mockup \n",
    "my_preds = [f\"path_to_preds/{i}\" for i in range(len(test))]\n",
    "protein_labels = [x[\"Protein Label\"] for x in test]"
   ]
  },
  {
   "cell_type": "markdown",
   "id": "794284fb-2352-471c-839a-8a0d9bad465d",
   "metadata": {},
   "source": [
    "You need to use the reference complexes available in the full data package to align to, edit these paths as required"
   ]
  },
  {
   "cell_type": "code",
   "execution_count": 28,
   "id": "b71a9c1a-7a8f-47b3-85ab-760469446d9d",
   "metadata": {},
   "outputs": [],
   "source": [
    "import pymol\n",
    "def align_pred(protein_path, protein_label, index):\n",
    "    pymol.cmd.delete(\"all\")\n",
    "    if protein_label == 'MERS-CoV Mpro':\n",
    "        tag = \"MERS\"\n",
    "        ref_path = \"./ligand-posing/ALIGNMENT_REFERENCES/MERS-CoV-Mpro/reference_structure/complex.pdb\"\n",
    "    elif protein_label == \"SARS-CoV-2 Mpro\":\n",
    "        tag = \"SARS\"\n",
    "        ref_path = \"./ligand-posing/ALIGNMENT_REFERENCES/SARS-CoV-2-Mpro/reference_structure/complex.pdb\"\n",
    "    else:\n",
    "        raise Exception\n",
    "    print(protein_path)\n",
    "    pymol.cmd.load(protein_path, \"mobile\")\n",
    "    pymol.cmd.load(ref_path, \"reference\")\n",
    "    pymol.cmd.align(\n",
    "        \"chain A and mobile\",\n",
    "        \"chain A and reference\",\n",
    "    )\n",
    "    ret_path = f\"my_preds_aligned_{index}.pdb\"\n",
    "    ret_path_pse = f\"my_preds_aligned_{index}.pse\"\n",
    "    pymol.cmd.save(ret_path_pse)\n",
    "    pymol.cmd.save(ret_path, \"mobile\")\n",
    "    return ret_path"
   ]
  },
  {
   "cell_type": "markdown",
   "id": "ab3b77b0-2c09-4d25-bdfd-e9ee1bede526",
   "metadata": {},
   "source": [
    "to then call this you would do something like "
   ]
  },
  {
   "cell_type": "code",
   "execution_count": 29,
   "id": "0e0439c3-4c7b-43a8-994d-e62edd2480d6",
   "metadata": {
    "scrolled": true
   },
   "outputs": [
    {
     "name": "stdout",
     "output_type": "stream",
     "text": [
      "aligning index: 0, pred: path_to_preds/0, label: MERS-CoV Mpro\n",
      "path_to_preds/0\n"
     ]
    },
    {
     "ename": "CmdException",
     "evalue": " Error: unsupported file type: 0",
     "output_type": "error",
     "traceback": [
      "\u001b[0;31m---------------------------------------------------------------------------\u001b[0m",
      "\u001b[0;31mCmdException\u001b[0m                              Traceback (most recent call last)",
      "Cell \u001b[0;32mIn[29], line 3\u001b[0m\n\u001b[1;32m      1\u001b[0m \u001b[38;5;28;01mfor\u001b[39;00m i, (pred, label) \u001b[38;5;129;01min\u001b[39;00m \u001b[38;5;28menumerate\u001b[39m(\u001b[38;5;28mzip\u001b[39m(my_preds, protein_labels)):\n\u001b[1;32m      2\u001b[0m     \u001b[38;5;28mprint\u001b[39m(\u001b[38;5;124mf\u001b[39m\u001b[38;5;124m\"\u001b[39m\u001b[38;5;124maligning index: \u001b[39m\u001b[38;5;132;01m{\u001b[39;00mi\u001b[38;5;132;01m}\u001b[39;00m\u001b[38;5;124m, pred: \u001b[39m\u001b[38;5;132;01m{\u001b[39;00mpred\u001b[38;5;132;01m}\u001b[39;00m\u001b[38;5;124m, label: \u001b[39m\u001b[38;5;132;01m{\u001b[39;00mlabel\u001b[38;5;132;01m}\u001b[39;00m\u001b[38;5;124m\"\u001b[39m)\n\u001b[0;32m----> 3\u001b[0m     aligned_path \u001b[38;5;241m=\u001b[39m \u001b[43malign_pred\u001b[49m\u001b[43m(\u001b[49m\u001b[43mpred\u001b[49m\u001b[43m,\u001b[49m\u001b[43m \u001b[49m\u001b[43mlabel\u001b[49m\u001b[43m,\u001b[49m\u001b[43m \u001b[49m\u001b[43mi\u001b[49m\u001b[43m)\u001b[49m\n",
      "Cell \u001b[0;32mIn[28], line 13\u001b[0m, in \u001b[0;36malign_pred\u001b[0;34m(protein_path, protein_label, index)\u001b[0m\n\u001b[1;32m     11\u001b[0m     \u001b[38;5;28;01mraise\u001b[39;00m \u001b[38;5;167;01mException\u001b[39;00m\n\u001b[1;32m     12\u001b[0m \u001b[38;5;28mprint\u001b[39m(protein_path)\n\u001b[0;32m---> 13\u001b[0m \u001b[43mpymol\u001b[49m\u001b[38;5;241;43m.\u001b[39;49m\u001b[43mcmd\u001b[49m\u001b[38;5;241;43m.\u001b[39;49m\u001b[43mload\u001b[49m\u001b[43m(\u001b[49m\u001b[43mprotein_path\u001b[49m\u001b[43m,\u001b[49m\u001b[43m \u001b[49m\u001b[38;5;124;43m\"\u001b[39;49m\u001b[38;5;124;43mmobile\u001b[39;49m\u001b[38;5;124;43m\"\u001b[39;49m\u001b[43m)\u001b[49m\n\u001b[1;32m     14\u001b[0m pymol\u001b[38;5;241m.\u001b[39mcmd\u001b[38;5;241m.\u001b[39mload(ref_path, \u001b[38;5;124m\"\u001b[39m\u001b[38;5;124mreference\u001b[39m\u001b[38;5;124m\"\u001b[39m)\n\u001b[1;32m     15\u001b[0m pymol\u001b[38;5;241m.\u001b[39mcmd\u001b[38;5;241m.\u001b[39malign(\n\u001b[1;32m     16\u001b[0m     \u001b[38;5;124m\"\u001b[39m\u001b[38;5;124mchain A and mobile\u001b[39m\u001b[38;5;124m\"\u001b[39m,\n\u001b[1;32m     17\u001b[0m     \u001b[38;5;124m\"\u001b[39m\u001b[38;5;124mchain A and reference\u001b[39m\u001b[38;5;124m\"\u001b[39m,\n\u001b[1;32m     18\u001b[0m )\n",
      "File \u001b[0;32m~/miniconda3/envs/polaris/lib/python3.12/site-packages/pymol/importing.py:768\u001b[0m, in \u001b[0;36mload\u001b[0;34m(filename, object, state, format, finish, discrete, quiet, multiplex, zoom, partial, mimic, object_props, atom_props, _self)\u001b[0m\n\u001b[1;32m    766\u001b[0m     plugin \u001b[38;5;241m=\u001b[39m _cmd\u001b[38;5;241m.\u001b[39mfind_molfile_plugin(_self\u001b[38;5;241m.\u001b[39m_COb, ext)\n\u001b[1;32m    767\u001b[0m     \u001b[38;5;28;01mif\u001b[39;00m \u001b[38;5;129;01mnot\u001b[39;00m plugin:\n\u001b[0;32m--> 768\u001b[0m         \u001b[38;5;28;01mraise\u001b[39;00m pymol\u001b[38;5;241m.\u001b[39mCmdException(\u001b[38;5;124m'\u001b[39m\u001b[38;5;124munsupported file type: \u001b[39m\u001b[38;5;124m'\u001b[39m \u001b[38;5;241m+\u001b[39m ext)\n\u001b[1;32m    769\u001b[0m     ftype \u001b[38;5;241m=\u001b[39m loadable\u001b[38;5;241m.\u001b[39mplugin\n\u001b[1;32m    771\u001b[0m \u001b[38;5;66;03m# special handling for trj files (autodetect AMBER versus GROMACS)\u001b[39;00m\n",
      "\u001b[0;31mCmdException\u001b[0m:  Error: unsupported file type: 0"
     ]
    }
   ],
   "source": [
    "for i, (pred, label) in enumerate(zip(my_preds, protein_labels)):\n",
    "    print(f\"aligning index: {i}, pred: {pred}, label: {label}\")\n",
    "    aligned_path = align_pred(pred, label, i)"
   ]
  },
  {
   "cell_type": "markdown",
   "id": "79c627f0-2092-4670-b639-d3c9518ba832",
   "metadata": {},
   "source": [
    "You can then inspect the aligned PDBs and saved pymol session files to see if the alignment looks good. **PLEASE CONFIRM THAT YOU ARE HAPPY WITH THE ALIGNMENT BEFORE SUBMITTING**"
   ]
  },
  {
   "cell_type": "markdown",
   "id": "870fb033-15c2-4a76-aa14-93fbc7cd646e",
   "metadata": {},
   "source": [
    "## Towards submission"
   ]
  },
  {
   "cell_type": "markdown",
   "id": "40bcdda6-d780-442d-8f70-e859f5347af9",
   "metadata": {},
   "source": [
    "## Serialize\n",
    "\n",
    "We only judge the position of the ligand molecule. As such you need to either extract it or provide it as an rdkit mol already **after alignment to the reference structure\n",
    "\n",
    "To submit to Polaris, you need to serialize the molecules to a bytestring. Please stick to the exact below example."
   ]
  },
  {
   "cell_type": "code",
   "execution_count": 66,
   "id": "e3d8f1d7-31cd-4949-9a68-4d996e33a6c0",
   "metadata": {},
   "outputs": [],
   "source": [
    "import base64\n",
    "from rdkit import Chem\n",
    "\n",
    "\n",
    "def serialize_rdkit_mol(mol: Chem.Mol): \n",
    "    props = Chem.PropertyPickleOptions.AllProps\n",
    "    mol_bytes = mol.ToBinary(props)\n",
    "    return base64.b64encode(mol_bytes).decode('ascii')  \n",
    "\n",
    "#y_pred[151] = y_pred_t[151]\n",
    "y_pred_serialized = [serialize_rdkit_mol(mol) for mol in y_pred]"
   ]
  },
  {
   "cell_type": "code",
   "execution_count": 30,
   "id": "c131d5f2-5557-4f9b-a6a9-bae6fa335bc8",
   "metadata": {},
   "outputs": [
    {
     "name": "stdout",
     "output_type": "stream",
     "text": [
      "151 None\n"
     ]
    }
   ],
   "source": [
    "for i in range(len(y_pred)):\n",
    "    if( y_pred[i] == None):print(i,y_pred[i])"
   ]
  },
  {
   "cell_type": "markdown",
   "id": "c69f421e-911f-4229-a833-58f738101f3b",
   "metadata": {},
   "source": [
    "#### Sanity check\n",
    "Let's deserialize the molecule again to make sure we've done this correctly"
   ]
  },
  {
   "cell_type": "code",
   "execution_count": 78,
   "id": "0b5e064c-7deb-406a-b0de-a12cef4d330a",
   "metadata": {},
   "outputs": [
    {
     "data": {
      "image/png": "[encoded data removed]",
      "text/plain": [
       "<rdkit.Chem.rdchem.Mol at 0xafb314968e0>"
      ]
     },
     "execution_count": 78,
     "metadata": {},
     "output_type": "execute_result"
    }
   ],
   "source": [
    "deserialized = Chem.Mol(base64.b64decode(y_pred_serialized[150].encode(\"ascii\")))\n",
    "deserialized"
   ]
  },
  {
   "cell_type": "code",
   "execution_count": 79,
   "id": "c4621850-73e4-4b69-b2a0-0a5cca306a78",
   "metadata": {},
   "outputs": [
    {
     "data": {
      "image/png": "[encoded data removed]",
      "text/plain": [
       "<rdkit.Chem.rdchem.Mol at 0xafb33bbe960>"
      ]
     },
     "execution_count": 79,
     "metadata": {},
     "output_type": "execute_result"
    }
   ],
   "source": [
    "y_pred_t[150]"
   ]
  },
  {
   "cell_type": "code",
   "execution_count": 72,
   "id": "0fcda166-1747-47a2-a50a-b8e6b71d5a9b",
   "metadata": {},
   "outputs": [
    {
     "data": {
      "text/plain": [
       "True"
      ]
     },
     "execution_count": 72,
     "metadata": {},
     "output_type": "execute_result"
    }
   ],
   "source": [
    "dm.same_mol(y_pred[151], deserialized)"
   ]
  },
  {
   "cell_type": "markdown",
   "id": "2fb2929f-961f-42ac-b693-b0600fa198a1",
   "metadata": {},
   "source": [
    "# Submit to Polaris"
   ]
  },
  {
   "cell_type": "code",
   "execution_count": 73,
   "id": "2b225605-ff8a-42fb-8ff2-5f929ac036ae",
   "metadata": {},
   "outputs": [
    {
     "data": {
      "text/html": [
       "<pre style=\"white-space:pre;overflow-x:auto;line-height:normal;font-family:Menlo,'DejaVu Sans Mono',consolas,'Courier New',monospace\"><span style=\"color: #7fbfbf; text-decoration-color: #7fbfbf\">[01:45:51] </span><span style=\"color: #008000; text-decoration-color: #008000\"> Success: Submitting competition predictions</span>                                               <a href=\"file:///home/xchen/miniconda3/envs/polaris/lib/python3.12/site-packages/polaris/utils/context.py\" target=\"_blank\"><span style=\"color: #7f7f7f; text-decoration-color: #7f7f7f\">context.py</span></a><span style=\"color: #7f7f7f; text-decoration-color: #7f7f7f\">:</span><a href=\"file:///home/xchen/miniconda3/envs/polaris/lib/python3.12/site-packages/polaris/utils/context.py#53\" target=\"_blank\"><span style=\"color: #7f7f7f; text-decoration-color: #7f7f7f\">53</span></a>\n",
       "</pre>\n"
      ],
      "text/plain": [
       "\u001b[2;36m[01:45:51]\u001b[0m\u001b[2;36m \u001b[0m\u001b[32m Success: Submitting competition predictions\u001b[0m                                               \u001b]8;id=669278;file:///home/xchen/miniconda3/envs/polaris/lib/python3.12/site-packages/polaris/utils/context.py\u001b\\\u001b[2mcontext.py\u001b[0m\u001b]8;;\u001b\\\u001b[2m:\u001b[0m\u001b]8;id=339213;file:///home/xchen/miniconda3/envs/polaris/lib/python3.12/site-packages/polaris/utils/context.py#53\u001b\\\u001b[2m53\u001b[0m\u001b]8;;\u001b\\\n"
      ]
     },
     "metadata": {},
     "output_type": "display_data"
    },
    {
     "data": {
      "text/html": [
       "<pre style=\"white-space:pre;overflow-x:auto;line-height:normal;font-family:Menlo,'DejaVu Sans Mono',consolas,'Courier New',monospace\"></pre>\n"
      ],
      "text/plain": []
     },
     "metadata": {},
     "output_type": "display_data"
    }
   ],
   "source": [
    "competition.submit_predictions(\n",
    "    predictions=y_pred_serialized,\n",
    "    prediction_name=\"yzma-first-predictions-VINA-mmff94-25-fix152\",\n",
    "    prediction_owner=\"myzzzz\",\n",
    "    report_url=\"https://www.quantabricks.xyz\", \n",
    "    # The below metadata is optional, but recommended.\n",
    "    github_url=\"https://github.com/myzzzz6\",\n",
    "    description=\"Just testing the Polaris API here!\",\n",
    "    tags=[\"tutorial\"],\n",
    "    user_attributes={\"Framework\": \"RDKit\", \"Method\": \"Dummy Baseline\"}\n",
    ")"
   ]
  },
  {
   "cell_type": "markdown",
   "id": "3b52c5dc-9921-420c-9dfc-ac0408d38a50",
   "metadata": {},
   "source": [
    "For the ASAP competition, we will only evaluate your latest submission. \n",
    "\n",
    "The results will only be disclosed after the competition ends."
   ]
  },
  {
   "cell_type": "markdown",
   "id": "1f77ead1-89ba-4b49-b522-0b39afa48ae1",
   "metadata": {},
   "source": [
    "The End."
   ]
  },
  {
   "cell_type": "code",
   "execution_count": null,
   "id": "95fb278f-547c-447a-be91-e0c35db5c20e",
   "metadata": {},
   "outputs": [],
   "source": []
  },
  {
   "cell_type": "code",
   "execution_count": null,
   "id": "bca2d766-33ab-4ee5-b775-a6bbcc86d219",
   "metadata": {},
   "outputs": [],
   "source": []
  }
 ],
 "metadata": {
  "kernelspec": {
   "display_name": "Python 3 (ipykernel)",
   "language": "python",
   "name": "python3"
  },
  "language_info": {
   "codemirror_mode": {
    "name": "ipython",
    "version": 3
   },
   "file_extension": ".py",
   "mimetype": "text/x-python",
   "name": "python",
   "nbconvert_exporter": "python",
   "pygments_lexer": "ipython3",
   "version": "3.12.9"
  }
 },
 "nbformat": 4,
 "nbformat_minor": 5
}
